{
 "cells": [
  {
   "cell_type": "code",
   "execution_count": 1,
   "metadata": {},
   "outputs": [
    {
     "data": {
      "text/plain": [
       "'\\nfile Modes in python\\n\\nr, w, a\\n'"
      ]
     },
     "execution_count": 1,
     "metadata": {},
     "output_type": "execute_result"
    }
   ],
   "source": [
    "'''\n",
    "file Modes in python\n",
    "\n",
    "r, w, a\n",
    "'''"
   ]
  },
  {
   "cell_type": "code",
   "execution_count": 4,
   "metadata": {},
   "outputs": [
    {
     "data": {
      "text/plain": [
       "<_io.TextIOWrapper name='example.txt' mode='r' encoding='cp1252'>"
      ]
     },
     "execution_count": 4,
     "metadata": {},
     "output_type": "execute_result"
    }
   ],
   "source": [
    "#open file in read mode\n",
    "\n",
    "file = open(\"example.txt\", \"r\")\n",
    "file"
   ]
  },
  {
   "cell_type": "code",
   "execution_count": 9,
   "metadata": {},
   "outputs": [
    {
     "data": {
      "text/plain": [
       "<_io.TextIOWrapper name='example.txt' mode='w' encoding='cp1252'>"
      ]
     },
     "execution_count": 9,
     "metadata": {},
     "output_type": "execute_result"
    }
   ],
   "source": [
    "#open file in write mode\n",
    "\n",
    "file = open(\"example.txt\", \"w\")\n",
    "file"
   ]
  },
  {
   "cell_type": "code",
   "execution_count": 6,
   "metadata": {},
   "outputs": [
    {
     "data": {
      "text/plain": [
       "<_io.TextIOWrapper name='example.txt' mode='a' encoding='cp1252'>"
      ]
     },
     "execution_count": 6,
     "metadata": {},
     "output_type": "execute_result"
    }
   ],
   "source": [
    "#open file in append mode\n",
    "\n",
    "file = open(\"example.txt\", \"a\")\n",
    "file"
   ]
  },
  {
   "cell_type": "code",
   "execution_count": 16,
   "metadata": {},
   "outputs": [
    {
     "name": "stdout",
     "output_type": "stream",
     "text": [
      "India, officially the Republic of India,[j][20] is a country in South Asia. \n",
      "\n"
     ]
    }
   ],
   "source": [
    "with open('example.txt', 'r') as f:\n",
    "    f_content = f.readline()\n",
    "    print(f_content)"
   ]
  },
  {
   "cell_type": "code",
   "execution_count": 8,
   "metadata": {},
   "outputs": [],
   "source": [
    "with open('car.txt','w') as f:\n",
    "    pass"
   ]
  },
  {
   "cell_type": "code",
   "execution_count": null,
   "metadata": {},
   "outputs": [
    {
     "name": "stdout",
     "output_type": "stream",
     "text": [
      "Paragraph has been written to the file\n"
     ]
    }
   ],
   "source": [
    "#open file in write mode\n",
    "with open('example.txt', 'w') as file:\n",
    "    para = input(\"Enter a paragraph:\")\n",
    "\n",
    "    file.write(para)\n",
    "\n",
    "    print(\"Paragraph has been written to the file\")"
   ]
  },
  {
   "cell_type": "code",
   "execution_count": 12,
   "metadata": {},
   "outputs": [
    {
     "name": "stdout",
     "output_type": "stream",
     "text": [
      "Paragraph has been written to the file\n"
     ]
    }
   ],
   "source": [
    "#open file in append mode\n",
    "\n",
    "with open('example.txt', 'a') as file:\n",
    "    para = input(\"Enter a paragraph:\")\n",
    "\n",
    "    file.write(para)\n",
    "\n",
    "    print(\"Paragraph has been written to the file\")"
   ]
  },
  {
   "cell_type": "code",
   "execution_count": 17,
   "metadata": {},
   "outputs": [
    {
     "name": "stdout",
     "output_type": "stream",
     "text": [
      "India, officially the Republic of India,[j][20] is a country in South Asia. \n",
      "It is the seventh-largest country in the world by area and the most populous country. \n",
      "Bounded by the Indian Ocean on the south, the Arabian Sea on the southwest, and the Bay of Bengal on the southeast,\n",
      " it shares land borders with Pakistan to the west;[k] China, Nepal, and Bhutan to the north; and Bangladesh and Myanmar to the east. \n",
      "In the Indian Ocean, India is in the vicinity of Sri Lanka and the Maldives; its Andaman and Nicobar Islands share a maritime border with Thailand, Myanmar, and Indonesia.\n"
     ]
    }
   ],
   "source": [
    "with open('example.txt','r') as f:\n",
    "    f_content = f.read()\n",
    "    print(f_content)"
   ]
  },
  {
   "cell_type": "code",
   "execution_count": 25,
   "metadata": {},
   "outputs": [
    {
     "name": "stdout",
     "output_type": "stream",
     "text": [
      "Log entry has been written to the log file\n"
     ]
    }
   ],
   "source": [
    "import datetime\n",
    "\n",
    "#Get the current date and time\n",
    "now = datetime.datetime.now()\n",
    "\n",
    "#create a log message\n",
    "log_message = f\"Log entry created at{now}: This is a log message\"\n",
    "\n",
    "#open the log file in append mode\n",
    "with open('example.txt', 'a') as file:\n",
    "    file.write(log_message + '\\n')\n",
    "\n",
    "#print\n",
    "print(\"Log entry has been written to the log file\")\n"
   ]
  },
  {
   "cell_type": "code",
   "execution_count": 26,
   "metadata": {},
   "outputs": [],
   "source": [
    "#copy files \n",
    "\n",
    "with open('example.txt','r') as file:\n",
    "    f= file.read()\n",
    "\n",
    "with open('car.txt','w') as file:\n",
    "    f= file.write(f)\n",
    "\n",
    "with open('car.txt', 'r') as file:\n",
    "    f =file.read()\n",
    "    print(f)"
   ]
  },
  {
   "cell_type": "code",
   "execution_count": 27,
   "metadata": {},
   "outputs": [
    {
     "name": "stdout",
     "output_type": "stream",
     "text": [
      "India, officially the Republic of India,[j][20] is a country in South Asia. \n",
      "It is the seventh-largest country in the world by area and the most populous country. \n",
      "Bounded by the Indian Ocean on the south, the Arabian Sea on the southwest, and the Bay of Bengal on the southeast,\n",
      " it shares land borders with Pakistan to the west;[k] China, Nepal, and Bhutan to the north; and Bangladesh and Myanmar to the east. \n",
      "In the Indian Ocean, India is in the vicinity of Sri Lanka and the Maldives; its Andaman and Nicobar Islands share a maritime border with Thailand, Myanmar, and Indonesia.Log entry created at2024-12-31 09:34:55.485477: This is a log message\n",
      "Log entry created at2024-12-31 09:34:59.307733: This is a log message\n",
      "Log entry created at2024-12-31 09:35:00.377831: This is a log message\n",
      "Log entry created at2024-12-31 09:35:01.266168: This is a log message\n",
      "Log entry created at2024-12-31 09:35:01.986107: This is a log message\n",
      "Log entry created at2024-12-31 09:35:08.618628: This is a log message\n",
      "Hi bro\n",
      "Log entry created at2024-12-31 09:35:59.229382: This is a log message\n",
      "\n"
     ]
    }
   ],
   "source": []
  },
  {
   "cell_type": "code",
   "execution_count": 29,
   "metadata": {},
   "outputs": [],
   "source": [
    "#copy files another method\n",
    "\n",
    "with open('example.txt','r') as e, open('car.txt','w') as c:\n",
    "\n",
    "    for line in e:\n",
    "        c.write(line)\n",
    "\n",
    "with open('car.txt', 'r') as file:\n",
    "    f =file.read()\n",
    "    print(f)"
   ]
  },
  {
   "cell_type": "code",
   "execution_count": 35,
   "metadata": {},
   "outputs": [
    {
     "name": "stdout",
     "output_type": "stream",
     "text": [
      "a log message\n",
      "Hi bro\n",
      "Log entry created at2024-12-31 09:35:59.229382: This is a log message\n",
      "\n",
      "1094\n"
     ]
    }
   ],
   "source": [
    "#seek and tell\n",
    "\n",
    "with open('example.txt', 'r') as e:\n",
    "   \n",
    "    e.seek(1000) #acts like cursor\n",
    "    f = e.read()\n",
    "    print(f)\n",
    "    print(e.tell()) #count the space and words"
   ]
  },
  {
   "cell_type": "code",
   "execution_count": 36,
   "metadata": {},
   "outputs": [],
   "source": [
    "#JSON\n",
    "\n",
    "import json\n",
    "\n",
    "with open('text.json','w') as fp:\n",
    "    data = {}\n",
    "    data['key'] = 'value'\n",
    "    json.dump(data,fp)"
   ]
  },
  {
   "cell_type": "code",
   "execution_count": 37,
   "metadata": {},
   "outputs": [
    {
     "name": "stdout",
     "output_type": "stream",
     "text": [
      "{'key': 'value'}\n"
     ]
    }
   ],
   "source": [
    "with open('text.json','r') as fp:\n",
    "    data = fp.read()\n",
    "    final_data = json.loads(data) #loads converst json obj to dict\n",
    "    print(final_data)"
   ]
  },
  {
   "cell_type": "code",
   "execution_count": 50,
   "metadata": {},
   "outputs": [],
   "source": [
    "#data to be written\n",
    "import json\n",
    "\n",
    "dic = {\n",
    "    \"name\": \"Alex\",\n",
    "    \"rollno\":56,\n",
    "    \"cgpa\": 8.6,\n",
    "    \"ph_num\": 12345678\n",
    "}\n",
    "\n",
    "json_object = json.dumps(dic,indent=4)\n",
    "\n",
    "#write to sample.json\n",
    "with open(\"data1.json\",'w') as ot:\n",
    "    ot.write(json_object)"
   ]
  },
  {
   "cell_type": "code",
   "execution_count": 52,
   "metadata": {},
   "outputs": [
    {
     "name": "stdout",
     "output_type": "stream",
     "text": [
      "{'name': 'Alex', 'rollno': 56, 'cgpa': 8.6, 'ph_num': 12345678}\n"
     ]
    }
   ],
   "source": [
    "with open('data1.json','r') as fp:\n",
    "    data = fp.read()\n",
    "    final_data = json.loads(data) \n",
    "    print(final_data)"
   ]
  },
  {
   "cell_type": "code",
   "execution_count": 55,
   "metadata": {},
   "outputs": [],
   "source": [
    "import csv\n",
    " \n",
    "#field names\n",
    " \n",
    "fields =['name','branch','year','cgpa']\n",
    " \n",
    "#data rows of csv file\n",
    " \n",
    "rows=[['nikhil','coe',2,9.0],\n",
    "      ['sanchit','it',3,9.8]]\n",
    " \n",
    "#name of csv file\n",
    "#filename='records.csv'\n",
    " \n",
    "#writing to a csv file\n",
    " \n",
    "with open('test.csv','w',newline='') as csvfile:\n",
    "    #creating a csv writer object\n",
    "    csvwriter =csv.writer(csvfile,dialect='excel')\n",
    "    #writing the fields\n",
    "    csvwriter.writerow(fields)\n",
    "    #writing the data rows\n",
    "    csvwriter.writerows(rows)"
   ]
  },
  {
   "cell_type": "code",
   "execution_count": 54,
   "metadata": {},
   "outputs": [],
   "source": [
    "import csv\n",
    " \n",
    "#field names\n",
    " \n",
    "fields =['name','branch','year','cgpa']\n",
    " \n",
    "#data rows of csv file\n",
    " \n",
    "rows=[['nikhil','coe',2,9.0],\n",
    "      ['sanchit','it',3,9.8]]\n",
    " \n",
    "#name of csv file\n",
    "#filename='records.csv'\n",
    " \n",
    "#writing to a csv file\n",
    " \n",
    "with open('test1.csv','w') as csvfile:\n",
    "    #creating a csv writer object\n",
    "    csvwriter =csv.writer(csvfile,dialect='unix')\n",
    "    #writing the fields\n",
    "    csvwriter.writerow(fields)\n",
    "    #writing the data rows\n",
    "    csvwriter.writerows(rows)"
   ]
  },
  {
   "cell_type": "code",
   "execution_count": 56,
   "metadata": {},
   "outputs": [
    {
     "name": "stdout",
     "output_type": "stream",
     "text": [
      "{'name': 'nikhil', 'branch': 'coe', 'year': '2', 'cgpa': '9.0'}\n",
      "{'name': 'sanchit', 'branch': 'it', 'year': '3', 'cgpa': '9.8'}\n"
     ]
    }
   ],
   "source": [
    "#open the CSV file for reading\n",
    "with open(\"test.csv\", mode ='r') as file:\n",
    "    csv_reader = csv.DictReader(file)\n",
    "\n",
    "    data_list = []\n",
    "\n",
    "    for row in csv_reader:\n",
    "        data_list.append(row)\n",
    "\n",
    "for data in data_list:\n",
    "    print(data)"
   ]
  },
  {
   "cell_type": "code",
   "execution_count": 62,
   "metadata": {},
   "outputs": [],
   "source": [
    "import yaml\n",
    "#define data to b written to YAML\n",
    "\n",
    "data = {\n",
    "    'key1': 'value1',\n",
    "    'key2': 'value2',\n",
    "    'key3': 'value3'\n",
    "}\n",
    "\n",
    "#write data to YAMl file\n",
    "\n",
    "with open('test1.yaml','w') as f:\n",
    "    yaml.dump(data, f, default_flow_style=False)\n",
    "\n"
   ]
  },
  {
   "cell_type": "code",
   "execution_count": 59,
   "metadata": {},
   "outputs": [
    {
     "name": "stdout",
     "output_type": "stream",
     "text": [
      "Defaulting to user installation because normal site-packages is not writeable\n",
      "Collecting pyyaml\n",
      "  Downloading PyYAML-6.0.2-cp312-cp312-win_amd64.whl.metadata (2.1 kB)\n",
      "Downloading PyYAML-6.0.2-cp312-cp312-win_amd64.whl (156 kB)\n",
      "   ---------------------------------------- 0.0/156.3 kB ? eta -:--:--\n",
      "   ---------------------------------------  153.6/156.3 kB 9.6 MB/s eta 0:00:01\n",
      "   ---------------------------------------  153.6/156.3 kB 9.6 MB/s eta 0:00:01\n",
      "   ---------------------------------------- 156.3/156.3 kB 1.2 MB/s eta 0:00:00\n",
      "Installing collected packages: pyyaml\n",
      "Successfully installed pyyaml-6.0.2\n",
      "Note: you may need to restart the kernel to use updated packages.\n"
     ]
    },
    {
     "name": "stderr",
     "output_type": "stream",
     "text": [
      "\n",
      "[notice] A new release of pip is available: 24.0 -> 24.3.1\n",
      "[notice] To update, run: python.exe -m pip install --upgrade pip\n"
     ]
    }
   ],
   "source": [
    "pip install pyyaml "
   ]
  },
  {
   "cell_type": "code",
   "execution_count": 63,
   "metadata": {},
   "outputs": [
    {
     "data": {
      "text/plain": [
       "'\\ntry{\\n    run the Code\\n}\\nexcept{\\n    handling error\\n}'"
      ]
     },
     "execution_count": 63,
     "metadata": {},
     "output_type": "execute_result"
    }
   ],
   "source": [
    "#exception handling syntax\n",
    "'''\n",
    "try{\n",
    "    run the Code\n",
    "}\n",
    "except{\n",
    "    handling error\n",
    "}'''"
   ]
  },
  {
   "cell_type": "code",
   "execution_count": 64,
   "metadata": {},
   "outputs": [
    {
     "name": "stdout",
     "output_type": "stream",
     "text": [
      "1.0\n",
      "0.5\n",
      "0.3333333333333333\n",
      "error <built-in function exc_info>\n",
      "0.25\n",
      "error <built-in function exc_info>\n"
     ]
    }
   ],
   "source": [
    "import sys\n",
    "\n",
    "a=[2,4,6,'a',8,0]\n",
    "for i in a:\n",
    "    try:\n",
    "        c=2/i\n",
    "        print(c)\n",
    "    except:\n",
    "        print(\"error\", sys.exc_info)"
   ]
  },
  {
   "cell_type": "code",
   "execution_count": null,
   "metadata": {},
   "outputs": [
    {
     "name": "stdout",
     "output_type": "stream",
     "text": [
      "0.0\n"
     ]
    }
   ],
   "source": [
    "#Value Error\n",
    "\n",
    "try:\n",
    "    n1=int(input())\n",
    "    n2=int(input())\n",
    "\n",
    "    r=n1/n2\n",
    "    print(r)\n",
    "except ValueError as e:\n",
    "    print(\"Invalid error please enter Integer\")\n",
    "except ZeroDivisionError as e:\n",
    "    print(e)"
   ]
  },
  {
   "cell_type": "code",
   "execution_count": 69,
   "metadata": {},
   "outputs": [
    {
     "name": "stdout",
     "output_type": "stream",
     "text": [
      "Invalid error please enter Integer\n"
     ]
    }
   ],
   "source": [
    "#Value Error\n",
    "\n",
    "try:\n",
    "    n1=int(input())\n",
    "    n2=int(input())\n",
    "\n",
    "    r=n1/n2\n",
    "    print(r)\n",
    "except ValueError as e:\n",
    "    print(\"Invalid error please enter Integer\")"
   ]
  },
  {
   "cell_type": "code",
   "execution_count": 70,
   "metadata": {},
   "outputs": [
    {
     "name": "stdout",
     "output_type": "stream",
     "text": [
      "division by zero\n"
     ]
    }
   ],
   "source": [
    "#Arithmetic Error\n",
    "\n",
    "try:\n",
    "    a=10\n",
    "    b =0\n",
    "    c= a/b\n",
    "    print(c)\n",
    "except ArithmeticError as e:\n",
    "    print(e)"
   ]
  },
  {
   "cell_type": "code",
   "execution_count": 85,
   "metadata": {},
   "outputs": [
    {
     "name": "stdout",
     "output_type": "stream",
     "text": [
      "Invalid Operation\n"
     ]
    }
   ],
   "source": [
    "#Assertion Error\n",
    "\n",
    "try:\n",
    "   x = 1\n",
    "   y = 0\n",
    "   assert y != 0, \"Invalid Operation\"\n",
    "   print(x / y)\n",
    "except AssertionError as e:\n",
    "    print(e)"
   ]
  },
  {
   "cell_type": "code",
   "execution_count": 72,
   "metadata": {},
   "outputs": [
    {
     "name": "stdout",
     "output_type": "stream",
     "text": [
      "can only concatenate str (not \"int\") to str\n"
     ]
    }
   ],
   "source": [
    "#Type Error\n",
    "\n",
    "try:\n",
    "    a= 'hi'+2\n",
    "    print(a)\n",
    "except TypeError as e:\n",
    "    print(e)"
   ]
  },
  {
   "cell_type": "code",
   "execution_count": 81,
   "metadata": {},
   "outputs": [
    {
     "name": "stdout",
     "output_type": "stream",
     "text": [
      "'str' object has no attribute 'uppe'\n"
     ]
    }
   ],
   "source": [
    "#Attribute Error\n",
    "\n",
    "str = \"hello world\"\n",
    "\n",
    "try:\n",
    "    str.uppe\n",
    "except AttributeError as e:\n",
    "    print(e)"
   ]
  },
  {
   "cell_type": "code",
   "execution_count": 88,
   "metadata": {},
   "outputs": [
    {
     "name": "stdout",
     "output_type": "stream",
     "text": [
      "1\n"
     ]
    }
   ],
   "source": [
    "#name error\n",
    "\n",
    "try:\n",
    "    print(x)\n",
    "except NameError as e:\n",
    "    print(e)"
   ]
  },
  {
   "cell_type": "code",
   "execution_count": 95,
   "metadata": {},
   "outputs": [
    {
     "ename": "Exception",
     "evalue": "error varuthu da",
     "output_type": "error",
     "traceback": [
      "\u001b[1;31m---------------------------------------------------------------------------\u001b[0m",
      "\u001b[1;31mException\u001b[0m                                 Traceback (most recent call last)",
      "Cell \u001b[1;32mIn[95], line 5\u001b[0m\n\u001b[0;32m      3\u001b[0m x \u001b[38;5;241m=\u001b[39m\u001b[38;5;241m11\u001b[39m\n\u001b[0;32m      4\u001b[0m \u001b[38;5;28;01mif\u001b[39;00m x\u001b[38;5;241m>\u001b[39m\u001b[38;5;241m10\u001b[39m:\n\u001b[1;32m----> 5\u001b[0m     \u001b[38;5;28;01mraise\u001b[39;00m \u001b[38;5;167;01mException\u001b[39;00m(\u001b[38;5;124m\"\u001b[39m\u001b[38;5;124merror varuthu da\u001b[39m\u001b[38;5;124m\"\u001b[39m)\n",
      "\u001b[1;31mException\u001b[0m: error varuthu da"
     ]
    }
   ],
   "source": [
    "#userdefined error\n",
    "\n",
    "x =11\n",
    "if x>10:\n",
    "    raise Exception(\"error varuthu da\")"
   ]
  },
  {
   "cell_type": "code",
   "execution_count": 98,
   "metadata": {},
   "outputs": [
    {
     "ename": "Exception",
     "evalue": "only interger",
     "output_type": "error",
     "traceback": [
      "\u001b[1;31m---------------------------------------------------------------------------\u001b[0m",
      "\u001b[1;31mException\u001b[0m                                 Traceback (most recent call last)",
      "Cell \u001b[1;32mIn[98], line 3\u001b[0m\n\u001b[0;32m      1\u001b[0m x \u001b[38;5;241m=\u001b[39m \u001b[38;5;124m'\u001b[39m\u001b[38;5;124mw\u001b[39m\u001b[38;5;124m'\u001b[39m\n\u001b[0;32m      2\u001b[0m \u001b[38;5;28;01mif\u001b[39;00m \u001b[38;5;129;01mnot\u001b[39;00m \u001b[38;5;28mtype\u001b[39m(x) \u001b[38;5;129;01mis\u001b[39;00m \u001b[38;5;28mint\u001b[39m:\n\u001b[1;32m----> 3\u001b[0m     \u001b[38;5;28;01mraise\u001b[39;00m \u001b[38;5;167;01mException\u001b[39;00m (\u001b[38;5;124m'\u001b[39m\u001b[38;5;124monly interger\u001b[39m\u001b[38;5;124m'\u001b[39m)\n",
      "\u001b[1;31mException\u001b[0m: only interger"
     ]
    }
   ],
   "source": [
    "x = 'w'\n",
    "if not type(x) is int:\n",
    "    raise Exception ('only interger')"
   ]
  },
  {
   "cell_type": "code",
   "execution_count": 99,
   "metadata": {},
   "outputs": [
    {
     "name": "stdout",
     "output_type": "stream",
     "text": [
      "Negative num\n"
     ]
    }
   ],
   "source": [
    "#custom error\n",
    "\n",
    "class NegativeNumber(Exception):\n",
    "    pass\n",
    "try:\n",
    "    num = int(input())\n",
    "    if num<0:\n",
    "        raise NegativeNumber(\"Negative num\")\n",
    "    print(num)\n",
    "except NegativeNumber as e:\n",
    "    print(e)"
   ]
  },
  {
   "cell_type": "code",
   "execution_count": 103,
   "metadata": {},
   "outputs": [
    {
     "name": "stdout",
     "output_type": "stream",
     "text": [
      "Inner Exception:Zero is not allowed\n",
      "Outer Exception:'An additional key error '\n"
     ]
    }
   ],
   "source": [
    "#chained Exception\n",
    "\n",
    "try:\n",
    "    try:\n",
    "        num = int(input(\"Enter a num:\"))\n",
    "        if num == 0:\n",
    "            raise ValueError(\"Zero is not allowed\")\n",
    "    except ValueError as ve:\n",
    "        print(f\"Inner Exception:{ve}\")\n",
    "        raise KeyError(\"An additional key error \")\n",
    "except KeyError as ke:\n",
    "    print(f\"Outer Exception:{ke}\") "
   ]
  },
  {
   "cell_type": "code",
   "execution_count": null,
   "metadata": {},
   "outputs": [],
   "source": []
  }
 ],
 "metadata": {
  "kernelspec": {
   "display_name": "Python 3",
   "language": "python",
   "name": "python3"
  },
  "language_info": {
   "codemirror_mode": {
    "name": "ipython",
    "version": 3
   },
   "file_extension": ".py",
   "mimetype": "text/x-python",
   "name": "python",
   "nbconvert_exporter": "python",
   "pygments_lexer": "ipython3",
   "version": "3.12.3"
  }
 },
 "nbformat": 4,
 "nbformat_minor": 2
}
