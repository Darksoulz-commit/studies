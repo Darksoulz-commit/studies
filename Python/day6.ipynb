{
 "cells": [
  {
   "cell_type": "code",
   "execution_count": 1,
   "metadata": {},
   "outputs": [
    {
     "name": "stdout",
     "output_type": "stream",
     "text": [
      "Defaulting to user installation because normal site-packages is not writeable\n",
      "Collecting mysql-connector-python\n",
      "  Downloading mysql_connector_python-9.1.0-cp312-cp312-win_amd64.whl.metadata (6.2 kB)\n",
      "Downloading mysql_connector_python-9.1.0-cp312-cp312-win_amd64.whl (16.1 MB)\n",
      "   ---------------------------------------- 0.0/16.1 MB ? eta -:--:--\n",
      "   - -------------------------------------- 0.7/16.1 MB 14.2 MB/s eta 0:00:02\n",
      "   ----- ---------------------------------- 2.4/16.1 MB 25.1 MB/s eta 0:00:01\n",
      "   ------------ --------------------------- 5.2/16.1 MB 36.6 MB/s eta 0:00:01\n",
      "   -------------------- ------------------- 8.2/16.1 MB 43.6 MB/s eta 0:00:01\n",
      "   --------------------------- ------------ 10.8/16.1 MB 54.4 MB/s eta 0:00:01\n",
      "   -------------------------------- ------- 13.2/16.1 MB 59.8 MB/s eta 0:00:01\n",
      "   ---------------------------------------  15.8/16.1 MB 59.5 MB/s eta 0:00:01\n",
      "   ---------------------------------------  16.1/16.1 MB 59.5 MB/s eta 0:00:01\n",
      "   ---------------------------------------  16.1/16.1 MB 59.5 MB/s eta 0:00:01\n",
      "   ---------------------------------------  16.1/16.1 MB 59.5 MB/s eta 0:00:01\n",
      "   ---------------------------------------- 16.1/16.1 MB 29.7 MB/s eta 0:00:00\n",
      "Installing collected packages: mysql-connector-python\n",
      "Successfully installed mysql-connector-python-9.1.0\n",
      "Note: you may need to restart the kernel to use updated packages.\n"
     ]
    },
    {
     "name": "stderr",
     "output_type": "stream",
     "text": [
      "\n",
      "[notice] A new release of pip is available: 24.0 -> 24.3.1\n",
      "[notice] To update, run: python.exe -m pip install --upgrade pip\n"
     ]
    }
   ],
   "source": [
    "pip install mysql-connector-python"
   ]
  },
  {
   "cell_type": "code",
   "execution_count": 3,
   "metadata": {},
   "outputs": [],
   "source": [
    "import mysql.connector\n",
    "#from mysql, connector import pooling\n",
    "#mydb = pooling.mt()"
   ]
  },
  {
   "cell_type": "code",
   "execution_count": null,
   "metadata": {},
   "outputs": [],
   "source": [
    "mydb = mysql.connector.connect(\n",
    "    host = 'localhost',\n",
    "    user = 'root',\n",
    "    password = 'root@39'\n",
    ")\n",
    "\n",
    "mycursor = mydb.cursor()\n",
    "\n",
    "mycursor.execute('CREATE DATABASE shop')"
   ]
  },
  {
   "cell_type": "code",
   "execution_count": 6,
   "metadata": {},
   "outputs": [
    {
     "name": "stdout",
     "output_type": "stream",
     "text": [
      "('assestment',)\n",
      "('assignment1',)\n",
      "('book_review',)\n",
      "('information_schema',)\n",
      "('miniproject',)\n",
      "('movie_booking',)\n",
      "('mphasis',)\n",
      "('mysql',)\n",
      "('performance_schema',)\n",
      "('shop',)\n",
      "('sys',)\n",
      "('test',)\n"
     ]
    }
   ],
   "source": [
    "mycursor.execute('SHOW DATABASES')\n",
    "\n",
    "for x in mycursor:\n",
    "    print(x)"
   ]
  },
  {
   "cell_type": "code",
   "execution_count": 8,
   "metadata": {},
   "outputs": [
    {
     "name": "stdout",
     "output_type": "stream",
     "text": [
      "table created\n"
     ]
    }
   ],
   "source": [
    "mydb = mysql.connector.connect(\n",
    "    host = 'localhost',\n",
    "    user = 'root',\n",
    "    password = 'root@39',\n",
    "    database = 'shop'\n",
    ")\n",
    "\n",
    "mycursor = mydb.cursor()\n",
    "\n",
    "mycursor.execute('CREATE TABLE customers (name VARCHAR(255), address VARCHAR(255))')\n",
    "\n",
    "print('table created')"
   ]
  },
  {
   "cell_type": "code",
   "execution_count": 9,
   "metadata": {},
   "outputs": [],
   "source": [
    "mycursor.execute('ALTER TABLE customers ADD COLUMN id INT AUTO_INCREMENT PRIMARY KEY')"
   ]
  },
  {
   "cell_type": "code",
   "execution_count": 10,
   "metadata": {},
   "outputs": [
    {
     "name": "stdout",
     "output_type": "stream",
     "text": [
      "1 record inserted\n"
     ]
    }
   ],
   "source": [
    "sql = \"INSERT INTO customers (name, address) VALUES (%s, %s)\"\n",
    "val =(\"John\", \"Highway 21\")\n",
    "mycursor.execute(sql,val)\n",
    "\n",
    "mydb.commit()\n",
    "\n",
    "print(mycursor.rowcount, \"record inserted\")"
   ]
  },
  {
   "cell_type": "code",
   "execution_count": null,
   "metadata": {},
   "outputs": [
    {
     "name": "stdout",
     "output_type": "stream",
     "text": [
      "10 was inserted\n"
     ]
    }
   ],
   "source": [
    "sql = \"INSERT INTO customers (name, address) VALUES (%s, %s)\"\n",
    "val = [\n",
    "    (\"peter\", \"low street 3\"),\n",
    "    (\"amy\", \"high avenue 7\"),\n",
    "    (\"john\", \"oak road 10\"),\n",
    "    (\"sarah\", \"pine street 15\"),\n",
    "    (\"michael\", \"maple lane 22\"),\n",
    "    (\"jessica\", \"elm drive 5\"),\n",
    "    (\"david\", \"cedar court 9\"),\n",
    "    (\"emma\", \"birch boulevard 18\"),\n",
    "    (\"daniel\", \"willow way 13\"),\n",
    "    (\"linda\", \"spruce street 12\")\n",
    "]\n",
    "\n",
    "mycursor.executemany(sql, val) #execute many\n",
    "mydb.commit()\n",
    "\n",
    "print(mycursor.rowcount, \"was inserted\")"
   ]
  },
  {
   "cell_type": "code",
   "execution_count": 19,
   "metadata": {},
   "outputs": [
    {
     "name": "stdout",
     "output_type": "stream",
     "text": [
      "('John', 'Highway 21', 1)\n",
      "('peter', 'low street 3', 2)\n",
      "('amy', 'high avenue 7', 3)\n",
      "('john', 'oak road 10', 4)\n",
      "('sarah', 'pine street 15', 5)\n",
      "('michael', 'elm drive 5', 6)\n",
      "('david', 'cedar court 9', 8)\n",
      "('emma', 'birch boulevard 18', 9)\n",
      "('daniel', 'willow way 13', 10)\n",
      "('linda', 'spruce street 12', 11)\n"
     ]
    }
   ],
   "source": [
    "mycursor.execute(\"SELECT * FROm customers\")\n",
    "\n",
    "myresult = mycursor.fetchall()\n",
    "\n",
    "for x in myresult:\n",
    "    print(x)"
   ]
  },
  {
   "cell_type": "code",
   "execution_count": 16,
   "metadata": {},
   "outputs": [],
   "source": [
    "sql = \"SELECT * FROM customers WHERE address = 'elm drive 5'\"\n",
    "\n",
    "mycursor.execute(sql)\n",
    "\n",
    "myresult = mycursor.fetchall()\n",
    "\n",
    "for x in myresult:\n",
    "    print(x)"
   ]
  },
  {
   "cell_type": "code",
   "execution_count": 15,
   "metadata": {},
   "outputs": [],
   "source": [
    "#delete a record\n",
    "\n",
    "sql = \"DELETE FROM customers where address = 'elm drive 5'\"\n",
    "\n",
    "mycursor.execute(sql)\n",
    "\n",
    "mydb.commit()"
   ]
  },
  {
   "cell_type": "code",
   "execution_count": 18,
   "metadata": {},
   "outputs": [
    {
     "name": "stdout",
     "output_type": "stream",
     "text": [
      "1 record(s)  affected\n"
     ]
    }
   ],
   "source": [
    "\n",
    "#update\n",
    "\n",
    "\n",
    "sql = \"UPDATE customers SET address = 'elm drive 5' Where address = 'maple lane 22'\"\n",
    "\n",
    "mycursor.execute(sql)\n",
    "\n",
    "mydb.commit()\n",
    "\n",
    "print(mycursor.rowcount, \"record(s)  affected\")\n"
   ]
  },
  {
   "cell_type": "code",
   "execution_count": 54,
   "metadata": {},
   "outputs": [],
   "source": [
    "import mysql.connector\n",
    "\n",
    "class Mydatabase:\n",
    "    def __init__(self, host, user, password, database):\n",
    "        self.host = host\n",
    "        self.user=user\n",
    "        self.password = password\n",
    "        self.database = database\n",
    "        self.connection = mysql.connector.connect(\n",
    "            host = self.host,\n",
    "            user = self.user,\n",
    "            password = self.password,\n",
    "            database = self.database\n",
    "        )\n",
    "        self.cursor = self.connection.cursor()\n",
    "        #self.database = self.cursor.execute('CREATE DATABASE shop1')\n",
    "    \n",
    "\n",
    "    def createtable(self):\n",
    "        self.cursor.execute('CREATE TABLE customers (name VARCHAR(255), address VARCHAR(255))')\n",
    "\n",
    "    def inserttable(self,val):\n",
    "        sql = \"INSERT INTO customers (name, address) VALUES (%s, %s)\"\n",
    "        self.cursor.execute(sql,val)\n",
    "        self.connection.commit()\n",
    "\n",
    "    def altertable(self):\n",
    "        self.cursor.execute('ALTER TABLE customers ADD COLUMN id INT AUTO_INCREMENT PRIMARY KEY')\n",
    "\n",
    "    def mulinsert(self):\n",
    "        sql = \"INSERT INTO customers (name, address) VALUES (%s, %s)\"\n",
    "        val = [\n",
    "            (\"peter\", \"low street 3\"),\n",
    "            (\"amy\", \"high avenue 7\"),\n",
    "            (\"john\", \"oak road 10\"),\n",
    "            (\"sarah\", \"pine street 15\"),\n",
    "            (\"michael\", \"maple lane 22\"),\n",
    "            (\"jessica\", \"elm drive 5\"),\n",
    "            (\"david\", \"cedar court 9\"),\n",
    "            (\"emma\", \"birch boulevard 18\"),\n",
    "            (\"daniel\", \"willow way 13\"),\n",
    "            (\"linda\", \"spruce street 12\")\n",
    "        ]\n",
    "\n",
    "        self.cursor.executemany(sql, val) #execute many\n",
    "        self.connection.commit()\n",
    "\n",
    "    def deletetable(self,add):\n",
    "        sql = \"DELETE FROM customers where address = %s\"\n",
    "        val = (add,)\n",
    "        self.cursor.execute(sql,val)\n",
    "\n",
    "        self.connection.commit() \n",
    "    \n",
    "    def updatetable(self,old,new):\n",
    "        sql = \"UPDATE customers SET address = %s Where address = %s\"\n",
    "        val = (old,new)\n",
    "        self.cursor.execute(sql,val)\n",
    "\n",
    "        self.connection.commit()\n",
    "\n",
    "\n",
    "\n",
    "db = Mydatabase(host='localhost',user='root',password='root@39',database='shop1')\n",
    "#db.createtable()\n",
    "#db.inserttable((\"sanjay\", \"elm drive 5\"))\n",
    "#db.altertable()\n",
    "#db.mulinsert()\n",
    "db.deletetable('Highway 21')\n",
    "#db.updatetable(\"oak road 10\",\"elm drive 5\")"
   ]
  },
  {
   "cell_type": "code",
   "execution_count": 55,
   "metadata": {},
   "outputs": [
    {
     "name": "stdout",
     "output_type": "stream",
     "text": [
      "Defaulting to user installation because normal site-packages is not writeable\n",
      "Collecting pymongo\n",
      "  Downloading pymongo-4.10.1-cp312-cp312-win_amd64.whl.metadata (22 kB)\n",
      "Collecting dnspython<3.0.0,>=1.16.0 (from pymongo)\n",
      "  Downloading dnspython-2.7.0-py3-none-any.whl.metadata (5.8 kB)\n",
      "Downloading pymongo-4.10.1-cp312-cp312-win_amd64.whl (926 kB)\n",
      "   ---------------------------------------- 0.0/926.7 kB ? eta -:--:--\n",
      "   -------------------------------- ------ 778.2/926.7 kB 24.8 MB/s eta 0:00:01\n",
      "   --------------------------------------  921.6/926.7 kB 19.4 MB/s eta 0:00:01\n",
      "   ---------------------------------------- 926.7/926.7 kB 8.4 MB/s eta 0:00:00\n",
      "Downloading dnspython-2.7.0-py3-none-any.whl (313 kB)\n",
      "   ---------------------------------------- 0.0/313.6 kB ? eta -:--:--\n",
      "   ---------------------------------------  307.2/313.6 kB ? eta -:--:--\n",
      "   ---------------------------------------  307.2/313.6 kB ? eta -:--:--\n",
      "   ---------------------------------------- 313.6/313.6 kB 3.9 MB/s eta 0:00:00\n",
      "Installing collected packages: dnspython, pymongo\n",
      "Successfully installed dnspython-2.7.0 pymongo-4.10.1\n",
      "Note: you may need to restart the kernel to use updated packages.\n"
     ]
    },
    {
     "name": "stderr",
     "output_type": "stream",
     "text": [
      "\n",
      "[notice] A new release of pip is available: 24.0 -> 24.3.1\n",
      "[notice] To update, run: python.exe -m pip install --upgrade pip\n"
     ]
    }
   ],
   "source": [
    "pip install pymongo"
   ]
  },
  {
   "cell_type": "code",
   "execution_count": 57,
   "metadata": {},
   "outputs": [
    {
     "data": {
      "text/plain": [
       "InsertManyResult([ObjectId('67779bcb08a84c2cc4d3834d'), ObjectId('67779bcb08a84c2cc4d3834e'), ObjectId('67779bcb08a84c2cc4d3834f'), ObjectId('67779bcb08a84c2cc4d38350'), ObjectId('67779bcb08a84c2cc4d38351'), ObjectId('67779bcb08a84c2cc4d38352'), ObjectId('67779bcb08a84c2cc4d38353'), ObjectId('67779bcb08a84c2cc4d38354'), ObjectId('67779bcb08a84c2cc4d38355'), ObjectId('67779bcb08a84c2cc4d38356')], acknowledged=True)"
      ]
     },
     "execution_count": 57,
     "metadata": {},
     "output_type": "execute_result"
    }
   ],
   "source": [
    "\n",
    "from pymongo import MongoClient\n",
    "from bson.objectid import ObjectId\n",
    "from bson import SON\n",
    "\n",
    "client = MongoClient('localhost', 27017)\n",
    "\n",
    "db = client.newdb\n",
    "\n",
    "people = db.people\n",
    "\n",
    "people.insert_one({'name': 'john','age':20})\n",
    "people.insert_one({'name': 'lisa','age':21})\n",
    "people.insert_one({'name': 'mia','age':22})\n",
    "\n",
    "people.insert_many([\n",
    "    {'name': 'john', 'age': 20},\n",
    "    {'name': 'lisa', 'age': 21},\n",
    "    {'name': 'mia', 'age': 22},\n",
    "    {'name': 'peter', 'age': 23},\n",
    "    {'name': 'susan', 'age': 24},\n",
    "    {'name': 'alex', 'age': 25},\n",
    "    {'name': 'emily', 'age': 26},\n",
    "    {'name': 'michael', 'age': 27},\n",
    "    {'name': 'jessica', 'age': 28},\n",
    "    {'name': 'daniel', 'age': 29}\n",
    "])\n",
    "\n"
   ]
  },
  {
   "cell_type": "code",
   "execution_count": 58,
   "metadata": {},
   "outputs": [
    {
     "name": "stdout",
     "output_type": "stream",
     "text": [
      "{'_id': ObjectId('67779b6d08a84c2cc4d3834a'), 'name': 'john', 'age': 20}\n",
      "{'_id': ObjectId('67779b6e08a84c2cc4d3834b'), 'name': 'lisa', 'age': 21}\n",
      "{'_id': ObjectId('67779b6e08a84c2cc4d3834c'), 'name': 'mia', 'age': 22}\n",
      "{'_id': ObjectId('67779bcb08a84c2cc4d3834d'), 'name': 'john', 'age': 20}\n",
      "{'_id': ObjectId('67779bcb08a84c2cc4d3834e'), 'name': 'lisa', 'age': 21}\n",
      "{'_id': ObjectId('67779bcb08a84c2cc4d3834f'), 'name': 'mia', 'age': 22}\n",
      "{'_id': ObjectId('67779bcb08a84c2cc4d38350'), 'name': 'peter', 'age': 23}\n",
      "{'_id': ObjectId('67779bcb08a84c2cc4d38351'), 'name': 'susan', 'age': 24}\n",
      "{'_id': ObjectId('67779bcb08a84c2cc4d38352'), 'name': 'alex', 'age': 25}\n",
      "{'_id': ObjectId('67779bcb08a84c2cc4d38353'), 'name': 'emily', 'age': 26}\n",
      "{'_id': ObjectId('67779bcb08a84c2cc4d38354'), 'name': 'michael', 'age': 27}\n",
      "{'_id': ObjectId('67779bcb08a84c2cc4d38355'), 'name': 'jessica', 'age': 28}\n",
      "{'_id': ObjectId('67779bcb08a84c2cc4d38356'), 'name': 'daniel', 'age': 29}\n"
     ]
    }
   ],
   "source": [
    "for person in people.find():\n",
    "    print(person)"
   ]
  },
  {
   "cell_type": "code",
   "execution_count": 59,
   "metadata": {},
   "outputs": [
    {
     "name": "stdout",
     "output_type": "stream",
     "text": [
      "67779e9008a84c2cc4d38357\n"
     ]
    }
   ],
   "source": [
    "#catching the id for mike\n",
    "\n",
    "mike_id =people.insert_one({'name':'mike','age':35}).inserted_id\n",
    "print(mike_id)"
   ]
  },
  {
   "cell_type": "code",
   "execution_count": 61,
   "metadata": {},
   "outputs": [
    {
     "name": "stdout",
     "output_type": "stream",
     "text": [
      "[{'_id': ObjectId('67779e9008a84c2cc4d38357'), 'name': 'mike', 'age': 35}]\n",
      "----\n",
      "[{'_id': ObjectId('67779b6d08a84c2cc4d3834a'), 'name': 'john', 'age': 20}, {'_id': ObjectId('67779b6e08a84c2cc4d3834b'), 'name': 'lisa', 'age': 21}, {'_id': ObjectId('67779b6e08a84c2cc4d3834c'), 'name': 'mia', 'age': 22}, {'_id': ObjectId('67779bcb08a84c2cc4d3834d'), 'name': 'john', 'age': 20}, {'_id': ObjectId('67779bcb08a84c2cc4d3834e'), 'name': 'lisa', 'age': 21}, {'_id': ObjectId('67779bcb08a84c2cc4d3834f'), 'name': 'mia', 'age': 22}, {'_id': ObjectId('67779bcb08a84c2cc4d38350'), 'name': 'peter', 'age': 23}, {'_id': ObjectId('67779bcb08a84c2cc4d38351'), 'name': 'susan', 'age': 24}]\n"
     ]
    }
   ],
   "source": [
    "from bson import ObjectId\n",
    "\n",
    "print([p for p in people.find({'_id': ObjectId('67779e9008a84c2cc4d38357')})])\n",
    "print('----')\n",
    "print([p for p in people.find({'age': {'$lt': 25}})])\n"
   ]
  },
  {
   "cell_type": "code",
   "execution_count": 62,
   "metadata": {},
   "outputs": [
    {
     "name": "stdout",
     "output_type": "stream",
     "text": [
      "LISA COUNT\n",
      "2\n"
     ]
    }
   ],
   "source": [
    "print('LISA COUNT')\n",
    "print(people.count_documents({'name':'lisa'}))\n",
    " "
   ]
  },
  {
   "cell_type": "code",
   "execution_count": 65,
   "metadata": {},
   "outputs": [
    {
     "data": {
      "text/plain": [
       "UpdateResult({'n': 1, 'nModified': 0, 'ok': 1.0, 'updatedExisting': True}, acknowledged=True)"
      ]
     },
     "execution_count": 65,
     "metadata": {},
     "output_type": "execute_result"
    }
   ],
   "source": [
    "people.update_one({'_id': ObjectId('67779e9008a84c2cc4d38357')}, {'$set': {'age': 88}})\n"
   ]
  },
  {
   "cell_type": "code",
   "execution_count": 66,
   "metadata": {},
   "outputs": [
    {
     "data": {
      "text/plain": [
       "DeleteResult({'n': 8, 'ok': 1.0}, acknowledged=True)"
      ]
     },
     "execution_count": 66,
     "metadata": {},
     "output_type": "execute_result"
    }
   ],
   "source": [
    "people.delete_many({'age':{'$lt':25}})\n",
    " "
   ]
  },
  {
   "cell_type": "code",
   "execution_count": 67,
   "metadata": {},
   "outputs": [
    {
     "data": {
      "text/plain": [
       "DeleteResult({'n': 0, 'ok': 1.0}, acknowledged=True)"
      ]
     },
     "execution_count": 67,
     "metadata": {},
     "output_type": "execute_result"
    }
   ],
   "source": [
    "#delete\n",
    "\n",
    "people.delete_many({'age':{'$lt':25}})"
   ]
  },
  {
   "cell_type": "code",
   "execution_count": 69,
   "metadata": {},
   "outputs": [
    {
     "name": "stdout",
     "output_type": "stream",
     "text": [
      "{'_id': 'mike', 'averageAge': 88.0}\n",
      "{'_id': 'daniel', 'averageAge': 29.0}\n",
      "{'_id': 'jessica', 'averageAge': 28.0}\n",
      "{'_id': 'michael', 'averageAge': 27.0}\n",
      "{'_id': 'emily', 'averageAge': 26.0}\n",
      "{'_id': 'alex', 'averageAge': 25.0}\n"
     ]
    }
   ],
   "source": [
    "pipeline = [\n",
    "    {\n",
    "        '$group':{\n",
    "            '_id':'$name',\n",
    "            'averageAge':{'$avg':'$age'}\n",
    "        }\n",
    "    },\n",
    "    {\n",
    "        '$sort':SON([('averageAge',-1)])\n",
    "    }\n",
    "]\n",
    " \n",
    "results = people.aggregate(pipeline)\n",
    " \n",
    "for result in results:\n",
    "    print(result)"
   ]
  },
  {
   "cell_type": "code",
   "execution_count": 70,
   "metadata": {},
   "outputs": [],
   "source": [
    "from pymongo import MongoClient\n",
    "\n",
    "#connect\n",
    "client = MongoClient('mongodb://localhost:27017/')\n",
    "\n",
    "db = client['mydb1']\n",
    "collection = db['emp_data1']"
   ]
  },
  {
   "cell_type": "code",
   "execution_count": 71,
   "metadata": {},
   "outputs": [
    {
     "name": "stdout",
     "output_type": "stream",
     "text": [
      "inserted document ID: 6777a66c08a84c2cc4d38359\n"
     ]
    }
   ],
   "source": [
    "#insert\n",
    "\n",
    "document = {\n",
    "    \"name\":\"Alice\",\n",
    "    \"age\":30,\n",
    "    \"city\":\"New York\"\n",
    "}\n",
    " \n",
    "res = collection.insert_one(document)\n",
    "print(f\"inserted document ID: {res.inserted_id}\")"
   ]
  },
  {
   "cell_type": "code",
   "execution_count": 72,
   "metadata": {},
   "outputs": [
    {
     "name": "stdout",
     "output_type": "stream",
     "text": [
      "{'_id': ObjectId('6777a66c08a84c2cc4d38359'), 'name': 'Alice', 'age': 30, 'city': 'New York'}\n"
     ]
    }
   ],
   "source": [
    "#find one document\n",
    "document = collection.find_one({'name': 'Alice'})\n",
    "print(document)"
   ]
  },
  {
   "cell_type": "code",
   "execution_count": null,
   "metadata": {},
   "outputs": [],
   "source": [
    "#update single document\n",
    "\n",
    "query = {'name': 'Alice'}\n",
    "new_values = {'$set':{\"age\":31}}\n",
    "\n",
    "result = collection.update"
   ]
  },
  {
   "cell_type": "code",
   "execution_count": 74,
   "metadata": {},
   "outputs": [],
   "source": [
    "#match\n",
    "#find all documnet\n",
    "\n",
    "pipeline = [\n",
    "    {'$match':{\"age\":{\"$gt\":30}}}\n",
    "]\n",
    "\n",
    "result = collection.aggregate(pipeline)\n",
    "\n",
    "for doc in result:\n",
    "    print(doc)"
   ]
  },
  {
   "cell_type": "code",
   "execution_count": 76,
   "metadata": {},
   "outputs": [
    {
     "name": "stdout",
     "output_type": "stream",
     "text": [
      "{'_id': 'New York', 'count': 1}\n"
     ]
    }
   ],
   "source": [
    "#group\n",
    "\n",
    "pipeline = [\n",
    "    {\"$group\":{\"_id\":\"$city\",\"count\":{\"$sum\":1}}}\n",
    "]\n",
    "\n",
    "result = collection.aggregate(pipeline)\n",
    "for doc in result:\n",
    "    print(doc)"
   ]
  },
  {
   "cell_type": "code",
   "execution_count": 77,
   "metadata": {},
   "outputs": [
    {
     "name": "stdout",
     "output_type": "stream",
     "text": [
      "{'_id': 'New York', 'total_age': 0}\n"
     ]
    }
   ],
   "source": [
    "#sort\n",
    "\n",
    "pipeline = [\n",
    "    {\"$group\":{\"_id\":\"$city\",\"total_age\":{\"$sum\":\"@age\"}}},\n",
    "    {\"$sort\":{\"total_age\": -1}}\n",
    "]\n",
    "\n",
    "result = collection.aggregate(pipeline)\n",
    "for doc in result:\n",
    "    print(doc)"
   ]
  },
  {
   "cell_type": "code",
   "execution_count": 78,
   "metadata": {},
   "outputs": [
    {
     "name": "stdout",
     "output_type": "stream",
     "text": [
      "{'_id': ObjectId('6777a66c08a84c2cc4d38359'), 'name': 'Alice', 'age': 30, 'city': 'New York'}\n"
     ]
    }
   ],
   "source": [
    "#limit 3\n",
    "\n",
    "pipeline = [\n",
    "    {\"$limit\": 3}\n",
    "]\n",
    "\n",
    "result = collection.aggregate(pipeline)\n",
    "for doc in result:\n",
    "    print(doc)"
   ]
  },
  {
   "cell_type": "code",
   "execution_count": 80,
   "metadata": {},
   "outputs": [
    {
     "name": "stdout",
     "output_type": "stream",
     "text": [
      "{'_id': ObjectId('6777a66c08a84c2cc4d38359'), 'name': 'Alice', 'age': 30, 'city': 'New York', 'is_adult': True}\n"
     ]
    }
   ],
   "source": [
    "pipeline = [\n",
    "    {\"$addFields\": {\"is_adult\": {\"$gte\": [\"$age\", 18]}}}\n",
    "]\n",
    "\n",
    "result = collection.aggregate(pipeline)\n",
    "for doc in result:\n",
    "    print(doc)\n"
   ]
  },
  {
   "cell_type": "code",
   "execution_count": null,
   "metadata": {},
   "outputs": [],
   "source": [
    "class mdb:\n",
    "\n",
    "    def"
   ]
  }
 ],
 "metadata": {
  "kernelspec": {
   "display_name": "Python 3",
   "language": "python",
   "name": "python3"
  },
  "language_info": {
   "codemirror_mode": {
    "name": "ipython",
    "version": 3
   },
   "file_extension": ".py",
   "mimetype": "text/x-python",
   "name": "python",
   "nbconvert_exporter": "python",
   "pygments_lexer": "ipython3",
   "version": "3.12.3"
  }
 },
 "nbformat": 4,
 "nbformat_minor": 2
}
