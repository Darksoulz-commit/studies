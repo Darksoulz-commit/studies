{
 "cells": [
  {
   "cell_type": "code",
   "execution_count": 1,
   "metadata": {},
   "outputs": [],
   "source": [
    "#NUMPY\n",
    "\n",
    "import numpy as np"
   ]
  },
  {
   "cell_type": "code",
   "execution_count": 2,
   "metadata": {},
   "outputs": [
    {
     "name": "stdout",
     "output_type": "stream",
     "text": [
      "[1, 2, 3, 4, 5, 6]\n"
     ]
    }
   ],
   "source": [
    "l1=[1,2,3]\n",
    "l2=[4,5,6]\n",
    "\n",
    "print(l1+l2)"
   ]
  },
  {
   "cell_type": "code",
   "execution_count": 6,
   "metadata": {},
   "outputs": [
    {
     "name": "stdout",
     "output_type": "stream",
     "text": [
      "[1 2 3]\n",
      "[4 5 6]\n",
      "[5 7 9]\n"
     ]
    }
   ],
   "source": [
    "n1 = np.array(l1)\n",
    "print(n1)\n",
    "n2 = np.array(l2)\n",
    "print(n2)\n",
    "print(n1+n2)"
   ]
  },
  {
   "cell_type": "code",
   "execution_count": 9,
   "metadata": {},
   "outputs": [
    {
     "name": "stdout",
     "output_type": "stream",
     "text": [
      "['1' '2' '3' '4' 'a']\n"
     ]
    }
   ],
   "source": [
    "l=[1,2,3,4,'a']\n",
    "arr=np.array(l)\n",
    "print(arr)"
   ]
  },
  {
   "cell_type": "code",
   "execution_count": 11,
   "metadata": {},
   "outputs": [
    {
     "name": "stdout",
     "output_type": "stream",
     "text": [
      "['1' '2' '3' '4' '3.14' 'a']\n"
     ]
    }
   ],
   "source": [
    "l=[1,2,3,4,3.14,'a']\n",
    "arr=np.array(l)\n",
    "print(arr)"
   ]
  },
  {
   "cell_type": "code",
   "execution_count": 29,
   "metadata": {},
   "outputs": [
    {
     "data": {
      "text/plain": [
       "[[1, 2, 3], [4, 5, 6], [7, 8, 9]]"
      ]
     },
     "execution_count": 29,
     "metadata": {},
     "output_type": "execute_result"
    }
   ],
   "source": [
    "my_matrix = [[1,2,3],[4,5,6],[7,8,9]]\n",
    "my_matrix"
   ]
  },
  {
   "cell_type": "code",
   "execution_count": 56,
   "metadata": {},
   "outputs": [
    {
     "name": "stdout",
     "output_type": "stream",
     "text": [
      "(3, 3)\n",
      "[[1 2 3]\n",
      " [4 5 6]\n",
      " [7 8 9]]\n",
      "[]\n"
     ]
    }
   ],
   "source": [
    "n = np.array(my_matrix) #change  array\n",
    "print(n.shape)\n",
    "print(n)\n",
    "print(n[1:,1:1])"
   ]
  },
  {
   "cell_type": "code",
   "execution_count": 30,
   "metadata": {},
   "outputs": [
    {
     "data": {
      "text/plain": [
       "[[1, 2, 3], [4, 5, 6], [7, 8, 9]]"
      ]
     },
     "execution_count": 30,
     "metadata": {},
     "output_type": "execute_result"
    }
   ],
   "source": [
    "n.tolist() #change array to list"
   ]
  },
  {
   "cell_type": "code",
   "execution_count": 31,
   "metadata": {},
   "outputs": [
    {
     "data": {
      "text/plain": [
       "array([0, 1, 2, 3, 4, 5, 6, 7, 8, 9])"
      ]
     },
     "execution_count": 31,
     "metadata": {},
     "output_type": "execute_result"
    }
   ],
   "source": [
    "#built in methods\n",
    "\n",
    "np.arange(0,10)"
   ]
  },
  {
   "cell_type": "code",
   "execution_count": 32,
   "metadata": {},
   "outputs": [
    {
     "data": {
      "text/plain": [
       "array([0, 2, 4, 6, 8])"
      ]
     },
     "execution_count": 32,
     "metadata": {},
     "output_type": "execute_result"
    }
   ],
   "source": [
    "np.arange(0,10,2)"
   ]
  },
  {
   "cell_type": "code",
   "execution_count": 40,
   "metadata": {},
   "outputs": [
    {
     "data": {
      "text/plain": [
       "array([0., 0., 0.])"
      ]
     },
     "execution_count": 40,
     "metadata": {},
     "output_type": "execute_result"
    }
   ],
   "source": [
    "np.zeros(3)"
   ]
  },
  {
   "cell_type": "code",
   "execution_count": 41,
   "metadata": {},
   "outputs": [
    {
     "data": {
      "text/plain": [
       "array([[0., 0., 0., 0., 0.],\n",
       "       [0., 0., 0., 0., 0.],\n",
       "       [0., 0., 0., 0., 0.],\n",
       "       [0., 0., 0., 0., 0.],\n",
       "       [0., 0., 0., 0., 0.]])"
      ]
     },
     "execution_count": 41,
     "metadata": {},
     "output_type": "execute_result"
    }
   ],
   "source": [
    "np.zeros((5,5))"
   ]
  },
  {
   "cell_type": "code",
   "execution_count": 42,
   "metadata": {},
   "outputs": [
    {
     "data": {
      "text/plain": [
       "array([1., 1., 1.])"
      ]
     },
     "execution_count": 42,
     "metadata": {},
     "output_type": "execute_result"
    }
   ],
   "source": [
    "np.ones(3)"
   ]
  },
  {
   "cell_type": "code",
   "execution_count": 92,
   "metadata": {},
   "outputs": [
    {
     "name": "stdout",
     "output_type": "stream",
     "text": [
      "[[0. 0. 0. 0. 0.]\n",
      " [0. 0. 0. 0. 0.]\n",
      " [0. 0. 0. 0. 0.]\n",
      " [0. 0. 0. 0. 0.]\n",
      " [0. 0. 0. 0. 0.]]\n"
     ]
    }
   ],
   "source": [
    "n = np.zeros((5,5))\n",
    "np.eye(4)\n",
    "print(n)"
   ]
  },
  {
   "cell_type": "code",
   "execution_count": 45,
   "metadata": {},
   "outputs": [
    {
     "data": {
      "text/plain": [
       "array([ 0.        ,  0.20408163,  0.40816327,  0.6122449 ,  0.81632653,\n",
       "        1.02040816,  1.2244898 ,  1.42857143,  1.63265306,  1.83673469,\n",
       "        2.04081633,  2.24489796,  2.44897959,  2.65306122,  2.85714286,\n",
       "        3.06122449,  3.26530612,  3.46938776,  3.67346939,  3.87755102,\n",
       "        4.08163265,  4.28571429,  4.48979592,  4.69387755,  4.89795918,\n",
       "        5.10204082,  5.30612245,  5.51020408,  5.71428571,  5.91836735,\n",
       "        6.12244898,  6.32653061,  6.53061224,  6.73469388,  6.93877551,\n",
       "        7.14285714,  7.34693878,  7.55102041,  7.75510204,  7.95918367,\n",
       "        8.16326531,  8.36734694,  8.57142857,  8.7755102 ,  8.97959184,\n",
       "        9.18367347,  9.3877551 ,  9.59183673,  9.79591837, 10.        ])"
      ]
     },
     "execution_count": 45,
     "metadata": {},
     "output_type": "execute_result"
    }
   ],
   "source": [
    "np.linspace(0,10,50)"
   ]
  },
  {
   "cell_type": "code",
   "execution_count": 49,
   "metadata": {},
   "outputs": [
    {
     "data": {
      "text/plain": [
       "array([[0.16224511, 0.38932099, 0.60019334, 0.80672644, 0.60378548],\n",
       "       [0.33700976, 0.93234256, 0.63796449, 0.76402049, 0.9854086 ],\n",
       "       [0.92516989, 0.24254565, 0.03037121, 0.23023033, 0.08022705],\n",
       "       [0.33893875, 0.84888232, 0.57720748, 0.91029591, 0.12442282],\n",
       "       [0.99644209, 0.58150987, 0.40711603, 0.7568985 , 0.64486639]])"
      ]
     },
     "execution_count": 49,
     "metadata": {},
     "output_type": "execute_result"
    }
   ],
   "source": [
    "np.random.rand(5,5)"
   ]
  },
  {
   "cell_type": "code",
   "execution_count": 48,
   "metadata": {},
   "outputs": [
    {
     "data": {
      "text/plain": [
       "array([[1., 0., 0., 0.],\n",
       "       [0., 1., 0., 0.],\n",
       "       [0., 0., 1., 0.],\n",
       "       [0., 0., 0., 1.]])"
      ]
     },
     "execution_count": 48,
     "metadata": {},
     "output_type": "execute_result"
    }
   ],
   "source": [
    "np.eye(4)"
   ]
  },
  {
   "cell_type": "code",
   "execution_count": 50,
   "metadata": {},
   "outputs": [
    {
     "data": {
      "text/plain": [
       "array([[39, 74, 84, 17, 37],\n",
       "       [83, 72, 63, 62, 78],\n",
       "       [12, 23, 29, 24, 45],\n",
       "       [67, 72, 63, 57, 37],\n",
       "       [11,  2, 28, 43, 50]], dtype=int32)"
      ]
     },
     "execution_count": 50,
     "metadata": {},
     "output_type": "execute_result"
    }
   ],
   "source": [
    "np.random.randint(1,100, size=(5,5))"
   ]
  },
  {
   "cell_type": "code",
   "execution_count": 57,
   "metadata": {},
   "outputs": [
    {
     "data": {
      "text/plain": [
       "array([[1, 2, 3],\n",
       "       [4, 5, 6],\n",
       "       [7, 8, 9]])"
      ]
     },
     "execution_count": 57,
     "metadata": {},
     "output_type": "execute_result"
    }
   ],
   "source": [
    "arr_2d =np.array(([1,2,3],[4,5,6],[7,8,9]))\n",
    "arr_2d"
   ]
  },
  {
   "cell_type": "code",
   "execution_count": 58,
   "metadata": {},
   "outputs": [
    {
     "name": "stdout",
     "output_type": "stream",
     "text": [
      "[4 5 6]\n"
     ]
    }
   ],
   "source": [
    "print(arr_2d[1])"
   ]
  },
  {
   "cell_type": "code",
   "execution_count": 59,
   "metadata": {},
   "outputs": [
    {
     "name": "stdout",
     "output_type": "stream",
     "text": [
      "4\n"
     ]
    }
   ],
   "source": [
    "print(arr_2d[1][0])"
   ]
  },
  {
   "cell_type": "code",
   "execution_count": 61,
   "metadata": {},
   "outputs": [
    {
     "name": "stdout",
     "output_type": "stream",
     "text": [
      "[2 0 3 2 7 7]\n"
     ]
    }
   ],
   "source": [
    "x1= np.random.randint(10, size=6) #one d\n",
    "print(x1)\n"
   ]
  },
  {
   "cell_type": "code",
   "execution_count": 63,
   "metadata": {},
   "outputs": [
    {
     "name": "stdout",
     "output_type": "stream",
     "text": [
      "[[7 7 2 0]\n",
      " [2 4 0 4]\n",
      " [0 4 2 4]]\n"
     ]
    }
   ],
   "source": [
    "x2= np.random.randint(10, size=(3,4)) # 2d\n",
    "print(x2)"
   ]
  },
  {
   "cell_type": "code",
   "execution_count": 64,
   "metadata": {},
   "outputs": [
    {
     "name": "stdout",
     "output_type": "stream",
     "text": [
      "[[[7 2 6 1 5]\n",
      "  [9 9 3 6 8]\n",
      "  [1 8 6 0 1]\n",
      "  [4 6 5 6 3]]\n",
      "\n",
      " [[9 6 6 0 0]\n",
      "  [8 5 7 5 1]\n",
      "  [4 8 2 3 7]\n",
      "  [3 4 1 9 0]]\n",
      "\n",
      " [[2 3 5 4 6]\n",
      "  [1 8 2 3 1]\n",
      "  [0 4 7 4 0]\n",
      "  [9 6 0 3 3]]]\n"
     ]
    }
   ],
   "source": [
    "x3= np.random.randint(10, size=(3,4,5)) #3d\n",
    "print(x3)"
   ]
  },
  {
   "cell_type": "code",
   "execution_count": 65,
   "metadata": {},
   "outputs": [
    {
     "name": "stdout",
     "output_type": "stream",
     "text": [
      "[[[[2 0 7 4 7]\n",
      "   [4 2 4 2 0]\n",
      "   [7 7 1 1 2]\n",
      "   [4 6 9 4 9]]\n",
      "\n",
      "  [[6 9 5 6 9]\n",
      "   [3 6 0 5 7]\n",
      "   [7 9 7 3 0]\n",
      "   [1 0 5 4 5]]\n",
      "\n",
      "  [[8 5 9 9 4]\n",
      "   [3 7 6 0 4]\n",
      "   [0 8 9 5 7]\n",
      "   [0 5 2 1 5]]]\n",
      "\n",
      "\n",
      " [[[2 3 3 1 0]\n",
      "   [3 3 2 0 7]\n",
      "   [2 3 2 0 1]\n",
      "   [0 9 6 5 9]]\n",
      "\n",
      "  [[6 0 9 0 0]\n",
      "   [8 0 5 2 5]\n",
      "   [7 0 3 4 2]\n",
      "   [7 0 7 0 4]]\n",
      "\n",
      "  [[9 5 0 1 6]\n",
      "   [2 6 5 8 9]\n",
      "   [6 6 6 7 0]\n",
      "   [4 4 5 7 0]]]]\n"
     ]
    }
   ],
   "source": [
    "x4= np.random.randint(10, size=(2,3,4,5)) #4d\n",
    "print(x4)"
   ]
  },
  {
   "cell_type": "code",
   "execution_count": 68,
   "metadata": {},
   "outputs": [
    {
     "name": "stdout",
     "output_type": "stream",
     "text": [
      "[[1 2 3]\n",
      " [4 5 6]\n",
      " [1 2 3]\n",
      " [4 5 6]]\n"
     ]
    }
   ],
   "source": [
    "grid = np.array([[1, 2, 3],\n",
    "                 [4, 5, 6]])\n",
    "\n",
    "result = np.concatenate([grid, grid])\n",
    "print(result)\n"
   ]
  },
  {
   "cell_type": "code",
   "execution_count": 69,
   "metadata": {},
   "outputs": [
    {
     "name": "stdout",
     "output_type": "stream",
     "text": [
      "[False False  True  True  True]\n",
      "[999 999   3   4   5]\n"
     ]
    }
   ],
   "source": [
    "a = np.array([1,2,3,4,5])\n",
    "\n",
    "b = a>2\n",
    "print(b)\n",
    "\n",
    "c= np.where(a>2, a, 999)\n",
    "\n",
    "print(c)\n"
   ]
  },
  {
   "cell_type": "code",
   "execution_count": 70,
   "metadata": {},
   "outputs": [
    {
     "name": "stdout",
     "output_type": "stream",
     "text": [
      "[False  True False  True]\n"
     ]
    }
   ],
   "source": [
    "#isnan \n",
    "\n",
    "a= np.array([1, np.nan, 3, np.nan])\n",
    "result = np.isnan(a)\n",
    "print(result)"
   ]
  },
  {
   "cell_type": "code",
   "execution_count": 72,
   "metadata": {},
   "outputs": [
    {
     "name": "stdout",
     "output_type": "stream",
     "text": [
      "Original Array:\n",
      " [[4 9 7]\n",
      " [9 7 1]\n",
      " [2 5 7]]\n",
      "First Row:\n",
      " [4 9 7]\n",
      "Last Column:\n",
      " [7 1 7]\n",
      "Middle Element:\n",
      " 7\n",
      "Reshaped 1D:\n",
      " [4 9 7 9 7 1 2 5 7]\n",
      "Reshaped 2D:\n",
      " [[4 9 7]\n",
      " [9 7 1]\n",
      " [2 5 7]]\n",
      "Reshaped 3D:\n",
      " [[[4]\n",
      "  [9]\n",
      "  [7]]\n",
      "\n",
      " [[9]\n",
      "  [7]\n",
      "  [1]]\n",
      "\n",
      " [[2]\n",
      "  [5]\n",
      "  [7]]]\n",
      "Addition:\n",
      " [[ 6 11  9]\n",
      " [11  9  3]\n",
      " [ 4  7  9]]\n",
      "Subtraction:\n",
      " [[ 2  7  5]\n",
      " [ 7  5 -1]\n",
      " [ 0  3  5]]\n",
      "Multiplication:\n",
      " [[ 8 18 14]\n",
      " [18 14  2]\n",
      " [ 4 10 14]]\n",
      "Division:\n",
      " [[2.  4.5 3.5]\n",
      " [4.5 3.5 0.5]\n",
      " [1.  2.5 3.5]]\n",
      "Power:\n",
      " [[16 81 49]\n",
      " [81 49  1]\n",
      " [ 4 25 49]]\n",
      "Mean: 5.666666666666667\n",
      "Median: 7.0\n",
      "Standard Deviation: 2.70801280154532\n",
      "Variance: 7.333333333333333\n",
      "Sorted Array:\n",
      " [1 2 4 5 7 7 7 9 9]\n",
      "Sum: 51\n",
      "Product: 1111320\n",
      "Minimum Value: 1\n",
      "Maximum Value: 9\n"
     ]
    }
   ],
   "source": [
    "import numpy as np\n",
    "\n",
    "# Creating a 3x3 random matrix\n",
    "arr = np.random.randint(1, 10, (3, 3))\n",
    "print(\"Original Array:\\n\", arr)\n",
    "\n",
    "# Indexing and Slicing\n",
    "print(\"First Row:\\n\", arr[0])\n",
    "print(\"Last Column:\\n\", arr[:, -1])\n",
    "print(\"Middle Element:\\n\", arr[1, 1])\n",
    "\n",
    "# Reshaping\n",
    "arr_1d = arr.reshape(9)\n",
    "arr_2d = arr.reshape(3, -1)\n",
    "arr_3d = arr.reshape(3, 3, 1)\n",
    "print(\"Reshaped 1D:\\n\", arr_1d)\n",
    "print(\"Reshaped 2D:\\n\", arr_2d)\n",
    "print(\"Reshaped 3D:\\n\", arr_3d)\n",
    "\n",
    "# Element-wise Operations\n",
    "arr_add = arr + 2\n",
    "arr_sub = arr - 2\n",
    "arr_mul = arr * 2\n",
    "arr_div = arr / 2\n",
    "arr_pow = arr ** 2\n",
    "print(\"Addition:\\n\", arr_add)\n",
    "print(\"Subtraction:\\n\", arr_sub)\n",
    "print(\"Multiplication:\\n\", arr_mul)\n",
    "print(\"Division:\\n\", arr_div)\n",
    "print(\"Power:\\n\", arr_pow)\n",
    "\n",
    "# Statistical Functions\n",
    "mean = np.mean(arr)\n",
    "median = np.median(arr)\n",
    "std_dev = np.std(arr)\n",
    "var = np.var(arr)\n",
    "print(\"Mean:\", mean)\n",
    "print(\"Median:\", median)\n",
    "print(\"Standard Deviation:\", std_dev)\n",
    "print(\"Variance:\", var)\n",
    "\n",
    "# Sorting\n",
    "arr_sorted = np.sort(arr, axis=None)\n",
    "print(\"Sorted Array:\\n\", arr_sorted)\n",
    "\n",
    "# Other Functions\n",
    "arr_sum = np.sum(arr)\n",
    "arr_prod = np.prod(arr)\n",
    "arr_min = np.min(arr)\n",
    "arr_max = np.max(arr)\n",
    "print(\"Sum:\", arr_sum)\n",
    "print(\"Product:\", arr_prod)\n",
    "print(\"Minimum Value:\", arr_min)\n",
    "print(\"Maximum Value:\", arr_max)\n"
   ]
  },
  {
   "cell_type": "code",
   "execution_count": 73,
   "metadata": {},
   "outputs": [
    {
     "name": "stdout",
     "output_type": "stream",
     "text": [
      "Note: you may need to restart the kernel to use updated packages.Defaulting to user installation because normal site-packages is not writeable\n",
      "Collecting pillow\n",
      "  Downloading pillow-11.1.0-cp312-cp312-win_amd64.whl.metadata (9.3 kB)\n",
      "Downloading pillow-11.1.0-cp312-cp312-win_amd64.whl (2.6 MB)\n",
      "   ---------------------------------------- 0.0/2.6 MB ? eta -:--:--\n",
      "   --------- ------------------------------ 0.6/2.6 MB 12.6 MB/s eta 0:00:01\n",
      "   -------------------------------- ------- 2.1/2.6 MB 22.5 MB/s eta 0:00:01\n",
      "   ---------------------------------------  2.6/2.6 MB 27.8 MB/s eta 0:00:01\n",
      "   ---------------------------------------  2.6/2.6 MB 27.8 MB/s eta 0:00:01\n",
      "   ---------------------------------------- 2.6/2.6 MB 13.9 MB/s eta 0:00:00\n",
      "Installing collected packages: pillow\n",
      "Successfully installed pillow-11.1.0\n",
      "\n"
     ]
    },
    {
     "name": "stderr",
     "output_type": "stream",
     "text": [
      "\n",
      "[notice] A new release of pip is available: 24.0 -> 24.3.1\n",
      "[notice] To update, run: python.exe -m pip install --upgrade pip\n"
     ]
    }
   ],
   "source": [
    "pip install pillow"
   ]
  },
  {
   "cell_type": "code",
   "execution_count": 75,
   "metadata": {},
   "outputs": [
    {
     "name": "stdout",
     "output_type": "stream",
     "text": [
      "<class 'numpy.ndarray'>\n",
      "(922, 1758, 4)\n",
      "[[[ 24  24  24 255]\n",
      "  [ 24  24  24 255]\n",
      "  [ 24  24  24 255]\n",
      "  ...\n",
      "  [ 24  24  24 255]\n",
      "  [ 24  24  24 255]\n",
      "  [ 24  24  24 255]]\n",
      "\n",
      " [[ 24  24  24 255]\n",
      "  [ 24  24  24 255]\n",
      "  [ 24  24  24 255]\n",
      "  ...\n",
      "  [ 24  24  24 255]\n",
      "  [ 24  24  24 255]\n",
      "  [ 24  24  24 255]]\n",
      "\n",
      " [[ 24  24  24 255]\n",
      "  [ 24  24  24 255]\n",
      "  [ 24  24  24 255]\n",
      "  ...\n",
      "  [ 24  24  24 255]\n",
      "  [ 24  24  24 255]\n",
      "  [ 24  24  24 255]]\n",
      "\n",
      " ...\n",
      "\n",
      " [[ 35  24  24 255]\n",
      "  [ 24  24  24 255]\n",
      "  [ 24  24  24 255]\n",
      "  ...\n",
      "  [ 31  31  31 255]\n",
      "  [ 31  31  31 255]\n",
      "  [ 31  31  31 255]]\n",
      "\n",
      " [[175 133  82 255]\n",
      "  [ 35  24  24 255]\n",
      "  [ 24  24  24 255]\n",
      "  ...\n",
      "  [ 31  31  31 255]\n",
      "  [ 31  31  31 255]\n",
      "  [ 31  31  31 255]]\n",
      "\n",
      " [[175 198 198 255]\n",
      "  [175 133  82 255]\n",
      "  [ 35  24  24 255]\n",
      "  ...\n",
      "  [ 31  31  31 255]\n",
      "  [ 31  31  31 255]\n",
      "  [ 31  31  31 255]]]\n"
     ]
    }
   ],
   "source": [
    "from PIL import Image\n",
    "from numpy import asarray\n",
    "\n",
    "#load the image\n",
    "img = Image.open('sample.png')\n",
    "\n",
    "numpydata = asarray(img)\n",
    "\n",
    "print(type(numpydata))\n",
    "\n",
    "print(numpydata.shape)\n",
    "\n",
    "print(numpydata)\n",
    "\n"
   ]
  },
  {
   "cell_type": "code",
   "execution_count": 79,
   "metadata": {},
   "outputs": [
    {
     "name": "stdout",
     "output_type": "stream",
     "text": [
      "False\n"
     ]
    }
   ],
   "source": [
    "#write a numpy program to test whether none of the elements of a given array are zero\n",
    "\n",
    "array = np.array([1, 2, 3, 0, 5, 6])\n",
    "print(array.all())"
   ]
  },
  {
   "cell_type": "code",
   "execution_count": 82,
   "metadata": {},
   "outputs": [
    {
     "name": "stdout",
     "output_type": "stream",
     "text": [
      "True\n"
     ]
    }
   ],
   "source": [
    "\n",
    "#write a numpy program to test whether none of the elements of a given array are non -zero\n",
    "array = np.array([1, 2, 0, 4, 5, 6])\n",
    "print(array.any())"
   ]
  },
  {
   "cell_type": "code",
   "execution_count": 84,
   "metadata": {},
   "outputs": [
    {
     "name": "stdout",
     "output_type": "stream",
     "text": [
      "positive or negative infinity elements in array.\n"
     ]
    }
   ],
   "source": [
    "#write a numpy program to test whether none of the elements-wise positive or negative infinity\n",
    "\n",
    "\n",
    "array = np.array([1, 2, np.inf, 4, 5, 6, -np.inf])\n",
    "\n",
    "\n",
    "if not np.any(np.isinf(array)):\n",
    "    print(\"None \")\n",
    "else:\n",
    "    print(\"positive or negative infinity elements in array.\")\n"
   ]
  },
  {
   "cell_type": "code",
   "execution_count": 86,
   "metadata": {},
   "outputs": [
    {
     "name": "stdout",
     "output_type": "stream",
     "text": [
      "[False  True False  True]\n"
     ]
    }
   ],
   "source": [
    "##write a numpy program to test whether none of the elements-wise for NaN of given array\n",
    "\n",
    "a= np.array([1, np.nan, 3, np.nan])\n",
    "result = np.isnan(a)\n",
    "print(result)\n"
   ]
  },
  {
   "cell_type": "code",
   "execution_count": 87,
   "metadata": {},
   "outputs": [
    {
     "name": "stdout",
     "output_type": "stream",
     "text": [
      "[[11 16]\n",
      " [14 15]\n",
      " [14 12]]\n"
     ]
    }
   ],
   "source": [
    "##write a numpy program to create a 3*4 matrix filled with values from 10 to 21\n",
    "\n",
    "x= np.random.randint(10,21,size=[3,2])\n",
    "print(x)"
   ]
  },
  {
   "cell_type": "code",
   "execution_count": 94,
   "metadata": {},
   "outputs": [
    {
     "name": "stdout",
     "output_type": "stream",
     "text": [
      "[[1. 1. 1. 1. 1. 1. 1. 1. 1. 1.]\n",
      " [1. 0. 0. 0. 0. 0. 0. 0. 0. 1.]\n",
      " [1. 0. 0. 0. 0. 0. 0. 0. 0. 1.]\n",
      " [1. 0. 0. 0. 0. 0. 0. 0. 0. 1.]\n",
      " [1. 0. 0. 0. 0. 0. 0. 0. 0. 1.]\n",
      " [1. 0. 0. 0. 0. 0. 0. 0. 0. 1.]\n",
      " [1. 0. 0. 0. 0. 0. 0. 0. 0. 1.]\n",
      " [1. 0. 0. 0. 0. 0. 0. 0. 0. 1.]\n",
      " [1. 0. 0. 0. 0. 0. 0. 0. 0. 1.]\n",
      " [1. 1. 1. 1. 1. 1. 1. 1. 1. 1.]]\n"
     ]
    }
   ],
   "source": [
    "##write a numpy program to create a 10 * 10 matrix, in which the element on the border will be equal to 1 and inside 0\n",
    "\n",
    "a = np.ones((10,10))\n",
    "a[1:-1,1:-1] = 0\n",
    "print(a)"
   ]
  },
  {
   "cell_type": "code",
   "execution_count": 95,
   "metadata": {},
   "outputs": [],
   "source": [
    "#pandas for data manipulation\n",
    "#working with single column data is pandas series\n",
    "#working with  row and column -> Dataframe\n",
    "\n",
    "import pandas as pd\n",
    "\n"
   ]
  },
  {
   "cell_type": "code",
   "execution_count": 96,
   "metadata": {},
   "outputs": [
    {
     "name": "stdout",
     "output_type": "stream",
     "text": [
      "USA        1\n",
      "GERMANY    2\n",
      "JAPAN      3\n",
      "UK         4\n",
      "dtype: int64\n"
     ]
    }
   ],
   "source": [
    "ser1 = pd.Series([1,2,3,4], index = ['USA', 'GERMANY', 'JAPAN', 'UK'])\n",
    "print(ser1)"
   ]
  },
  {
   "cell_type": "code",
   "execution_count": 97,
   "metadata": {},
   "outputs": [
    {
     "name": "stdout",
     "output_type": "stream",
     "text": [
      "USA        1\n",
      "GERMANY    2\n",
      "JAPAN      3\n",
      "ITALY      4\n",
      "dtype: int64\n"
     ]
    }
   ],
   "source": [
    "ser2 = pd.Series([1,2,3,4], index = ['USA', 'GERMANY', 'JAPAN', 'ITALY'])\n",
    "print(ser2)"
   ]
  },
  {
   "cell_type": "code",
   "execution_count": 98,
   "metadata": {},
   "outputs": [
    {
     "data": {
      "text/plain": [
       "np.int64(4)"
      ]
     },
     "execution_count": 98,
     "metadata": {},
     "output_type": "execute_result"
    }
   ],
   "source": [
    "ser1['UK']"
   ]
  },
  {
   "cell_type": "code",
   "execution_count": 5,
   "metadata": {},
   "outputs": [
    {
     "name": "stdout",
     "output_type": "stream",
     "text": [
      "Defaulting to user installation because normal site-packages is not writeable\n",
      "Requirement already satisfied: openpyxl in c:\\users\\naveen.s8\\appdata\\roaming\\python\\python312\\site-packages (3.1.5)\n",
      "Requirement already satisfied: et-xmlfile in c:\\users\\naveen.s8\\appdata\\roaming\\python\\python312\\site-packages (from openpyxl) (2.0.0)\n",
      "Note: you may need to restart the kernel to use updated packages.\n"
     ]
    },
    {
     "name": "stderr",
     "output_type": "stream",
     "text": [
      "\n",
      "[notice] A new release of pip is available: 24.0 -> 24.3.1\n",
      "[notice] To update, run: python.exe -m pip install --upgrade pip\n"
     ]
    }
   ],
   "source": [
    "pip install openpyxl"
   ]
  },
  {
   "cell_type": "code",
   "execution_count": 110,
   "metadata": {},
   "outputs": [
    {
     "name": "stdout",
     "output_type": "stream",
     "text": [
      "  Unnamed: 0     City Country  Maths  Science\n",
      "0       John   Mumbai   India     42        6\n",
      "1      Alice   London      UK     44       77\n",
      "2        Bob   London      UK     43       59\n",
      "3       Mary  Florida     USA     26       49\n",
      "4        Dan   Madrid   Spain     82       58\n"
     ]
    }
   ],
   "source": [
    "#import io\n",
    "data = pd.read_excel('Book1.xlsx')\n",
    "print(data.head())"
   ]
  },
  {
   "cell_type": "code",
   "execution_count": null,
   "metadata": {},
   "outputs": [
    {
     "name": "stdout",
     "output_type": "stream",
     "text": [
      "          City Country  Maths  Science\n",
      "John    Mumbai   India     42        6\n",
      "Alice   London      UK     44       77\n",
      "Bob     London      UK     43       59\n",
      "Mary   Florida     USA     26       49\n",
      "Dan     Madrid   Spain     82       58\n"
     ]
    }
   ],
   "source": [
    "#remove unamed: 0\n",
    "df =pd.read_excel(\"Book1.xlsx\", index_col=0)\n",
    "print(df)"
   ]
  },
  {
   "cell_type": "code",
   "execution_count": null,
   "metadata": {},
   "outputs": [
    {
     "name": "stdout",
     "output_type": "stream",
     "text": [
      "          City Country\n",
      "John    Mumbai   India\n",
      "Alice   London      UK\n",
      "Bob     London      UK\n",
      "Mary   Florida     USA\n",
      "Dan     Madrid   Spain\n"
     ]
    }
   ],
   "source": [
    "#need specific column\n",
    "df =pd.read_excel(\"Book1.xlsx\", index_col=0, usecols=\"A:C\")\n",
    "print(df)"
   ]
  },
  {
   "cell_type": "code",
   "execution_count": 116,
   "metadata": {},
   "outputs": [
    {
     "name": "stdout",
     "output_type": "stream",
     "text": [
      "          City Country\n",
      "Name                  \n",
      "John    Mumbai   India\n",
      "Alice   London      UK\n",
      "Bob     London      UK\n",
      "Mary   Florida     USA\n",
      "Dan     Madrid   Spain\n"
     ]
    }
   ],
   "source": [
    "#name column\n",
    "df =pd.read_excel(\"Book1.xlsx\", index_col=0, usecols=\"A:C\",names=['Name','City','Country'])\n",
    "print(df)"
   ]
  },
  {
   "cell_type": "code",
   "execution_count": 117,
   "metadata": {},
   "outputs": [
    {
     "name": "stdout",
     "output_type": "stream",
     "text": [
      "      Country  Science\n",
      "John    India        6\n",
      "Alice      UK       77\n",
      "Bob        UK       59\n",
      "Mary      USA       49\n",
      "Dan     Spain       58\n"
     ]
    }
   ],
   "source": [
    "#skipping column\n",
    "\n",
    "df =pd.read_excel(\"Book1.xlsx\", index_col=0, usecols=[0,2,4])\n",
    "print(df)"
   ]
  },
  {
   "cell_type": "code",
   "execution_count": 119,
   "metadata": {},
   "outputs": [
    {
     "name": "stdout",
     "output_type": "stream",
     "text": [
      "       Science\n",
      "John         6\n",
      "Alice       77\n",
      "Bob         59\n",
      "Mary        49\n",
      "Dan         58\n"
     ]
    }
   ],
   "source": [
    "df =pd.read_excel(\"Book1.xlsx\", index_col=0, usecols=[0,4])\n",
    "print(df)"
   ]
  },
  {
   "cell_type": "code",
   "execution_count": 122,
   "metadata": {},
   "outputs": [
    {
     "name": "stdout",
     "output_type": "stream",
     "text": [
      "Empty DataFrame\n",
      "Columns: []\n",
      "Index: [India, UK, UK, USA, Spain]\n"
     ]
    }
   ],
   "source": [
    "df =pd.read_excel(\"Book1.xlsx\", index_col=0, usecols=[2])\n",
    "print(df)"
   ]
  },
  {
   "cell_type": "code",
   "execution_count": 123,
   "metadata": {},
   "outputs": [
    {
     "name": "stdout",
     "output_type": "stream",
     "text": [
      "                   City    Country Degree    Depart\n",
      "Manish           Mumbai      India    MSC     Maths\n",
      "M Chowdry         Delhi      India    B.A   Physics\n",
      "A chow            Perth  Austraila    PHD     Maths\n",
      "David           Colombo   Srilanka    BBM  Pharmacy\n",
      "Samyual Hriody  Newyork        USA   B.sc  Medicine\n"
     ]
    }
   ],
   "source": [
    "#sheet navigation (dont know sheet name)\n",
    "df =pd.read_excel(\"Book1.xlsx\", index_col=0, sheet_name=1)\n",
    "print(df)\n"
   ]
  },
  {
   "cell_type": "code",
   "execution_count": 125,
   "metadata": {},
   "outputs": [
    {
     "name": "stdout",
     "output_type": "stream",
     "text": [
      "          City Country  Maths  Science\n",
      "John    Mumbai   India     42        6\n",
      "Alice   London      UK     44       77\n",
      "Bob     London      UK     43       59\n",
      "Mary   Florida     USA     26       49\n",
      "Dan     Madrid   Spain     82       58\n"
     ]
    }
   ],
   "source": [
    "#sheet navigation ( know sheet name)\n",
    "df =pd.read_excel(\"Book1.xlsx\", index_col=0, sheet_name='student')\n",
    "print(df)\n"
   ]
  },
  {
   "cell_type": "code",
   "execution_count": 7,
   "metadata": {},
   "outputs": [
    {
     "name": "stdout",
     "output_type": "stream",
     "text": [
      "                   City    Country Degree    Depart\n",
      "Manish           Mumbai      India    MSC     Maths\n",
      "M Chowdry         Delhi      India    B.A   Physics\n",
      "A chow            Perth  Austraila    PHD     Maths\n",
      "David           Colombo   Srilanka    BBM  Pharmacy\n",
      "Samyual Hriody  Newyork        USA   B.sc  Medicine\n"
     ]
    }
   ],
   "source": [
    "import pandas as pd\n",
    "df=pd.read_excel(\"Book1.xlsx\",index_col=0,sheet_name='teacher')\n",
    "print(df)\n"
   ]
  },
  {
   "cell_type": "code",
   "execution_count": 10,
   "metadata": {},
   "outputs": [
    {
     "data": {
      "text/html": [
       "<div>\n",
       "<style scoped>\n",
       "    .dataframe tbody tr th:only-of-type {\n",
       "        vertical-align: middle;\n",
       "    }\n",
       "\n",
       "    .dataframe tbody tr th {\n",
       "        vertical-align: top;\n",
       "    }\n",
       "\n",
       "    .dataframe thead th {\n",
       "        text-align: right;\n",
       "    }\n",
       "</style>\n",
       "<table border=\"1\" class=\"dataframe\">\n",
       "  <thead>\n",
       "    <tr style=\"text-align: right;\">\n",
       "      <th></th>\n",
       "      <th>City</th>\n",
       "      <th>Country</th>\n",
       "      <th>Degree</th>\n",
       "      <th>Depart</th>\n",
       "    </tr>\n",
       "  </thead>\n",
       "  <tbody>\n",
       "    <tr>\n",
       "      <th>count</th>\n",
       "      <td>5</td>\n",
       "      <td>5</td>\n",
       "      <td>5</td>\n",
       "      <td>5</td>\n",
       "    </tr>\n",
       "    <tr>\n",
       "      <th>unique</th>\n",
       "      <td>5</td>\n",
       "      <td>4</td>\n",
       "      <td>5</td>\n",
       "      <td>4</td>\n",
       "    </tr>\n",
       "    <tr>\n",
       "      <th>top</th>\n",
       "      <td>Mumbai</td>\n",
       "      <td>India</td>\n",
       "      <td>MSC</td>\n",
       "      <td>Maths</td>\n",
       "    </tr>\n",
       "    <tr>\n",
       "      <th>freq</th>\n",
       "      <td>1</td>\n",
       "      <td>2</td>\n",
       "      <td>1</td>\n",
       "      <td>2</td>\n",
       "    </tr>\n",
       "  </tbody>\n",
       "</table>\n",
       "</div>"
      ],
      "text/plain": [
       "          City Country Degree Depart\n",
       "count        5       5      5      5\n",
       "unique       5       4      5      4\n",
       "top     Mumbai   India    MSC  Maths\n",
       "freq         1       2      1      2"
      ]
     },
     "execution_count": 10,
     "metadata": {},
     "output_type": "execute_result"
    }
   ],
   "source": [
    "import pandas as pd\n",
    "df.describe()"
   ]
  },
  {
   "cell_type": "code",
   "execution_count": 11,
   "metadata": {},
   "outputs": [],
   "source": [
    "df.to_csv('Naveen.csv')"
   ]
  },
  {
   "cell_type": "code",
   "execution_count": 34,
   "metadata": {},
   "outputs": [
    {
     "name": "stdout",
     "output_type": "stream",
     "text": [
      "         Country   Age   Salary Purchased\n",
      "0          India  25.0  50000.0       Yes\n",
      "1            USA  30.0  60000.0        No\n",
      "2             UK   NaN  55000.0       Yes\n",
      "3         Canada  35.0      NaN        No\n",
      "4      Australia  28.0  70000.0       Yes\n",
      "5        Germany  33.0  62000.0        No\n",
      "6         France  24.0  58000.0       Yes\n",
      "7         Brazil  29.0  54000.0        No\n",
      "8          Japan  31.0  63000.0       Yes\n",
      "9          China  27.0  71000.0        No\n",
      "10   South Korea  26.0      NaN       Yes\n",
      "11  South Africa   NaN  68000.0        No\n",
      "12        Russia  34.0  64000.0       Yes\n",
      "13         Italy  23.0      NaN        No\n",
      "14        Mexico  36.0  66000.0       Yes\n"
     ]
    }
   ],
   "source": [
    "df=pd.read_excel(\"SampleData.xlsx\")\n",
    "print(df)"
   ]
  },
  {
   "cell_type": "code",
   "execution_count": 35,
   "metadata": {},
   "outputs": [
    {
     "name": "stdout",
     "output_type": "stream",
     "text": [
      "<class 'pandas.core.frame.DataFrame'>\n",
      "RangeIndex: 15 entries, 0 to 14\n",
      "Data columns (total 4 columns):\n",
      " #   Column     Non-Null Count  Dtype  \n",
      "---  ------     --------------  -----  \n",
      " 0   Country    15 non-null     object \n",
      " 1   Age        13 non-null     float64\n",
      " 2   Salary     12 non-null     float64\n",
      " 3   Purchased  15 non-null     object \n",
      "dtypes: float64(2), object(2)\n",
      "memory usage: 612.0+ bytes\n"
     ]
    }
   ],
   "source": [
    "df.info()"
   ]
  },
  {
   "cell_type": "code",
   "execution_count": 36,
   "metadata": {},
   "outputs": [
    {
     "data": {
      "text/html": [
       "<div>\n",
       "<style scoped>\n",
       "    .dataframe tbody tr th:only-of-type {\n",
       "        vertical-align: middle;\n",
       "    }\n",
       "\n",
       "    .dataframe tbody tr th {\n",
       "        vertical-align: top;\n",
       "    }\n",
       "\n",
       "    .dataframe thead th {\n",
       "        text-align: right;\n",
       "    }\n",
       "</style>\n",
       "<table border=\"1\" class=\"dataframe\">\n",
       "  <thead>\n",
       "    <tr style=\"text-align: right;\">\n",
       "      <th></th>\n",
       "      <th>Age</th>\n",
       "      <th>Salary</th>\n",
       "    </tr>\n",
       "  </thead>\n",
       "  <tbody>\n",
       "    <tr>\n",
       "      <th>count</th>\n",
       "      <td>13.000000</td>\n",
       "      <td>12.000000</td>\n",
       "    </tr>\n",
       "    <tr>\n",
       "      <th>mean</th>\n",
       "      <td>29.307692</td>\n",
       "      <td>61750.000000</td>\n",
       "    </tr>\n",
       "    <tr>\n",
       "      <th>std</th>\n",
       "      <td>4.289223</td>\n",
       "      <td>6593.729804</td>\n",
       "    </tr>\n",
       "    <tr>\n",
       "      <th>min</th>\n",
       "      <td>23.000000</td>\n",
       "      <td>50000.000000</td>\n",
       "    </tr>\n",
       "    <tr>\n",
       "      <th>25%</th>\n",
       "      <td>26.000000</td>\n",
       "      <td>57250.000000</td>\n",
       "    </tr>\n",
       "    <tr>\n",
       "      <th>50%</th>\n",
       "      <td>29.000000</td>\n",
       "      <td>62500.000000</td>\n",
       "    </tr>\n",
       "    <tr>\n",
       "      <th>75%</th>\n",
       "      <td>33.000000</td>\n",
       "      <td>66500.000000</td>\n",
       "    </tr>\n",
       "    <tr>\n",
       "      <th>max</th>\n",
       "      <td>36.000000</td>\n",
       "      <td>71000.000000</td>\n",
       "    </tr>\n",
       "  </tbody>\n",
       "</table>\n",
       "</div>"
      ],
      "text/plain": [
       "             Age        Salary\n",
       "count  13.000000     12.000000\n",
       "mean   29.307692  61750.000000\n",
       "std     4.289223   6593.729804\n",
       "min    23.000000  50000.000000\n",
       "25%    26.000000  57250.000000\n",
       "50%    29.000000  62500.000000\n",
       "75%    33.000000  66500.000000\n",
       "max    36.000000  71000.000000"
      ]
     },
     "execution_count": 36,
     "metadata": {},
     "output_type": "execute_result"
    }
   ],
   "source": [
    "#5 point summry\n",
    "df.describe()"
   ]
  },
  {
   "cell_type": "code",
   "execution_count": 28,
   "metadata": {},
   "outputs": [
    {
     "name": "stdout",
     "output_type": "stream",
     "text": [
      "29.307692307692307\n"
     ]
    }
   ],
   "source": [
    "m = df['Age'].mean()\n",
    "print(m)\n"
   ]
  },
  {
   "cell_type": "code",
   "execution_count": 37,
   "metadata": {},
   "outputs": [
    {
     "name": "stdout",
     "output_type": "stream",
     "text": [
      "     Country   Age   Salary Purchased\n",
      "4  Australia  28.0  70000.0       Yes\n",
      "5    Germany  33.0  62000.0        No\n",
      "6     France  24.0  58000.0       Yes\n",
      "7     Brazil  29.0  54000.0        No\n"
     ]
    }
   ],
   "source": [
    "print(df[4:8])"
   ]
  },
  {
   "cell_type": "code",
   "execution_count": 38,
   "metadata": {},
   "outputs": [
    {
     "name": "stdout",
     "output_type": "stream",
     "text": [
      "     Country   Age   Salary Purchased\n",
      "4  Australia  28.0  70000.0       Yes\n",
      "5    Germany  33.0  62000.0        No\n"
     ]
    }
   ],
   "source": [
    "print(df.iloc[4:6])"
   ]
  },
  {
   "cell_type": "code",
   "execution_count": 39,
   "metadata": {},
   "outputs": [
    {
     "name": "stdout",
     "output_type": "stream",
     "text": [
      "Australia\n"
     ]
    }
   ],
   "source": [
    "print(df['Country'][4])"
   ]
  },
  {
   "cell_type": "code",
   "execution_count": 42,
   "metadata": {},
   "outputs": [
    {
     "name": "stdout",
     "output_type": "stream",
     "text": [
      "         Country   Age   Salary Purchased\n",
      "0          India  25.0  50000.0       Yes\n",
      "1            USA  30.0  60000.0        No\n",
      "2             UK   NaN  55000.0       Yes\n",
      "3         Canada  35.0      NaN        No\n",
      "4      Australia  28.0  70000.0       Yes\n",
      "5        Germany  33.0  62000.0        No\n",
      "6         France  24.0  58000.0       Yes\n",
      "7         Brazil  29.0  54000.0        No\n",
      "8          Japan  31.0  63000.0       Yes\n",
      "9          China  27.0  71000.0        No\n",
      "10   South Korea  26.0      NaN       Yes\n",
      "11  South Africa   NaN  68000.0        No\n",
      "12        Russia  34.0  64000.0       Yes\n",
      "13         Italy  23.0      NaN        No\n",
      "14        Mexico  36.0  66000.0       Yes\n",
      "     Age   Salary Purchased\n",
      "0   25.0  50000.0       Yes\n",
      "1   30.0  60000.0        No\n",
      "2    NaN  55000.0       Yes\n",
      "3   35.0      NaN        No\n",
      "4   28.0  70000.0       Yes\n",
      "5   33.0  62000.0        No\n",
      "6   24.0  58000.0       Yes\n",
      "7   29.0  54000.0        No\n",
      "8   31.0  63000.0       Yes\n",
      "9   27.0  71000.0        No\n",
      "10  26.0      NaN       Yes\n",
      "11   NaN  68000.0        No\n",
      "12  34.0  64000.0       Yes\n",
      "13  23.0      NaN        No\n",
      "14  36.0  66000.0       Yes\n"
     ]
    }
   ],
   "source": [
    "\n",
    "df = df.drop('Country',axis=1)\n",
    "print(df)"
   ]
  },
  {
   "cell_type": "code",
   "execution_count": 43,
   "metadata": {},
   "outputs": [],
   "source": [
    "df['Country'] = ['India', 'USA', 'UK', 'Canada', 'Australia', 'Germany', 'France', 'Brazil', 'Japan', 'China', 'South Korea', 'South Africa', 'Russia', 'Italy', 'Mexico']"
   ]
  },
  {
   "cell_type": "code",
   "execution_count": 47,
   "metadata": {},
   "outputs": [
    {
     "name": "stdout",
     "output_type": "stream",
     "text": [
      "     Age   Salary Purchased       Country     Area\n",
      "0   25.0  50000.0       Yes         India  chennai\n",
      "1   30.0  60000.0        No           USA   guindy\n",
      "2    NaN  55000.0       Yes            UK    Porur\n",
      "3   35.0      NaN        No        Canada  chennai\n",
      "4   28.0  70000.0       Yes     Australia   guindy\n",
      "5   33.0  62000.0        No       Germany    Porur\n",
      "6   24.0  58000.0       Yes        France  chennai\n",
      "7   29.0  54000.0        No        Brazil   guindy\n",
      "8   31.0  63000.0       Yes         Japan    Porur\n",
      "9   27.0  71000.0        No         China  chennai\n",
      "10  26.0      NaN       Yes   South Korea   guindy\n",
      "11   NaN  68000.0        No  South Africa    Porur\n",
      "12  34.0  64000.0       Yes        Russia  chennai\n",
      "13  23.0      NaN        No         Italy   guindy\n",
      "14  36.0  66000.0       Yes        Mexico    Porur\n"
     ]
    }
   ],
   "source": [
    "print(df)"
   ]
  },
  {
   "cell_type": "code",
   "execution_count": 46,
   "metadata": {},
   "outputs": [],
   "source": [
    "df['Area'] = ['chennai', 'guindy', 'Porur'] * 5 "
   ]
  },
  {
   "cell_type": "code",
   "execution_count": 49,
   "metadata": {},
   "outputs": [
    {
     "name": "stdout",
     "output_type": "stream",
     "text": [
      "     Age   Salary Purchased       Country     Area\n",
      "0   25.0  50000.0       Yes         India  chennai\n",
      "1   30.0  60000.0        No           USA   guindy\n",
      "2    NaN  55000.0       Yes            UK    Porur\n",
      "4   28.0  70000.0       Yes     Australia   guindy\n",
      "5   33.0  62000.0        No       Germany    Porur\n",
      "6   24.0  58000.0       Yes        France  chennai\n",
      "7   29.0  54000.0        No        Brazil   guindy\n",
      "8   31.0  63000.0       Yes         Japan    Porur\n",
      "9   27.0  71000.0        No         China  chennai\n",
      "10  26.0      NaN       Yes   South Korea   guindy\n",
      "11   NaN  68000.0        No  South Africa    Porur\n",
      "12  34.0  64000.0       Yes        Russia  chennai\n",
      "13  23.0      NaN        No         Italy   guindy\n",
      "14  36.0  66000.0       Yes        Mexico    Porur\n"
     ]
    }
   ],
   "source": [
    "df = df.drop(3)\n",
    "print(df)"
   ]
  },
  {
   "cell_type": "code",
   "execution_count": 52,
   "metadata": {},
   "outputs": [
    {
     "name": "stdout",
     "output_type": "stream",
     "text": [
      "     Age   Salary Purchased       Country     Area\n",
      "0   25.0  50000.0       Yes         India  chennai\n",
      "7   29.0  54000.0        No        Brazil   guindy\n",
      "2    NaN  55000.0       Yes            UK    Porur\n",
      "6   24.0  58000.0       Yes        France  chennai\n",
      "1   30.0  60000.0        No           USA   guindy\n",
      "5   33.0  62000.0        No       Germany    Porur\n",
      "8   31.0  63000.0       Yes         Japan    Porur\n",
      "12  34.0  64000.0       Yes        Russia  chennai\n",
      "14  36.0  66000.0       Yes        Mexico    Porur\n",
      "11   NaN  68000.0        No  South Africa    Porur\n",
      "4   28.0  70000.0       Yes     Australia   guindy\n",
      "9   27.0  71000.0        No         China  chennai\n",
      "10  26.0      NaN       Yes   South Korea   guindy\n",
      "13  23.0      NaN        No         Italy   guindy\n"
     ]
    }
   ],
   "source": [
    "df1 = df.sort_values(by='Salary', ascending=True)\n",
    "print(df1)"
   ]
  },
  {
   "cell_type": "code",
   "execution_count": 56,
   "metadata": {},
   "outputs": [
    {
     "name": "stdout",
     "output_type": "stream",
     "text": [
      "     Age   Salary Purchased       Country     Area\n",
      "0   25.0  50000.0       Yes         India  chennai\n",
      "1   30.0  60000.0        No           USA   guindy\n",
      "2    NaN  55000.0       Yes            UK    Porur\n",
      "4   28.0  70000.0       Yes     Australia   guindy\n",
      "5   33.0  62000.0        No       Germany    Porur\n",
      "6   24.0      0.0       Yes        France  chennai\n",
      "7   29.0  54000.0        No        Brazil   guindy\n",
      "8   31.0  63000.0       Yes         Japan    Porur\n",
      "9   27.0  71000.0        No         China  chennai\n",
      "10  26.0      NaN       Yes   South Korea   guindy\n",
      "11   NaN  68000.0        No  South Africa    Porur\n",
      "12  34.0  64000.0       Yes        Russia  chennai\n",
      "13  23.0      NaN        No         Italy   guindy\n",
      "14  36.0  66000.0       Yes        Mexico    Porur\n",
      "     Age   Salary Purchased       Country     Area\n",
      "0   25.0  50000.0       Yes         India  chennai\n",
      "1   30.0  60000.0        No           USA   guindy\n",
      "2    NaN  55000.0       Yes            UK    Porur\n",
      "4   28.0  70000.0       Yes     Australia   guindy\n",
      "5   33.0  62000.0        No       Germany    Porur\n",
      "6   24.0      0.0       Yes        France  chennai\n",
      "7   29.0  54000.0        No        Brazil   guindy\n",
      "8   31.0  63000.0       Yes         Japan    Porur\n",
      "9   27.0  71000.0        No         China  chennai\n",
      "10  26.0      NaN       Yes   South Korea   guindy\n",
      "11   NaN  68000.0        No  South Africa    Porur\n",
      "12  34.0  64000.0       Yes        Russia  chennai\n",
      "13  23.0      NaN        No         Italy   guindy\n",
      "14  36.0  66000.0       Yes        Mexico    Porur\n"
     ]
    }
   ],
   "source": [
    "#conditon\n",
    "\n",
    "print(df)\n",
    "df.loc[df['Age']>48, 'Salary']=0\n",
    "print(df)"
   ]
  },
  {
   "cell_type": "code",
   "execution_count": 57,
   "metadata": {},
   "outputs": [
    {
     "name": "stdout",
     "output_type": "stream",
     "text": [
      "     Age   Salary Purchased       Country     Area\n",
      "0   25.0  50000.0       Yes         India  chennai\n",
      "1   30.0  60000.0        No           USA   guindy\n",
      "2    NaN  55000.0       Yes            UK    Porur\n",
      "4   28.0  70000.0       Yes     Australia   guindy\n",
      "5   33.0  62000.0        No       Germany    Porur\n",
      "6   24.0      0.0       Yes        France  chennai\n",
      "7   29.0  54000.0        No        Brazil   guindy\n",
      "8   31.0  63000.0       Yes         Japan    Porur\n",
      "9   27.0  71000.0        No         China  chennai\n",
      "10  26.0      NaN       Yes   South Korea   guindy\n",
      "11   NaN  68000.0        No  South Africa    Porur\n",
      "12  34.0  64000.0       Yes        Russia  chennai\n",
      "13  23.0      NaN        No         Italy   guindy\n",
      "14  36.0  66000.0       Yes        Mexico    Porur\n",
      "     Age   Salary Purchased       Country     Area\n",
      "0   25.0  50000.0       Yes         India  chennai\n",
      "1   30.0  60000.0        No           USA   guindy\n",
      "2    NaN  55000.0       Yes            UK    Porur\n",
      "4   28.0  70000.0       Yes     Australia   guindy\n",
      "5   33.0  62000.0        No       Germany    Porur\n",
      "6   24.0      0.0       Yes        France  chennai\n",
      "7   29.0  54000.0        No        Brazil   guindy\n",
      "8   31.0  63000.0       Yes         Japan    Porur\n",
      "9   27.0  71000.0        No         China  chennai\n",
      "10  26.0      NaN       Yes   South Korea   guindy\n",
      "11   NaN  68000.0        No  South Africa    Porur\n",
      "12  34.0  64000.0       Yes        Russia  chennai\n",
      "13  23.0      NaN        No         Italy   guindy\n",
      "14  36.0  66000.0       Yes        Mexico    Porur\n"
     ]
    }
   ],
   "source": [
    "print(df)\n",
    "df.loc[((df['Age']<40) & (df['Country'] == 'France')), 'Salary'] = 0\n",
    "print(df)"
   ]
  },
  {
   "cell_type": "code",
   "execution_count": 59,
   "metadata": {},
   "outputs": [
    {
     "name": "stdout",
     "output_type": "stream",
     "text": [
      "     Age   Salary Purchased       Country     Area\n",
      "0   25.0      0.0       Yes         India  chennai\n",
      "1   30.0  60000.0        No           USA   guindy\n",
      "2    NaN  55000.0       Yes            UK    Porur\n",
      "4   28.0  70000.0       Yes     Australia   guindy\n",
      "5   33.0  62000.0        No       Germany    Porur\n",
      "6   24.0      0.0       Yes        France  chennai\n",
      "7   29.0  54000.0        No        Brazil   guindy\n",
      "8   31.0  63000.0       Yes         Japan    Porur\n",
      "9   27.0  71000.0        No         China  chennai\n",
      "10  26.0      NaN       Yes   South Korea   guindy\n",
      "11   NaN  68000.0        No  South Africa    Porur\n",
      "12  34.0  64000.0       Yes        Russia  chennai\n",
      "13  23.0      NaN        No         Italy   guindy\n",
      "14  36.0  66000.0       Yes        Mexico    Porur\n",
      "     Age   Salary Purchased       Country     Area\n",
      "0   25.0      0.0       Yes         India  chennai\n",
      "1   30.0  60000.0        No           USA   guindy\n",
      "2    NaN  55000.0       Yes            UK    Porur\n",
      "4   28.0  70000.0       Yes     Australia   guindy\n",
      "5   33.0  62000.0        No       Germany    Porur\n",
      "6   24.0      0.0       Yes        France  chennai\n",
      "7   29.0  54000.0        No        Brazil   guindy\n",
      "8   31.0  63000.0       Yes         Japan    Porur\n",
      "9   27.0  71000.0        No         China  chennai\n",
      "10  26.0      NaN       Yes   South Korea   guindy\n",
      "11   NaN  68000.0        No  South Africa    Porur\n",
      "12  34.0  64000.0       Yes        Russia  chennai\n",
      "13  23.0      NaN        No         Italy   guindy\n",
      "14  36.0  66000.0       Yes        Mexico    Porur\n"
     ]
    }
   ],
   "source": [
    "print(df)\n",
    "df.loc[((df['Age']<40) & (df['Country'] == 'India')), 'Salary'] = 0\n",
    "print(df)"
   ]
  },
  {
   "cell_type": "code",
   "execution_count": 60,
   "metadata": {},
   "outputs": [
    {
     "name": "stdout",
     "output_type": "stream",
     "text": [
      "      name branch  year  cgpa\n",
      "0   nikhil    coe     2   9.0\n",
      "1  sanchit     it     3   9.8\n"
     ]
    }
   ],
   "source": [
    "#CREATE ANY CSV DATA, READ JSON, read CSV\n",
    "\n",
    "df = pd.read_csv('test1.csv')\n",
    "print(df)"
   ]
  },
  {
   "cell_type": "code",
   "execution_count": 61,
   "metadata": {},
   "outputs": [
    {
     "ename": "ValueError",
     "evalue": "If using all scalar values, you must pass an index",
     "output_type": "error",
     "traceback": [
      "\u001b[1;31m---------------------------------------------------------------------------\u001b[0m",
      "\u001b[1;31mValueError\u001b[0m                                Traceback (most recent call last)",
      "Cell \u001b[1;32mIn[61], line 1\u001b[0m\n\u001b[1;32m----> 1\u001b[0m df \u001b[38;5;241m=\u001b[39m \u001b[43mpd\u001b[49m\u001b[38;5;241;43m.\u001b[39;49m\u001b[43mread_json\u001b[49m\u001b[43m(\u001b[49m\u001b[38;5;124;43m'\u001b[39;49m\u001b[38;5;124;43mdata1.json\u001b[39;49m\u001b[38;5;124;43m'\u001b[39;49m\u001b[43m)\u001b[49m\n\u001b[0;32m      2\u001b[0m \u001b[38;5;28mprint\u001b[39m(df)\n",
      "File \u001b[1;32m~\\AppData\\Roaming\\Python\\Python312\\site-packages\\pandas\\io\\json\\_json.py:815\u001b[0m, in \u001b[0;36mread_json\u001b[1;34m(path_or_buf, orient, typ, dtype, convert_axes, convert_dates, keep_default_dates, precise_float, date_unit, encoding, encoding_errors, lines, chunksize, compression, nrows, storage_options, dtype_backend, engine)\u001b[0m\n\u001b[0;32m    813\u001b[0m     \u001b[38;5;28;01mreturn\u001b[39;00m json_reader\n\u001b[0;32m    814\u001b[0m \u001b[38;5;28;01melse\u001b[39;00m:\n\u001b[1;32m--> 815\u001b[0m     \u001b[38;5;28;01mreturn\u001b[39;00m \u001b[43mjson_reader\u001b[49m\u001b[38;5;241;43m.\u001b[39;49m\u001b[43mread\u001b[49m\u001b[43m(\u001b[49m\u001b[43m)\u001b[49m\n",
      "File \u001b[1;32m~\\AppData\\Roaming\\Python\\Python312\\site-packages\\pandas\\io\\json\\_json.py:1025\u001b[0m, in \u001b[0;36mJsonReader.read\u001b[1;34m(self)\u001b[0m\n\u001b[0;32m   1023\u001b[0m         obj \u001b[38;5;241m=\u001b[39m \u001b[38;5;28mself\u001b[39m\u001b[38;5;241m.\u001b[39m_get_object_parser(\u001b[38;5;28mself\u001b[39m\u001b[38;5;241m.\u001b[39m_combine_lines(data_lines))\n\u001b[0;32m   1024\u001b[0m \u001b[38;5;28;01melse\u001b[39;00m:\n\u001b[1;32m-> 1025\u001b[0m     obj \u001b[38;5;241m=\u001b[39m \u001b[38;5;28;43mself\u001b[39;49m\u001b[38;5;241;43m.\u001b[39;49m\u001b[43m_get_object_parser\u001b[49m\u001b[43m(\u001b[49m\u001b[38;5;28;43mself\u001b[39;49m\u001b[38;5;241;43m.\u001b[39;49m\u001b[43mdata\u001b[49m\u001b[43m)\u001b[49m\n\u001b[0;32m   1026\u001b[0m \u001b[38;5;28;01mif\u001b[39;00m \u001b[38;5;28mself\u001b[39m\u001b[38;5;241m.\u001b[39mdtype_backend \u001b[38;5;129;01mis\u001b[39;00m \u001b[38;5;129;01mnot\u001b[39;00m lib\u001b[38;5;241m.\u001b[39mno_default:\n\u001b[0;32m   1027\u001b[0m     \u001b[38;5;28;01mreturn\u001b[39;00m obj\u001b[38;5;241m.\u001b[39mconvert_dtypes(\n\u001b[0;32m   1028\u001b[0m         infer_objects\u001b[38;5;241m=\u001b[39m\u001b[38;5;28;01mFalse\u001b[39;00m, dtype_backend\u001b[38;5;241m=\u001b[39m\u001b[38;5;28mself\u001b[39m\u001b[38;5;241m.\u001b[39mdtype_backend\n\u001b[0;32m   1029\u001b[0m     )\n",
      "File \u001b[1;32m~\\AppData\\Roaming\\Python\\Python312\\site-packages\\pandas\\io\\json\\_json.py:1051\u001b[0m, in \u001b[0;36mJsonReader._get_object_parser\u001b[1;34m(self, json)\u001b[0m\n\u001b[0;32m   1049\u001b[0m obj \u001b[38;5;241m=\u001b[39m \u001b[38;5;28;01mNone\u001b[39;00m\n\u001b[0;32m   1050\u001b[0m \u001b[38;5;28;01mif\u001b[39;00m typ \u001b[38;5;241m==\u001b[39m \u001b[38;5;124m\"\u001b[39m\u001b[38;5;124mframe\u001b[39m\u001b[38;5;124m\"\u001b[39m:\n\u001b[1;32m-> 1051\u001b[0m     obj \u001b[38;5;241m=\u001b[39m \u001b[43mFrameParser\u001b[49m\u001b[43m(\u001b[49m\u001b[43mjson\u001b[49m\u001b[43m,\u001b[49m\u001b[43m \u001b[49m\u001b[38;5;241;43m*\u001b[39;49m\u001b[38;5;241;43m*\u001b[39;49m\u001b[43mkwargs\u001b[49m\u001b[43m)\u001b[49m\u001b[38;5;241;43m.\u001b[39;49m\u001b[43mparse\u001b[49m\u001b[43m(\u001b[49m\u001b[43m)\u001b[49m\n\u001b[0;32m   1053\u001b[0m \u001b[38;5;28;01mif\u001b[39;00m typ \u001b[38;5;241m==\u001b[39m \u001b[38;5;124m\"\u001b[39m\u001b[38;5;124mseries\u001b[39m\u001b[38;5;124m\"\u001b[39m \u001b[38;5;129;01mor\u001b[39;00m obj \u001b[38;5;129;01mis\u001b[39;00m \u001b[38;5;28;01mNone\u001b[39;00m:\n\u001b[0;32m   1054\u001b[0m     \u001b[38;5;28;01mif\u001b[39;00m \u001b[38;5;129;01mnot\u001b[39;00m \u001b[38;5;28misinstance\u001b[39m(dtype, \u001b[38;5;28mbool\u001b[39m):\n",
      "File \u001b[1;32m~\\AppData\\Roaming\\Python\\Python312\\site-packages\\pandas\\io\\json\\_json.py:1187\u001b[0m, in \u001b[0;36mParser.parse\u001b[1;34m(self)\u001b[0m\n\u001b[0;32m   1185\u001b[0m \u001b[38;5;129m@final\u001b[39m\n\u001b[0;32m   1186\u001b[0m \u001b[38;5;28;01mdef\u001b[39;00m \u001b[38;5;21mparse\u001b[39m(\u001b[38;5;28mself\u001b[39m):\n\u001b[1;32m-> 1187\u001b[0m     \u001b[38;5;28;43mself\u001b[39;49m\u001b[38;5;241;43m.\u001b[39;49m\u001b[43m_parse\u001b[49m\u001b[43m(\u001b[49m\u001b[43m)\u001b[49m\n\u001b[0;32m   1189\u001b[0m     \u001b[38;5;28;01mif\u001b[39;00m \u001b[38;5;28mself\u001b[39m\u001b[38;5;241m.\u001b[39mobj \u001b[38;5;129;01mis\u001b[39;00m \u001b[38;5;28;01mNone\u001b[39;00m:\n\u001b[0;32m   1190\u001b[0m         \u001b[38;5;28;01mreturn\u001b[39;00m \u001b[38;5;28;01mNone\u001b[39;00m\n",
      "File \u001b[1;32m~\\AppData\\Roaming\\Python\\Python312\\site-packages\\pandas\\io\\json\\_json.py:1402\u001b[0m, in \u001b[0;36mFrameParser._parse\u001b[1;34m(self)\u001b[0m\n\u001b[0;32m   1399\u001b[0m orient \u001b[38;5;241m=\u001b[39m \u001b[38;5;28mself\u001b[39m\u001b[38;5;241m.\u001b[39morient\n\u001b[0;32m   1401\u001b[0m \u001b[38;5;28;01mif\u001b[39;00m orient \u001b[38;5;241m==\u001b[39m \u001b[38;5;124m\"\u001b[39m\u001b[38;5;124mcolumns\u001b[39m\u001b[38;5;124m\"\u001b[39m:\n\u001b[1;32m-> 1402\u001b[0m     \u001b[38;5;28mself\u001b[39m\u001b[38;5;241m.\u001b[39mobj \u001b[38;5;241m=\u001b[39m \u001b[43mDataFrame\u001b[49m\u001b[43m(\u001b[49m\n\u001b[0;32m   1403\u001b[0m \u001b[43m        \u001b[49m\u001b[43mujson_loads\u001b[49m\u001b[43m(\u001b[49m\u001b[43mjson\u001b[49m\u001b[43m,\u001b[49m\u001b[43m \u001b[49m\u001b[43mprecise_float\u001b[49m\u001b[38;5;241;43m=\u001b[39;49m\u001b[38;5;28;43mself\u001b[39;49m\u001b[38;5;241;43m.\u001b[39;49m\u001b[43mprecise_float\u001b[49m\u001b[43m)\u001b[49m\u001b[43m,\u001b[49m\u001b[43m \u001b[49m\u001b[43mdtype\u001b[49m\u001b[38;5;241;43m=\u001b[39;49m\u001b[38;5;28;43;01mNone\u001b[39;49;00m\n\u001b[0;32m   1404\u001b[0m \u001b[43m    \u001b[49m\u001b[43m)\u001b[49m\n\u001b[0;32m   1405\u001b[0m \u001b[38;5;28;01melif\u001b[39;00m orient \u001b[38;5;241m==\u001b[39m \u001b[38;5;124m\"\u001b[39m\u001b[38;5;124msplit\u001b[39m\u001b[38;5;124m\"\u001b[39m:\n\u001b[0;32m   1406\u001b[0m     decoded \u001b[38;5;241m=\u001b[39m {\n\u001b[0;32m   1407\u001b[0m         \u001b[38;5;28mstr\u001b[39m(k): v\n\u001b[0;32m   1408\u001b[0m         \u001b[38;5;28;01mfor\u001b[39;00m k, v \u001b[38;5;129;01min\u001b[39;00m ujson_loads(json, precise_float\u001b[38;5;241m=\u001b[39m\u001b[38;5;28mself\u001b[39m\u001b[38;5;241m.\u001b[39mprecise_float)\u001b[38;5;241m.\u001b[39mitems()\n\u001b[0;32m   1409\u001b[0m     }\n",
      "File \u001b[1;32m~\\AppData\\Roaming\\Python\\Python312\\site-packages\\pandas\\core\\frame.py:778\u001b[0m, in \u001b[0;36mDataFrame.__init__\u001b[1;34m(self, data, index, columns, dtype, copy)\u001b[0m\n\u001b[0;32m    772\u001b[0m     mgr \u001b[38;5;241m=\u001b[39m \u001b[38;5;28mself\u001b[39m\u001b[38;5;241m.\u001b[39m_init_mgr(\n\u001b[0;32m    773\u001b[0m         data, axes\u001b[38;5;241m=\u001b[39m{\u001b[38;5;124m\"\u001b[39m\u001b[38;5;124mindex\u001b[39m\u001b[38;5;124m\"\u001b[39m: index, \u001b[38;5;124m\"\u001b[39m\u001b[38;5;124mcolumns\u001b[39m\u001b[38;5;124m\"\u001b[39m: columns}, dtype\u001b[38;5;241m=\u001b[39mdtype, copy\u001b[38;5;241m=\u001b[39mcopy\n\u001b[0;32m    774\u001b[0m     )\n\u001b[0;32m    776\u001b[0m \u001b[38;5;28;01melif\u001b[39;00m \u001b[38;5;28misinstance\u001b[39m(data, \u001b[38;5;28mdict\u001b[39m):\n\u001b[0;32m    777\u001b[0m     \u001b[38;5;66;03m# GH#38939 de facto copy defaults to False only in non-dict cases\u001b[39;00m\n\u001b[1;32m--> 778\u001b[0m     mgr \u001b[38;5;241m=\u001b[39m \u001b[43mdict_to_mgr\u001b[49m\u001b[43m(\u001b[49m\u001b[43mdata\u001b[49m\u001b[43m,\u001b[49m\u001b[43m \u001b[49m\u001b[43mindex\u001b[49m\u001b[43m,\u001b[49m\u001b[43m \u001b[49m\u001b[43mcolumns\u001b[49m\u001b[43m,\u001b[49m\u001b[43m \u001b[49m\u001b[43mdtype\u001b[49m\u001b[38;5;241;43m=\u001b[39;49m\u001b[43mdtype\u001b[49m\u001b[43m,\u001b[49m\u001b[43m \u001b[49m\u001b[43mcopy\u001b[49m\u001b[38;5;241;43m=\u001b[39;49m\u001b[43mcopy\u001b[49m\u001b[43m,\u001b[49m\u001b[43m \u001b[49m\u001b[43mtyp\u001b[49m\u001b[38;5;241;43m=\u001b[39;49m\u001b[43mmanager\u001b[49m\u001b[43m)\u001b[49m\n\u001b[0;32m    779\u001b[0m \u001b[38;5;28;01melif\u001b[39;00m \u001b[38;5;28misinstance\u001b[39m(data, ma\u001b[38;5;241m.\u001b[39mMaskedArray):\n\u001b[0;32m    780\u001b[0m     \u001b[38;5;28;01mfrom\u001b[39;00m \u001b[38;5;21;01mnumpy\u001b[39;00m\u001b[38;5;21;01m.\u001b[39;00m\u001b[38;5;21;01mma\u001b[39;00m \u001b[38;5;28;01mimport\u001b[39;00m mrecords\n",
      "File \u001b[1;32m~\\AppData\\Roaming\\Python\\Python312\\site-packages\\pandas\\core\\internals\\construction.py:503\u001b[0m, in \u001b[0;36mdict_to_mgr\u001b[1;34m(data, index, columns, dtype, typ, copy)\u001b[0m\n\u001b[0;32m    499\u001b[0m     \u001b[38;5;28;01melse\u001b[39;00m:\n\u001b[0;32m    500\u001b[0m         \u001b[38;5;66;03m# dtype check to exclude e.g. range objects, scalars\u001b[39;00m\n\u001b[0;32m    501\u001b[0m         arrays \u001b[38;5;241m=\u001b[39m [x\u001b[38;5;241m.\u001b[39mcopy() \u001b[38;5;28;01mif\u001b[39;00m \u001b[38;5;28mhasattr\u001b[39m(x, \u001b[38;5;124m\"\u001b[39m\u001b[38;5;124mdtype\u001b[39m\u001b[38;5;124m\"\u001b[39m) \u001b[38;5;28;01melse\u001b[39;00m x \u001b[38;5;28;01mfor\u001b[39;00m x \u001b[38;5;129;01min\u001b[39;00m arrays]\n\u001b[1;32m--> 503\u001b[0m \u001b[38;5;28;01mreturn\u001b[39;00m \u001b[43marrays_to_mgr\u001b[49m\u001b[43m(\u001b[49m\u001b[43marrays\u001b[49m\u001b[43m,\u001b[49m\u001b[43m \u001b[49m\u001b[43mcolumns\u001b[49m\u001b[43m,\u001b[49m\u001b[43m \u001b[49m\u001b[43mindex\u001b[49m\u001b[43m,\u001b[49m\u001b[43m \u001b[49m\u001b[43mdtype\u001b[49m\u001b[38;5;241;43m=\u001b[39;49m\u001b[43mdtype\u001b[49m\u001b[43m,\u001b[49m\u001b[43m \u001b[49m\u001b[43mtyp\u001b[49m\u001b[38;5;241;43m=\u001b[39;49m\u001b[43mtyp\u001b[49m\u001b[43m,\u001b[49m\u001b[43m \u001b[49m\u001b[43mconsolidate\u001b[49m\u001b[38;5;241;43m=\u001b[39;49m\u001b[43mcopy\u001b[49m\u001b[43m)\u001b[49m\n",
      "File \u001b[1;32m~\\AppData\\Roaming\\Python\\Python312\\site-packages\\pandas\\core\\internals\\construction.py:114\u001b[0m, in \u001b[0;36marrays_to_mgr\u001b[1;34m(arrays, columns, index, dtype, verify_integrity, typ, consolidate)\u001b[0m\n\u001b[0;32m    111\u001b[0m \u001b[38;5;28;01mif\u001b[39;00m verify_integrity:\n\u001b[0;32m    112\u001b[0m     \u001b[38;5;66;03m# figure out the index, if necessary\u001b[39;00m\n\u001b[0;32m    113\u001b[0m     \u001b[38;5;28;01mif\u001b[39;00m index \u001b[38;5;129;01mis\u001b[39;00m \u001b[38;5;28;01mNone\u001b[39;00m:\n\u001b[1;32m--> 114\u001b[0m         index \u001b[38;5;241m=\u001b[39m \u001b[43m_extract_index\u001b[49m\u001b[43m(\u001b[49m\u001b[43marrays\u001b[49m\u001b[43m)\u001b[49m\n\u001b[0;32m    115\u001b[0m     \u001b[38;5;28;01melse\u001b[39;00m:\n\u001b[0;32m    116\u001b[0m         index \u001b[38;5;241m=\u001b[39m ensure_index(index)\n",
      "File \u001b[1;32m~\\AppData\\Roaming\\Python\\Python312\\site-packages\\pandas\\core\\internals\\construction.py:667\u001b[0m, in \u001b[0;36m_extract_index\u001b[1;34m(data)\u001b[0m\n\u001b[0;32m    664\u001b[0m         \u001b[38;5;28;01mraise\u001b[39;00m \u001b[38;5;167;01mValueError\u001b[39;00m(\u001b[38;5;124m\"\u001b[39m\u001b[38;5;124mPer-column arrays must each be 1-dimensional\u001b[39m\u001b[38;5;124m\"\u001b[39m)\n\u001b[0;32m    666\u001b[0m \u001b[38;5;28;01mif\u001b[39;00m \u001b[38;5;129;01mnot\u001b[39;00m indexes \u001b[38;5;129;01mand\u001b[39;00m \u001b[38;5;129;01mnot\u001b[39;00m raw_lengths:\n\u001b[1;32m--> 667\u001b[0m     \u001b[38;5;28;01mraise\u001b[39;00m \u001b[38;5;167;01mValueError\u001b[39;00m(\u001b[38;5;124m\"\u001b[39m\u001b[38;5;124mIf using all scalar values, you must pass an index\u001b[39m\u001b[38;5;124m\"\u001b[39m)\n\u001b[0;32m    669\u001b[0m \u001b[38;5;28;01mif\u001b[39;00m have_series:\n\u001b[0;32m    670\u001b[0m     index \u001b[38;5;241m=\u001b[39m union_indexes(indexes)\n",
      "\u001b[1;31mValueError\u001b[0m: If using all scalar values, you must pass an index"
     ]
    }
   ],
   "source": [
    "df = pd.read_json('data1.json')\n",
    "print(df)"
   ]
  },
  {
   "cell_type": "code",
   "execution_count": null,
   "metadata": {},
   "outputs": [],
   "source": []
  }
 ],
 "metadata": {
  "kernelspec": {
   "display_name": "Python 3",
   "language": "python",
   "name": "python3"
  },
  "language_info": {
   "codemirror_mode": {
    "name": "ipython",
    "version": 3
   },
   "file_extension": ".py",
   "mimetype": "text/x-python",
   "name": "python",
   "nbconvert_exporter": "python",
   "pygments_lexer": "ipython3",
   "version": "3.12.3"
  }
 },
 "nbformat": 4,
 "nbformat_minor": 2
}
