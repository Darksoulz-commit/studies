{
 "cells": [
  {
   "cell_type": "code",
   "execution_count": 1,
   "metadata": {},
   "outputs": [
    {
     "name": "stdout",
     "output_type": "stream",
     "text": [
      "[]\n"
     ]
    }
   ],
   "source": [
    "#regex\n",
    "#findall\n",
    "\n",
    "import re\n",
    "\n",
    "txt = \"The rain in spain\"\n",
    "x = re.findall('Portugal', txt)\n",
    "print(x)"
   ]
  },
  {
   "cell_type": "code",
   "execution_count": 2,
   "metadata": {},
   "outputs": [
    {
     "name": "stdout",
     "output_type": "stream",
     "text": [
      "true\n"
     ]
    }
   ],
   "source": [
    "#search \n",
    "\n",
    "import re\n",
    "\n",
    "txt = \"The rain in rain\"\n",
    "x = re.search(\"rain\", txt)\n",
    "\n",
    "if x:\n",
    "    print(\"true\")\n",
    "else:\n",
    "    print(\"false\")"
   ]
  },
  {
   "cell_type": "code",
   "execution_count": 7,
   "metadata": {},
   "outputs": [
    {
     "name": "stdout",
     "output_type": "stream",
     "text": [
      "['The', 'rain', 'in', 'Spain']\n"
     ]
    }
   ],
   "source": [
    "#spilt\n",
    "\n",
    "import re \n",
    "\n",
    "txt = \"The rain in Spain\"\n",
    "x = re.split(r\"\\s\", txt)\n",
    "print(x)"
   ]
  },
  {
   "cell_type": "code",
   "execution_count": 6,
   "metadata": {},
   "outputs": [
    {
     "name": "stdout",
     "output_type": "stream",
     "text": [
      "['The', 'rain', 'in Spain']\n"
     ]
    }
   ],
   "source": [
    "#spilt\n",
    "\n",
    "import re \n",
    "\n",
    "txt = \"The rain in Spain\"\n",
    "x = re.split(r\"\\s\", txt,2)\n",
    "print(x)"
   ]
  },
  {
   "cell_type": "code",
   "execution_count": 5,
   "metadata": {},
   "outputs": [
    {
     "name": "stdout",
     "output_type": "stream",
     "text": [
      "There rain in spain\n"
     ]
    }
   ],
   "source": [
    "#sub\n",
    "\n",
    "import re\n",
    "\n",
    "txt = \"The rain in spain\"\n",
    "x=re.sub(\"The\", \"There\", txt)\n",
    "print(x)"
   ]
  },
  {
   "cell_type": "code",
   "execution_count": 11,
   "metadata": {},
   "outputs": [
    {
     "name": "stdout",
     "output_type": "stream",
     "text": [
      "true\n"
     ]
    }
   ],
   "source": [
    "#match\n",
    "import re\n",
    "\n",
    "id = \"MCAL16001\"\n",
    "\n",
    "pattern = r'^[A-Z]{4}[0-9]{2}[0-9]{3}$'\n",
    "\n",
    "\n",
    "#check if ID  number matches\n",
    "\n",
    "if re.match(pattern, id):\n",
    "    print(\"true\")\n",
    "else:\n",
    "    print(\"false\")"
   ]
  },
  {
   "cell_type": "code",
   "execution_count": 49,
   "metadata": {},
   "outputs": [
    {
     "name": "stdout",
     "output_type": "stream",
     "text": [
      "true\n"
     ]
    }
   ],
   "source": [
    "#match\n",
    "import re\n",
    "\n",
    "id = \"mateo@gmail.com\"\n",
    "\n",
    "pattern = r'[A-Za-z0-9._]+@[a-z]+\\.[a-z]{2,}'\n",
    "\n",
    "\n",
    "#check if ID  number matches\n",
    "\n",
    "if re.match(pattern, id):\n",
    "    print(\"true\")\n",
    "else:\n",
    "    print(\"false\")"
   ]
  },
  {
   "cell_type": "code",
   "execution_count": 48,
   "metadata": {},
   "outputs": [
    {
     "name": "stdout",
     "output_type": "stream",
     "text": [
      "true\n"
     ]
    }
   ],
   "source": [
    "#match valid phn number\n",
    "import re\n",
    "\n",
    "num = '9566331120'\n",
    "\n",
    "\n",
    "pattern = r'^[89][0-9]'\n",
    "\n",
    "\n",
    "if re.match(pattern, num):\n",
    "    print(\"true\")\n",
    "else:\n",
    "    print(\"false\")"
   ]
  },
  {
   "cell_type": "code",
   "execution_count": 54,
   "metadata": {},
   "outputs": [
    {
     "name": "stdout",
     "output_type": "stream",
     "text": [
      "Vaild\n"
     ]
    }
   ],
   "source": [
    "#valid Aadhar\n",
    "\n",
    "import re\n",
    "\n",
    "n = str(input(\"Enter aadhar num: \"))\n",
    "\n",
    "pattern = r'^[[1-9]{4} [0-9]{4} [0-9]{4}]'\n",
    "\n",
    "if (pattern, n):\n",
    "    print(\"Vaild\")\n",
    "else:\n",
    "    print(\"Invalid\")"
   ]
  },
  {
   "cell_type": "code",
   "execution_count": 65,
   "metadata": {},
   "outputs": [
    {
     "name": "stdout",
     "output_type": "stream",
     "text": [
      "Invalid\n"
     ]
    }
   ],
   "source": [
    "#valid ip\n",
    "\n",
    "import re\n",
    "\n",
    "n = input(\"Enter aadhar num: \")\n",
    "\n",
    "#pattern = r'^[[1-9]{3}+\\.[0-9]+\\. [0-9]+\\. [0-9]'\n",
    "pattern = r'^((25[0-5]|2[0-4][0-9]|[01]?[0-9][0-9]?)\\.){3}(25[0-5]|2[0-4][0-9]|[01]?[0-9][0-9]?)$'\n",
    "\n",
    "\n",
    "if re.match(pattern, n):\n",
    "    print(\"Vaild\")\n",
    "else:\n",
    "    print(\"Invalid\")"
   ]
  },
  {
   "cell_type": "code",
   "execution_count": 72,
   "metadata": {},
   "outputs": [
    {
     "data": {
      "text/plain": [
       "[3.14, 12.56, 28.26, 50.24]"
      ]
     },
     "execution_count": 72,
     "metadata": {},
     "output_type": "execute_result"
    }
   ],
   "source": [
    "#map(func,data)\n",
    "r =[1,2,3,4]\n",
    "m = list(map(lambda a:3.14*a**2,r))\n",
    "m "
   ]
  },
  {
   "cell_type": "code",
   "execution_count": 75,
   "metadata": {},
   "outputs": [
    {
     "data": {
      "text/plain": [
       "['APPLE', 'ORANGE']"
      ]
     },
     "execution_count": 75,
     "metadata": {},
     "output_type": "execute_result"
    }
   ],
   "source": [
    "l = ['apple', 'orange']\n",
    "\n",
    "m =list( map(lambda a:a.upper(),l ))\n",
    "m"
   ]
  },
  {
   "cell_type": "code",
   "execution_count": 76,
   "metadata": {},
   "outputs": [
    {
     "data": {
      "text/plain": [
       "[86.0, 100.4, 82.4]"
      ]
     },
     "execution_count": 76,
     "metadata": {},
     "output_type": "execute_result"
    }
   ],
   "source": [
    "r =[30,38,28]\n",
    "\n",
    "f = list(map(lambda s: (s*9/5)+32, r))\n",
    "f"
   ]
  },
  {
   "cell_type": "code",
   "execution_count": 77,
   "metadata": {},
   "outputs": [
    {
     "data": {
      "text/plain": [
       "[6, 1, 4]"
      ]
     },
     "execution_count": 77,
     "metadata": {},
     "output_type": "execute_result"
    }
   ],
   "source": [
    "lis = ['python', 'c', 'html']\n",
    "\n",
    "c = list(map(lambda x: len(x), lis))\n",
    "c"
   ]
  },
  {
   "cell_type": "code",
   "execution_count": 79,
   "metadata": {},
   "outputs": [
    {
     "data": {
      "text/plain": [
       "['odd', 'even', 'odd', 'even', 'odd']"
      ]
     },
     "execution_count": 79,
     "metadata": {},
     "output_type": "execute_result"
    }
   ],
   "source": [
    "r = [1,2,3,4,5]\n",
    "\n",
    "c = list(map(lambda x: 'even' if x%2==0 else 'odd', r))\n",
    "c"
   ]
  },
  {
   "cell_type": "code",
   "execution_count": 83,
   "metadata": {},
   "outputs": [
    {
     "data": {
      "text/plain": [
       "['chennai', 'kerala', 'Mumbai']"
      ]
     },
     "execution_count": 83,
     "metadata": {},
     "output_type": "execute_result"
    }
   ],
   "source": [
    "city = [\"chennai\", \"kerala\", \"Mumbai\", \"TN\"]\n",
    "\n",
    "m = list(filter(lambda x: len(x)>= 4, city))\n",
    "m"
   ]
  },
  {
   "cell_type": "code",
   "execution_count": 87,
   "metadata": {},
   "outputs": [
    {
     "data": {
      "text/plain": [
       "{'apple', 'banana'}"
      ]
     },
     "execution_count": 87,
     "metadata": {},
     "output_type": "execute_result"
    }
   ],
   "source": [
    "fruit = [\"apple\", \"banana\", \"kiwi\", \"cherry\",\"apple\"]\n",
    "\n",
    "m = set(filter(lambda x: 'a' in x, fruit))\n",
    "\n",
    "\n",
    "m"
   ]
  },
  {
   "cell_type": "code",
   "execution_count": 97,
   "metadata": {},
   "outputs": [
    {
     "data": {
      "text/plain": [
       "['123', '233']"
      ]
     },
     "execution_count": 97,
     "metadata": {},
     "output_type": "execute_result"
    }
   ],
   "source": [
    "str = [\"abc123\", \"def233\"]\n",
    "\n",
    "n = list(map(lambda x: ''.join(filter(lambda str: str.isdigit(), x)), str))\n",
    "n"
   ]
  },
  {
   "cell_type": "code",
   "execution_count": 104,
   "metadata": {},
   "outputs": [
    {
     "data": {
      "text/plain": [
       "1"
      ]
     },
     "execution_count": 104,
     "metadata": {},
     "output_type": "execute_result"
    }
   ],
   "source": [
    "#reduce (func,data)\n",
    "from functools import reduce\n",
    "\n",
    "lis = [1,2,3,4]\n",
    "\n",
    "l = reduce(lambda x,y: x**y , lis)\n",
    "\n",
    "l"
   ]
  },
  {
   "cell_type": "code",
   "execution_count": 108,
   "metadata": {},
   "outputs": [
    {
     "name": "stdout",
     "output_type": "stream",
     "text": [
      "{'shake_128', 'sha256', 'sha384', 'blake2s', 'shake_256', 'sha3_256', 'sha512', 'sha3_512', 'sha224', 'blake2b', 'sha3_384', 'md5', 'sha3_224', 'sha1'}\n"
     ]
    }
   ],
   "source": [
    "import hashlib\n",
    "\n",
    "#print (hashlib.algorithms_available)\n",
    "print(hashlib.algorithms_guaranteed)"
   ]
  },
  {
   "cell_type": "code",
   "execution_count": 109,
   "metadata": {},
   "outputs": [
    {
     "name": "stdout",
     "output_type": "stream",
     "text": [
      "b'\\xbax\\x16\\xbf\\x8f\\x01\\xcf\\xeaAA@\\xde]\\xae\"#\\xb0\\x03a\\xa3\\x96\\x17z\\x9c\\xb4\\x10\\xffa\\xf2\\x00\\x15\\xad'\n",
      "ba7816bf8f01cfea414140de5dae2223b00361a396177a9cb410ff61f20015ad\n"
     ]
    }
   ],
   "source": [
    "h= hashlib.new(\"sha256\")\n",
    "h.update(b\"abc\")\n",
    "print(h.digest())\n",
    "print(h.hexdigest())"
   ]
  },
  {
   "cell_type": "code",
   "execution_count": 110,
   "metadata": {},
   "outputs": [
    {
     "name": "stdout",
     "output_type": "stream",
     "text": [
      "5e884898da28047151d0e56f8dc6292773603d0d6aabbdd62a11ef721d1542d8\n"
     ]
    }
   ],
   "source": [
    "h=hashlib.new(\"sha256\")\n",
    "crt_pas = \"password\"\n",
    "h.update(crt_pas.encode())\n",
    "pass_hash = h.hexdigest()\n",
    "print(pass_hash)\n"
   ]
  },
  {
   "cell_type": "code",
   "execution_count": 111,
   "metadata": {},
   "outputs": [
    {
     "data": {
      "text/plain": [
       "5.0"
      ]
     },
     "execution_count": 111,
     "metadata": {},
     "output_type": "execute_result"
    }
   ],
   "source": [
    "import math\n",
    "\n",
    "sq = math.sqrt(25)\n",
    "sq"
   ]
  },
  {
   "cell_type": "code",
   "execution_count": 112,
   "metadata": {},
   "outputs": [
    {
     "data": {
      "text/plain": [
       "24"
      ]
     },
     "execution_count": 112,
     "metadata": {},
     "output_type": "execute_result"
    }
   ],
   "source": [
    "import math\n",
    "\n",
    "f = math.factorial(4)\n",
    "f"
   ]
  },
  {
   "cell_type": "code",
   "execution_count": 113,
   "metadata": {},
   "outputs": [
    {
     "data": {
      "text/plain": [
       "8.0"
      ]
     },
     "execution_count": 113,
     "metadata": {},
     "output_type": "execute_result"
    }
   ],
   "source": [
    "import math\n",
    "\n",
    "c= math.pow(2,3)\n",
    "c"
   ]
  },
  {
   "cell_type": "code",
   "execution_count": 115,
   "metadata": {},
   "outputs": [
    {
     "data": {
      "text/plain": [
       "3.141592653589793"
      ]
     },
     "execution_count": 115,
     "metadata": {},
     "output_type": "execute_result"
    }
   ],
   "source": [
    "import math\n",
    "\n",
    "cu = math.pi\n",
    "cu"
   ]
  },
  {
   "cell_type": "code",
   "execution_count": 116,
   "metadata": {},
   "outputs": [
    {
     "data": {
      "text/plain": [
       "2291.831180523293"
      ]
     },
     "execution_count": 116,
     "metadata": {},
     "output_type": "execute_result"
    }
   ],
   "source": [
    "import math\n",
    "\n",
    "d = math.degrees(40)\n",
    "d"
   ]
  },
  {
   "cell_type": "code",
   "execution_count": 117,
   "metadata": {},
   "outputs": [],
   "source": [
    "from datetime import datetime\n",
    "from datetime import timedelta"
   ]
  },
  {
   "cell_type": "code",
   "execution_count": 185,
   "metadata": {},
   "outputs": [
    {
     "name": "stdout",
     "output_type": "stream",
     "text": [
      "2024-12-30 13:49:00.932214\n"
     ]
    }
   ],
   "source": [
    "now = datetime.now()\n",
    "print(now)"
   ]
  },
  {
   "cell_type": "code",
   "execution_count": 187,
   "metadata": {},
   "outputs": [
    {
     "name": "stdout",
     "output_type": "stream",
     "text": [
      "2011-06-09 00:00:00\n"
     ]
    }
   ],
   "source": [
    "import datetime\n",
    "\n",
    "d = datetime.datetime.strptime('2011-06-09', '%Y-%m-%d')\n",
    "d.strftime(\"%m%Y%d\")\n",
    "print(d)"
   ]
  },
  {
   "cell_type": "code",
   "execution_count": 188,
   "metadata": {},
   "outputs": [
    {
     "name": "stdout",
     "output_type": "stream",
     "text": [
      "<class 'str'>\n",
      "c:\\Users\\naveen.s8\\Documents\\Python\n"
     ]
    }
   ],
   "source": [
    "#OS\n",
    "\n",
    "import os\n",
    "\n",
    "a=os.getcwd()\n",
    "\n",
    "print(type(a))\n",
    "print(a)"
   ]
  },
  {
   "cell_type": "code",
   "execution_count": 190,
   "metadata": {},
   "outputs": [
    {
     "name": "stdout",
     "output_type": "stream",
     "text": [
      "['day1.ipynb', 'day2.ipynb', 'day3.ipynb', 'practice.py']\n"
     ]
    }
   ],
   "source": [
    "#os.chdir('d:/files')\n",
    "#print(os.getcwd())\n",
    "print(os.listdir())"
   ]
  },
  {
   "cell_type": "code",
   "execution_count": 195,
   "metadata": {},
   "outputs": [
    {
     "name": "stdout",
     "output_type": "stream",
     "text": [
      "ui3-9U^S\n"
     ]
    }
   ],
   "source": [
    "import random\n",
    "import string\n",
    "\n",
    "password_chars = (\n",
    "random.choices(string.ascii_letters, k=4) +\n",
    "random.choices(string.digits, k=2) +\n",
    "random.choices(string.punctuation, k=2)\n",
    "        )\n",
    "        \n",
    "random.shuffle(password_chars)\n",
    "        \n",
    "print( ''.join(password_chars))\n",
    "\n",
    "\n"
   ]
  },
  {
   "cell_type": "code",
   "execution_count": 1,
   "metadata": {},
   "outputs": [
    {
     "name": "stdout",
     "output_type": "stream",
     "text": [
      "10\n",
      "5\n"
     ]
    }
   ],
   "source": [
    "from custom.test1 import add\n",
    "from custom.test2 import sub\n",
    "\n",
    "print(add(5,5))\n",
    "print(sub(10,5))"
   ]
  },
  {
   "cell_type": "code",
   "execution_count": 2,
   "metadata": {},
   "outputs": [
    {
     "name": "stdout",
     "output_type": "stream",
     "text": [
      "3\n"
     ]
    }
   ],
   "source": [
    "import statistics\n",
    "\n",
    "l=[1,2,3,4,5]\n",
    "m=statistics.mean(l)\n",
    "print(m)"
   ]
  },
  {
   "cell_type": "code",
   "execution_count": 3,
   "metadata": {},
   "outputs": [
    {
     "name": "stdout",
     "output_type": "stream",
     "text": [
      "34\n"
     ]
    }
   ],
   "source": [
    "import statistics\n",
    "\n",
    "l=[12,34,45,24,55]\n",
    "m=statistics.median(l)\n",
    "print(m)"
   ]
  },
  {
   "cell_type": "code",
   "execution_count": 4,
   "metadata": {},
   "outputs": [
    {
     "name": "stdout",
     "output_type": "stream",
     "text": [
      "Defaulting to user installation because normal site-packages is not writeableNote: you may need to restart the kernel to use updated packages.\n",
      "\n",
      "Collecting pandas\n",
      "  Downloading pandas-2.2.3-cp312-cp312-win_amd64.whl.metadata (19 kB)\n",
      "Collecting numpy>=1.26.0 (from pandas)\n",
      "  Downloading numpy-2.2.1-cp312-cp312-win_amd64.whl.metadata (60 kB)\n",
      "     ---------------------------------------- 0.0/60.8 kB ? eta -:--:--\n",
      "     --------------------------------- ------ 51.2/60.8 kB ? eta -:--:--\n",
      "     -------------------------------------- 60.8/60.8 kB 544.1 kB/s eta 0:00:00\n",
      "Requirement already satisfied: python-dateutil>=2.8.2 in c:\\users\\naveen.s8\\appdata\\roaming\\python\\python312\\site-packages (from pandas) (2.9.0.post0)\n",
      "Collecting pytz>=2020.1 (from pandas)\n",
      "  Downloading pytz-2024.2-py2.py3-none-any.whl.metadata (22 kB)\n",
      "Collecting tzdata>=2022.7 (from pandas)\n",
      "  Downloading tzdata-2024.2-py2.py3-none-any.whl.metadata (1.4 kB)\n",
      "Requirement already satisfied: six>=1.5 in c:\\users\\naveen.s8\\appdata\\roaming\\python\\python312\\site-packages (from python-dateutil>=2.8.2->pandas) (1.17.0)\n",
      "Downloading pandas-2.2.3-cp312-cp312-win_amd64.whl (11.5 MB)\n",
      "   ---------------------------------------- 0.0/11.5 MB ? eta -:--:--\n",
      "   -- ------------------------------------- 0.7/11.5 MB 14.4 MB/s eta 0:00:01\n",
      "   ------ --------------------------------- 2.0/11.5 MB 21.1 MB/s eta 0:00:01\n",
      "   ----------- ---------------------------- 3.4/11.5 MB 31.0 MB/s eta 0:00:01\n",
      "   -------------------- ------------------- 5.8/11.5 MB 30.7 MB/s eta 0:00:01\n",
      "   -------------------------- ------------- 7.6/11.5 MB 32.2 MB/s eta 0:00:01\n",
      "   -------------------------------- ------- 9.5/11.5 MB 35.5 MB/s eta 0:00:01\n",
      "   ------------------------------------- -- 10.8/11.5 MB 36.4 MB/s eta 0:00:01\n",
      "   ---------------------------------------  11.5/11.5 MB 38.5 MB/s eta 0:00:01\n",
      "   ---------------------------------------  11.5/11.5 MB 38.5 MB/s eta 0:00:01\n",
      "   ---------------------------------------  11.5/11.5 MB 38.5 MB/s eta 0:00:01\n",
      "   ---------------------------------------  11.5/11.5 MB 38.5 MB/s eta 0:00:01\n",
      "   ---------------------------------------- 11.5/11.5 MB 23.3 MB/s eta 0:00:00\n",
      "Downloading numpy-2.2.1-cp312-cp312-win_amd64.whl (12.6 MB)\n",
      "   ---------------------------------------- 0.0/12.6 MB ? eta -:--:--\n",
      "   ----- ---------------------------------- 1.6/12.6 MB 35.6 MB/s eta 0:00:01\n",
      "   ------------ --------------------------- 4.1/12.6 MB 52.1 MB/s eta 0:00:01\n",
      "   -------------------- ------------------- 6.3/12.6 MB 50.7 MB/s eta 0:00:01\n",
      "   ----------------------- ---------------- 7.5/12.6 MB 44.1 MB/s eta 0:00:01\n",
      "   ----------------------------- ---------- 9.3/12.6 MB 42.5 MB/s eta 0:00:01\n",
      "   ----------------------------------- ---- 11.1/12.6 MB 40.9 MB/s eta 0:00:01\n",
      "   ---------------------------------------  12.6/12.6 MB 38.5 MB/s eta 0:00:01\n",
      "   ---------------------------------------  12.6/12.6 MB 38.5 MB/s eta 0:00:01\n",
      "   ---------------------------------------  12.6/12.6 MB 38.5 MB/s eta 0:00:01\n",
      "   ---------------------------------------  12.6/12.6 MB 38.5 MB/s eta 0:00:01\n",
      "   ---------------------------------------- 12.6/12.6 MB 24.2 MB/s eta 0:00:00\n",
      "Downloading pytz-2024.2-py2.py3-none-any.whl (508 kB)\n",
      "   ---------------------------------------- 0.0/508.0 kB ? eta -:--:--\n",
      "   --------------------------------------  501.8/508.0 kB 30.7 MB/s eta 0:00:01\n",
      "   ---------------------------------------- 508.0/508.0 kB 6.4 MB/s eta 0:00:00\n",
      "Downloading tzdata-2024.2-py2.py3-none-any.whl (346 kB)\n",
      "   ---------------------------------------- 0.0/346.6 kB ? eta -:--:--\n",
      "   --------------------------------------  337.9/346.6 kB 21.8 MB/s eta 0:00:01\n",
      "   ---------------------------------------- 346.6/346.6 kB 4.3 MB/s eta 0:00:00\n",
      "Installing collected packages: pytz, tzdata, numpy, pandas\n",
      "Successfully installed numpy-2.2.1 pandas-2.2.3 pytz-2024.2 tzdata-2024.2\n"
     ]
    },
    {
     "name": "stderr",
     "output_type": "stream",
     "text": [
      "\n",
      "[notice] A new release of pip is available: 24.0 -> 24.3.1\n",
      "[notice] To update, run: python.exe -m pip install --upgrade pip\n"
     ]
    }
   ],
   "source": [
    "pip install pandas"
   ]
  },
  {
   "cell_type": "code",
   "execution_count": 5,
   "metadata": {},
   "outputs": [
    {
     "name": "stdout",
     "output_type": "stream",
     "text": [
      "Defaulting to user installation because normal site-packages is not writeableNote: you may need to restart the kernel to use updated packages.\n",
      "\n"
     ]
    },
    {
     "name": "stderr",
     "output_type": "stream",
     "text": [
      "ERROR: Could not find a version that satisfies the requirement JSON (from versions: none)\n",
      "ERROR: No matching distribution found for JSON\n",
      "\n",
      "[notice] A new release of pip is available: 24.0 -> 24.3.1\n",
      "[notice] To update, run: python.exe -m pip install --upgrade pip\n"
     ]
    }
   ],
   "source": [
    "pip install JSON"
   ]
  }
 ],
 "metadata": {
  "kernelspec": {
   "display_name": "Python 3",
   "language": "python",
   "name": "python3"
  },
  "language_info": {
   "codemirror_mode": {
    "name": "ipython",
    "version": 3
   },
   "file_extension": ".py",
   "mimetype": "text/x-python",
   "name": "python",
   "nbconvert_exporter": "python",
   "pygments_lexer": "ipython3",
   "version": "3.12.3"
  }
 },
 "nbformat": 4,
 "nbformat_minor": 2
}
