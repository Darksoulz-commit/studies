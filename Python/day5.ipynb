{
 "cells": [
  {
   "cell_type": "code",
   "execution_count": null,
   "metadata": {},
   "outputs": [
    {
     "data": {
      "text/plain": [
       "hello\n"
      ]
     },
     "metadata": {},
     "output_type": "display_data"
    }
   ],
   "source": [
    "print (\"hello\")"
   ]
  },
  {
   "cell_type": "code",
   "execution_count": null,
   "metadata": {},
   "outputs": [
    {
     "data": {
      "text/plain": [
       "12\n"
      ]
     },
     "metadata": {},
     "output_type": "display_data"
    }
   ],
   "source": [
    "#class and object\n",
    "\n",
    "class calc:\n",
    "    def __init__ (self, a=10, b=2):\n",
    "        self.a = a\n",
    "        self.b = b\n",
    "    def add(self):\n",
    "        return self.a+ self.b\n",
    "\n",
    "\n",
    "obj = calc() #obj\n",
    "print(obj.add())\n"
   ]
  },
  {
   "cell_type": "code",
   "execution_count": null,
   "metadata": {},
   "outputs": [
    {
     "data": {
      "text/plain": [
       "[['max', 10], ['alex', 10]]\n"
      ]
     },
     "metadata": {},
     "output_type": "display_data"
    }
   ],
   "source": [
    "class student:\n",
    "    def __init__(self):\n",
    "        self.l = []\n",
    "     \n",
    "    \n",
    "    def getdata(self,name,age):\n",
    "        self.l.append([name,age])\n",
    "\n",
    "    def display(self):\n",
    "        print(self.l)\n",
    "\n",
    "    def removal(self,r):\n",
    "        for i in self.l:\n",
    "            if r in i:\n",
    "                self.l.remove(i)\n",
    "\n",
    "    def updated(self,oldv,newv):\n",
    "        for i in self.l:\n",
    "            if oldv in i:\n",
    "                ind = i.index(oldv)\n",
    "                i[ind] = newv\n",
    "\n",
    "s1 = student()\n",
    "\n",
    "for i in range(2):\n",
    "    name = input(\"Enter a user name\")\n",
    "    age = int(input(\"enter a age\"))\n",
    "    s1.getdata(name,age)\n",
    "\n",
    "s1.display()\n",
    "\n",
    "\n"
   ]
  },
  {
   "cell_type": "code",
   "execution_count": null,
   "metadata": {},
   "outputs": [
    {
     "data": {
      "text/plain": [
       "[['max', 10], ['alex', 12]]\n"
      ]
     },
     "metadata": {},
     "output_type": "display_data"
    }
   ],
   "source": [
    "s1.display()"
   ]
  },
  {
   "cell_type": "code",
   "execution_count": null,
   "metadata": {},
   "outputs": [],
   "source": [
    "s1.removal('alex')"
   ]
  },
  {
   "cell_type": "code",
   "execution_count": null,
   "metadata": {},
   "outputs": [
    {
     "data": {
      "text/plain": [
       "[['max', 20], ['alex', 20]]\n"
      ]
     },
     "metadata": {},
     "output_type": "display_data"
    }
   ],
   "source": [
    "s1.display()"
   ]
  },
  {
   "cell_type": "code",
   "execution_count": null,
   "metadata": {},
   "outputs": [],
   "source": [
    "s1.updated(10, 20)"
   ]
  },
  {
   "cell_type": "code",
   "execution_count": null,
   "metadata": {},
   "outputs": [
    {
     "data": {
      "text/plain": [
       "base\n",
       "derived\n"
      ]
     },
     "metadata": {},
     "output_type": "display_data"
    }
   ],
   "source": [
    "#inheritance\n",
    "\n",
    "#single\n",
    "\n",
    "class base():\n",
    "    a_name = 'base'\n",
    "\n",
    "class derived(base):\n",
    "    b_name = \"derived\"\n",
    "\n",
    "obj=derived()\n",
    "print(obj.a_name)\n",
    "print(obj.b_name) "
   ]
  },
  {
   "cell_type": "code",
   "execution_count": null,
   "metadata": {},
   "outputs": [
    {
     "data": {
      "text/plain": [
       "I am motor cycle\n",
       "general use: transportation\n",
       "racing\n"
      ]
     },
     "metadata": {},
     "output_type": "display_data"
    }
   ],
   "source": [
    "class Vehicle:\n",
    "    def general_usage(self):\n",
    "        print(\"general use: transportation\")\n",
    "\n",
    "class Car(Vehicle):\n",
    "    def __init__(self):\n",
    "        print(\"i am car\")\n",
    "        self.wheels = 4\n",
    "        self.has_root = True\n",
    "\n",
    "    def specific_usage(self):\n",
    "        #self.general_usage()\n",
    "        print(\"Specific use: commute to work, vacation with family\")\n",
    "    \n",
    "class MotorCycle(Vehicle):\n",
    "    def __init__(self):\n",
    "        print(\"I am motor cycle\")\n",
    "        self.wheels = 2\n",
    "        self.has_roof = False\n",
    "\n",
    "    def specific_usage(self):\n",
    "        self.general_usage()\n",
    "        print(\"racing\")\n",
    "\n",
    "obj = MotorCycle()\n",
    "obj.specific_usage()"
   ]
  },
  {
   "cell_type": "code",
   "execution_count": null,
   "metadata": {},
   "outputs": [
    {
     "data": {
      "text/plain": [
       "Animal __init__\n",
       "Dog init\n",
       "Lab\n",
       "Dog\n"
      ]
     },
     "metadata": {},
     "output_type": "display_data"
    }
   ],
   "source": [
    "#super key word\n",
    "\n",
    "class Animal:\n",
    "    def __init__(self,s):\n",
    "        self.s = s\n",
    "        print(\"Animal __init__\")\n",
    "\n",
    "class Dog(Animal):\n",
    "    def __init__(self,breed):\n",
    "        super().__init__(\"Dog\")\n",
    "        self.breed = breed\n",
    "        print(\"Dog init\")\n",
    "\n",
    "my_dog = Dog(\"Lab\")\n",
    "print(my_dog.breed)\n",
    "print(my_dog.s)\n",
    "        "
   ]
  },
  {
   "cell_type": "code",
   "execution_count": null,
   "metadata": {},
   "outputs": [
    {
     "data": {
      "text/plain": [
       "A initial\n",
       "B initial\n",
       "C inital\n"
      ]
     },
     "metadata": {},
     "output_type": "display_data"
    }
   ],
   "source": [
    "#example of superclass\n",
    "\n",
    "class A:\n",
    "    def __init__(self):\n",
    "        print(\"A initial\")\n",
    "\n",
    "class B(A):\n",
    "    def __init__(self):\n",
    "        super().__init__()\n",
    "        print(\"B initial\")\n",
    "\n",
    "class C(B):\n",
    "    def __init__(self):\n",
    "        super().__init__()\n",
    "        print(\"C inital\")\n",
    "\n",
    "c = C()"
   ]
  },
  {
   "cell_type": "code",
   "execution_count": null,
   "metadata": {},
   "outputs": [
    {
     "data": {
      "text/plain": [
       "John Doe\n",
       "30\n",
       "12345\n"
      ]
     },
     "metadata": {},
     "output_type": "display_data"
    }
   ],
   "source": [
    "class Person:\n",
    "    def __init__(self, name, age):\n",
    "        self.name = name\n",
    "        self.age = age\n",
    "\n",
    "class Employee(Person):\n",
    "    def __init__(self, name,age, emp_id):\n",
    "        super().__init__(name, age)\n",
    "        self.emp_id = emp_id\n",
    "\n",
    "emp = Employee(\"John Doe\",30,12345)\n",
    "print(emp.name)\n",
    "print(emp.age)\n",
    "print(emp.emp_id)"
   ]
  },
  {
   "cell_type": "code",
   "execution_count": null,
   "metadata": {},
   "outputs": [],
   "source": [
    "class A:\n",
    "    def _init_(self):\n",
    "        print(\"Inital A\")\n",
    "\n",
    "class B:\n",
    "    def _init_(self):\n",
    "        super()._init()\n",
    "        print(\"inital b\")\n",
    "\n",
    "class C(A):\n",
    "    def _init_(self):\n",
    "        super()._init_()\n",
    "        print(\"Inital C\")\n",
    "\n",
    "class D(B, C):\n",
    "    def _init_(self):\n",
    "        super()._init_()\n",
    "        print(\"Inital D\")\n",
    "\n",
    "#usage\n",
    "d = D()\n"
   ]
  },
  {
   "cell_type": "code",
   "execution_count": null,
   "metadata": {},
   "outputs": [
    {
     "data": {
      "text/plain": [
       "60\n",
       "600\n",
       "10\n"
      ]
     },
     "metadata": {},
     "output_type": "display_data"
    }
   ],
   "source": [
    "#polymorphism\n",
    "\n",
    "#method Overloading\n",
    "def sum(a=None,b=None,c=None):\n",
    "    if a!=None and b!=None and c!=None:\n",
    "        c = a+b+c\n",
    "    elif a!=None and b!=None:\n",
    "        c = a*b \n",
    "    else:\n",
    "        c =a \n",
    "    print(c)\n",
    "\n",
    "a = int(input(\"a =\"))\n",
    "sum(a,20,30)\n",
    "sum(20,30)\n",
    "sum(10)"
   ]
  },
  {
   "cell_type": "code",
   "execution_count": 4,
   "metadata": {},
   "outputs": [
    {
     "name": "stdout",
     "output_type": "stream",
     "text": [
      "6\n",
      "7.0\n",
      "29.439999999999998\n"
     ]
    }
   ],
   "source": [
    "from multipledispatch import dispatch #overloading\n",
    "\n",
    "@dispatch(int,int)\n",
    "def product(first,second):\n",
    "    result = first * second\n",
    "    print(result)\n",
    "\n",
    "@dispatch(int,int,float)\n",
    "def product(first,second,third):\n",
    "    result = first + second + third\n",
    "    print(result)\n",
    "\n",
    "\n",
    "@dispatch(float,float,int)\n",
    "def product(first,second,third):\n",
    "    result = first * second * third\n",
    "    print(result)\n",
    "\n",
    "product(2,3)\n",
    "product(2,3,2.0)\n",
    "product(2.3,3.2,4)"
   ]
  },
  {
   "cell_type": "code",
   "execution_count": 5,
   "metadata": {},
   "outputs": [
    {
     "name": "stdout",
     "output_type": "stream",
     "text": [
      "John\n",
      "John\n"
     ]
    }
   ],
   "source": [
    "class Public:\n",
    "    def __init__(self):\n",
    "        self.name = \"John\"  # Public attribute\n",
    "\n",
    "    def display_name(self):\n",
    "        print(self.name)  # Public method\n",
    "\n",
    "obj = Public()\n",
    "obj.display_name() \n",
    "print(obj.name)  \n"
   ]
  },
  {
   "cell_type": "code",
   "execution_count": 7,
   "metadata": {},
   "outputs": [
    {
     "data": {
      "text/plain": [
       "'poonamalle'"
      ]
     },
     "execution_count": 7,
     "metadata": {},
     "output_type": "execute_result"
    }
   ],
   "source": [
    "#private method and varible\n",
    "class base:\n",
    "    def __init__(self):\n",
    "        self._name = 'alice'\n",
    "        self.__add = 'poonamalle'\n",
    "    def display_age(self):\n",
    "        return self.__add\n",
    " \n",
    "class derived(base):\n",
    "    def display_age(self):\n",
    "        print(self._name)\n",
    " \n",
    "obj = base()\n",
    "obj.display_age()\n",
    " "
   ]
  },
  {
   "cell_type": "code",
   "execution_count": 17,
   "metadata": {},
   "outputs": [
    {
     "name": "stdout",
     "output_type": "stream",
     "text": [
      "I have 6 sides\n",
      "None\n"
     ]
    }
   ],
   "source": [
    "from abc import ABC, abstractmethod\n",
    "\n",
    "class Polygon(ABC):\n",
    "\n",
    "    @abstractmethod\n",
    "    def noofsides(self):\n",
    "        print(\"hello\")\n",
    "\n",
    "class Triangle(Polygon):\n",
    "    def noofsides(self):\n",
    "        print(\"I have 3 sides\")\n",
    "\n",
    "class Pentgon(Polygon):\n",
    "    def noofsides(self):\n",
    "        print(\"I have 5 sides\")\n",
    "\n",
    "class Hexagon(Polygon):\n",
    "    def noofsides(self):\n",
    "        print(\"I have 6 sides\")\n",
    "\n",
    "obj =Hexagon()\n",
    "print(obj.noofsides())\n"
   ]
  },
  {
   "cell_type": "code",
   "execution_count": 18,
   "metadata": {},
   "outputs": [
    {
     "name": "stdout",
     "output_type": "stream",
     "text": [
      "i have 3 sides\n"
     ]
    }
   ],
   "source": [
    "from abc import ABC,abstractmethod\n",
    " \n",
    "class polygon(ABC):\n",
    "    @abstractmethod\n",
    "    def noofside(self):\n",
    "        pass\n",
    " \n",
    "class triangle(polygon):\n",
    "    def noofside(self):\n",
    "        print(\"i have 3 sides\")\n",
    "    def area(self):\n",
    "        pass\n",
    "class pentagon(polygon):\n",
    "    def noofside(self):\n",
    "        print(\"i have 5 sides\")\n",
    "class hexagon(polygon):\n",
    "    def noofside(self):\n",
    "        print(\"i have 3 sides\")\n",
    "obj1 = triangle()\n",
    "obj1.noofside()"
   ]
  },
  {
   "cell_type": "code",
   "execution_count": 19,
   "metadata": {},
   "outputs": [
    {
     "name": "stdout",
     "output_type": "stream",
     "text": [
      "5\n",
      "deleting radius\n"
     ]
    }
   ],
   "source": [
    "#property\n",
    " \n",
    "class Circle:\n",
    "    def __init__(self,radius):\n",
    "        self._radius = radius #protected attribute\n",
    " \n",
    "        #getter method\n",
    "    def get_radius(self):\n",
    "        return self._radius\n",
    "    # setter method\n",
    " \n",
    "    def set_radius(self,value):\n",
    "        if value<0:\n",
    "            raise ValueError(\"radius cannot be negative\")\n",
    "        self._radius = value\n",
    " \n",
    "    #delete method\n",
    "    def del_radius(self):\n",
    "        print(\"deleting radius\")\n",
    "        del self._radius\n",
    " \n",
    "    radius = property(get_radius, set_radius, del_radius)\n",
    " \n",
    " \n",
    "#usage\n",
    "c=Circle(5)\n",
    "print(c.radius)\n",
    "c.radius=10\n",
    "del c.radius"
   ]
  },
  {
   "cell_type": "code",
   "execution_count": 24,
   "metadata": {},
   "outputs": [
    {
     "name": "stdout",
     "output_type": "stream",
     "text": [
      "i am car\n",
      "Specific use: commute to work, vacation with family\n",
      "I am motor cycle\n",
      "racing\n"
     ]
    }
   ],
   "source": [
    "from classes.test1 import Car\n",
    "from classes.test2 import MotorCycle\n",
    "\n",
    "obj1 = Car()\n",
    "obj1.specific_usage()\n",
    "\n",
    "obj2 = MotorCycle()\n",
    "obj2.specific_usage()"
   ]
  },
  {
   "cell_type": "code",
   "execution_count": null,
   "metadata": {},
   "outputs": [],
   "source": [
    "class student:\n",
    "    def "
   ]
  }
 ],
 "metadata": {
  "kernelspec": {
   "display_name": "Python 3",
   "language": "python",
   "name": "python3"
  },
  "language_info": {
   "codemirror_mode": {
    "name": "ipython",
    "version": 3
   },
   "file_extension": ".py",
   "mimetype": "text/x-python",
   "name": "python",
   "nbconvert_exporter": "python",
   "pygments_lexer": "ipython3",
   "version": "3.12.3"
  }
 },
 "nbformat": 4,
 "nbformat_minor": 2
}
