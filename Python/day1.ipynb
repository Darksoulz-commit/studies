{
 "cells": [
  {
   "cell_type": "code",
   "execution_count": 7,
   "metadata": {},
   "outputs": [
    {
     "name": "stdout",
     "output_type": "stream",
     "text": [
      "Hello World\n"
     ]
    }
   ],
   "source": [
    "print(\"Hello World\")"
   ]
  },
  {
   "cell_type": "code",
   "execution_count": 8,
   "metadata": {},
   "outputs": [
    {
     "name": "stdout",
     "output_type": "stream",
     "text": [
      "Hello World\n"
     ]
    }
   ],
   "source": [
    "print(\"Hello World\")"
   ]
  },
  {
   "cell_type": "code",
   "execution_count": 9,
   "metadata": {},
   "outputs": [
    {
     "data": {
      "text/plain": [
       "float"
      ]
     },
     "execution_count": 9,
     "metadata": {},
     "output_type": "execute_result"
    }
   ],
   "source": [
    "a=10\n",
    "b=4.4\n",
    "\n",
    "type(a)\n",
    "type(b)"
   ]
  },
  {
   "cell_type": "code",
   "execution_count": 13,
   "metadata": {},
   "outputs": [
    {
     "name": "stdout",
     "output_type": "stream",
     "text": [
      "<class 'int'>\n",
      "<class 'float'>\n"
     ]
    }
   ],
   "source": [
    "a=10\n",
    "b=4.4\n",
    "\n",
    "print(type(a))\n",
    "print(type(b))"
   ]
  },
  {
   "cell_type": "code",
   "execution_count": 19,
   "metadata": {},
   "outputs": [
    {
     "name": "stdout",
     "output_type": "stream",
     "text": [
      "the value of a is : 10\n"
     ]
    }
   ],
   "source": [
    "a=10\n",
    "print('the value of a is :',a )"
   ]
  },
  {
   "cell_type": "code",
   "execution_count": 20,
   "metadata": {},
   "outputs": [
    {
     "name": "stdout",
     "output_type": "stream",
     "text": [
      "1,2,3?"
     ]
    }
   ],
   "source": [
    "print(1,2,3, sep = \",\", end = '?')"
   ]
  },
  {
   "cell_type": "code",
   "execution_count": 23,
   "metadata": {},
   "outputs": [
    {
     "name": "stdout",
     "output_type": "stream",
     "text": [
      "10\n"
     ]
    }
   ],
   "source": [
    "#input\n",
    "\n",
    "a = input('enter a value: ')\n",
    "print(a)"
   ]
  },
  {
   "cell_type": "code",
   "execution_count": 24,
   "metadata": {},
   "outputs": [
    {
     "name": "stdout",
     "output_type": "stream",
     "text": [
      "'10'\n",
      "<class 'str'>\n"
     ]
    }
   ],
   "source": [
    "n = input('enter a value')\n",
    "print(n)\n",
    "print(type(n))"
   ]
  },
  {
   "cell_type": "code",
   "execution_count": 25,
   "metadata": {},
   "outputs": [
    {
     "name": "stdout",
     "output_type": "stream",
     "text": [
      "<class 'str'>\n"
     ]
    }
   ],
   "source": [
    "a=10\n",
    "s=str(a)\n",
    "print(type(s))"
   ]
  },
  {
   "cell_type": "code",
   "execution_count": 30,
   "metadata": {},
   "outputs": [
    {
     "name": "stdout",
     "output_type": "stream",
     "text": [
      "Negative\n"
     ]
    }
   ],
   "source": [
    "#conditional Operators\n",
    "\n",
    "#\n",
    "a = int(input(\"Enter a value\"))\n",
    "\n",
    "if a == 0 :\n",
    "    print(\"Zero\")\n",
    "elif a>0:\n",
    "    print(\"positive\")\n",
    "else:\n",
    "    print(\"Negative\")"
   ]
  },
  {
   "cell_type": "code",
   "execution_count": 31,
   "metadata": {},
   "outputs": [
    {
     "name": "stdout",
     "output_type": "stream",
     "text": [
      "2\n",
      "3\n",
      "4\n"
     ]
    }
   ],
   "source": [
    "#loops\n",
    "\n",
    "for i in range(2,5):\n",
    "    print(i)"
   ]
  },
  {
   "cell_type": "code",
   "execution_count": 33,
   "metadata": {},
   "outputs": [
    {
     "name": "stdout",
     "output_type": "stream",
     "text": [
      "1 2 3 4 \n",
      "2 4 6 8 \n",
      "3 6 9 12 \n",
      "4 8 12 16 \n"
     ]
    }
   ],
   "source": [
    "for i in range(1,5):\n",
    "    for j in range(1,5):\n",
    "        print(i*j, end = ' ')\n",
    "    print()"
   ]
  },
  {
   "cell_type": "code",
   "execution_count": 35,
   "metadata": {},
   "outputs": [
    {
     "name": "stdout",
     "output_type": "stream",
     "text": [
      "hello\n"
     ]
    }
   ],
   "source": [
    "for i in range(3):\n",
    "    print(\"hello\")\n",
    "else:\n",
    "    print(\"world\")"
   ]
  },
  {
   "cell_type": "code",
   "execution_count": 40,
   "metadata": {},
   "outputs": [
    {
     "name": "stdout",
     "output_type": "stream",
     "text": [
      "consonents\n",
      "vowels\n",
      "consonents\n",
      "vowels\n",
      "vowels\n",
      "consonents\n",
      "Vowels count 1\n",
      "consonents count 1\n"
     ]
    }
   ],
   "source": [
    "\n",
    "#find vowels and consonents in string\n",
    "\n",
    "str = input(\"Enter a string \")\n",
    "vcount = 0\n",
    "ccount = 0\n",
    "\n",
    "for i in str:\n",
    "    if(i == 'a' or i == 'e'or i == 'i'or i == 'o'or i == 'u' ):\n",
    "        vcount =+1\n",
    "    else:\n",
    "        ccount =+ 1\n",
    "\n",
    "print(\"Vowels count\" , vcount)\n",
    "print(\"consonents count\" , ccount)\n"
   ]
  },
  {
   "cell_type": "code",
   "execution_count": 43,
   "metadata": {},
   "outputs": [
    {
     "name": "stdout",
     "output_type": "stream",
     "text": [
      "0\n",
      "1\n",
      "2\n",
      "3\n",
      "4\n"
     ]
    }
   ],
   "source": [
    "a = 0\n",
    "while a<5:\n",
    "    print(a)\n",
    "    a = a+1"
   ]
  },
  {
   "cell_type": "code",
   "execution_count": null,
   "metadata": {},
   "outputs": [],
   "source": [
    "#data structures or data types\n",
    "\n",
    "#list - []\n",
    "#tuple - ()\n",
    "#set - {}\n",
    "#dict - {key:value}\n",
    "\n",
    "\n"
   ]
  },
  {
   "cell_type": "code",
   "execution_count": 46,
   "metadata": {},
   "outputs": [
    {
     "name": "stdout",
     "output_type": "stream",
     "text": [
      "[1, 2, 3, 2, 2, 4, 2]\n",
      "[2, 2, 2, 2]\n",
      "[1, 3, 4]\n"
     ]
    }
   ],
   "source": [
    "#list comprehension\n",
    "\n",
    "x1=[1,2,3,2,2,4,2]\n",
    "print(x1)\n",
    "\n",
    "\n",
    "x2 = [n for n in x1 if n ==2]\n",
    "\n",
    "print(x2)\n",
    "\n",
    "x3 = [n for n in x1 if n != 2]\n",
    "print(x3)"
   ]
  },
  {
   "cell_type": "code",
   "execution_count": 53,
   "metadata": {},
   "outputs": [
    {
     "name": "stdout",
     "output_type": "stream",
     "text": [
      "[0, 1, 1, 2, 3, 5, 8]\n"
     ]
    }
   ],
   "source": [
    "#fibonnaci\n",
    "\n",
    "n = 5\n",
    "list1 = [0,1]\n",
    "\n",
    "f = 0\n",
    "s = 1\n",
    "\n",
    "for i in range(n):\n",
    "    t = f+s\n",
    "    f = s\n",
    "    s = t\n",
    "    list1.append(t)\n",
    "\n",
    "print(list1)\n"
   ]
  },
  {
   "cell_type": "code",
   "execution_count": null,
   "metadata": {},
   "outputs": [],
   "source": []
  },
  {
   "cell_type": "code",
   "execution_count": 54,
   "metadata": {},
   "outputs": [
    {
     "data": {
      "text/plain": [
       "(1, 2, 3, 4, 5)"
      ]
     },
     "execution_count": 54,
     "metadata": {},
     "output_type": "execute_result"
    }
   ],
   "source": [
    "a = 1,2,3,4,5 #packing\n",
    "a"
   ]
  },
  {
   "cell_type": "code",
   "execution_count": 55,
   "metadata": {},
   "outputs": [
    {
     "data": {
      "text/plain": [
       "('name', 'age', 'dob')"
      ]
     },
     "execution_count": 55,
     "metadata": {},
     "output_type": "execute_result"
    }
   ],
   "source": [
    "a = ('name', 'age', 'dob') #unpacking\n",
    "a"
   ]
  },
  {
   "cell_type": "code",
   "execution_count": 58,
   "metadata": {},
   "outputs": [
    {
     "name": "stdout",
     "output_type": "stream",
     "text": [
      "['1', '2', '2']\n"
     ]
    }
   ],
   "source": [
    "li = []\n",
    "for i in range(3):\n",
    "    n = input('enter value:')\n",
    "    li.append(n)\n",
    "print(li)"
   ]
  },
  {
   "cell_type": "code",
   "execution_count": 62,
   "metadata": {},
   "outputs": [
    {
     "name": "stdout",
     "output_type": "stream",
     "text": [
      "[1, 2, 3]\n",
      "[1, 2, 3, 99]\n"
     ]
    }
   ],
   "source": [
    "import copy\n",
    "l=[1,2,3]\n",
    "m=copy.copy(l) #shallow copy\n",
    "m.append(99)\n",
    "\n",
    "print(l)\n",
    "print(m)"
   ]
  },
  {
   "cell_type": "code",
   "execution_count": 65,
   "metadata": {},
   "outputs": [
    {
     "name": "stdout",
     "output_type": "stream",
     "text": [
      "[1, 2, 3, [1, 2, 3]]\n",
      "[1, 2, 3, [1, 2, 999]]\n"
     ]
    }
   ],
   "source": [
    "import copy\n",
    "l=[1,2,3,[1,2,3]]\n",
    "m=copy.deepcopy(l) #deep copy\n",
    "\n",
    "m[3][2] = 999\n",
    "print(l)\n",
    "print(m)"
   ]
  },
  {
   "cell_type": "code",
   "execution_count": 66,
   "metadata": {},
   "outputs": [
    {
     "name": "stdout",
     "output_type": "stream",
     "text": [
      "<class 'set'>\n"
     ]
    }
   ],
   "source": [
    "#empty set - {}\n",
    "#without using set function , it cant create set function\n",
    "\n",
    "s = set()\n",
    "print(type(s))\n"
   ]
  },
  {
   "cell_type": "code",
   "execution_count": 67,
   "metadata": {},
   "outputs": [
    {
     "name": "stdout",
     "output_type": "stream",
     "text": [
      "{1, 2, 3, 4}\n"
     ]
    }
   ],
   "source": [
    "s = {1,2,3,4,2,3,1}\n",
    "print(s)"
   ]
  },
  {
   "cell_type": "code",
   "execution_count": 68,
   "metadata": {},
   "outputs": [
    {
     "name": "stdout",
     "output_type": "stream",
     "text": [
      "{1, 2, 3, 4, 44}\n"
     ]
    }
   ],
   "source": [
    "s.add(44)\n",
    "print(s)"
   ]
  },
  {
   "cell_type": "code",
   "execution_count": 70,
   "metadata": {},
   "outputs": [
    {
     "name": "stdout",
     "output_type": "stream",
     "text": [
      "{1, 2, 3, 4, 5, 6, 8, 9}\n",
      "{3, 4, 5, 6}\n",
      "{1, 2}\n",
      "{1, 2, 8, 9}\n"
     ]
    }
   ],
   "source": [
    "a = set()\n",
    "b = set()\n",
    "a={1,2,3,4,5,6}\n",
    "b={3,4,5,6,8,9}\n",
    " \n",
    "print(a | b)\n",
    "print(a & b)\n",
    "print(a-b)\n",
    "print(a^b)"
   ]
  },
  {
   "cell_type": "code",
   "execution_count": 74,
   "metadata": {},
   "outputs": [
    {
     "name": "stdout",
     "output_type": "stream",
     "text": [
      "[1100.0, 2200.0, 3300.0]\n"
     ]
    }
   ],
   "source": [
    "#create a list with 5 principle value\n",
    "\n",
    "l = [1000,2000,3000]\n",
    "r = 10\n",
    "n= 1\n",
    "k =[]\n",
    "for i in l:\n",
    "    s = i+(i*r*n/100)\n",
    "    k.append(s)\n",
    "\n",
    "print(k)\n"
   ]
  },
  {
   "cell_type": "code",
   "execution_count": 78,
   "metadata": {},
   "outputs": [
    {
     "name": "stdout",
     "output_type": "stream",
     "text": [
      "[1100.0, 2800.0, 5700.0]\n"
     ]
    }
   ],
   "source": [
    "\n",
    "l = [1000,2000,3000]\n",
    "r = [10,20,30]\n",
    "n = [1,2,3]\n",
    "k =[]\n",
    "for i in  range (len(l)):\n",
    "    s =l[i] +(l[i]*r[i]*n[i]/100)\n",
    "    k.append(s)\n",
    "\n",
    "print(k)"
   ]
  },
  {
   "cell_type": "code",
   "execution_count": 79,
   "metadata": {},
   "outputs": [
    {
     "data": {
      "text/plain": [
       "['Welcome', 'bro']"
      ]
     },
     "execution_count": 79,
     "metadata": {},
     "output_type": "execute_result"
    }
   ],
   "source": [
    "a= 'Welcome bro'\n",
    "b = a.split(' ')\n",
    "b"
   ]
  },
  {
   "cell_type": "code",
   "execution_count": 84,
   "metadata": {},
   "outputs": [
    {
     "data": {
      "text/plain": [
       "'Welcome, bro'"
      ]
     },
     "execution_count": 84,
     "metadata": {},
     "output_type": "execute_result"
    }
   ],
   "source": [
    "s = ', '.join(b)\n",
    "s"
   ]
  },
  {
   "cell_type": "code",
   "execution_count": 86,
   "metadata": {},
   "outputs": [
    {
     "data": {
      "text/plain": [
       "{'name': 'abc', 'age': 35, 'address': 'chennai'}"
      ]
     },
     "execution_count": 86,
     "metadata": {},
     "output_type": "execute_result"
    }
   ],
   "source": [
    "#dict{}\n",
    "d={'name' : 'abc', 'age' : 12}\n",
    "d['age'] = 35\n",
    "d['address'] = 'chennai'\n",
    "d"
   ]
  },
  {
   "cell_type": "code",
   "execution_count": 88,
   "metadata": {},
   "outputs": [
    {
     "data": {
      "text/plain": [
       "'abc'"
      ]
     },
     "execution_count": 88,
     "metadata": {},
     "output_type": "execute_result"
    }
   ],
   "source": [
    "d.pop('name')"
   ]
  },
  {
   "cell_type": "code",
   "execution_count": 89,
   "metadata": {},
   "outputs": [
    {
     "data": {
      "text/plain": [
       "{'name': \"naveen'\", 'age': '23', 'location': 'chennai'}"
      ]
     },
     "execution_count": 89,
     "metadata": {},
     "output_type": "execute_result"
    }
   ],
   "source": [
    "#user input\n",
    "\n",
    "a = {}\n",
    "for i in range(3):\n",
    "    k =input('K:')\n",
    "    v = input('v:')\n",
    "    a[k] = v\n",
    "\n",
    "a"
   ]
  },
  {
   "cell_type": "code",
   "execution_count": 101,
   "metadata": {},
   "outputs": [
    {
     "name": "stdout",
     "output_type": "stream",
     "text": [
      "dict_keys(['name'])\n",
      "dict_values(['Mateo'])\n"
     ]
    }
   ],
   "source": [
    "a = {}\n",
    "for i in range(1):\n",
    "    k =input('K:')\n",
    "    v = input('v:')\n",
    "    a[k] = v\n",
    "\n",
    "a.items()\n",
    "a.update({'name': 'Mateo'})\n",
    "print(a.keys())\n",
    "print(a.values())"
   ]
  },
  {
   "cell_type": "code",
   "execution_count": 102,
   "metadata": {},
   "outputs": [
    {
     "data": {
      "text/plain": [
       "{'name': 'Alex', 'age': '22'}"
      ]
     },
     "execution_count": 102,
     "metadata": {},
     "output_type": "execute_result"
    }
   ],
   "source": [
    "k = ['name', 'age']\n",
    "v = ['Alex', '22']\n",
    "\n",
    "a = dict(zip(k,v))\n",
    "\n",
    "#another method\n",
    "#d= {}\n",
    "#for i in range len((a)):\n",
    "#       d[b[i]] = a[i]\n",
    "\n",
    "a"
   ]
  },
  {
   "cell_type": "code",
   "execution_count": 103,
   "metadata": {},
   "outputs": [
    {
     "data": {
      "text/plain": [
       "{1: {'name': 'Alex', 'age': '22'}, 2: {'name': 'Mateo', 'age': '24'}}"
      ]
     },
     "execution_count": 103,
     "metadata": {},
     "output_type": "execute_result"
    }
   ],
   "source": [
    "#nested dict\n",
    "\n",
    "students = {1:{'name': 'Alex', 'age': '22'},\n",
    "            2: {'name': 'Mateo', 'age': '24'}  }\n",
    "\n",
    "students"
   ]
  },
  {
   "cell_type": "code",
   "execution_count": 104,
   "metadata": {},
   "outputs": [],
   "source": [
    "#inserted\n",
    "\n",
    "students[3] = {'name': 'Henry', 'age': '25'}"
   ]
  },
  {
   "cell_type": "code",
   "execution_count": 108,
   "metadata": {},
   "outputs": [
    {
     "data": {
      "text/plain": [
       "{1: {'name': 'Alex', 'age': '22'}, 2: {'name': 'Mateo', 'age': '24'}}"
      ]
     },
     "execution_count": 108,
     "metadata": {},
     "output_type": "execute_result"
    }
   ],
   "source": [
    "students"
   ]
  },
  {
   "cell_type": "code",
   "execution_count": null,
   "metadata": {},
   "outputs": [],
   "source": [
    "#removed\n",
    "del students[3]"
   ]
  },
  {
   "cell_type": "code",
   "execution_count": 113,
   "metadata": {},
   "outputs": [
    {
     "data": {
      "text/plain": [
       "{'abc': 3, 'name': 4, 'apple': 5, 'today': 5}"
      ]
     },
     "execution_count": 113,
     "metadata": {},
     "output_type": "execute_result"
    }
   ],
   "source": [
    "l=['abc','name', 'apple', 'today', 'apple']\n",
    "\n",
    "d = { x:len(x) for x in l}\n",
    "\n",
    "\"\"\"\n",
    "for i in l:\n",
    "   d[i] = len(i)\n",
    "\"\"\"\n",
    "d"
   ]
  },
  {
   "cell_type": "code",
   "execution_count": 125,
   "metadata": {},
   "outputs": [
    {
     "name": "stdout",
     "output_type": "stream",
     "text": [
      "10 x 1 = 10\n",
      "10 x 2 = 20\n",
      "10 x 3 = 30\n",
      "10 x 4 = 40\n",
      "10 x 5 = 50\n",
      "10 x 6 = 60\n",
      "10 x 7 = 70\n",
      "10 x 8 = 80\n",
      "10 x 9 = 90\n",
      "10 x 10 = 100\n"
     ]
    }
   ],
   "source": [
    "n = int(input(\"Enter a value\"))\n",
    "\n",
    "for i in range(1,11):\n",
    "    print(n,\"x\",i ,\"=\",n*i )"
   ]
  },
  {
   "cell_type": "code",
   "execution_count": 134,
   "metadata": {},
   "outputs": [
    {
     "name": "stdout",
     "output_type": "stream",
     "text": [
      "5\n",
      "18\n"
     ]
    }
   ],
   "source": [
    "#count uppercase and lowercase\n",
    "\n",
    "s = 'Hello WElcome To Python'\n",
    "ucount = 0\n",
    "lcount = 0\n",
    "\n",
    "for i in s:\n",
    "    if i.isupper():\n",
    "        ucount += 1\n",
    "    else:\n",
    "        lcount += 1\n",
    "\n",
    "\n",
    "print(ucount)\n",
    "print(lcount)"
   ]
  },
  {
   "cell_type": "code",
   "execution_count": 147,
   "metadata": {},
   "outputs": [
    {
     "name": "stdout",
     "output_type": "stream",
     "text": [
      ",\n",
      "ucount 5\n",
      "lcount 19\n",
      "dcount 3\n",
      "scount 3\n"
     ]
    }
   ],
   "source": [
    "#count uppercase and lowercase , digit\n",
    "\n",
    "s = 'Hello,WElcome 223 To Python'\n",
    "ucount = 0\n",
    "lcount = 0\n",
    "dcount = 0\n",
    "\n",
    "for i in s:\n",
    "    if i.isupper():\n",
    "        ucount += 1\n",
    "    elif i.isdigit():\n",
    "        dcount += 1\n",
    "    else:\n",
    "        lcount += 1\n",
    "\n",
    "s1= s.count(' ')\n",
    "print(s[5])\n",
    "\n",
    "print(\"ucount\", ucount)\n",
    "print(\"lcount\", lcount)\n",
    "print(\"dcount\", dcount)\n",
    "print(\"scount\", s1)\n"
   ]
  },
  {
   "cell_type": "code",
   "execution_count": 137,
   "metadata": {},
   "outputs": [
    {
     "name": "stdout",
     "output_type": "stream",
     "text": [
      "{'a': 97, 'b': 98, 'c': 99, 'd': 100, 'e': 101, 'f': 102, 'g': 103, 'h': 104, 'i': 105, 'j': 106, 'k': 107, 'l': 108, 'm': 109, 'n': 110, 'o': 111, 'p': 112, 'q': 113, 'r': 114, 's': 115, 't': 116, 'u': 117, 'v': 118}\n"
     ]
    }
   ],
   "source": [
    "dic = {}\n",
    "\n",
    "for i in range (97,119):\n",
    "    dic[chr(i)] = i\n",
    "\n",
    "print(dic)"
   ]
  },
  {
   "cell_type": "code",
   "execution_count": 141,
   "metadata": {},
   "outputs": [
    {
     "name": "stdout",
     "output_type": "stream",
     "text": [
      "{'a': 97, 'b': 98, 'c': 99, 'd': 100, 'e': 101, 'f': 102, 'g': 103, 'h': 104, 'i': 105, 'j': 106, 'k': 107, 'l': 108, 'm': 109, 'n': 110, 'o': 111, 'p': 112, 'q': 113, 'r': 114, 's': 115, 't': 116, 'u': 117, 'v': 118, 'w': 119, 'x': 120, 'y': 121, 'z': 122}\n"
     ]
    }
   ],
   "source": [
    "import string\n",
    "dic = {}\n",
    "# Generate ASCII lower case characters\n",
    "r = string.ascii_lowercase\n",
    "\n",
    "\n",
    "\n",
    "for i in r:\n",
    "    dic[i] = ord(i)\n",
    "\n",
    "print(dic)"
   ]
  },
  {
   "cell_type": "code",
   "execution_count": 160,
   "metadata": {},
   "outputs": [
    {
     "name": "stdout",
     "output_type": "stream",
     "text": [
      "Nikil invested 1000 go a return of 160.0\n",
      "Anand invested 200 go a return of 70.0\n",
      "Shiva invested 3000 go a return of 840.0\n",
      "\n",
      "Nikil invested  1000 go a return of 1166.40\n",
      "Anand invested  200 go a return of 280.51\n",
      "Shiva invested  3000 go a return of 3932.39\n"
     ]
    }
   ],
   "source": [
    "name =['Nikil', 'Anand', 'Shiva']\n",
    "p =[1000,200,3000]\n",
    "yr = [2,5,4]\n",
    "rt=[8,7,7]\n",
    "\n",
    "for i in range(len(name)):\n",
    "    si = p[i] * yr[i]* rt[i]/100\n",
    "    print(f'{name[i]} invested {p[i]} go a return of {si}')\n",
    "print()\n",
    "for i in range(len(name)):\n",
    "    ci = p[i] * (1+(rt[i]/100))**yr[i]\n",
    "    print(f'{name[i]} invested  {p[i]} go a return of {ci:.2f}')"
   ]
  },
  {
   "cell_type": "code",
   "execution_count": 162,
   "metadata": {},
   "outputs": [
    {
     "name": "stdout",
     "output_type": "stream",
     "text": [
      "['alex', 'is', 'name', 'my']\n"
     ]
    },
    {
     "data": {
      "text/plain": [
       "'alex is name my'"
      ]
     },
     "execution_count": 162,
     "metadata": {},
     "output_type": "execute_result"
    }
   ],
   "source": [
    "#reverese my name\n",
    "s = 'my name is alex'\n",
    "k = \"\"\n",
    "n  = s.split()\n",
    "\n",
    "#method 1\n",
    "#for i in range(len(n)-1,-1,-1):\n",
    "#    k += n[i] + \" \"\n",
    "#print(k)\n",
    "\n",
    "#method 2\n",
    "print(n[::-1])\n",
    "r=\" \".join(n[::-1])\n",
    "r"
   ]
  },
  {
   "cell_type": "code",
   "execution_count": 165,
   "metadata": {},
   "outputs": [
    {
     "name": "stdout",
     "output_type": "stream",
     "text": [
      "{'grape': 1, 'banana': 2, 'apple': 5, 'orange': 8}\n"
     ]
    }
   ],
   "source": [
    "#sort dict using values\n",
    "# Sample dictionary\n",
    "sample_dict = {'apple': 5, 'banana': 2, 'orange': 8, 'grape': 1}\n",
    "\n",
    "# Sorting using a for loop\n",
    "sorted_dict = {}\n",
    "for key in sorted(sample_dict, key=sample_dict.get):\n",
    "    sorted_dict[key] = sample_dict[key]\n",
    "\n",
    "print(sorted_dict)\n",
    "\n",
    "\n"
   ]
  },
  {
   "cell_type": "code",
   "execution_count": 174,
   "metadata": {},
   "outputs": [
    {
     "name": "stdout",
     "output_type": "stream",
     "text": [
      "a\n",
      "ab\n",
      "abc\n",
      "abcd\n"
     ]
    }
   ],
   "source": [
    "a='abcd'\n",
    "#a,ab,abc,abcd\n",
    "k=''\n",
    "\n",
    "for i in a:\n",
    "        \n",
    "        k += i\n",
    "        print(k)"
   ]
  },
  {
   "cell_type": "code",
   "execution_count": 175,
   "metadata": {},
   "outputs": [
    {
     "name": "stdout",
     "output_type": "stream",
     "text": [
      "a ab abc abcd \n",
      "b bc bcd \n",
      "c cd \n",
      "d \n"
     ]
    }
   ],
   "source": [
    "\n",
    "s = 'abcd'\n",
    "for i in range(len(s)):\n",
    "    for j in range(i,len(s)):\n",
    "        print(s[i:j+1], end = \" \")\n",
    "    print()\n",
    " "
   ]
  },
  {
   "cell_type": "code",
   "execution_count": 185,
   "metadata": {},
   "outputs": [
    {
     "name": "stdout",
     "output_type": "stream",
     "text": [
      "6 4\n",
      "1 3\n"
     ]
    }
   ],
   "source": [
    "\n",
    "l = [2, 6, 3,4]\n",
    "k = 10\n",
    "\n",
    "for i in range(len(l)-1):\n",
    "    for j in range(i,len(l)):\n",
    "        if (l[i] + l[j] == k):\n",
    "            print(l[i], l[j])\n",
    "            print(i, j)"
   ]
  },
  {
   "cell_type": "code",
   "execution_count": null,
   "metadata": {},
   "outputs": [],
   "source": []
  }
 ],
 "metadata": {
  "kernelspec": {
   "display_name": "Python 3",
   "language": "python",
   "name": "python3"
  },
  "language_info": {
   "codemirror_mode": {
    "name": "ipython",
    "version": 3
   },
   "file_extension": ".py",
   "mimetype": "text/x-python",
   "name": "python",
   "nbconvert_exporter": "python",
   "pygments_lexer": "ipython3",
   "version": "3.12.3"
  }
 },
 "nbformat": 4,
 "nbformat_minor": 2
}
