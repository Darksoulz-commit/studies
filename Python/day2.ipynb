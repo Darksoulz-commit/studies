{
 "cells": [
  {
   "cell_type": "code",
   "execution_count": 2,
   "metadata": {},
   "outputs": [
    {
     "name": "stdout",
     "output_type": "stream",
     "text": [
      "1808.64\n"
     ]
    }
   ],
   "source": [
    "#functions\n",
    "\n",
    "#area of circle  fns with para and with return\n",
    "\n",
    "def area_c(r):\n",
    "    area = 3.14*r**2\n",
    "    return area\n",
    "\n",
    "a = area_c(24)\n",
    "print(a)"
   ]
  },
  {
   "cell_type": "code",
   "execution_count": 7,
   "metadata": {},
   "outputs": [
    {
     "name": "stdout",
     "output_type": "stream",
     "text": [
      "1808.64\n"
     ]
    }
   ],
   "source": [
    "#area of circle  fns without para and without return\n",
    "\n",
    "def area_c():\n",
    "    r = int(input('enter radius: '))\n",
    "    area = 3.14*r**2\n",
    "    print(area)\n",
    "\n",
    "\n",
    "area_c()"
   ]
  },
  {
   "cell_type": "code",
   "execution_count": 9,
   "metadata": {},
   "outputs": [
    {
     "name": "stdout",
     "output_type": "stream",
     "text": [
      "1808.64\n"
     ]
    }
   ],
   "source": [
    "#area of circle  fns with para and without return\n",
    "\n",
    "def area_c(r):\n",
    "    print( 3.14*r**2)\n",
    "  \n",
    "\n",
    "area_c(24)"
   ]
  },
  {
   "cell_type": "code",
   "execution_count": 13,
   "metadata": {},
   "outputs": [
    {
     "name": "stdout",
     "output_type": "stream",
     "text": [
      "1808.64\n"
     ]
    }
   ],
   "source": [
    "#area of circle  fns without para and with return\n",
    "\n",
    "def area_c():\n",
    "    r = int(input(\"enter a value\"))\n",
    "    return 3.14*r**2\n",
    "  \n",
    "\n",
    "print(area_c())"
   ]
  },
  {
   "cell_type": "code",
   "execution_count": null,
   "metadata": {},
   "outputs": [],
   "source": [
    "name =['Nikil', 'Anand', 'Shiva']\n",
    "p =[1000,200,3000]\n",
    "yr = [2,5,4]\n",
    "rt=[8,7,7]\n",
    "\n"
   ]
  },
  {
   "cell_type": "code",
   "execution_count": 35,
   "metadata": {},
   "outputs": [
    {
     "name": "stdout",
     "output_type": "stream",
     "text": [
      "Nikil invested 1000 go a return of 160.0\n",
      "Anand invested 200 go a return of 70.0\n",
      "Shiva invested 3000 go a return of 840.0\n"
     ]
    }
   ],
   "source": [
    "#fns with para and with return\n",
    "\n",
    "def sip(name,p,yr,rt):\n",
    "    a = []\n",
    "    for i in range(len(name)):\n",
    "        si = p[i] * yr[i]* rt[i]/100\n",
    "        a.append(si)\n",
    "    \n",
    "    return a\n",
    "\n",
    "name =['Nikil', 'Anand', 'Shiva']\n",
    "p =[1000,200,3000]\n",
    "yr = [2,5,4]\n",
    "rt=[8,7,7]\n",
    "\n",
    "si=sip(name,p,yr,rt)\n",
    "\n",
    "for i in range(len(si)):\n",
    "    print(f'{name[i]} invested {p[i]} go a return of {si[i]}')"
   ]
  },
  {
   "cell_type": "code",
   "execution_count": null,
   "metadata": {},
   "outputs": [
    {
     "name": "stdout",
     "output_type": "stream",
     "text": [
      "name invested 1000 go a return of 200.0\n"
     ]
    }
   ],
   "source": [
    "#fns without para and without return\n",
    "\n",
    "def sip():\n",
    "\n",
    "    name = input(\"enter a name\")\n",
    "    p = int(input(\"enter a principle\"))\n",
    "    yr = int(input(\"enter yr\"))\n",
    "    rt = int(input(\"enter rate of interest\"))\n",
    "   \n",
    "    si = p* yr* rt/100\n",
    "    print(f'{name} invested {p} go a return of {si}')\n",
    "\n",
    "\n",
    "sip()"
   ]
  },
  {
   "cell_type": "code",
   "execution_count": 27,
   "metadata": {},
   "outputs": [
    {
     "name": "stdout",
     "output_type": "stream",
     "text": [
      "alex invested 2000 go a return of 400.0\n"
     ]
    }
   ],
   "source": [
    "#fns with para and without return\n",
    "\n",
    "def sip(name, p,yr,rt):\n",
    "   si = p* yr* rt/100\n",
    "   print(f'{name} invested {p} go a return of {si}')\n",
    "\n",
    "\n",
    "sip('alex',2000,2,10)"
   ]
  },
  {
   "cell_type": "code",
   "execution_count": 37,
   "metadata": {},
   "outputs": [
    {
     "data": {
      "text/plain": [
       "'name invested 1000 go a return of 200.0'"
      ]
     },
     "execution_count": 37,
     "metadata": {},
     "output_type": "execute_result"
    }
   ],
   "source": [
    "#fns without para and with return\n",
    "\n",
    "def sip():\n",
    "        name = input(\"enter a name\")\n",
    "        p = int(input(\"enter a principle\"))\n",
    "        yr = int(input(\"enter yr\"))\n",
    "        rt = int(input(\"enter rate of interest\"))\n",
    "\n",
    "        si = p* yr* rt/100\n",
    "        return f'{name} invested {p} go a return of {si}'\n",
    "\n",
    "sip()"
   ]
  },
  {
   "cell_type": "code",
   "execution_count": 38,
   "metadata": {},
   "outputs": [
    {
     "name": "stdout",
     "output_type": "stream",
     "text": [
      "(12, 'name', 'asd', [50, 40, 20])\n",
      "110\n"
     ]
    }
   ],
   "source": [
    "#it will return tuple values\n",
    "\n",
    "def data(*a):\n",
    "    print(a)\n",
    "    marks = a[3]\n",
    "    print(sum(marks))\n",
    "\n",
    "data(12, 'name', 'asd', [50,40,20])"
   ]
  },
  {
   "cell_type": "code",
   "execution_count": 43,
   "metadata": {},
   "outputs": [
    {
     "name": "stdout",
     "output_type": "stream",
     "text": [
      "{'age': 12, 'name': 'name', 'schl': 'asd', 'marks': [50, 40, 20]}\n",
      "110\n"
     ]
    }
   ],
   "source": [
    "#it will return Dict values\n",
    "\n",
    "def data(**a):\n",
    "    print(a)\n",
    "    b = a['marks']\n",
    "    print(sum(b))\n",
    "\n",
    "data(age =12,name= 'name',schl= 'asd', marks =[50,40,20])"
   ]
  },
  {
   "cell_type": "code",
   "execution_count": 49,
   "metadata": {},
   "outputs": [
    {
     "name": "stdout",
     "output_type": "stream",
     "text": [
      "10 2 1 3\n"
     ]
    },
    {
     "data": {
      "text/plain": [
       "16"
      ]
     },
     "execution_count": 49,
     "metadata": {},
     "output_type": "execute_result"
    }
   ],
   "source": [
    "#def fns with slach \"/\"\n",
    "\n",
    "def num(a,b,/,c,d):  #position only parameter\n",
    "    print(a,b,c,d)\n",
    "    return a+b+c+d\n",
    "\n",
    "a = num(10,2,d=3,c=1)\n",
    "a"
   ]
  },
  {
   "cell_type": "code",
   "execution_count": 51,
   "metadata": {},
   "outputs": [
    {
     "name": "stdout",
     "output_type": "stream",
     "text": [
      "10 2 1 3\n"
     ]
    },
    {
     "data": {
      "text/plain": [
       "16"
      ]
     },
     "execution_count": 51,
     "metadata": {},
     "output_type": "execute_result"
    }
   ],
   "source": [
    "#def fns with star \"*\" after , it is a keyword\n",
    "\n",
    "def num(a,b,*,c,d):  #position only parameter\n",
    "    print(a,b,c,d)\n",
    "    return a+b+c+d\n",
    "\n",
    "a = num(10,2,d=3,c=1)\n",
    "a"
   ]
  },
  {
   "cell_type": "code",
   "execution_count": 64,
   "metadata": {},
   "outputs": [
    {
     "name": "stdout",
     "output_type": "stream",
     "text": [
      "6\n",
      "12\n"
     ]
    }
   ],
   "source": [
    "'''Define a function process_data that:\n",
    "Accept a mandatory operation  arguments (eg : 'sum' or 'product')\n",
    "Takes any number of integers using *args\n",
    "USE keyword-only agumnets for start_value(default 0) and\n",
    "factor (default 1) to modify the final result'''\n",
    "\n",
    "\n",
    "def process_data(operation, *args, start_value =0, factor=1):\n",
    "    p=1\n",
    "    if operation == 'sum':\n",
    "        result = sum(args) + start_value\n",
    "        return result\n",
    "    elif operation == 'product':\n",
    "        for i in args:\n",
    "            p *= i\n",
    "        return p\n",
    "   \n",
    "\n",
    "print(process_data('sum', 1, 2, 3))\n",
    "print(process_data('product', 2, 2, 3))"
   ]
  },
  {
   "cell_type": "code",
   "execution_count": 65,
   "metadata": {},
   "outputs": [
    {
     "data": {
      "text/plain": [
       "\" Create a function greet that\\n\\nTake a name as a positional arguments\\nAccepts  multiple greeting using *args\\nAccepts a punctuation keyword-only ARGUMENTS(DEFAULT IS '!')\\nTest the function with multipl greetings and different punctuation styles.\""
      ]
     },
     "execution_count": 65,
     "metadata": {},
     "output_type": "execute_result"
    }
   ],
   "source": [
    "''' Create a function greet that\n",
    "\n",
    "Take a name as a positional arguments\n",
    "Accepts  multiple greeting using *args\n",
    "Accepts a punctuation keyword-only ARGUMENTS(DEFAULT IS '!')\n",
    "Test the function with multipl greetings and different punctuation styles.'''   #eve task"
   ]
  },
  {
   "cell_type": "code",
   "execution_count": 71,
   "metadata": {},
   "outputs": [
    {
     "name": "stdout",
     "output_type": "stream",
     "text": [
      "The factorial of 10 is 55\n"
     ]
    }
   ],
   "source": [
    "#Recursive function\n",
    "def fact(n):\n",
    "    if n == 1:\n",
    "        return 1\n",
    "    else:\n",
    "        return(n+fact(n-1))\n",
    "\n",
    "num =10\n",
    "print(\"The factorial of\",num,\"is\", fact(num) )"
   ]
  },
  {
   "cell_type": "code",
   "execution_count": 86,
   "metadata": {},
   "outputs": [],
   "source": [
    "#count digit rescursive fns\n",
    "\n"
   ]
  },
  {
   "cell_type": "code",
   "execution_count": 87,
   "metadata": {},
   "outputs": [
    {
     "name": "stdout",
     "output_type": "stream",
     "text": [
      "10\n"
     ]
    }
   ],
   "source": [
    "def sumdigit(n):\n",
    "    if n == 1:\n",
    "        return 1\n",
    "    else:\n",
    "        return n%10 + sumdigit(int(n/10))\n",
    "\n",
    "print(sumdigit(1234))"
   ]
  },
  {
   "cell_type": "code",
   "execution_count": 170,
   "metadata": {},
   "outputs": [
    {
     "name": "stdout",
     "output_type": "stream",
     "text": [
      "[0, 1, 1, 2, 3, 5, 8, 13, 21, 34]\n",
      "34\n"
     ]
    }
   ],
   "source": [
    "#fib recursive\n",
    "\n",
    "def fib(n):\n",
    "    if n <= 0:\n",
    "        return 'enter a positive num'\n",
    "    elif n == 1:\n",
    "        return 0\n",
    "    elif n ==2:\n",
    "        return 1\n",
    "    else:\n",
    "        return fib(n-1)+ fib(n-2)\n",
    "    \n",
    "print([fib(i) for i in range(1,11)])\n",
    "fifth = fib(10)\n",
    "print(fifth)"
   ]
  },
  {
   "cell_type": "code",
   "execution_count": 117,
   "metadata": {},
   "outputs": [
    {
     "ename": "NameError",
     "evalue": "name 'inner_func' is not defined",
     "output_type": "error",
     "traceback": [
      "\u001b[1;31m---------------------------------------------------------------------------\u001b[0m",
      "\u001b[1;31mNameError\u001b[0m                                 Traceback (most recent call last)",
      "Cell \u001b[1;32mIn[117], line 16\u001b[0m\n\u001b[0;32m     12\u001b[0m odd \u001b[38;5;241m=\u001b[39m calculate()\n\u001b[0;32m     14\u001b[0m \u001b[38;5;66;03m#call the inner function\u001b[39;00m\n\u001b[1;32m---> 16\u001b[0m \u001b[38;5;28mprint\u001b[39m(\u001b[43minner_func\u001b[49m()\u001b[38;5;241m.\u001b[39mcalculate())\n\u001b[0;32m     17\u001b[0m \u001b[38;5;28mprint\u001b[39m(odd())\n\u001b[0;32m     18\u001b[0m \u001b[38;5;28mprint\u001b[39m(odd())\n",
      "\u001b[1;31mNameError\u001b[0m: name 'inner_func' is not defined"
     ]
    }
   ],
   "source": [
    "#Nested fns\n",
    "def calculate():\n",
    "    num =1\n",
    "    def inner_func():\n",
    "        nonlocal num\n",
    "        num += 2\n",
    "        return num\n",
    "    return inner_func\n",
    "\n",
    "#call the outer function\n",
    "\n",
    "odd = calculate()\n",
    "\n",
    "#call the inner function\n",
    "\n",
    "print(odd())\n",
    "print(odd())\n",
    "print(odd())\n",
    "\n",
    "#call the outer function \n",
    "\n",
    "odd2 = calculate()\n",
    "print(odd2())"
   ]
  },
  {
   "cell_type": "code",
   "execution_count": 105,
   "metadata": {},
   "outputs": [
    {
     "name": "stdout",
     "output_type": "stream",
     "text": [
      "15\n",
      "5\n",
      "50\n",
      "2.0\n"
     ]
    }
   ],
   "source": [
    "def get_math_operation(operation):\n",
    "    def add(a,b):\n",
    "        return a+b\n",
    "    \n",
    "    def sub(a,b):\n",
    "        return a-b\n",
    "    \n",
    "    def multiply(a,b):\n",
    "        return a*b\n",
    "    \n",
    "    def divide(a,b):\n",
    "        return a/b if b != 0 else \"Cannot divide by zero\"\n",
    "    \n",
    "\n",
    "    if operation == \"add\":\n",
    "        return add\n",
    "    elif operation == \"sub\":\n",
    "        return sub\n",
    "    elif operation == \"multiply\":\n",
    "        return multiply\n",
    "    elif operation == \"divide\":\n",
    "        return divide\n",
    "    else:\n",
    "        raise ValueError(\"Invalid operation\")\n",
    "    \n",
    "#testcases\n",
    "\n",
    "adder = get_math_operation(\"add\")\n",
    "print(adder(10,5))\n",
    "\n",
    "sub = get_math_operation(\"sub\")\n",
    "print(sub(10,5))\n",
    "\n",
    "multiply = get_math_operation(\"multiply\")\n",
    "print(multiply(10,5))\n",
    "\n",
    "divide = get_math_operation(\"divide\")\n",
    "print(divide(10,5))"
   ]
  },
  {
   "cell_type": "code",
   "execution_count": 107,
   "metadata": {},
   "outputs": [
    {
     "name": "stdout",
     "output_type": "stream",
     "text": [
      "Something before the function\n",
      "hello!\n",
      "Something after the function\n",
      "hello!\n"
     ]
    }
   ],
   "source": [
    "def my_decorater(func):\n",
    "    def wrapper():\n",
    "        print(\"Something before the function\")\n",
    "        func()\n",
    "        print(\"Something after the function\")\n",
    "        func()\n",
    "    return wrapper\n",
    "\n",
    "#Applying the decorator\n",
    "\n",
    "@my_decorater\n",
    "def say_hello():\n",
    "    print(\"hello!\")\n",
    "\n",
    "say_hello()"
   ]
  },
  {
   "cell_type": "code",
   "execution_count": 111,
   "metadata": {},
   "outputs": [
    {
     "name": "stdout",
     "output_type": "stream",
     "text": [
      "400\n",
      "200\n"
     ]
    }
   ],
   "source": [
    "#code for testing decorator\n",
    "\n",
    "def decor1(func):\n",
    "    def inner():\n",
    "        x = func()\n",
    "        \n",
    "        return x * x\n",
    "    return inner\n",
    "\n",
    "def decor(func):\n",
    "    def inner():\n",
    "        x = func()\n",
    "     \n",
    "        return 2*x\n",
    "    return inner\n",
    "\n",
    "@decor1\n",
    "@decor\n",
    "\n",
    "def num():\n",
    "    return 10\n",
    "\n",
    "@decor\n",
    "@decor1\n",
    "\n",
    "def num2():\n",
    "    return 10\n",
    "\n",
    "print(num())\n",
    "print(num2())"
   ]
  },
  {
   "cell_type": "code",
   "execution_count": 118,
   "metadata": {},
   "outputs": [
    {
     "name": "stdout",
     "output_type": "stream",
     "text": [
      "Function greet called 1\n",
      "hello\n",
      "Function greet called 2\n",
      "hello\n"
     ]
    }
   ],
   "source": [
    "def make_timer():\n",
    "    count = 0\n",
    "    def timer(func):\n",
    "        def wrapper():\n",
    "            nonlocal count\n",
    "            count+=1\n",
    "            print(f\"Function {func.__name__} called {count}\")\n",
    "            return func()\n",
    "        return wrapper\n",
    "    return timer\n",
    "timer = make_timer()\n",
    " \n",
    "@timer\n",
    "def greet():\n",
    "    print(\"hello\")\n",
    "greet()\n",
    "greet()"
   ]
  },
  {
   "cell_type": "code",
   "execution_count": 120,
   "metadata": {},
   "outputs": [
    {
     "name": "stdout",
     "output_type": "stream",
     "text": [
      "[3.14, 3.14, 3.14, 3.14, 3.14]\n"
     ]
    }
   ],
   "source": [
    "#generator function\n",
    "r=[1,2,3,4,5]\n",
    "def area(r):\n",
    "    for i in r:\n",
    "        a=3.14*1**2\n",
    "        yield a\n",
    "\n",
    "s=area(r)\n",
    "print(list(s))"
   ]
  },
  {
   "cell_type": "code",
   "execution_count": 124,
   "metadata": {},
   "outputs": [
    {
     "name": "stdout",
     "output_type": "stream",
     "text": [
      "[2, 4, 6, 8]\n"
     ]
    }
   ],
   "source": [
    "l = [1,2,3,4,5,6,7,8]\n",
    "\n",
    "def even(l):\n",
    "    for i in l:\n",
    "        if i%2 == 0:\n",
    "            yield i\n",
    "\n",
    "s= even(l)\n",
    "print(list(s))\n"
   ]
  },
  {
   "cell_type": "code",
   "execution_count": 127,
   "metadata": {},
   "outputs": [
    {
     "name": "stdout",
     "output_type": "stream",
     "text": [
      "[1, 2, 4]\n"
     ]
    }
   ],
   "source": [
    "def factor(x):\n",
    "    for i in range(1,x+1):\n",
    "        if x%i ==0:\n",
    "            yield i\n",
    "\n",
    "r= 4\n",
    "s = factor(r)\n",
    "print(list(s))"
   ]
  },
  {
   "cell_type": "code",
   "execution_count": null,
   "metadata": {},
   "outputs": [
    {
     "name": "stdout",
     "output_type": "stream",
     "text": [
      "[1, -2, 4]\n"
     ]
    }
   ],
   "source": [
    "#find factor one method\n",
    "def factor(x):\n",
    "    f=[]\n",
    "    for i in range(1,x+1):\n",
    "        if x%i ==0:\n",
    "            if len(f)%2 == 0:\n",
    "                f.append(i)\n",
    "            else:\n",
    "                f.append(-i)\n",
    "    return f\n",
    "r= 4\n",
    "s = factor(r)\n",
    "print(list(s))"
   ]
  },
  {
   "cell_type": "code",
   "execution_count": 133,
   "metadata": {},
   "outputs": [
    {
     "name": "stdout",
     "output_type": "stream",
     "text": [
      "[1, -5]\n"
     ]
    }
   ],
   "source": [
    "def factor(x):\n",
    "    for i in range(1,x+1):\n",
    "        if len(f)%2 == 0:\n",
    "            yield 0-i\n",
    "        else:\n",
    "            yield i\n",
    "   \n",
    "r= 5\n",
    "s = factor(r)\n",
    "print(list(s))"
   ]
  },
  {
   "cell_type": "code",
   "execution_count": 134,
   "metadata": {},
   "outputs": [
    {
     "data": {
      "text/plain": [
       "' write a function order_summary that calculates the total cost of an order. It should take:\\nitem_price and quantity as positional arguments.\\nA keyword-only arguments discount (default is 0%)\\nA keyword-only arguments tax_rate(default is 5%)\\ncalculate the total cost using:\\nTotal = (item_price * quantity) x (1-discount) x (1+tax_rate).'"
      ]
     },
     "execution_count": 134,
     "metadata": {},
     "output_type": "execute_result"
    }
   ],
   "source": [
    "''' write a function order_summary that calculates the total cost of an order. It should take:\n",
    "item_price and quantity as positional arguments.\n",
    "A keyword-only arguments discount (default is 0%)\n",
    "A keyword-only arguments tax_rate(default is 5%)\n",
    "calculate the total cost using:\n",
    "Total = (item_price * quantity) x (1-discount) x (1+tax_rate).'''"
   ]
  },
  {
   "cell_type": "code",
   "execution_count": 135,
   "metadata": {},
   "outputs": [
    {
     "data": {
      "text/plain": [
       "360"
      ]
     },
     "execution_count": 135,
     "metadata": {},
     "output_type": "execute_result"
    }
   ],
   "source": [
    "double = lambda x,y,z:x*2+y*3+z\n",
    "double(100,50,10)"
   ]
  },
  {
   "cell_type": "code",
   "execution_count": 136,
   "metadata": {},
   "outputs": [
    {
     "data": {
      "text/plain": [
       "20"
      ]
     },
     "execution_count": 136,
     "metadata": {},
     "output_type": "execute_result"
    }
   ],
   "source": [
    "s=lambda a,b:a if a>b else b\n",
    "s(10,20)"
   ]
  },
  {
   "cell_type": "code",
   "execution_count": 138,
   "metadata": {},
   "outputs": [
    {
     "data": {
      "text/plain": [
       "8"
      ]
     },
     "execution_count": 138,
     "metadata": {},
     "output_type": "execute_result"
    }
   ],
   "source": [
    "p = lambda a,b: a**b\n",
    "p(2,3)"
   ]
  },
  {
   "cell_type": "code",
   "execution_count": 140,
   "metadata": {},
   "outputs": [
    {
     "data": {
      "text/plain": [
       "'negative'"
      ]
     },
     "execution_count": 140,
     "metadata": {},
     "output_type": "execute_result"
    }
   ],
   "source": [
    "check = lambda n: 'positve' if n >0 else 'negative'\n",
    "check(-5)"
   ]
  },
  {
   "cell_type": "code",
   "execution_count": 142,
   "metadata": {},
   "outputs": [
    {
     "name": "stdout",
     "output_type": "stream",
     "text": [
      "[3, 6, 9]\n"
     ]
    }
   ],
   "source": [
    "m=[1,2,3]\n",
    "n= 3\n",
    "\n",
    "multiply = [(lambda x: x*n)(i) for i in m]\n",
    "print(multiply)"
   ]
  },
  {
   "cell_type": "code",
   "execution_count": 145,
   "metadata": {},
   "outputs": [
    {
     "name": "stdout",
     "output_type": "stream",
     "text": [
      "[2, 4]\n"
     ]
    }
   ],
   "source": [
    "m= [1,2,3,4]\n",
    "\n",
    "even = lambda x: [i for i in x if i%2==0]\n",
    "print(even(m))"
   ]
  },
  {
   "cell_type": "code",
   "execution_count": 148,
   "metadata": {},
   "outputs": [
    {
     "name": "stdout",
     "output_type": "stream",
     "text": [
      "pyt\n"
     ]
    }
   ],
   "source": [
    "s = lambda s, i: s[:i]\n",
    "result =s('python', 3)\n",
    "print(result)"
   ]
  },
  {
   "cell_type": "code",
   "execution_count": 151,
   "metadata": {},
   "outputs": [
    {
     "data": {
      "text/plain": [
       "'true'"
      ]
     },
     "execution_count": 151,
     "metadata": {},
     "output_type": "execute_result"
    }
   ],
   "source": [
    "#palindrome\n",
    "palin = lambda s: 'true' if s == s[::-1] else 'False'\n",
    "palin('radar')"
   ]
  },
  {
   "cell_type": "code",
   "execution_count": 153,
   "metadata": {},
   "outputs": [
    {
     "name": "stdout",
     "output_type": "stream",
     "text": [
      "[8, 10]\n"
     ]
    }
   ],
   "source": [
    "#val_above_num([1,4,8,3,7,1,2,5,10],7)\n",
    "\n",
    "lis = [1,4,8,3,7,1,2,5,10]\n",
    "\n",
    "n = lambda x: [i for i in x if i>=8]\n",
    "print(n(lis))\n"
   ]
  },
  {
   "cell_type": "code",
   "execution_count": 160,
   "metadata": {},
   "outputs": [
    {
     "name": "stdout",
     "output_type": "stream",
     "text": [
      "[1, 3]\n"
     ]
    }
   ],
   "source": [
    "#fact using lamba\n",
    "\n",
    "fact = lambda x:[i for i in range(1,x+1) if x%i==0]\n",
    "print(fact(3))"
   ]
  },
  {
   "cell_type": "code",
   "execution_count": 165,
   "metadata": {},
   "outputs": [
    {
     "data": {
      "text/plain": [
       "'true'"
      ]
     },
     "execution_count": 165,
     "metadata": {},
     "output_type": "execute_result"
    }
   ],
   "source": [
    "#leap year\n",
    "\n",
    "leap = lambda n: 'true' if (n%4 == 0 and n%100!=0) or n%400 ==0 else 'false'\n",
    "leap (2024)"
   ]
  },
  {
   "cell_type": "code",
   "execution_count": 166,
   "metadata": {},
   "outputs": [
    {
     "data": {
      "text/plain": [
       "3"
      ]
     },
     "execution_count": 166,
     "metadata": {},
     "output_type": "execute_result"
    }
   ],
   "source": [
    "#vowel\n",
    "vow = lambda s : sum(1 for i in s if i in \"aeiouAEIOU\")  \n",
    "vow(\"solai\")\n",
    " "
   ]
  },
  {
   "cell_type": "code",
   "execution_count": 167,
   "metadata": {},
   "outputs": [
    {
     "data": {
      "text/plain": [
       "2"
      ]
     },
     "execution_count": 167,
     "metadata": {},
     "output_type": "execute_result"
    }
   ],
   "source": [
    "vow = lambda s : sum(1 for i in s if i.isupper() )  \n",
    "vow(\"SolAi\")\n"
   ]
  },
  {
   "cell_type": "code",
   "execution_count": 168,
   "metadata": {},
   "outputs": [
    {
     "data": {
      "text/plain": [
       "[2]"
      ]
     },
     "execution_count": 168,
     "metadata": {},
     "output_type": "execute_result"
    }
   ],
   "source": [
    "lis = lambda l1,l2: [l1[i] for i in range(len(l1)) if l1[i]==l2[i]]\n",
    "lis([1,2,3],[4,2,6])"
   ]
  },
  {
   "cell_type": "code",
   "execution_count": null,
   "metadata": {},
   "outputs": [],
   "source": []
  }
 ],
 "metadata": {
  "kernelspec": {
   "display_name": "Python 3",
   "language": "python",
   "name": "python3"
  },
  "language_info": {
   "codemirror_mode": {
    "name": "ipython",
    "version": 3
   },
   "file_extension": ".py",
   "mimetype": "text/x-python",
   "name": "python",
   "nbconvert_exporter": "python",
   "pygments_lexer": "ipython3",
   "version": "3.12.3"
  }
 },
 "nbformat": 4,
 "nbformat_minor": 2
}
