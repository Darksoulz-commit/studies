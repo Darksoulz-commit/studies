{
 "cells": [
  {
   "cell_type": "markdown",
   "metadata": {},
   "source": [
    "print('Hello Internet')"
   ]
  },
  {
   "cell_type": "code",
   "execution_count": 1,
   "metadata": {},
   "outputs": [
    {
     "name": "stdout",
     "output_type": "stream",
     "text": [
      "Hello Internet\n"
     ]
    }
   ],
   "source": [
    "print('Hello Internet')"
   ]
  },
  {
   "cell_type": "markdown",
   "metadata": {},
   "source": [
    "to seperate the values using sep"
   ]
  },
  {
   "cell_type": "code",
   "execution_count": 2,
   "metadata": {},
   "outputs": [
    {
     "name": "stdout",
     "output_type": "stream",
     "text": [
      "1,2,3,4\n"
     ]
    }
   ],
   "source": [
    "print(1,2,3,4,sep = ',')"
   ]
  },
  {
   "cell_type": "code",
   "execution_count": 3,
   "metadata": {},
   "outputs": [
    {
     "name": "stdout",
     "output_type": "stream",
     "text": [
      "hello?world\n"
     ]
    }
   ],
   "source": [
    "print('hello',end = '?')\n",
    "# print() --for new line\n",
    "print('world') "
   ]
  },
  {
   "cell_type": "markdown",
   "metadata": {},
   "source": [
    "format string   "
   ]
  },
  {
   "cell_type": "code",
   "execution_count": 4,
   "metadata": {},
   "outputs": [
    {
     "name": "stdout",
     "output_type": "stream",
     "text": [
      "1 is 2\n"
     ]
    }
   ],
   "source": [
    "a= 1\n",
    "b=2\n",
    "print(f\"{a} is {b}\")"
   ]
  },
  {
   "cell_type": "markdown",
   "metadata": {},
   "source": [
    "reading input from user"
   ]
  },
  {
   "cell_type": "code",
   "execution_count": 5,
   "metadata": {},
   "outputs": [
    {
     "name": "stdout",
     "output_type": "stream",
     "text": [
      "55\n"
     ]
    }
   ],
   "source": [
    "num = int(input('give a num'))\n",
    "print(num)"
   ]
  },
  {
   "cell_type": "markdown",
   "metadata": {},
   "source": [
    "if we give a multiple input foe a single variable it take it as a tuple"
   ]
  },
  {
   "cell_type": "code",
   "execution_count": 6,
   "metadata": {},
   "outputs": [
    {
     "data": {
      "text/plain": [
       "tuple"
      ]
     },
     "execution_count": 6,
     "metadata": {},
     "output_type": "execute_result"
    }
   ],
   "source": [
    "a =1,2,3,4\n",
    "b,c,d=(1,2,3)\n",
    "type(a)"
   ]
  },
  {
   "cell_type": "markdown",
   "metadata": {},
   "source": [
    "math functions"
   ]
  },
  {
   "cell_type": "code",
   "execution_count": null,
   "metadata": {},
   "outputs": [],
   "source": [
    "import math\n",
    "\n",
    "math.ceil()\n",
    "math.floor()"
   ]
  },
  {
   "cell_type": "markdown",
   "metadata": {},
   "source": [
    "conditional statements"
   ]
  },
  {
   "cell_type": "code",
   "execution_count": 7,
   "metadata": {},
   "outputs": [],
   "source": [
    "if 5>5:\n",
    "    print(\"5\")"
   ]
  },
  {
   "cell_type": "markdown",
   "metadata": {},
   "source": [
    "loops"
   ]
  },
  {
   "cell_type": "code",
   "execution_count": 9,
   "metadata": {},
   "outputs": [],
   "source": [
    "# for range(start,stop,step)"
   ]
  },
  {
   "cell_type": "markdown",
   "metadata": {},
   "source": [
    "using start and stop"
   ]
  },
  {
   "cell_type": "code",
   "execution_count": 165,
   "metadata": {},
   "outputs": [
    {
     "name": "stdout",
     "output_type": "stream",
     "text": [
      "-10\n",
      "-9\n",
      "-8\n",
      "-7\n",
      "-6\n",
      "-5\n",
      "-4\n",
      "-3\n",
      "-2\n",
      "-1\n",
      "0\n",
      "1\n",
      "2\n",
      "3\n",
      "4\n",
      "5\n",
      "6\n",
      "7\n",
      "8\n",
      "9\n",
      "10\n"
     ]
    }
   ],
   "source": [
    "for i in range (-10,11):\n",
    "    print(i)"
   ]
  },
  {
   "cell_type": "code",
   "execution_count": 14,
   "metadata": {},
   "outputs": [
    {
     "name": "stdout",
     "output_type": "stream",
     "text": [
      "has value\n"
     ]
    }
   ],
   "source": [
    "if -3:\n",
    "    print(\"has value\")"
   ]
  },
  {
   "cell_type": "code",
   "execution_count": null,
   "metadata": {},
   "outputs": [],
   "source": [
    "string = 'sudharsan'\n",
    "newString = string.lower()\n",
    "vol= ['a','e','i','o','u']\n",
    "volcount = 0\n",
    "volList =[]\n",
    "conscount =0\n",
    "consList=[]\n",
    "for i in newString:\n",
    "    if(i in vol):\n",
    "        volcount = volcount+1\n",
    "        volList.append(i)\n",
    "    else:\n",
    "        conscount = conscount+1\n",
    "        consList.append(i)\n",
    "    \n",
    "print ( \"num of vowels : \", volcount)\n",
    "print(volList)\n",
    "print ( \"num of consonents : \", conscount)\n",
    "print(consList)"
   ]
  },
  {
   "cell_type": "code",
   "execution_count": null,
   "metadata": {},
   "outputs": [],
   "source": [
    "n=5\n",
    "while n < 10:\n",
    "    print(n)\n",
    "    n= n+1 # udate counter"
   ]
  },
  {
   "cell_type": "markdown",
   "metadata": {},
   "source": [
    "while with else"
   ]
  },
  {
   "cell_type": "code",
   "execution_count": null,
   "metadata": {},
   "outputs": [],
   "source": [
    "count = 0\n",
    "while count <3 :\n",
    "    print()\n",
    "else:\n",
    "    print()"
   ]
  },
  {
   "cell_type": "code",
   "execution_count": 43,
   "metadata": {},
   "outputs": [
    {
     "name": "stdout",
     "output_type": "stream",
     "text": [
      "55\n"
     ]
    }
   ],
   "source": [
    "start=1\n",
    "end = 10\n",
    "_sum =0\n",
    "\n",
    "while start <= end:\n",
    "    _sum = _sum+start\n",
    "    start = start+1\n",
    "print(_sum)\n"
   ]
  },
  {
   "cell_type": "code",
   "execution_count": 48,
   "metadata": {},
   "outputs": [
    {
     "name": "stdout",
     "output_type": "stream",
     "text": [
      "55\n"
     ]
    }
   ],
   "source": [
    "n=10\n",
    "print((n*(n+1))//2)"
   ]
  },
  {
   "cell_type": "markdown",
   "metadata": {},
   "source": [
    "control statements"
   ]
  },
  {
   "cell_type": "markdown",
   "metadata": {},
   "source": [
    "pass will simplly the pass thr error so called"
   ]
  },
  {
   "cell_type": "code",
   "execution_count": 49,
   "metadata": {},
   "outputs": [],
   "source": [
    "def num():\n",
    "    pass\n",
    "num()"
   ]
  },
  {
   "cell_type": "markdown",
   "metadata": {},
   "source": [
    "fibbo series 0+1+2+3+4+5 => "
   ]
  },
  {
   "cell_type": "code",
   "execution_count": null,
   "metadata": {},
   "outputs": [],
   "source": [
    "def fibonacci(n):\n",
    "    fib_sequence = [0, 1]\n",
    "    while 2< n:\n",
    "        fib_sequence.append(fib_sequence[-1] + fib_sequence[-2])\n",
    "    return fib_sequence\n",
    "\n",
    "# Example usage:\n",
    "n = 10  # Number of Fibonacci numbers to generate\n",
    "print(fibonacci(n))\n",
    "\n"
   ]
  },
  {
   "cell_type": "code",
   "execution_count": 55,
   "metadata": {},
   "outputs": [
    {
     "name": "stdout",
     "output_type": "stream",
     "text": [
      "[0, 1, 1, 2, 3, 5, 8, 13, 21, 34]\n"
     ]
    }
   ],
   "source": [
    "def fibonacci(n):\n",
    "    fib_sequence = [0, 1]  # Start with the first two Fibonacci numbers\n",
    "    i = 2  # Start calculating from the 3rd Fibonacci number\n",
    "\n",
    "    while i < n:  # Continue until the sequence contains n numbers\n",
    "        fib_sequence.append(fib_sequence[-1] + fib_sequence[-2])  # Add the next number\n",
    "        i += 1  # Move to the next index\n",
    "\n",
    "    return fib_sequence[:n]  # Return only the first n Fibonacci numbers\n",
    "\n",
    "# Example usage:\n",
    "n = 10  # Number of Fibonacci numbers to generate\n",
    "print(fibonacci(n))\n"
   ]
  },
  {
   "cell_type": "markdown",
   "metadata": {},
   "source": [
    "shallow and deep copy\n",
    "deepCopy will only work on nested things\n",
    "for normal copy use can use copy()"
   ]
  },
  {
   "cell_type": "code",
   "execution_count": null,
   "metadata": {},
   "outputs": [],
   "source": [
    "import copy\n",
    "a=[1,2,3,4,5,[5,6,7]]\n",
    "b= copy.deepcopy(a) #  deepcopying the nested list\n",
    "b[5][1]=100 # changing the value\n",
    "print (a)   # og list\n",
    "print (b)   # modified listz"
   ]
  },
  {
   "cell_type": "markdown",
   "metadata": {},
   "source": [
    "tuples"
   ]
  },
  {
   "cell_type": "code",
   "execution_count": 4,
   "metadata": {},
   "outputs": [
    {
     "data": {
      "text/plain": [
       "(1, 2, 3, [1, 2, 3], 4, 5, 6)"
      ]
     },
     "execution_count": 4,
     "metadata": {},
     "output_type": "execute_result"
    }
   ],
   "source": [
    "t=(1,2,3,[1,2,3],4,5,6)\n",
    "t"
   ]
  },
  {
   "cell_type": "code",
   "execution_count": 8,
   "metadata": {},
   "outputs": [
    {
     "name": "stdout",
     "output_type": "stream",
     "text": [
      "(1, 2, 3, 4, 5)\n"
     ]
    }
   ],
   "source": [
    "n=[]\n",
    "for i in range(0,5):\n",
    "    a=int(input(\"num :\"))\n",
    "    n.append(a)\n",
    "tup = tuple(n)\n",
    "print(tup)"
   ]
  },
  {
   "cell_type": "markdown",
   "metadata": {},
   "source": [
    "DICTIONARY"
   ]
  },
  {
   "cell_type": "code",
   "execution_count": 12,
   "metadata": {},
   "outputs": [
    {
     "data": {
      "text/plain": [
       "{'name': 'sudh', 'age': 20, 'list': [1, 2, 3]}"
      ]
     },
     "execution_count": 12,
     "metadata": {},
     "output_type": "execute_result"
    }
   ],
   "source": [
    "d=dict({'name':'sudh','age':20, 'list':[1,2,3]})\n",
    "d"
   ]
  },
  {
   "cell_type": "code",
   "execution_count": 20,
   "metadata": {},
   "outputs": [
    {
     "name": "stdout",
     "output_type": "stream",
     "text": [
      "{'2': '1', '3': '4'}\n"
     ]
    }
   ],
   "source": [
    "dicts = {}\n",
    "for i in range(2):\n",
    "    keys = input(\"Keys: \")\n",
    "    values = input(\"Values: \")\n",
    "    dicts[keys] = values\n",
    "\n",
    "print(dicts)\n"
   ]
  },
  {
   "cell_type": "code",
   "execution_count": 23,
   "metadata": {},
   "outputs": [
    {
     "data": {
      "text/plain": [
       "3"
      ]
     },
     "execution_count": 23,
     "metadata": {},
     "output_type": "execute_result"
    }
   ],
   "source": [
    "l=[1,2,3]\n",
    "len(l)"
   ]
  },
  {
   "cell_type": "code",
   "execution_count": 31,
   "metadata": {},
   "outputs": [
    {
     "data": {
      "text/plain": [
       "{'name': 'sudhar', 'age': 24, 'gender': 'male'}"
      ]
     },
     "execution_count": 31,
     "metadata": {},
     "output_type": "execute_result"
    }
   ],
   "source": [
    "Keys_list= ['name','age','gender']\n",
    "Values_list = ['sudhar',24,'male']\n",
    "\n",
    "dicts = {}\n",
    "\n",
    "for i in range(len(Keys_list)):\n",
    "    dicts[Keys_list[i]]=Values_list[i]\n",
    "\n",
    "dicts"
   ]
  },
  {
   "cell_type": "markdown",
   "metadata": {},
   "source": [
    "ZIP function"
   ]
  },
  {
   "cell_type": "code",
   "execution_count": 33,
   "metadata": {},
   "outputs": [
    {
     "name": "stdout",
     "output_type": "stream",
     "text": [
      "<zip object at 0x000002A85F32AD00>\n",
      "{'name': 'sudhar', 'age': 24, 'gender': 'male'}\n"
     ]
    }
   ],
   "source": [
    "Keys_list= ['name','age','gender']\n",
    "Values_list = ['sudhar',24,'male']\n",
    "d=zip(Keys_list,Values_list)\n",
    "print(d)\n",
    "dicts=dict(d)\n",
    "print(dicts)"
   ]
  },
  {
   "cell_type": "code",
   "execution_count": 36,
   "metadata": {},
   "outputs": [
    {
     "name": "stdout",
     "output_type": "stream",
     "text": [
      "{0: 0, 1: 1, 2: 4, 3: 9, 4: 16, 5: 25}\n",
      "{0: 0, 1: 1, 2: 4, 3: 9, 4: 16, 5: 25}\n"
     ]
    }
   ],
   "source": [
    "# comprehensive for dict\n",
    "squares = {x: x*x for x in range(6)}\n",
    "print(squares)\n",
    "\n",
    "#normal \n",
    "squares1={}\n",
    "for x in range(6):\n",
    "    squares1[x] = x*x\n",
    "print(squares1)"
   ]
  },
  {
   "cell_type": "code",
   "execution_count": 47,
   "metadata": {},
   "outputs": [
    {
     "data": {
      "text/plain": [
       "{'abc': 3, 'abcd': 4}"
      ]
     },
     "execution_count": 47,
     "metadata": {},
     "output_type": "execute_result"
    }
   ],
   "source": [
    "l=['abc','abcd']\n",
    "\n",
    "#  d= {'abc': 3,'abcd':4}\n",
    "\n",
    "d={}\n",
    "\n",
    "for i in l :\n",
    "    d[i] = len(i)\n",
    "d"
   ]
  },
  {
   "cell_type": "code",
   "execution_count": 53,
   "metadata": {},
   "outputs": [
    {
     "name": "stdout",
     "output_type": "stream",
     "text": [
      "{'abc': 3, 'abcd': 4}\n"
     ]
    }
   ],
   "source": [
    "l=['abc','abcd']\n",
    "\n",
    "#  d= {'abc': 3,'abcd':4}\n",
    "\n",
    "# dicts = {i:len(i) for x in range(len(l))}\n",
    "dicts = {i:len(i) for i in l}\n",
    "print(dicts)\n",
    "\n"
   ]
  },
  {
   "cell_type": "code",
   "execution_count": 56,
   "metadata": {},
   "outputs": [
    {
     "data": {
      "text/plain": [
       "{1: {'name': 'sudhar'}, 2: {'age': 24}, 3: {'list': [1, 2, 3]}}"
      ]
     },
     "execution_count": 56,
     "metadata": {},
     "output_type": "execute_result"
    }
   ],
   "source": [
    "people = {1: {'name':'sudhar'}, 2:{'age': 24}, 3:{'list': [1,2,3]}}\n",
    "people"
   ]
  },
  {
   "cell_type": "markdown",
   "metadata": {},
   "source": [
    "sets"
   ]
  },
  {
   "cell_type": "code",
   "execution_count": 62,
   "metadata": {},
   "outputs": [
    {
     "name": "stdout",
     "output_type": "stream",
     "text": [
      "{1, 2, 3, 4, 5, 6, 7}\n",
      "{1, 2, 3, 4, 5, 6, 7}\n",
      "{4, 5}\n",
      "{4, 5}\n",
      "{1, 2, 3}\n",
      "{1, 2, 3}\n",
      "{1, 2, 3, 6, 7}\n",
      "{1, 2, 3, 6, 7}\n"
     ]
    }
   ],
   "source": [
    "s1= {1,2,3,4,5}\n",
    "s2 = {4,5,6,7}\n",
    "\n",
    "# for union\n",
    "print(s1 | s2) # genral format\n",
    "print(s1.union(s2))     #using default fun\n",
    "\n",
    "#for intersection\n",
    "print(s1 & s2)\n",
    "print(s1.intersection(s2))\n",
    "\n",
    "#for differnce\n",
    "print(s1 - s2)\n",
    "print(s1.difference(s2))\n",
    "\n",
    "# for symmetric difference\n",
    "print(s1 ^ s2)\n",
    "print(s1.symmetric_difference(s2))\n",
    "\n"
   ]
  },
  {
   "cell_type": "code",
   "execution_count": 65,
   "metadata": {},
   "outputs": [
    {
     "name": "stdout",
     "output_type": "stream",
     "text": [
      "<class 'set'>\n",
      "<class 'list'>\n",
      "[1, 2, 3, 4]\n"
     ]
    }
   ],
   "source": [
    "l1 = [1,2,3,3,4,4]\n",
    "\n",
    "s1 = set(l1)\n",
    "\n",
    "print(type(s1))\n",
    "\n",
    "l2 = list(s1)\n",
    "\n",
    "print(type(l2))\n",
    "\n",
    "print(l2)\n"
   ]
  },
  {
   "cell_type": "code",
   "execution_count": 116,
   "metadata": {},
   "outputs": [
    {
     "name": "stdout",
     "output_type": "stream",
     "text": [
      "1\n",
      "2\n",
      "Fizz\n",
      "4\n",
      "Buzz\n",
      "Fizz\n",
      "7\n",
      "8\n",
      "Fizz\n",
      "Buzz\n",
      "11\n",
      "Fizz\n",
      "13\n",
      "14\n",
      "FizzBuzz\n",
      "16\n",
      "17\n",
      "Fizz\n",
      "19\n"
     ]
    }
   ],
   "source": [
    "n=int(input())\n",
    "for i in range(1, n):\n",
    "    if i % 3 == 0 and i % 5 == 0:\n",
    "        print(\"FizzBuzz\")\n",
    "    elif i % 3 == 0:\n",
    "        print(\"Fizz\")\n",
    "    elif i % 5 == 0:\n",
    "        print(\"Buzz\")\n",
    "    else:\n",
    "        print(i)\n"
   ]
  },
  {
   "cell_type": "code",
   "execution_count": 113,
   "metadata": {},
   "outputs": [
    {
     "name": "stdout",
     "output_type": "stream",
     "text": [
      "12354465465465465465465465465351651651651351351354465468465464684984984984684684684686565656516516516515165165165165165165165135135132135131313513513513513132132\n",
      "1235446546546546546546546546535165165165135135135446546846546468498498498468468468468656565651651651651516516516516516516516513513513213513131351351351351313213\n",
      "123544654654654654654654654653516516516513513513544654684654646849849849846846846846865656565165165165151651651651651651651651351351321351313135135135135131321\n",
      "12354465465465465465465465465351651651651351351354465468465464684984984984684684684686565656516516516515165165165165165165165135135132135131313513513513513132\n",
      "1235446546546546546546546546535165165165135135135446546846546468498498498468468468468656565651651651651516516516516516516516513513513213513131351351351351313\n",
      "123544654654654654654654654653516516516513513513544654684654646849849849846846846846865656565165165165151651651651651651651651351351321351313135135135135131\n",
      "12354465465465465465465465465351651651651351351354465468465464684984984984684684684686565656516516516515165165165165165165165135135132135131313513513513513\n",
      "1235446546546546546546546546535165165165135135135446546846546468498498498468468468468656565651651651651516516516516516516516513513513213513131351351351351\n",
      "123544654654654654654654654653516516516513513513544654684654646849849849846846846846865656565165165165151651651651651651651651351351321351313135135135135\n",
      "12354465465465465465465465465351651651651351351354465468465464684984984984684684684686565656516516516515165165165165165165165135135132135131313513513513\n",
      "1235446546546546546546546546535165165165135135135446546846546468498498498468468468468656565651651651651516516516516516516516513513513213513131351351351\n",
      "123544654654654654654654654653516516516513513513544654684654646849849849846846846846865656565165165165151651651651651651651651351351321351313135135135\n",
      "12354465465465465465465465465351651651651351351354465468465464684984984984684684684686565656516516516515165165165165165165165135135132135131313513513\n",
      "1235446546546546546546546546535165165165135135135446546846546468498498498468468468468656565651651651651516516516516516516516513513513213513131351351\n",
      "123544654654654654654654654653516516516513513513544654684654646849849849846846846846865656565165165165151651651651651651651651351351321351313135135\n",
      "12354465465465465465465465465351651651651351351354465468465464684984984984684684684686565656516516516515165165165165165165165135135132135131313513\n",
      "1235446546546546546546546546535165165165135135135446546846546468498498498468468468468656565651651651651516516516516516516516513513513213513131351\n",
      "123544654654654654654654654653516516516513513513544654684654646849849849846846846846865656565165165165151651651651651651651651351351321351313135\n",
      "12354465465465465465465465465351651651651351351354465468465464684984984984684684684686565656516516516515165165165165165165165135135132135131313\n",
      "1235446546546546546546546546535165165165135135135446546846546468498498498468468468468656565651651651651516516516516516516516513513513213513131\n",
      "123544654654654654654654654653516516516513513513544654684654646849849849846846846846865656565165165165151651651651651651651651351351321351313\n",
      "12354465465465465465465465465351651651651351351354465468465464684984984984684684684686565656516516516515165165165165165165165135135132135131\n",
      "1235446546546546546546546546535165165165135135135446546846546468498498498468468468468656565651651651651516516516516516516516513513513213513\n",
      "123544654654654654654654654653516516516513513513544654684654646849849849846846846846865656565165165165151651651651651651651651351351321351\n",
      "12354465465465465465465465465351651651651351351354465468465464684984984984684684684686565656516516516515165165165165165165165135135132135\n",
      "1235446546546546546546546546535165165165135135135446546846546468498498498468468468468656565651651651651516516516516516516516513513513213\n",
      "123544654654654654654654654653516516516513513513544654684654646849849849846846846846865656565165165165151651651651651651651651351351321\n",
      "12354465465465465465465465465351651651651351351354465468465464684984984984684684684686565656516516516515165165165165165165165135135132\n",
      "1235446546546546546546546546535165165165135135135446546846546468498498498468468468468656565651651651651516516516516516516516513513513\n",
      "123544654654654654654654654653516516516513513513544654684654646849849849846846846846865656565165165165151651651651651651651651351351\n",
      "12354465465465465465465465465351651651651351351354465468465464684984984984684684684686565656516516516515165165165165165165165135135\n",
      "1235446546546546546546546546535165165165135135135446546846546468498498498468468468468656565651651651651516516516516516516516513513\n",
      "123544654654654654654654654653516516516513513513544654684654646849849849846846846846865656565165165165151651651651651651651651351\n",
      "12354465465465465465465465465351651651651351351354465468465464684984984984684684684686565656516516516515165165165165165165165135\n",
      "1235446546546546546546546546535165165165135135135446546846546468498498498468468468468656565651651651651516516516516516516516513\n",
      "123544654654654654654654654653516516516513513513544654684654646849849849846846846846865656565165165165151651651651651651651651\n",
      "12354465465465465465465465465351651651651351351354465468465464684984984984684684684686565656516516516515165165165165165165165\n",
      "1235446546546546546546546546535165165165135135135446546846546468498498498468468468468656565651651651651516516516516516516516\n",
      "123544654654654654654654654653516516516513513513544654684654646849849849846846846846865656565165165165151651651651651651651\n",
      "12354465465465465465465465465351651651651351351354465468465464684984984984684684684686565656516516516515165165165165165165\n",
      "1235446546546546546546546546535165165165135135135446546846546468498498498468468468468656565651651651651516516516516516516\n",
      "123544654654654654654654654653516516516513513513544654684654646849849849846846846846865656565165165165151651651651651651\n",
      "12354465465465465465465465465351651651651351351354465468465464684984984984684684684686565656516516516515165165165165165\n",
      "1235446546546546546546546546535165165165135135135446546846546468498498498468468468468656565651651651651516516516516516\n",
      "123544654654654654654654654653516516516513513513544654684654646849849849846846846846865656565165165165151651651651651\n",
      "12354465465465465465465465465351651651651351351354465468465464684984984984684684684686565656516516516515165165165165\n",
      "1235446546546546546546546546535165165165135135135446546846546468498498498468468468468656565651651651651516516516516\n",
      "123544654654654654654654654653516516516513513513544654684654646849849849846846846846865656565165165165151651651651\n",
      "12354465465465465465465465465351651651651351351354465468465464684984984984684684684686565656516516516515165165165\n",
      "1235446546546546546546546546535165165165135135135446546846546468498498498468468468468656565651651651651516516516\n",
      "123544654654654654654654654653516516516513513513544654684654646849849849846846846846865656565165165165151651651\n",
      "12354465465465465465465465465351651651651351351354465468465464684984984984684684684686565656516516516515165165\n",
      "1235446546546546546546546546535165165165135135135446546846546468498498498468468468468656565651651651651516516\n",
      "123544654654654654654654654653516516516513513513544654684654646849849849846846846846865656565165165165151651\n",
      "12354465465465465465465465465351651651651351351354465468465464684984984984684684684686565656516516516515165\n",
      "1235446546546546546546546546535165165165135135135446546846546468498498498468468468468656565651651651651516\n",
      "123544654654654654654654654653516516516513513513544654684654646849849849846846846846865656565165165165151\n",
      "12354465465465465465465465465351651651651351351354465468465464684984984984684684684686565656516516516515\n",
      "1235446546546546546546546546535165165165135135135446546846546468498498498468468468468656565651651651651\n",
      "123544654654654654654654654653516516516513513513544654684654646849849849846846846846865656565165165165\n",
      "12354465465465465465465465465351651651651351351354465468465464684984984984684684684686565656516516516\n",
      "1235446546546546546546546546535165165165135135135446546846546468498498498468468468468656565651651651\n",
      "123544654654654654654654654653516516516513513513544654684654646849849849846846846846865656565165165\n",
      "12354465465465465465465465465351651651651351351354465468465464684984984984684684684686565656516516\n",
      "1235446546546546546546546546535165165165135135135446546846546468498498498468468468468656565651651\n",
      "123544654654654654654654654653516516516513513513544654684654646849849849846846846846865656565165\n",
      "12354465465465465465465465465351651651651351351354465468465464684984984984684684684686565656516\n",
      "1235446546546546546546546546535165165165135135135446546846546468498498498468468468468656565651\n",
      "123544654654654654654654654653516516516513513513544654684654646849849849846846846846865656565\n",
      "12354465465465465465465465465351651651651351351354465468465464684984984984684684684686565656\n",
      "1235446546546546546546546546535165165165135135135446546846546468498498498468468468468656565\n",
      "123544654654654654654654654653516516516513513513544654684654646849849849846846846846865656\n",
      "12354465465465465465465465465351651651651351351354465468465464684984984984684684684686565\n",
      "1235446546546546546546546546535165165165135135135446546846546468498498498468468468468656\n",
      "123544654654654654654654654653516516516513513513544654684654646849849849846846846846865\n",
      "12354465465465465465465465465351651651651351351354465468465464684984984984684684684686\n",
      "1235446546546546546546546546535165165165135135135446546846546468498498498468468468468\n",
      "123544654654654654654654654653516516516513513513544654684654646849849849846846846846\n",
      "12354465465465465465465465465351651651651351351354465468465464684984984984684684684\n",
      "1235446546546546546546546546535165165165135135135446546846546468498498498468468468\n",
      "123544654654654654654654654653516516516513513513544654684654646849849849846846846\n",
      "12354465465465465465465465465351651651651351351354465468465464684984984984684684\n",
      "1235446546546546546546546546535165165165135135135446546846546468498498498468468\n",
      "123544654654654654654654654653516516516513513513544654684654646849849849846846\n",
      "12354465465465465465465465465351651651651351351354465468465464684984984984684\n",
      "1235446546546546546546546546535165165165135135135446546846546468498498498468\n",
      "123544654654654654654654654653516516516513513513544654684654646849849849846\n",
      "12354465465465465465465465465351651651651351351354465468465464684984984984\n",
      "1235446546546546546546546546535165165165135135135446546846546468498498498\n",
      "123544654654654654654654654653516516516513513513544654684654646849849849\n",
      "12354465465465465465465465465351651651651351351354465468465464684984984\n",
      "1235446546546546546546546546535165165165135135135446546846546468498498\n",
      "123544654654654654654654654653516516516513513513544654684654646849849\n",
      "12354465465465465465465465465351651651651351351354465468465464684984\n",
      "1235446546546546546546546546535165165165135135135446546846546468498\n",
      "123544654654654654654654654653516516516513513513544654684654646849\n",
      "12354465465465465465465465465351651651651351351354465468465464684\n",
      "1235446546546546546546546546535165165165135135135446546846546468\n",
      "123544654654654654654654654653516516516513513513544654684654646\n",
      "12354465465465465465465465465351651651651351351354465468465464\n",
      "1235446546546546546546546546535165165165135135135446546846546\n",
      "123544654654654654654654654653516516516513513513544654684654\n",
      "12354465465465465465465465465351651651651351351354465468465\n",
      "1235446546546546546546546546535165165165135135135446546846\n",
      "123544654654654654654654654653516516516513513513544654684\n",
      "12354465465465465465465465465351651651651351351354465468\n",
      "1235446546546546546546546546535165165165135135135446546\n",
      "123544654654654654654654654653516516516513513513544654\n",
      "12354465465465465465465465465351651651651351351354465\n",
      "1235446546546546546546546546535165165165135135135446\n",
      "123544654654654654654654654653516516516513513513544\n",
      "12354465465465465465465465465351651651651351351354\n",
      "1235446546546546546546546546535165165165135135135\n",
      "123544654654654654654654654653516516516513513513\n",
      "12354465465465465465465465465351651651651351351\n",
      "1235446546546546546546546546535165165165135135\n",
      "123544654654654654654654654653516516516513513\n",
      "12354465465465465465465465465351651651651351\n",
      "1235446546546546546546546546535165165165135\n",
      "123544654654654654654654654653516516516513\n",
      "12354465465465465465465465465351651651651\n",
      "1235446546546546546546546546535165165165\n",
      "123544654654654654654654654653516516516\n",
      "12354465465465465465465465465351651651\n",
      "1235446546546546546546546546535165165\n",
      "123544654654654654654654654653516516\n",
      "12354465465465465465465465465351651\n",
      "1235446546546546546546546546535165\n",
      "123544654654654654654654654653516\n",
      "12354465465465465465465465465351\n",
      "1235446546546546546546546546535\n",
      "123544654654654654654654654653\n",
      "12354465465465465465465465465\n",
      "1235446546546546546546546546\n",
      "123544654654654654654654654\n",
      "12354465465465465465465465\n",
      "1235446546546546546546546\n",
      "123544654654654654654654\n",
      "12354465465465465465465\n",
      "1235446546546546546546\n",
      "123544654654654654654\n",
      "12354465465465465465\n",
      "1235446546546546546\n",
      "123544654654654654\n",
      "12354465465465465\n",
      "1235446546546546\n",
      "123544654654654\n",
      "12354465465465\n",
      "1235446546546\n",
      "123544654654\n",
      "12354465465\n",
      "1235446546\n",
      "123544654\n",
      "12354465\n",
      "1235446\n",
      "123544\n",
      "12354\n",
      "1235\n",
      "123\n",
      "12\n",
      "1\n",
      "0\n",
      "162\n"
     ]
    }
   ],
   "source": [
    "\n",
    "# finding the length of the num\n",
    "num =123544654654654654654654654653516516516513513513544654684654646849849849846846846846865656565165165165151651651651651651651651351351321351313135135135135131321321\n",
    "count = 0\n",
    "while num > 0:\n",
    "   num = num // 10 \n",
    "   print(num)\n",
    "   count = count+1 \n",
    "print(count) \n",
    "    \n",
    "\n"
   ]
  },
  {
   "cell_type": "code",
   "execution_count": 7,
   "metadata": {},
   "outputs": [
    {
     "name": "stdout",
     "output_type": "stream",
     "text": [
      "4\n"
     ]
    }
   ],
   "source": [
    "# another method to find the length of the string\n",
    "num =1234\n",
    "str1= str(num)\n",
    "print(len(str1))"
   ]
  },
  {
   "cell_type": "code",
   "execution_count": 137,
   "metadata": {},
   "outputs": [
    {
     "name": "stdout",
     "output_type": "stream",
     "text": [
      "1 0 1 3 1 0 1 3 1 0 1 3 1 0 1 3 "
     ]
    }
   ],
   "source": [
    "# print the sub strings\n",
    "'''1,10,101,1013\n",
    "0,01,013\n",
    "1,13\n",
    "3'''\n",
    "\n",
    "s='1013'\n"
   ]
  },
  {
   "cell_type": "code",
   "execution_count": 153,
   "metadata": {},
   "outputs": [
    {
     "name": "stdout",
     "output_type": "stream",
     "text": [
      "['my', 'name', 'is', 'abc']\n",
      "['abc', 'is', 'name', 'my']\n",
      "abc is name my\n"
     ]
    }
   ],
   "source": [
    "#reverse a string sentence\n",
    "\n",
    "str1 = ' my name is abc'\n",
    "l=[]\n",
    "l=str1.split()\n",
    "print(l)\n",
    "l.reverse()\n",
    "print(l)\n",
    "res = ' '.join(l)\n",
    "print(res)\n"
   ]
  },
  {
   "cell_type": "code",
   "execution_count": 6,
   "metadata": {},
   "outputs": [
    {
     "name": "stdout",
     "output_type": "stream",
     "text": [
      "8\n",
      "4\n",
      "5\n",
      "2\n"
     ]
    }
   ],
   "source": [
    "#reverse a list using loops only\n",
    "\n",
    "l=[2,5,4,8]\n",
    "for i in range(((len(l)) -1),-1,-1):\n",
    "    print(l[i])"
   ]
  },
  {
   "cell_type": "markdown",
   "metadata": {},
   "source": [
    "FUNCTIONS"
   ]
  },
  {
   "cell_type": "code",
   "execution_count": null,
   "metadata": {},
   "outputs": [],
   "source": [
    "# n=int(input())\n",
    "\n",
    "def FizBuzz (n):\n",
    "    for i in range(1, n):\n",
    "        if i % 3 == 0 and i % 5 == 0:\n",
    "            print(\"FizzBuzz\")\n",
    "        elif i % 3 == 0:\n",
    "            print(\"Fizz\")\n",
    "        elif i % 5 == 0:\n",
    "            print(\"Buzz\")\n",
    "        else:\n",
    "            print(i)\n",
    "FizBuzz(int(input()))"
   ]
  },
  {
   "cell_type": "code",
   "execution_count": null,
   "metadata": {},
   "outputs": [],
   "source": [
    "# function with return and with paraneters\n",
    "\n",
    "def add (num) -> int:\n",
    "    if num % 2 == 0:\n",
    "        return 'Even'\n",
    "    else:\n",
    "        return 'Odd'\n",
    "res = add(2)\n",
    "print(res)\n",
    "\n",
    "# function with return and without parameter\n",
    "\n",
    "def add ():\n",
    "    if 4 % 2 == 0:\n",
    "        return 'Even'\n",
    "    else:\n",
    "        return 'Odd'\n",
    "sre = add()\n",
    "print(res)\n",
    "\n",
    "# function without return and without parameter\n",
    "\n",
    "def add ():\n",
    "    if 4 % 2 == 0:\n",
    "        print ('Even')\n",
    "    else:\n",
    "        print ('Odd')\n",
    "add()\n",
    "\n",
    "# function without return and with parameter\n",
    "\n",
    "def add (n):\n",
    "    if 4 % 2 == 0:\n",
    "        print ('Even')\n",
    "    else:\n",
    "        print ('Odd')\n",
    "add(4)"
   ]
  },
  {
   "cell_type": "code",
   "execution_count": 16,
   "metadata": {},
   "outputs": [
    {
     "name": "stdout",
     "output_type": "stream",
     "text": [
      "1 2\n",
      "(3, 4)\n"
     ]
    }
   ],
   "source": [
    "# variable length arguments\n",
    "def num (name,age,*args):\n",
    "    print(name,age)\n",
    "    print(a)\n",
    "num(1,2,3,4)"
   ]
  },
  {
   "cell_type": "code",
   "execution_count": 20,
   "metadata": {},
   "outputs": [
    {
     "name": "stdout",
     "output_type": "stream",
     "text": [
      "{'a': 12, 'b': 13, 'c': 14}\n"
     ]
    }
   ],
   "source": [
    "# variable length keyword arguments\n",
    "def num(**kwargs):\n",
    "    print()\n",
    "\n",
    "num(a=12,b=13,c=14)"
   ]
  },
  {
   "cell_type": "code",
   "execution_count": 4,
   "metadata": {},
   "outputs": [
    {
     "name": "stdout",
     "output_type": "stream",
     "text": [
      "6\n"
     ]
    }
   ],
   "source": [
    "#Recursion\n",
    "\n",
    "def factorial(n):\n",
    "    if n == 1:\n",
    "        return 1\n",
    "    else:\n",
    "        return n * factorial(n-1) # -- its calls again and again untill it satisgied\n",
    "\n",
    "\n",
    "x= factorial(3)\n",
    "print (x)\n",
    "\n"
   ]
  },
  {
   "cell_type": "code",
   "execution_count": 7,
   "metadata": {},
   "outputs": [
    {
     "name": "stdout",
     "output_type": "stream",
     "text": [
      "The factorial is : 6\n"
     ]
    }
   ],
   "source": [
    "# math . factiorial\n",
    "import math\n",
    "\n",
    "print(\"The factorial is : \", end=\"\")\n",
    "print(math.factorial(3))"
   ]
  },
  {
   "cell_type": "code",
   "execution_count": 12,
   "metadata": {},
   "outputs": [
    {
     "data": {
      "text/plain": [
       "[0, 1, 2, 3, 4]"
      ]
     },
     "execution_count": 12,
     "metadata": {},
     "output_type": "execute_result"
    }
   ],
   "source": [
    "# we can use yield to return values\n",
    "    # we can't derictly print it we want to store it in a list or convert it into a tuples\n",
    "def num(a):\n",
    "    for i in range(a):\n",
    "        yield i\n",
    "\n",
    "l=[]\n",
    "for j in num(5):\n",
    "    l.append(j)\n",
    "l"
   ]
  },
  {
   "cell_type": "code",
   "execution_count": 13,
   "metadata": {},
   "outputs": [
    {
     "name": "stdout",
     "output_type": "stream",
     "text": [
      "0\n",
      "1\n",
      "2\n",
      "3\n",
      "4\n"
     ]
    }
   ],
   "source": [
    "for i in range(5):\n",
    "    print(i)"
   ]
  },
  {
   "cell_type": "code",
   "execution_count": 22,
   "metadata": {},
   "outputs": [
    {
     "data": {
      "text/plain": [
       "1"
      ]
     },
     "execution_count": 22,
     "metadata": {},
     "output_type": "execute_result"
    }
   ],
   "source": [
    "def sample(num):\n",
    "    return num\n",
    "sample(1)"
   ]
  },
  {
   "cell_type": "code",
   "execution_count": 25,
   "metadata": {},
   "outputs": [
    {
     "name": "stdout",
     "output_type": "stream",
     "text": [
      "3\n",
      "5\n",
      "7\n",
      "9\n"
     ]
    }
   ],
   "source": [
    "def calculate(num):\n",
    "    def inner_func():\n",
    "        nonlocal num\n",
    "        num += 2\n",
    "        return num\n",
    "    return inner_func\n",
    "\n",
    "odd = calculate(1)\n",
    "print (odd())\n",
    "print (odd())\n",
    "print (odd())\n",
    "print (odd())\n",
    "\n",
    "# odd2 = calculate(1)\n",
    "# print(odd2())\n",
    "# calculate(num): This is the outer function that takes a parameter num. Inside this function, there's another function, inner_func().\n",
    "# inner_func(): This is the inner function that modifies the variable num (which is defined in the outer scope of calculate).\n",
    "# nonlocal num: The nonlocal keyword allows the inner function to modify the num variable from the outer function's scope, rather than creating a new local variable inside inner_func.\n",
    "# num += 2: Each time inner_func() is called, the num is incremented by 2.\n",
    "# return num: After updating num, the function returns the updated value of num.\n",
    "# return inner_func: After defining inner_func, the outer calculate function returns a reference to inner_func.\n",
    "#  This means odd (and later odd2) will actually be a reference to inner_func, not a direct value."
   ]
  },
  {
   "cell_type": "code",
   "execution_count": 39,
   "metadata": {},
   "outputs": [
    {
     "name": "stdout",
     "output_type": "stream",
     "text": [
      "Before\n",
      "hai\n",
      "After\n",
      "hai\n"
     ]
    }
   ],
   "source": [
    "# decorator\n",
    "\n",
    "def my_deco(func):\n",
    "    def wrapper():\n",
    "        print(\"Before\")\n",
    "        func()\n",
    "        print(\"After\")\n",
    "        func()\n",
    "    return wrapper()\n",
    "\n",
    "@my_deco\n",
    "def say_something():\n",
    "    print('hai')\n",
    "\n",
    "# say_something()"
   ]
  },
  {
   "cell_type": "code",
   "execution_count": 53,
   "metadata": {},
   "outputs": [
    {
     "name": "stdout",
     "output_type": "stream",
     "text": [
      "Before\n",
      "hai\n",
      "After\n",
      "hai\n",
      "Before\n",
      "hello\n",
      "After\n",
      "hello\n"
     ]
    }
   ],
   "source": [
    "# decorator\n",
    "\n",
    "def my_deco(func):\n",
    "    def wrapper():\n",
    "        print(\"Before\")\n",
    "        func()\n",
    "        print(\"After\")\n",
    "        func()\n",
    "    return wrapper()\n",
    "\n",
    "\n",
    "@my_deco\n",
    "def say_something():\n",
    "    print('hai')\n",
    "\n",
    "# @my_deco\n",
    "# def say_something():\n",
    "#     print('hello')\n",
    "    \n",
    "\n",
    "\n",
    "# say_something()"
   ]
  },
  {
   "cell_type": "code",
   "execution_count": 55,
   "metadata": {},
   "outputs": [
    {
     "name": "stdout",
     "output_type": "stream",
     "text": [
      "a\n",
      "b\n",
      "c\n"
     ]
    }
   ],
   "source": [
    "#iterator function\n",
    "t= ('a','b','c')\n",
    "\n",
    "my_t = iter(t) # declare it\n",
    "\n",
    "print(next(my_t))   # use it\n",
    "print(next(my_t))\n",
    "print(next(my_t))\n",
    "# print(next(my_t))"
   ]
  },
  {
   "cell_type": "code",
   "execution_count": 58,
   "metadata": {},
   "outputs": [
    {
     "name": "stdout",
     "output_type": "stream",
     "text": [
      "40\n"
     ]
    }
   ],
   "source": [
    "# lambda function\n",
    "\n",
    "double  = lambda x: x * 2\n",
    "print(double(20))"
   ]
  },
  {
   "cell_type": "code",
   "execution_count": 61,
   "metadata": {},
   "outputs": [
    {
     "data": {
      "text/plain": [
       "12"
      ]
     },
     "execution_count": 61,
     "metadata": {},
     "output_type": "execute_result"
    }
   ],
   "source": [
    "a = lambda x,y,z: x+2*y+9*z\n",
    "\n",
    "answer = a(1, 1, 1)\n",
    "answer"
   ]
  },
  {
   "cell_type": "code",
   "execution_count": 63,
   "metadata": {},
   "outputs": [
    {
     "name": "stdout",
     "output_type": "stream",
     "text": [
      "12 x 1 = 12\n",
      "12 x 2 = 24\n",
      "12 x 3 = 36\n",
      "12 x 4 = 48\n",
      "12 x 5 = 60\n",
      "12 x 6 = 72\n",
      "12 x 7 = 84\n",
      "12 x 8 = 96\n",
      "12 x 9 = 108\n",
      "12 x 10 = 120\n"
     ]
    }
   ],
   "source": [
    "num=12\n",
    "for i in range (1,11):\n",
    "    print(num, 'x', i, '=', num*i)"
   ]
  },
  {
   "cell_type": "code",
   "execution_count": 84,
   "metadata": {},
   "outputs": [
    {
     "name": "stdout",
     "output_type": "stream",
     "text": [
      "5 x 5 = 5\n",
      "5 x 10 = 10\n",
      "5 x 15 = 15\n",
      "5 x 20 = 20\n",
      "5 x 25 = 25\n",
      "5 x 30 = 30\n",
      "5 x 35 = 35\n",
      "5 x 40 = 40\n",
      "5 x 45 = 45\n",
      "5 x 50 = 50\n",
      "[5, 10, 15, 20, 25, 30, 35, 40, 45, 50]\n"
     ]
    }
   ],
   "source": [
    "num =5\n",
    "multi = lambda num: [i*num for i in range(1,11)]\n",
    "a = multi(num)\n",
    "for i in a:\n",
    "    print(num, 'x', i, '=', i)\n",
    "print(a)\n",
    "\n",
    "# num = 5\n",
    "# multi = lambda num: [i * num for i in range(1, 11)]\n",
    "# a = multi(num)\n",
    "# print (a)\n",
    "\n",
    "# # for i in range(1, 11):\n",
    "# #     print(num, 'x', i, '=', i * num)\n"
   ]
  },
  {
   "cell_type": "code",
   "execution_count": 85,
   "metadata": {},
   "outputs": [
    {
     "name": "stdout",
     "output_type": "stream",
     "text": [
      "8 x 1 = 8\n",
      "8 x 2 = 16\n",
      "8 x 3 = 24\n",
      "8 x 4 = 32\n",
      "8 x 5 = 40\n",
      "8 x 6 = 48\n",
      "8 x 7 = 56\n",
      "8 x 8 = 64\n",
      "8 x 9 = 72\n",
      "8 x 10 = 80\n"
     ]
    },
    {
     "data": {
      "text/plain": [
       "[None, None, None, None, None, None, None, None, None, None]"
      ]
     },
     "execution_count": 85,
     "metadata": {},
     "output_type": "execute_result"
    }
   ],
   "source": [
    "out = lambda n: [print(f'{n} x {i} = {n*i}') for i in range(1,11)]\n",
    "out(8)"
   ]
  },
  {
   "cell_type": "markdown",
   "metadata": {},
   "source": [
    "question 1 calculate the simple intrest using function"
   ]
  },
  {
   "cell_type": "code",
   "execution_count": 101,
   "metadata": {},
   "outputs": [
    {
     "name": "stdout",
     "output_type": "stream",
     "text": [
      "1040.0\n"
     ]
    }
   ],
   "source": [
    "def simple_intrest(p,n,r):\n",
    "    intrest = (p*n*r)/100\n",
    "    return intrest + p\n",
    "\n",
    "res = simple_intrest(1000,2,2)\n",
    "# print(f'{res:.2f}')\n",
    "print (res)"
   ]
  },
  {
   "cell_type": "markdown",
   "metadata": {},
   "source": [
    "question 2 for more p n r with names\n",
    "output  = \"a's simple intrest is -- for p r n\""
   ]
  },
  {
   "cell_type": "code",
   "execution_count": 1,
   "metadata": {},
   "outputs": [
    {
     "name": "stdout",
     "output_type": "stream",
     "text": [
      "a invested 1000 with interest rate of 2% for 2 years, resulting in a total amount of 1040.0\n",
      "b invested 2000 with interest rate of 4% for 4 years, resulting in a total amount of 2320.0\n",
      "c invested 3000 with interest rate of 6% for 6 years, resulting in a total amount of 4080.0\n",
      "d invested 4000 with interest rate of 8% for 8 years, resulting in a total amount of 6560.0\n",
      "e invested 5000 with interest rate of 10% for 10 years, resulting in a total amount of 10000.0\n"
     ]
    }
   ],
   "source": [
    "# p = principle\n",
    "# r = rate of intrest\n",
    "# n = time\n",
    "\n",
    "p= [1000, 2000, 3000, 4000, 5000]\n",
    "r = [2, 4, 6, 8, 10]\n",
    "n = [2, 4, 6, 8, 10]\n",
    "name = ['a','b','c','d','e']\n",
    "si = []\n",
    "\n",
    "\n",
    "def simple_intrest(p,r,n):\n",
    "    intrest = (p*r*n)/100\n",
    "    return intrest + p\n",
    "\n",
    "\n",
    "for i in range(len(name)):\n",
    "    amount = simple_intrest(p[i], r[i], n[i])\n",
    "    si.append(amount)\n",
    "    print(f'{name[i]} invested {p[i]} with interest rate of {r[i]}% for {n[i]} years, resulting in a total amount of {si[i]}')\n",
    "# print(f'{res:.2f}')\n"
   ]
  },
  {
   "cell_type": "markdown",
   "metadata": {},
   "source": [
    "question 3 compound intrest\n",
    "formula:\n",
    "CI  = p*((1+(r/100))**n) - p"
   ]
  },
  {
   "cell_type": "code",
   "execution_count": 116,
   "metadata": {},
   "outputs": [
    {
     "name": "stdout",
     "output_type": "stream",
     "text": [
      "104.49\n"
     ]
    }
   ],
   "source": [
    "p = 1000  # Principal amount\n",
    "r = 5  # Annual interest rate (5%)\n",
    "n = 4  # Compounded quarterly\n",
    "t = 2  # Time in years\n",
    "\n",
    "a = p * (1 + r/n)**(n*t)\n",
    "ci = a-p\n",
    "print(f'{ci:.2f}')"
   ]
  },
  {
   "cell_type": "code",
   "execution_count": 119,
   "metadata": {},
   "outputs": [
    {
     "name": "stdout",
     "output_type": "stream",
     "text": [
      "a invested 1000 with intrest of 2 with Compounded quarterly is 2 for 2 years whos \n",
      "\tcompound intrest is 15000.00 \n",
      "b invested 2000 with intrest of 4 with Compounded quarterly is 4 for 4 years whos \n",
      "\tcompound intrest is 131070000.00 \n",
      "c invested 3000 with intrest of 6 with Compounded quarterly is 6 for 6 years whos \n",
      "\tcompound intrest is 206158430205000.00 \n",
      "d invested 4000 with intrest of 8 with Compounded quarterly is 8 for 8 years whos \n",
      "\tcompound intrest is 73786976294838206464000.00 \n",
      "e invested 5000 with intrest of 10 with Compounded quarterly is 10 for 10 years whos \n",
      "\tcompound intrest is 6338253001141147007483516026880000.00 \n"
     ]
    }
   ],
   "source": [
    "# p = principle\n",
    "# r = rate of intrest\n",
    "# n = time\n",
    "\n",
    "p= [1000, 2000, 3000, 4000, 5000]\n",
    "r = [2, 4, 6, 8, 10]\n",
    "n = [2, 4, 6, 8, 10]\n",
    "t = [2, 4, 6, 8, 10]\n",
    "name = ['a','b','c','d','e']\n",
    "ci = []\n",
    "\n",
    "def compound_intrest(p,r,n,t):\n",
    "    a = p * (1 + r/n)**(n*t)\n",
    "    return ci.append(a - p)\n",
    "\n",
    "for i in range(len(name)):\n",
    "    compound_intrest(p[i],r[i],n[i],t[i])\n",
    "    print(f'{name[i]} invested {p[i]} with intrest of {r[i]} with Compounded quarterly is {n[i]} for {t[i]} years whos \\n\\tcompound intrest is {ci[i]:.2f} ')"
   ]
  },
  {
   "cell_type": "markdown",
   "metadata": {},
   "source": [
    "question 1:\n",
    "Matrix program\n",
    "\n",
    "input :\n",
    "3 3\n",
    "\n",
    "output :\n",
    "1 2 3\n",
    "4 5 6\n",
    "7 8 9"
   ]
  },
  {
   "cell_type": "code",
   "execution_count": 153,
   "metadata": {},
   "outputs": [
    {
     "name": "stdout",
     "output_type": "stream",
     "text": [
      "1 2 3 \n",
      "1 2 3 \n",
      "1 2 3 \n",
      "\n",
      "1 2 3 \n",
      "4 5 6 \n",
      "7 8 9 \n"
     ]
    }
   ],
   "source": [
    "def matrix(row, col):\n",
    "    for i in range(1,row+1):\n",
    "        for j in range(1,col+1):\n",
    "            print(j*1,end=' ')\n",
    "        print() \n",
    "matrix(3,3)\n",
    "# res = matrix(3,3)\n",
    "# print(res)\n",
    "\n",
    "print()\n",
    "\n",
    "def matrix(row, col):\n",
    "    num = 1\n",
    "    for i in range(row):\n",
    "        for j in range(col):\n",
    "            print(num, end=' ')\n",
    "            num += 1\n",
    "        print()\n",
    "\n",
    "matrix(3, 3)\n"
   ]
  },
  {
   "cell_type": "markdown",
   "metadata": {},
   "source": [
    "question 2:\n",
    "find the max of the three numbers"
   ]
  },
  {
   "cell_type": "code",
   "execution_count": 166,
   "metadata": {},
   "outputs": [
    {
     "name": "stdout",
     "output_type": "stream",
     "text": [
      "max value is : 3\n",
      "a 3 is max\n"
     ]
    }
   ],
   "source": [
    "# by using default function\n",
    "def maximum1(a,b,c):\n",
    "    return max(a,b,c)\n",
    "\n",
    "res = maximum1(1,2,3)\n",
    "print('max value is :',res)\n",
    "\n",
    "# using if condition\n",
    "def maximum2(a,b,c):\n",
    "    if a > b and a > c:\n",
    "        print (f'a {a} is max')\n",
    "    elif b > c:\n",
    "        print (f'b {b} is max')\n",
    "    else:\n",
    "        print (f'c {c} is max')\n",
    "maximum2(3,1,1)\n"
   ]
  },
  {
   "cell_type": "markdown",
   "metadata": {},
   "source": [
    "question 3:\n",
    "sum of all numbers in a list\n",
    "using sum and without sum"
   ]
  },
  {
   "cell_type": "code",
   "execution_count": 182,
   "metadata": {},
   "outputs": [
    {
     "name": "stdout",
     "output_type": "stream",
     "text": [
      "13\n",
      "13\n"
     ]
    }
   ],
   "source": [
    "list = [2,2,5,4]\n",
    "\n",
    "# using sum function\n",
    "def add1():\n",
    "    return sum(list)\n",
    "res1 = add1()\n",
    "print(res1)\n",
    "\n",
    "# without using sum function\n",
    "def add2():\n",
    "    temp = 0\n",
    "    for i in list:\n",
    "        temp = temp+i \n",
    "    return temp\n",
    "res2 = add2()\n",
    "print(res2)"
   ]
  },
  {
   "cell_type": "markdown",
   "metadata": {},
   "source": [
    "question 4:\n",
    "reverse a string without using inbuilt function\n"
   ]
  },
  {
   "cell_type": "code",
   "execution_count": null,
   "metadata": {},
   "outputs": [],
   "source": []
  },
  {
   "cell_type": "markdown",
   "metadata": {},
   "source": [
    "question 5:\n",
    "calulate the factiorial of a num(a non negative - intiger)\n"
   ]
  },
  {
   "cell_type": "markdown",
   "metadata": {},
   "source": [
    "question 6:\n",
    "number gussiing game"
   ]
  },
  {
   "cell_type": "code",
   "execution_count": 201,
   "metadata": {},
   "outputs": [
    {
     "name": "stdout",
     "output_type": "stream",
     "text": [
      "sorry\n",
      "Correct answer..\n"
     ]
    }
   ],
   "source": [
    "list = [5,8,6,1,4,2,7]\n",
    "# with using in\n",
    "def guessing1(num):\n",
    "    if num in list:\n",
    "        return 'correct'\n",
    "    else:\n",
    "        return 'sorry'\n",
    "res1 = guessing1(3)\n",
    "print(res1)\n",
    "\n",
    "# without using in \n",
    "def guessing2(num):\n",
    "    for i in list:\n",
    "        if num == i:\n",
    "            return 'Correct answer..'\n",
    "    return '!You guessed wrong..'\n",
    "res2= guessing2(6)\n",
    "print(res2)"
   ]
  },
  {
   "cell_type": "markdown",
   "metadata": {},
   "source": [
    "question 7:\n",
    "num of upper and lower case in a string"
   ]
  },
  {
   "cell_type": "code",
   "execution_count": 218,
   "metadata": {},
   "outputs": [
    {
     "name": "stdout",
     "output_type": "stream",
     "text": [
      "LowerCase count: 3\n",
      "UpperCase count: 1\n"
     ]
    }
   ],
   "source": [
    "#\n",
    "# lcount = 0\n",
    "# ucount = 0\n",
    "def checkUpLw (string):\n",
    "    lcount = 0\n",
    "    ucount = 0\n",
    "    for i in string:\n",
    "        if i.isupper():\n",
    "            ucount = ucount + 1\n",
    "        else:\n",
    "            lcount = lcount + 1\n",
    "    print (f'LowerCase count: {lcount}\\nUpperCase count: {ucount}')\n",
    "checkUpLw('Sudh')"
   ]
  },
  {
   "cell_type": "markdown",
   "metadata": {},
   "source": [
    "questoin 8:\n",
    "takes a list and return a new list with unique elements of first list"
   ]
  },
  {
   "cell_type": "code",
   "execution_count": 228,
   "metadata": {},
   "outputs": [
    {
     "name": "stdout",
     "output_type": "stream",
     "text": [
      "[1, 2, 3, 41]\n"
     ]
    }
   ],
   "source": [
    "l1 = [1, 2, 3, 41, 41]\n",
    "l2 = []\n",
    "\n",
    "def find_unique():\n",
    "    for item in l1:\n",
    "        if item not in l2:  # Check if item is not already in l2\n",
    "            l2.append(item)\n",
    "    return l2\n",
    "\n",
    "res = find_unique()\n",
    "print(res)\n"
   ]
  },
  {
   "cell_type": "markdown",
   "metadata": {},
   "source": [
    "question 9:\n",
    "create a pascel triangle"
   ]
  },
  {
   "cell_type": "markdown",
   "metadata": {},
   "source": [
    "question 10:\n",
    "input:\n",
    "\"-red-green-yellow\"\n",
    "output:\n",
    "\"green-red-yellow\"\n",
    "\n",
    "sort in alphabet order"
   ]
  },
  {
   "cell_type": "markdown",
   "metadata": {},
   "source": [
    "Regular expression\n",
    "aka\n",
    "regex\n",
    "* findall\n",
    "* search\n",
    "* split\n",
    "* sub"
   ]
  },
  {
   "cell_type": "code",
   "execution_count": 234,
   "metadata": {},
   "outputs": [
    {
     "name": "stdout",
     "output_type": "stream",
     "text": [
      "[]\n"
     ]
    }
   ],
   "source": [
    "#findall in regex\n",
    "import re\n",
    "\n",
    "txt = 'The rain in Spain'\n",
    "x = re.findall('Spain', txt)\n",
    "print(x)"
   ]
  },
  {
   "cell_type": "code",
   "execution_count": 255,
   "metadata": {},
   "outputs": [
    {
     "name": "stdout",
     "output_type": "stream",
     "text": [
      "no match found\n"
     ]
    }
   ],
   "source": [
    "# search in regex\n",
    "import re\n",
    "txt = 'The rain in Spain'\n",
    "x = re.search('spain', txt)\n",
    "if x:\n",
    "    print('match founf')\n",
    "else:\n",
    "    print('no match found')"
   ]
  },
  {
   "cell_type": "code",
   "execution_count": 251,
   "metadata": {},
   "outputs": [
    {
     "name": "stdout",
     "output_type": "stream",
     "text": [
      "['The', 'rain', 'in', 'Spain']\n"
     ]
    },
    {
     "name": "stderr",
     "output_type": "stream",
     "text": [
      "<>:6: SyntaxWarning: invalid escape sequence '\\s'\n",
      "<>:6: SyntaxWarning: invalid escape sequence '\\s'\n",
      "C:\\Users\\sudharsan.m1\\AppData\\Local\\Temp\\ipykernel_17428\\1249514330.py:6: SyntaxWarning: invalid escape sequence '\\s'\n",
      "  x = re.split('\\s',txt)  # removes the white spaces\n"
     ]
    }
   ],
   "source": [
    "# split in regex\n",
    "\n",
    "import re\n",
    "\n",
    "txt = 'The rain in Spain'\n",
    "x = re.split('\\s',txt)  # removes the white spaces\n",
    "print(x)"
   ]
  },
  {
   "cell_type": "code",
   "execution_count": 252,
   "metadata": {},
   "outputs": [
    {
     "name": "stdout",
     "output_type": "stream",
     "text": [
      "cd\n",
      "ef\n"
     ]
    }
   ],
   "source": [
    "# group in regex and search with some patterns\n",
    "import re\n",
    "\n",
    "s = 'abcd\\nefgh\\nijkl\\nmop\\n'\n",
    "n= re.search('Cd.Ef',s,re.DOTALL | re.I)\n",
    "if n:\n",
    "    print(n.group())\n",
    "else:\n",
    "    print('no')"
   ]
  },
  {
   "cell_type": "code",
   "execution_count": 270,
   "metadata": {},
   "outputs": [
    {
     "name": "stdout",
     "output_type": "stream",
     "text": [
      "quantum@test.com\tMatch Found...\n",
      "quantum2@test.\tMatch not found\n"
     ]
    }
   ],
   "source": [
    "# email patter in regex\n",
    "import re\n",
    "\n",
    "email_list = ['quantum@test.com','quantum2@test.']\n",
    "\n",
    "pattern = r'^[a-zA-Z0-9._]+@+[a-zA-Z]+\\.+[a-zA-Z]{2,}$'\n",
    "\n",
    "for i in email_list:\n",
    "    if re.match(pattern, i):\n",
    "        print(f'{i}\\tMatch Found...')\n",
    "    else:\n",
    "        print(f'{i}\\tMatch not found')"
   ]
  },
  {
   "cell_type": "code",
   "execution_count": 272,
   "metadata": {},
   "outputs": [
    {
     "name": "stdout",
     "output_type": "stream",
     "text": [
      "https://www1.google.com\tMatch not found\n"
     ]
    }
   ],
   "source": [
    "# regex pattern to website URL\n",
    "\n",
    "import re\n",
    "\n",
    "Url_list = ['https://www.google.com']\n",
    "\n",
    "pattern = r'^https+:+//+www+\\.+[a-zA-Z0-9]+\\.+[a-zA-Z]{2,}$'\n",
    "\n",
    "for i in Url_list:\n",
    "    if re.match(pattern, i):\n",
    "        print(f'{i}\\tMatch Found...')\n",
    "    else:\n",
    "        print(f'{i}\\tMatch not found')"
   ]
  },
  {
   "cell_type": "code",
   "execution_count": 275,
   "metadata": {},
   "outputs": [
    {
     "name": "stdout",
     "output_type": "stream",
     "text": [
      "92.56.0.3\tMatch Found...\n"
     ]
    }
   ],
   "source": [
    "# regex pattern to check the ip\n",
    "\n",
    "import re\n",
    "\n",
    "ip_list = ['92.56.0.3']\n",
    "\n",
    "pattern = r'^((25[0-5]|2[0-4][0-9]|[01]?[0-9][0-9]?)\\.){3}(25[0-5]|2[0-4][0-9]|[01]?[0-9][0-9]?)$'\n",
    "\n",
    "\n",
    "for i in ip_list:\n",
    "    if re.match(pattern, i):\n",
    "        print(f'{i}\\tMatch Found...')\n",
    "    else:\n",
    "        print(f'{i}\\tMatch not found')"
   ]
  },
  {
   "cell_type": "markdown",
   "metadata": {},
   "source": [
    "HASHES IN PYTHON"
   ]
  },
  {
   "cell_type": "code",
   "execution_count": 17,
   "metadata": {},
   "outputs": [
    {
     "name": "stdout",
     "output_type": "stream",
     "text": [
      "-8424775258384717612\n",
      "5243313762359962469\n",
      "5706330484707456975\n"
     ]
    }
   ],
   "source": [
    "print(hash('1,2,3'))\n",
    "print(hash('abc'))\n",
    "print(hash('skjdsbfsdfbsidfiahdifhgayuiogfihabfafihaoyfhia'))"
   ]
  },
  {
   "cell_type": "code",
   "execution_count": 21,
   "metadata": {},
   "outputs": [
    {
     "name": "stdout",
     "output_type": "stream",
     "text": [
      "gusrented\n",
      "{'sha224', 'sha1', 'shake_128', 'sha3_384', 'shake_256', 'blake2s', 'sha512', 'sha3_512', 'sha384', 'sha256', 'md5', 'blake2b', 'sha3_224', 'sha3_256'}\n",
      "avilable\n",
      "{'sha384', 'sha256', 'blake2b', 'sha224', 'ripemd160', 'md5-sha1', 'shake_256', 'sha3_512', 'md5', 'sha3_256', 'sha512_256', 'sha1', 'sha512_224', 'shake_128', 'sm3', 'sha3_384', 'sha512', 'sha3_224', 'blake2s'}\n"
     ]
    }
   ],
   "source": [
    "import hashlib\n",
    "\n",
    "print('gusrented')\n",
    "print(hashlib.algorithms_guaranteed)\n",
    "print('avilable')\n",
    "print(hashlib.algorithms_available)"
   ]
  },
  {
   "cell_type": "code",
   "execution_count": 24,
   "metadata": {},
   "outputs": [
    {
     "name": "stdout",
     "output_type": "stream",
     "text": [
      "b'f\\xc7\\xf0\\xf4b\\xee\\xed\\xd9\\xd1\\xf2\\xd4k\\xdc\\x10\\xe4\\xe2Ag\\xc4\\x87\\\\\\xf2\\xf7\\xa2)}\\xa0+\\x8fK\\xa8\\xe0'\n",
      "66c7f0f462eeedd9d1f2d46bdc10e4e24167c4875cf2f7a2297da02b8f4ba8e0\n"
     ]
    }
   ],
   "source": [
    "h= hashlib.new('sm3')\n",
    "h.update(b'abc')\n",
    "print(h.digest())\n",
    "print(h.hexdigest())"
   ]
  },
  {
   "cell_type": "code",
   "execution_count": 35,
   "metadata": {},
   "outputs": [
    {
     "name": "stdout",
     "output_type": "stream",
     "text": [
      "bbb59da3af939f7af5f360f2ceb80a496e3bae1cd87dde426db0ae40677e1c2c\n",
      "bbb59da3af939f7af5f360f2ceb80a496e3bae1cd87dde426db0ae40677e1c2c\n",
      "correct\n"
     ]
    }
   ],
   "source": [
    "h1= hashlib.new('sha256')\n",
    "Password = 'abc'\n",
    "h1.update(Password.encode())\n",
    "Password_hash = h.hexdigest()\n",
    "print(Password_hash)\n",
    "\n",
    "h2= hashlib.new('sha256')\n",
    "mypassword = 'abc'\n",
    "h2.update(mypassword.encode())\n",
    "Password_hash1 = h.hexdigest()\n",
    "print(Password_hash1)\n",
    "if Password_hash1 == Password_hash:\n",
    "    print('correct')\n",
    "else:\n",
    "    print('wrong')"
   ]
  },
  {
   "cell_type": "markdown",
   "metadata": {},
   "source": [
    "MAP() FUNCTION\n",
    "it uses map(function, data)"
   ]
  },
  {
   "cell_type": "code",
   "execution_count": 6,
   "metadata": {},
   "outputs": [
    {
     "data": {
      "text/plain": [
       "[3.14, 12.56, 28.26, 50.24, 94.985]"
      ]
     },
     "execution_count": 6,
     "metadata": {},
     "output_type": "execute_result"
    }
   ],
   "source": [
    "list1 = [1,2,3,4,5.5]\n",
    "def area(r):\n",
    "    a = 3.14*r**2\n",
    "    return a\n",
    "res = map(area,list1)\n",
    "list(res)"
   ]
  },
  {
   "cell_type": "code",
   "execution_count": 16,
   "metadata": {},
   "outputs": [
    {
     "data": {
      "text/plain": [
       "[3.14, 12.56, 28.26, 50.24, 94.985]"
      ]
     },
     "execution_count": 16,
     "metadata": {},
     "output_type": "execute_result"
    }
   ],
   "source": [
    "samplelist = [1, 2, 3, 4, 5.5]\n",
    "area_of_circle = map(lambda r: 3.14 * r ** 2, samplelist)\n",
    "list(area_of_circle)\n"
   ]
  },
  {
   "cell_type": "markdown",
   "metadata": {},
   "source": [
    "FILTER IN PYTHON\n",
    "with filter you can filter out with specific details"
   ]
  },
  {
   "cell_type": "code",
   "execution_count": 15,
   "metadata": {},
   "outputs": [
    {
     "name": "stdout",
     "output_type": "stream",
     "text": [
      "1.975\n",
      "[2.2, 2.3, 2.4]\n"
     ]
    }
   ],
   "source": [
    "import  statistics as st\n",
    "\n",
    "datalist = [1,2.2,2.3,2.4]\n",
    "mean = st.mean(datalist)\n",
    "print(mean)\n",
    "\n",
    "fr = filter(lambda x:x>mean,datalist)\n",
    "print(list(fr))"
   ]
  },
  {
   "cell_type": "code",
   "execution_count": 14,
   "metadata": {},
   "outputs": [
    {
     "data": {
      "text/plain": [
       "['sudhar', 'something']"
      ]
     },
     "execution_count": 14,
     "metadata": {},
     "output_type": "execute_result"
    }
   ],
   "source": [
    "import  statistics as st\n",
    "\n",
    "datastr = ['','sudhar','','something']\n",
    "list(filter(None,datastr))"
   ]
  },
  {
   "cell_type": "markdown",
   "metadata": {},
   "source": [
    "REDUCE FUNCTION IMPORT BY functools"
   ]
  },
  {
   "cell_type": "code",
   "execution_count": 26,
   "metadata": {},
   "outputs": [
    {
     "data": {
      "text/plain": [
       "120"
      ]
     },
     "execution_count": 26,
     "metadata": {},
     "output_type": "execute_result"
    }
   ],
   "source": [
    "from functools import reduce\n",
    "data = [2,3,5,4]\n",
    "multiply = lambda x,y:x*y\n",
    "reduce(multiply,data)"
   ]
  },
  {
   "cell_type": "markdown",
   "metadata": {},
   "source": [
    "RANDOM FUNCTION IMPORT BY random"
   ]
  },
  {
   "cell_type": "code",
   "execution_count": 105,
   "metadata": {},
   "outputs": [
    {
     "name": "stdout",
     "output_type": "stream",
     "text": [
      "0.3025522735237095\n",
      "\n",
      "random number with start and stop 1\n",
      "\n",
      "random number with start and stop and step 31\n",
      "\n",
      "choose string with random  b\n",
      "\n",
      "choose string in the given string r\n",
      "\n",
      "shuffle the numbers [3, 1, 2]\n"
     ]
    }
   ],
   "source": [
    "import random\n",
    "\n",
    "print(random.random())\n",
    "print()\n",
    "print('random number with start and stop',random.randint(1,10)) # start stop\n",
    "print()\n",
    "print('random number with start and stop and step',random.randrange(1,50,10)) # start stop step\n",
    "print()\n",
    "num = ('a','b','c')\n",
    "print('choose string with random ',random.choice(num))\n",
    "print()\n",
    "print('choose string in the given string',random.choice('computer'))\n",
    "print()\n",
    "numbers = [1,2,3]\n",
    "random.shuffle(numbers)\n",
    "print('shuffle the numbers',numbers)"
   ]
  },
  {
   "cell_type": "markdown",
   "metadata": {},
   "source": [
    "NUMBER GUSSING GAME IN PYTHIN USING RANDOM"
   ]
  },
  {
   "cell_type": "code",
   "execution_count": 103,
   "metadata": {},
   "outputs": [
    {
     "name": "stdout",
     "output_type": "stream",
     "text": [
      "1\n",
      "You guessed correct..\n"
     ]
    }
   ],
   "source": [
    "import random\n",
    "\n",
    "system_generated = random.randint(1,5)\n",
    "print(system_generated)\n",
    "\n",
    "while True:\n",
    "    user_input = int(input(\"Enter the number within 1 to 5: \") )\n",
    "    if system_generated == user_input:\n",
    "        print('You guessed correct..')\n",
    "        break\n",
    "    else:\n",
    "        print('!Wrong answer. Try again')\n",
    "    "
   ]
  },
  {
   "cell_type": "markdown",
   "metadata": {},
   "source": [
    "Math in python\n",
    "import using math\n",
    "use this link to learn https://docs.python.org/3/library/math.html"
   ]
  },
  {
   "cell_type": "code",
   "execution_count": 117,
   "metadata": {},
   "outputs": [
    {
     "name": "stdout",
     "output_type": "stream",
     "text": [
      "Number-theoretic functions\n",
      "gcd 1\n",
      "square root 1\n",
      "\n"
     ]
    }
   ],
   "source": [
    "import math\n",
    "\n",
    "a,b,c=1,2,3\n",
    "\n",
    "\n",
    "# Number-theoretic functions\n",
    "print('Number-theoretic functions')\n",
    "print('gcd',math.gcd(a, b))\n",
    "print('square root',math.isqrt(c))\n",
    "print()"
   ]
  },
  {
   "cell_type": "markdown",
   "metadata": {},
   "source": [
    "date time module in python"
   ]
  },
  {
   "cell_type": "code",
   "execution_count": 135,
   "metadata": {},
   "outputs": [
    {
     "name": "stdout",
     "output_type": "stream",
     "text": [
      "2024-12-19 16:35:48.083633\n"
     ]
    },
    {
     "data": {
      "text/plain": [
       "tuple"
      ]
     },
     "execution_count": 135,
     "metadata": {},
     "output_type": "execute_result"
    }
   ],
   "source": [
    "from datetime import datetime\n",
    "now = datetime.now()\n",
    "print (now)\n",
    "type(num)\n"
   ]
  },
  {
   "cell_type": "code",
   "execution_count": 139,
   "metadata": {},
   "outputs": [
    {
     "data": {
      "text/plain": [
       "'06,09,2011'"
      ]
     },
     "execution_count": 139,
     "metadata": {},
     "output_type": "execute_result"
    }
   ],
   "source": [
    "import datetime\n",
    "d= datetime.datetime.strptime('2011-06-09', '%Y-%m-%d')\n",
    "d.strftime('%m,%d,%Y')"
   ]
  },
  {
   "cell_type": "markdown",
   "metadata": {},
   "source": [
    "OS in python"
   ]
  },
  {
   "cell_type": "code",
   "execution_count": 155,
   "metadata": {},
   "outputs": [
    {
     "name": "stdout",
     "output_type": "stream",
     "text": [
      "<class 'str'>\n",
      "c:\\Users\\sudharsan.m1\\Desktop\\quantum\\python\n"
     ]
    }
   ],
   "source": [
    "import os\n",
    "\n",
    "a = os.getcwd()\n",
    "\n",
    "print(type(a))\n",
    "print(a)"
   ]
  },
  {
   "cell_type": "code",
   "execution_count": 145,
   "metadata": {},
   "outputs": [],
   "source": [
    "import os\n",
    "\n",
    "folder_path = ''\n",
    "\n",
    "if not os.path.exists(folder_path):\n",
    "    os.makedirs(folder_path)\n",
    "else:\n",
    "    print('path already exists')"
   ]
  },
  {
   "cell_type": "code",
   "execution_count": null,
   "metadata": {},
   "outputs": [],
   "source": [
    "import os\n",
    "\n",
    "for dirpath,dirnames,filenames in os.walk(''):\n",
    "    print('curent path : ',dirpath)\n",
    "    print('dirs : ',dirnames)\n",
    "    print('files : ',filenames)\n",
    "    print()"
   ]
  },
  {
   "cell_type": "markdown",
   "metadata": {},
   "source": [
    "statistics in python"
   ]
  },
  {
   "cell_type": "code",
   "execution_count": 161,
   "metadata": {},
   "outputs": [
    {
     "name": "stdout",
     "output_type": "stream",
     "text": [
      "file closed or not :  True\n"
     ]
    }
   ],
   "source": [
    "with open('demo.txt','w+') as f:\n",
    "    pass\n",
    "print('file closed or not : ', f.closed)"
   ]
  },
  {
   "cell_type": "code",
   "execution_count": 168,
   "metadata": {},
   "outputs": [
    {
     "name": "stdout",
     "output_type": "stream",
     "text": [
      "something\n"
     ]
    }
   ],
   "source": [
    "with open('demo.txt','r') as f:\n",
    "    r = f.read()\n",
    "    print(r)\n",
    "# print('file closed or not', f.closed)"
   ]
  },
  {
   "cell_type": "code",
   "execution_count": 183,
   "metadata": {},
   "outputs": [
    {
     "name": "stdout",
     "output_type": "stream",
     "text": [
      "['quantum\\\\svarma\\n', 'varma']\n"
     ]
    }
   ],
   "source": [
    "with open('demo.txt','r') as f:\n",
    "    r = f.readlines()\n",
    "    print(r)"
   ]
  },
  {
   "cell_type": "code",
   "execution_count": 165,
   "metadata": {},
   "outputs": [
    {
     "name": "stdout",
     "output_type": "stream",
     "text": [
      ";fnwjkenbfjk\n",
      "\n",
      "sd\n",
      "\n",
      "as\n",
      "\n",
      "sad\n",
      "\n",
      "sadda\n",
      "\n"
     ]
    }
   ],
   "source": [
    "with open('demo.txt','r') as f:\n",
    "    for i in range(5):\n",
    "        r = f.readline()\n",
    "        print(r)"
   ]
  },
  {
   "cell_type": "code",
   "execution_count": 182,
   "metadata": {},
   "outputs": [],
   "source": [
    "with open('demo.txt','a') as f:\n",
    "    f.write('\\nvarma')"
   ]
  },
  {
   "cell_type": "code",
   "execution_count": 191,
   "metadata": {},
   "outputs": [
    {
     "name": "stdout",
     "output_type": "stream",
     "text": [
      "quantum\\svarma\n",
      "\n"
     ]
    },
    {
     "ename": "TypeError",
     "evalue": "'<' not supported between instances of 'str' and 'int'",
     "output_type": "error",
     "traceback": [
      "\u001b[1;31m---------------------------------------------------------------------------\u001b[0m",
      "\u001b[1;31mTypeError\u001b[0m                                 Traceback (most recent call last)",
      "Cell \u001b[1;32mIn[191], line 4\u001b[0m\n\u001b[0;32m      2\u001b[0m r \u001b[38;5;241m=\u001b[39m f\u001b[38;5;241m.\u001b[39mreadline()\n\u001b[0;32m      3\u001b[0m \u001b[38;5;28mprint\u001b[39m(r)\n\u001b[1;32m----> 4\u001b[0m seeks \u001b[38;5;241m=\u001b[39m \u001b[43mf\u001b[49m\u001b[38;5;241;43m.\u001b[39;49m\u001b[43mseek\u001b[49m\u001b[43m(\u001b[49m\u001b[38;5;124;43m\"\u001b[39;49m\u001b[38;5;124;43mR\u001b[39;49m\u001b[38;5;124;43m\"\u001b[39;49m\u001b[43m)\u001b[49m\n\u001b[0;32m      5\u001b[0m \u001b[38;5;28mprint\u001b[39m(seeks)\n\u001b[0;32m      6\u001b[0m tells \u001b[38;5;241m=\u001b[39m f\u001b[38;5;241m.\u001b[39mtell()\n",
      "\u001b[1;31mTypeError\u001b[0m: '<' not supported between instances of 'str' and 'int'"
     ]
    }
   ],
   "source": [
    "with open('demo.txt','r') as f:\n",
    "    r = f.readline()\n",
    "    print(r)\n",
    "    seeks = f.seek(\"R\")\n",
    "    print(seeks)\n",
    "    tells = f.tell()\n",
    "    print(tells)\n"
   ]
  },
  {
   "cell_type": "code",
   "execution_count": 200,
   "metadata": {},
   "outputs": [
    {
     "name": "stdout",
     "output_type": "stream",
     "text": [
      "quantum\n",
      "sudhar\n",
      "varma\n",
      "kowshik\n",
      "\n",
      "\n",
      "m\n",
      "sudhar\n",
      "varma\n",
      "kowshik\n",
      "\n"
     ]
    },
    {
     "ename": "UnsupportedOperation",
     "evalue": "can't do nonzero cur-relative seeks",
     "output_type": "error",
     "traceback": [
      "\u001b[1;31m---------------------------------------------------------------------------\u001b[0m",
      "\u001b[1;31mUnsupportedOperation\u001b[0m                      Traceback (most recent call last)",
      "Cell \u001b[1;32mIn[200], line 18\u001b[0m\n\u001b[0;32m     15\u001b[0m \u001b[38;5;28mprint\u001b[39m()\n\u001b[0;32m     17\u001b[0m \u001b[38;5;66;03m# Move 5 bytes forward from the current position\u001b[39;00m\n\u001b[1;32m---> 18\u001b[0m \u001b[43mfile\u001b[49m\u001b[38;5;241;43m.\u001b[39;49m\u001b[43mseek\u001b[49m\u001b[43m(\u001b[49m\u001b[38;5;241;43m5\u001b[39;49m\u001b[43m,\u001b[49m\u001b[43m \u001b[49m\u001b[38;5;241;43m1\u001b[39;49m\u001b[43m)\u001b[49m\n\u001b[0;32m     20\u001b[0m \u001b[38;5;66;03m# Read the next 5 bytes\u001b[39;00m\n\u001b[0;32m     21\u001b[0m data_after_seek \u001b[38;5;241m=\u001b[39m file\u001b[38;5;241m.\u001b[39mread()\n",
      "\u001b[1;31mUnsupportedOperation\u001b[0m: can't do nonzero cur-relative seeks"
     ]
    }
   ],
   "source": [
    "# Open a file in binary mode\n",
    "with open(\"demo.txt\", \"r\") as file:\n",
    "    # Read the first 10 bytes\n",
    "    data = file.read()\n",
    "    print(data)\n",
    "    print()\n",
    "\n",
    "    # Move the cursor back to the beginning of the file\n",
    "    file.seek(6)\n",
    "\n",
    "    # Read the first 10 bytes again\n",
    "    data_again = file.read()\n",
    "    print(data_again)\n",
    "    print()\n",
    "\n",
    "    # Move 5 bytes forward from the current position\n",
    "    file.seek(5, 1)\n",
    "\n",
    "    # Read the next 5 bytes\n",
    "    data_after_seek = file.read()\n",
    "    print(data_after_seek)\n",
    "    print()\n",
    "\n",
    "    # Move 3 bytes from the end of the file\n",
    "    file.seek(-3, 2)\n",
    "\n",
    "    # Read the last 3 bytes\n",
    "    data_from_end = file.read()\n",
    "    print(data_from_end)\n"
   ]
  },
  {
   "cell_type": "code",
   "execution_count": 203,
   "metadata": {},
   "outputs": [],
   "source": [
    "with open('demo.txt','r') as rf:\n",
    "    with open('demo_copy.txt','w') as wf:\n",
    "        for line in rf:\n",
    "            wf.write(line)"
   ]
  },
  {
   "cell_type": "markdown",
   "metadata": {},
   "source": [
    "json in python"
   ]
  },
  {
   "cell_type": "code",
   "execution_count": 226,
   "metadata": {},
   "outputs": [
    {
     "name": "stdout",
     "output_type": "stream",
     "text": [
      "<class '_io.TextIOWrapper'>\n",
      "<class 'dict'>\n"
     ]
    }
   ],
   "source": [
    "import json\n",
    "with open('text.json','w')as j:\n",
    "    data = {}\n",
    "    data['key'] = 'value'\n",
    "    json.dump(data,j)\n",
    "    print(type(j))\n",
    "    print(type(data))"
   ]
  },
  {
   "cell_type": "code",
   "execution_count": 216,
   "metadata": {},
   "outputs": [
    {
     "name": "stdout",
     "output_type": "stream",
     "text": [
      "{'name': 'sudhar', 'age': 24, 'city': 'karur'}\n"
     ]
    }
   ],
   "source": [
    "with open('text.json','r')as j:\n",
    "    data = j.read()\n",
    "    jsondata = json.loads(data)\n",
    "    print(jsondata)"
   ]
  },
  {
   "cell_type": "code",
   "execution_count": 223,
   "metadata": {},
   "outputs": [
    {
     "name": "stdout",
     "output_type": "stream",
     "text": [
      "<class 'str'>\n"
     ]
    }
   ],
   "source": [
    "document = {\n",
    "    'name' : 'sudhar',\n",
    "    'age' : 24,\n",
    "    'city': 'karur'\n",
    "}\n",
    "res = json.dumps(document,indent=4)\n",
    "print(type(res))\n",
    "\n",
    "with open('text.json','w') as j:\n",
    "    j.write(res)"
   ]
  },
  {
   "cell_type": "markdown",
   "metadata": {},
   "source": [
    "CSV files in python"
   ]
  },
  {
   "cell_type": "code",
   "execution_count": 245,
   "metadata": {},
   "outputs": [],
   "source": [
    "#writing a csv file as list\n",
    "import csv\n",
    "data = [['name','age','sec'],['sudh',24,'A'],['quantum',23,'b']]\n",
    "with open('text.csv','w')as j:\n",
    "    writer = csv.writer(j)  #\n",
    "    writer.writerows(data)  # Write all rows to the file"
   ]
  },
  {
   "cell_type": "code",
   "execution_count": 251,
   "metadata": {},
   "outputs": [],
   "source": [
    "# writing a csv file as dict\n",
    "import csv\n",
    "\n",
    "# Data to be serialized (list of dictionaries)\n",
    "data = [\n",
    "    {\"Name\": \"John\", \"Age\": 30, \"City\": \"New York\"},\n",
    "    {\"Name\": \"Jane\", \"Age\": 25, \"City\": \"Los Angeles\"},\n",
    "    {\"Name\": \"Bob\", \"Age\": 35, \"City\": \"Chicago\"}\n",
    "]\n",
    "\n",
    "# Open a CSV file in write mode\n",
    "with open(\"text.csv\", mode=\"w\", newline=\"\") as file:\n",
    "    fieldnames = [\"Name\", \"Age\", \"City\"]  # Column headers\n",
    "    writer = csv.DictWriter(file, fieldnames=fieldnames)\n",
    "    \n",
    "    writer.writeheader()  # Write the header row\n",
    "    writer.writerows(data)  # Write all rows of data\n"
   ]
  },
  {
   "cell_type": "code",
   "execution_count": 246,
   "metadata": {},
   "outputs": [
    {
     "name": "stdout",
     "output_type": "stream",
     "text": [
      "name,age,sec\n",
      "\n",
      "\n",
      "sudh,24,A\n",
      "\n",
      "\n",
      "quantum,23,b\n",
      "\n",
      "\n"
     ]
    },
    {
     "data": {
      "text/plain": [
       "list"
      ]
     },
     "execution_count": 246,
     "metadata": {},
     "output_type": "execute_result"
    }
   ],
   "source": [
    "#reading a csv file as a list\n",
    "import csv\n",
    "with open('text.csv','r',newline=\"\")as j:\n",
    "    reader = csv.reader(j)\n",
    "    for row in j: # Read the data row by row\n",
    "        print(row)\n",
    "type(data)"
   ]
  },
  {
   "cell_type": "code",
   "execution_count": 252,
   "metadata": {},
   "outputs": [
    {
     "name": "stdout",
     "output_type": "stream",
     "text": [
      "{'Name': 'John', 'Age': '30', 'City': 'New York'}\n",
      "<class 'dict'>\n",
      "{'Name': 'Jane', 'Age': '25', 'City': 'Los Angeles'}\n",
      "<class 'dict'>\n",
      "{'Name': 'Bob', 'Age': '35', 'City': 'Chicago'}\n",
      "<class 'dict'>\n"
     ]
    }
   ],
   "source": [
    "# reading a csv file as a dict\n",
    "import csv\n",
    "\n",
    "with open(\"text.csv\", mode=\"r\", newline=\"\") as file:\n",
    "    reader = csv.DictReader(file)\n",
    "    \n",
    "    for row in reader:\n",
    "        print(row)\n",
    "        print(type(row))\n",
    "\n"
   ]
  },
  {
   "cell_type": "code",
   "execution_count": null,
   "metadata": {},
   "outputs": [],
   "source": [
    "import csv\n",
    "col = ['name','age','sec']\n",
    "rows = [\n",
    "    ['sudh',24,'A'],\n",
    "    ['quantum',23,'b']\n",
    "]\n",
    "with open('text.csv','w') as csv_:\n",
    "    # writing a writer\n",
    "    csv_ = csv.writer(col)\n",
    "    # wtiting a field\n",
    "    csv_ = csv.writerow(col)\n",
    "    # writing a rows\n",
    "    csv_ = csv.writerows(rows)"
   ]
  },
  {
   "cell_type": "code",
   "execution_count": 258,
   "metadata": {},
   "outputs": [
    {
     "name": "stdout",
     "output_type": "stream",
     "text": [
      "[{'Name': 'John', 'Age': '30', 'City': 'New York'}, {'Name': 'Jane', 'Age': '25', 'City': 'Los Angeles'}, {'Name': 'Bob', 'Age': '35', 'City': 'Chicago'}]\n",
      "<class 'list'>\n",
      "[{'Name': 'John', 'Age': '30', 'City': 'New York'}, {'Name': 'Jane', 'Age': '25', 'City': 'Los Angeles'}, {'Name': 'Bob', 'Age': '35', 'City': 'Chicago'}]\n",
      "<class 'list'>\n",
      "[{'Name': 'John', 'Age': '30', 'City': 'New York'}, {'Name': 'Jane', 'Age': '25', 'City': 'Los Angeles'}, {'Name': 'Bob', 'Age': '35', 'City': 'Chicago'}]\n",
      "<class 'list'>\n"
     ]
    }
   ],
   "source": [
    "import csv\n",
    "\n",
    "with open(\"text.csv\", mode=\"r\", newline=\"\") as file:\n",
    "    reader = csv.DictReader(file)\n",
    "    data_list=[]\n",
    "    for row in reader:\n",
    "        data_list.append(row)\n",
    "for data in data_list:\n",
    "    print(data_list)\n",
    "    print(type(data_list))\n"
   ]
  },
  {
   "cell_type": "code",
   "execution_count": 3,
   "metadata": {},
   "outputs": [],
   "source": [
    "import csv\n",
    "\n",
    "# Define a custom dialect\n",
    "class CustomDialect(csv.Dialect):\n",
    "    delimiter = \";\"\n",
    "    quotechar = \"'\"\n",
    "    quoting = csv.QUOTE_ALL\n",
    "    lineterminator = \"\\n\"\n",
    "\n",
    "# Use the custom dialect\n",
    "with open(\"data_custom.csv\", mode=\"w\", newline=\"\") as file:\n",
    "    writer = csv.writer(file, dialect=CustomDialect)\n",
    "    writer.writerow([\"Name\", \"Age\", \"City\"])\n",
    "    writer.writerow([\"John\", 30, \"New York\"])\n",
    "    writer.writerow([\"Jane\", 25, \"Los Angeles\"])\n"
   ]
  },
  {
   "cell_type": "code",
   "execution_count": 9,
   "metadata": {},
   "outputs": [
    {
     "name": "stdout",
     "output_type": "stream",
     "text": [
      "[\"'Name';'Age';'City'\"]\n",
      "[\"'John';'30';'New York'\"]\n",
      "[\"'Jane';'25';'Los Angeles'\"]\n"
     ]
    }
   ],
   "source": [
    "import csv\n",
    "\n",
    "# Read using the 'excel_tab' dialect\n",
    "with open(\"data_custom.csv\", mode=\"r\", newline=\"\") as file:\n",
    "    reader = csv.reader(file,dialect='unix')\n",
    "    for row in reader:\n",
    "        print(row)\n"
   ]
  },
  {
   "cell_type": "code",
   "execution_count": 15,
   "metadata": {},
   "outputs": [],
   "source": [
    "import csv\n",
    "\n",
    "# Data to be serialized (list of rows)\n",
    "data = [\n",
    "    [\"Name\", \"Age\", \"City\"],\n",
    "    [\"John\", 30, \"New York\"],\n",
    "    [\"Jane\", 25, \"Los Angeles\"],\n",
    "    [\"Bob\", 35, \"Chicago\"]\n",
    "]\n",
    "\n",
    "# Open a CSV file in write mode using the unix dialect\n",
    "with open(\"output_unix.csv\", mode=\"w\", newline=\"\") as file:\n",
    "    writer = csv.writer(file, dialect=\"unix\")\n",
    "    writer.writerows(data)\n"
   ]
  },
  {
   "cell_type": "markdown",
   "metadata": {},
   "source": [
    "EXCEPTION HANDLING"
   ]
  },
  {
   "cell_type": "code",
   "execution_count": 24,
   "metadata": {},
   "outputs": [
    {
     "name": "stdout",
     "output_type": "stream",
     "text": [
      "0.5\n",
      "1.0\n",
      "1.5\n",
      "2.0\n",
      "Error: <class 'TypeError'>\n",
      "unsupported operand type(s) for /: 'str' and 'int'\n",
      "2.5\n",
      "3.0\n"
     ]
    }
   ],
   "source": [
    "l=[1,2,3,4,'A',5,6]\n",
    "for i in l:\n",
    "    try:\n",
    "        c = i/2\n",
    "        print(c)\n",
    "    except Exception as e:\n",
    "        print(f\"Error: {type(e)}\")\n",
    "        print(e)"
   ]
  },
  {
   "cell_type": "markdown",
   "metadata": {},
   "source": [
    "LIST COMPREHENSION"
   ]
  },
  {
   "cell_type": "code",
   "execution_count": null,
   "metadata": {},
   "outputs": [],
   "source": [
    "# list comprehension in python\n",
    "list1 = [e ** 2 for e in a_list if type(e) == type.IntType]\n"
   ]
  },
  {
   "cell_type": "markdown",
   "metadata": {},
   "source": [
    "list comprehension questions\n"
   ]
  },
  {
   "cell_type": "markdown",
   "metadata": {},
   "source": [
    "question 1:\n",
    "find all numbers from 1-1000 that are divisible by 7"
   ]
  },
  {
   "cell_type": "code",
   "execution_count": 5,
   "metadata": {},
   "outputs": [
    {
     "data": {
      "text/plain": [
       "[7, 14, 21, 28, 35, 42, 49, 56, 63, 70, 77, 84, 91, 98]"
      ]
     },
     "execution_count": 5,
     "metadata": {},
     "output_type": "execute_result"
    }
   ],
   "source": [
    "l=[i for i in range(1,101) if i%7 == 0]\n",
    "l"
   ]
  },
  {
   "cell_type": "markdown",
   "metadata": {},
   "source": [
    "question2:\n",
    "find all the numbers that has 3 in the number"
   ]
  },
  {
   "cell_type": "code",
   "execution_count": 8,
   "metadata": {},
   "outputs": [
    {
     "data": {
      "text/plain": [
       "[3, 13, 23, 30, 31, 32, 33, 34, 35, 36, 37, 38, 39, 43, 53, 63, 73, 83, 93]"
      ]
     },
     "execution_count": 8,
     "metadata": {},
     "output_type": "execute_result"
    }
   ],
   "source": [
    "l= [i for i in range(1,101) if '3' in str(i) ]\n",
    "l"
   ]
  },
  {
   "cell_type": "markdown",
   "metadata": {},
   "source": [
    "question 3:\n",
    "count the num of spaces in the string"
   ]
  },
  {
   "cell_type": "code",
   "execution_count": 14,
   "metadata": {},
   "outputs": [
    {
     "name": "stdout",
     "output_type": "stream",
     "text": [
      "2\n"
     ]
    }
   ],
   "source": [
    "string = 'f f f'\n",
    "Sum = sum([True for i in string if i == ' '])\n",
    "print(Sum)"
   ]
  },
  {
   "cell_type": "markdown",
   "metadata": {},
   "source": [
    "question 4:\n",
    "consonents in a string"
   ]
  },
  {
   "cell_type": "code",
   "execution_count": 20,
   "metadata": {},
   "outputs": [
    {
     "name": "stdout",
     "output_type": "stream",
     "text": [
      "['s', 'd', 'h', 'r']\n",
      "4\n"
     ]
    }
   ],
   "source": [
    "l1=['a','e','i','o','u']\n",
    "s= 'sudhar'\n",
    "l2=[i for i in s if i not in l1]\n",
    "print(l2)\n",
    "print(len(l2))"
   ]
  },
  {
   "cell_type": "markdown",
   "metadata": {},
   "source": [
    "question 5\n",
    "get the index and the values in the tuple for items in the list like key value"
   ]
  },
  {
   "cell_type": "code",
   "execution_count": 23,
   "metadata": {},
   "outputs": [
    {
     "data": {
      "text/plain": [
       "[(0, 'name'), (1, 'sudhar'), (2, 'age'), (3, 2)]"
      ]
     },
     "execution_count": 23,
     "metadata": {},
     "output_type": "execute_result"
    }
   ],
   "source": [
    "l1 = ['name','sudhar','age',2]\n",
    "l2=[]\n",
    "for i in l1:\n",
    "    l2.append((l1.index(i),i))\n",
    "l2\n",
    "\n",
    "l1 = ['name','sudhar','age',2]\n",
    "l2= [(l1.index(i),i) for i in l1 ]\n",
    "l2"
   ]
  },
  {
   "cell_type": "markdown",
   "metadata": {},
   "source": [
    "question 6:\n",
    "find the common values in 2 list"
   ]
  },
  {
   "cell_type": "code",
   "execution_count": 33,
   "metadata": {},
   "outputs": [
    {
     "name": "stdout",
     "output_type": "stream",
     "text": [
      "[2, 2, 3, 4]\n",
      "[2, 2, 3, 4]\n"
     ]
    }
   ],
   "source": [
    "l1 = [1, 2, 2, 3, 4]\n",
    "l2 = [2, 3, 3, 4]\n",
    "\n",
    "l3= []\n",
    "for i in range(len(l1)):\n",
    "    if l1[i] in l2:\n",
    "        l3.append(l1[i])\n",
    "\n",
    "print(l3)\n",
    "l4=[(l1[i]) for i in range(len(l1)) if l1[i] in l2]\n",
    "print(l4)"
   ]
  },
  {
   "cell_type": "markdown",
   "metadata": {},
   "source": [
    "question 7:\n",
    "append the number in alist"
   ]
  },
  {
   "cell_type": "code",
   "execution_count": 38,
   "metadata": {},
   "outputs": [
    {
     "data": {
      "text/plain": [
       "['12', '192']"
      ]
     },
     "execution_count": 38,
     "metadata": {},
     "output_type": "execute_result"
    }
   ],
   "source": [
    "l=[]\n",
    "s=\"sdhar 12 192 sud12\"\n",
    "w= s.split()\n",
    "res = [num for num in w if num.isnumeric()]\n",
    "res\n"
   ]
  },
  {
   "cell_type": "markdown",
   "metadata": {},
   "source": [
    "question 8:\n"
   ]
  },
  {
   "cell_type": "code",
   "execution_count": 47,
   "metadata": {},
   "outputs": [
    {
     "name": "stdout",
     "output_type": "stream",
     "text": [
      "['odd', 'even', 'odd', 'even', 'odd', 'even', 'odd', 'even', 'odd', 'even']\n",
      "['odd', 'even', 'odd', 'even', 'odd', 'even', 'odd', 'even', 'odd', 'even']\n"
     ]
    }
   ],
   "source": [
    "l=[]\n",
    "for i in range(1,11):\n",
    "    if i%2 == 0:\n",
    "        l.append('even')\n",
    "    else:\n",
    "        l.append('odd')\n",
    "print(l)\n",
    "l = ['even' if i % 2 == 0 else 'odd' for i in range(1, 11)]\n",
    "print(l)\n"
   ]
  },
  {
   "cell_type": "markdown",
   "metadata": {},
   "source": [
    "question 9:\n",
    "compare 2 list and if same make it as tuple"
   ]
  },
  {
   "cell_type": "code",
   "execution_count": 45,
   "metadata": {},
   "outputs": [
    {
     "name": "stdout",
     "output_type": "stream",
     "text": [
      "[(1, 1), (2, 2), (3, 3)]\n"
     ]
    }
   ],
   "source": [
    "l1=[1,2,3,5]\n",
    "l2=[2,3,1,4]\n",
    "l3=[]\n",
    "for i in range(len(l1)):\n",
    "    if l1[i] in l2:\n",
    "        l3.append((l1[i], l1[i]))\n",
    "l3\n",
    "\n",
    "l4=  [(i, i) for i in l1 if i in l2]\n",
    "print(l4)"
   ]
  },
  {
   "cell_type": "markdown",
   "metadata": {},
   "source": [
    "question 10:\n",
    "find all letter in a str that has below 4 "
   ]
  },
  {
   "cell_type": "code",
   "execution_count": 50,
   "metadata": {},
   "outputs": [
    {
     "data": {
      "text/plain": [
       "['ans', 'as', 's']"
      ]
     },
     "execution_count": 50,
     "metadata": {},
     "output_type": "execute_result"
    }
   ],
   "source": [
    "s = 'quantum sidarth ans as sjdh s'\n",
    "w= s.split()\n",
    "l=[i for i in w if len(i) < 4 ]\n",
    "l"
   ]
  },
  {
   "cell_type": "markdown",
   "metadata": {},
   "source": [
    "question 11:\n",
    "use a nested list comprehension  to find all of the num from 1 to 1000 that are divisible by 2 to 9"
   ]
  },
  {
   "cell_type": "code",
   "execution_count": 55,
   "metadata": {},
   "outputs": [
    {
     "name": "stdout",
     "output_type": "stream",
     "text": [
      "[2, 3, 4, 4, 5, 6, 6, 6, 7, 8, 8, 8, 9, 9, 10, 10]\n",
      "[2, 3, 4, 5, 6, 7, 8, 9, 10, 12, 14, 15, 16, 18, 20, 21, 22, 24, 25, 26, 27, 28, 30, 32, 33, 34, 35, 36, 38, 39, 40, 42, 44, 45, 46, 48, 49, 50, 51, 52, 54, 55, 56, 57, 58, 60, 62, 63, 64, 65, 66, 68, 69, 70, 72, 74, 75, 76, 77, 78, 80, 81, 82, 84, 85, 86, 87, 88, 90, 91, 92, 93, 94, 95, 96, 98, 99, 100]\n",
      "[2, 3, 4, 5, 6, 7, 8, 9, 10, 12, 14, 15, 16, 18, 20, 21, 22, 24, 25, 26, 27, 28, 30, 32, 33, 34, 35, 36, 38, 39, 40, 42, 44, 45, 46, 48, 49, 50, 51, 52, 54, 55, 56, 57, 58, 60, 62, 63, 64, 65, 66, 68, 69, 70, 72, 74, 75, 76, 77, 78, 80, 81, 82, 84, 85, 86, 87, 88, 90, 91, 92, 93, 94, 95, 96, 98, 99, 100]\n"
     ]
    }
   ],
   "source": [
    "l=[]\n",
    "for i in range(1,11):\n",
    "    for j in range(2,10):\n",
    "        if i % j == 0:\n",
    "            l.append(i)\n",
    "print(l)\n",
    "\n",
    "# Find numbers between 1 and 100 divisible by any digit from 2 to 9\n",
    "numbers = [i for i in range(1, 101) if any(i % d == 0 for d in range(2, 10))]\n",
    "print(numbers)\n",
    "\n",
    "num = [number  for number in range(1,101) if True in [True for x in range(2,10) if number % x == 0]]\n",
    "print(num)\n"
   ]
  }
 ],
 "metadata": {
  "kernelspec": {
   "display_name": "Python 3",
   "language": "python",
   "name": "python3"
  },
  "language_info": {
   "codemirror_mode": {
    "name": "ipython",
    "version": 3
   },
   "file_extension": ".py",
   "mimetype": "text/x-python",
   "name": "python",
   "nbconvert_exporter": "python",
   "pygments_lexer": "ipython3",
   "version": "3.12.3"
  }
 },
 "nbformat": 4,
 "nbformat_minor": 2
}
