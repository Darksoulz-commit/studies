{
 "cells": [
  {
   "cell_type": "markdown",
   "metadata": {},
   "source": [
    "Data manupulation"
   ]
  },
  {
   "cell_type": "code",
   "execution_count": 2,
   "metadata": {},
   "outputs": [
    {
     "name": "stdout",
     "output_type": "stream",
     "text": [
      "Defaulting to user installation because normal site-packages is not writeable\n",
      "Collecting numpy\n",
      "  Downloading numpy-2.2.1-cp312-cp312-win_amd64.whl.metadata (60 kB)\n",
      "     ---------------------------------------- 0.0/60.8 kB ? eta -:--:--\n",
      "     --------------------------------- ------ 51.2/60.8 kB ? eta -:--:--\n",
      "     ---------------------------------------- 60.8/60.8 kB 1.1 MB/s eta 0:00:00\n",
      "Downloading numpy-2.2.1-cp312-cp312-win_amd64.whl (12.6 MB)\n",
      "   ---------------------------------------- 0.0/12.6 MB ? eta -:--:--\n",
      "   ---------------------------------------- 0.1/12.6 MB 2.6 MB/s eta 0:00:05\n",
      "    --------------------------------------- 0.2/12.6 MB 2.4 MB/s eta 0:00:06\n",
      "   - -------------------------------------- 0.3/12.6 MB 2.6 MB/s eta 0:00:05\n",
      "   - -------------------------------------- 0.5/12.6 MB 2.6 MB/s eta 0:00:05\n",
      "   - -------------------------------------- 0.6/12.6 MB 2.7 MB/s eta 0:00:05\n",
      "   -- ------------------------------------- 0.7/12.6 MB 2.7 MB/s eta 0:00:05\n",
      "   -- ------------------------------------- 0.8/12.6 MB 2.6 MB/s eta 0:00:05\n",
      "   --- ------------------------------------ 1.0/12.6 MB 2.6 MB/s eta 0:00:05\n",
      "   --- ------------------------------------ 1.1/12.6 MB 2.7 MB/s eta 0:00:05\n",
      "   --- ------------------------------------ 1.2/12.6 MB 2.7 MB/s eta 0:00:05\n",
      "   ---- ----------------------------------- 1.3/12.6 MB 2.7 MB/s eta 0:00:05\n",
      "   ---- ----------------------------------- 1.4/12.6 MB 2.6 MB/s eta 0:00:05\n",
      "   ---- ----------------------------------- 1.5/12.6 MB 2.6 MB/s eta 0:00:05\n",
      "   ----- ---------------------------------- 1.6/12.6 MB 2.6 MB/s eta 0:00:05\n",
      "   ----- ---------------------------------- 1.7/12.6 MB 2.6 MB/s eta 0:00:05\n",
      "   ----- ---------------------------------- 1.9/12.6 MB 2.6 MB/s eta 0:00:05\n",
      "   ------ --------------------------------- 1.9/12.6 MB 2.5 MB/s eta 0:00:05\n",
      "   ------ --------------------------------- 2.1/12.6 MB 2.5 MB/s eta 0:00:05\n",
      "   ------ --------------------------------- 2.2/12.6 MB 2.5 MB/s eta 0:00:05\n",
      "   ------- -------------------------------- 2.3/12.6 MB 2.5 MB/s eta 0:00:05\n",
      "   ------- -------------------------------- 2.4/12.6 MB 2.5 MB/s eta 0:00:05\n",
      "   ------- -------------------------------- 2.5/12.6 MB 2.5 MB/s eta 0:00:05\n",
      "   -------- ------------------------------- 2.6/12.6 MB 2.5 MB/s eta 0:00:05\n",
      "   -------- ------------------------------- 2.7/12.6 MB 2.5 MB/s eta 0:00:05\n",
      "   -------- ------------------------------- 2.8/12.6 MB 2.5 MB/s eta 0:00:04\n",
      "   --------- ------------------------------ 2.9/12.6 MB 2.5 MB/s eta 0:00:04\n",
      "   --------- ------------------------------ 3.0/12.6 MB 2.5 MB/s eta 0:00:04\n",
      "   --------- ------------------------------ 3.1/12.6 MB 2.5 MB/s eta 0:00:04\n",
      "   ---------- ----------------------------- 3.2/12.6 MB 2.4 MB/s eta 0:00:04\n",
      "   ---------- ----------------------------- 3.3/12.6 MB 2.4 MB/s eta 0:00:04\n",
      "   ---------- ----------------------------- 3.5/12.6 MB 2.5 MB/s eta 0:00:04\n",
      "   ----------- ---------------------------- 3.6/12.6 MB 2.5 MB/s eta 0:00:04\n",
      "   ----------- ---------------------------- 3.7/12.6 MB 2.5 MB/s eta 0:00:04\n",
      "   ------------ --------------------------- 3.8/12.6 MB 2.4 MB/s eta 0:00:04\n",
      "   ------------ --------------------------- 3.9/12.6 MB 2.4 MB/s eta 0:00:04\n",
      "   ------------ --------------------------- 4.0/12.6 MB 2.5 MB/s eta 0:00:04\n",
      "   ------------- -------------------------- 4.1/12.6 MB 2.4 MB/s eta 0:00:04\n",
      "   ------------- -------------------------- 4.2/12.6 MB 2.4 MB/s eta 0:00:04\n",
      "   ------------- -------------------------- 4.3/12.6 MB 2.4 MB/s eta 0:00:04\n",
      "   -------------- ------------------------- 4.4/12.6 MB 2.4 MB/s eta 0:00:04\n",
      "   -------------- ------------------------- 4.5/12.6 MB 2.4 MB/s eta 0:00:04\n",
      "   -------------- ------------------------- 4.6/12.6 MB 2.4 MB/s eta 0:00:04\n",
      "   --------------- ------------------------ 4.7/12.6 MB 2.4 MB/s eta 0:00:04\n",
      "   --------------- ------------------------ 4.9/12.6 MB 2.4 MB/s eta 0:00:04\n",
      "   --------------- ------------------------ 5.0/12.6 MB 2.4 MB/s eta 0:00:04\n",
      "   ---------------- ----------------------- 5.0/12.6 MB 2.4 MB/s eta 0:00:04\n",
      "   ---------------- ----------------------- 5.1/12.6 MB 2.4 MB/s eta 0:00:04\n",
      "   ---------------- ----------------------- 5.3/12.6 MB 2.4 MB/s eta 0:00:04\n",
      "   ---------------- ----------------------- 5.3/12.6 MB 2.4 MB/s eta 0:00:04\n",
      "   ----------------- ---------------------- 5.4/12.6 MB 2.4 MB/s eta 0:00:04\n",
      "   ----------------- ---------------------- 5.6/12.6 MB 2.4 MB/s eta 0:00:03\n",
      "   ----------------- ---------------------- 5.7/12.6 MB 2.4 MB/s eta 0:00:03\n",
      "   ------------------ --------------------- 5.8/12.6 MB 2.4 MB/s eta 0:00:03\n",
      "   ------------------ --------------------- 5.9/12.6 MB 2.4 MB/s eta 0:00:03\n",
      "   ------------------ --------------------- 6.0/12.6 MB 2.4 MB/s eta 0:00:03\n",
      "   ------------------- -------------------- 6.1/12.6 MB 2.4 MB/s eta 0:00:03\n",
      "   ------------------- -------------------- 6.2/12.6 MB 2.4 MB/s eta 0:00:03\n",
      "   ------------------- -------------------- 6.3/12.6 MB 2.4 MB/s eta 0:00:03\n",
      "   -------------------- ------------------- 6.4/12.6 MB 2.4 MB/s eta 0:00:03\n",
      "   -------------------- ------------------- 6.5/12.6 MB 2.4 MB/s eta 0:00:03\n",
      "   -------------------- ------------------- 6.6/12.6 MB 2.4 MB/s eta 0:00:03\n",
      "   --------------------- ------------------ 6.7/12.6 MB 2.4 MB/s eta 0:00:03\n",
      "   --------------------- ------------------ 6.8/12.6 MB 2.4 MB/s eta 0:00:03\n",
      "   --------------------- ------------------ 6.9/12.6 MB 2.4 MB/s eta 0:00:03\n",
      "   ---------------------- ----------------- 7.1/12.6 MB 2.4 MB/s eta 0:00:03\n",
      "   ---------------------- ----------------- 7.2/12.6 MB 2.4 MB/s eta 0:00:03\n",
      "   ----------------------- ---------------- 7.3/12.6 MB 2.4 MB/s eta 0:00:03\n",
      "   ----------------------- ---------------- 7.4/12.6 MB 2.4 MB/s eta 0:00:03\n",
      "   ----------------------- ---------------- 7.5/12.6 MB 2.4 MB/s eta 0:00:03\n",
      "   ------------------------ --------------- 7.6/12.6 MB 2.4 MB/s eta 0:00:03\n",
      "   ------------------------ --------------- 7.7/12.6 MB 2.4 MB/s eta 0:00:03\n",
      "   ------------------------ --------------- 7.9/12.6 MB 2.4 MB/s eta 0:00:02\n",
      "   ------------------------- -------------- 8.0/12.6 MB 2.4 MB/s eta 0:00:02\n",
      "   ------------------------- -------------- 8.2/12.6 MB 2.4 MB/s eta 0:00:02\n",
      "   -------------------------- ------------- 8.3/12.6 MB 2.4 MB/s eta 0:00:02\n",
      "   -------------------------- ------------- 8.4/12.6 MB 2.4 MB/s eta 0:00:02\n",
      "   -------------------------- ------------- 8.5/12.6 MB 2.4 MB/s eta 0:00:02\n",
      "   --------------------------- ------------ 8.6/12.6 MB 2.4 MB/s eta 0:00:02\n",
      "   --------------------------- ------------ 8.7/12.6 MB 2.4 MB/s eta 0:00:02\n",
      "   --------------------------- ------------ 8.8/12.6 MB 2.4 MB/s eta 0:00:02\n",
      "   ---------------------------- ----------- 8.9/12.6 MB 2.4 MB/s eta 0:00:02\n",
      "   ---------------------------- ----------- 9.0/12.6 MB 2.4 MB/s eta 0:00:02\n",
      "   ----------------------------- ---------- 9.2/12.6 MB 2.4 MB/s eta 0:00:02\n",
      "   ----------------------------- ---------- 9.3/12.6 MB 2.4 MB/s eta 0:00:02\n",
      "   ----------------------------- ---------- 9.4/12.6 MB 2.4 MB/s eta 0:00:02\n",
      "   ------------------------------ --------- 9.6/12.6 MB 2.4 MB/s eta 0:00:02\n",
      "   ------------------------------ --------- 9.7/12.6 MB 2.4 MB/s eta 0:00:02\n",
      "   ------------------------------- -------- 9.8/12.6 MB 2.4 MB/s eta 0:00:02\n",
      "   ------------------------------- -------- 9.9/12.6 MB 2.4 MB/s eta 0:00:02\n",
      "   ------------------------------- -------- 10.0/12.6 MB 2.4 MB/s eta 0:00:02\n",
      "   -------------------------------- ------- 10.2/12.6 MB 2.4 MB/s eta 0:00:01\n",
      "   -------------------------------- ------- 10.3/12.6 MB 2.4 MB/s eta 0:00:01\n",
      "   -------------------------------- ------- 10.4/12.6 MB 2.4 MB/s eta 0:00:01\n",
      "   --------------------------------- ------ 10.5/12.6 MB 2.5 MB/s eta 0:00:01\n",
      "   --------------------------------- ------ 10.6/12.6 MB 2.4 MB/s eta 0:00:01\n",
      "   ---------------------------------- ----- 10.8/12.6 MB 2.4 MB/s eta 0:00:01\n",
      "   ---------------------------------- ----- 10.9/12.6 MB 2.4 MB/s eta 0:00:01\n",
      "   ---------------------------------- ----- 11.0/12.6 MB 2.4 MB/s eta 0:00:01\n",
      "   ----------------------------------- ---- 11.1/12.6 MB 2.4 MB/s eta 0:00:01\n",
      "   ----------------------------------- ---- 11.2/12.6 MB 2.4 MB/s eta 0:00:01\n",
      "   ------------------------------------ --- 11.4/12.6 MB 2.4 MB/s eta 0:00:01\n",
      "   ------------------------------------ --- 11.5/12.6 MB 2.4 MB/s eta 0:00:01\n",
      "   ------------------------------------ --- 11.6/12.6 MB 2.4 MB/s eta 0:00:01\n",
      "   ------------------------------------- -- 11.7/12.6 MB 2.5 MB/s eta 0:00:01\n",
      "   ------------------------------------- -- 11.8/12.6 MB 2.4 MB/s eta 0:00:01\n",
      "   ------------------------------------- -- 11.9/12.6 MB 2.4 MB/s eta 0:00:01\n",
      "   -------------------------------------- - 12.0/12.6 MB 2.4 MB/s eta 0:00:01\n",
      "   -------------------------------------- - 12.1/12.6 MB 2.4 MB/s eta 0:00:01\n",
      "   -------------------------------------- - 12.3/12.6 MB 2.4 MB/s eta 0:00:01\n",
      "   ---------------------------------------  12.4/12.6 MB 2.5 MB/s eta 0:00:01\n",
      "   ---------------------------------------  12.5/12.6 MB 2.4 MB/s eta 0:00:01\n",
      "   ---------------------------------------  12.6/12.6 MB 2.5 MB/s eta 0:00:01\n",
      "   ---------------------------------------  12.6/12.6 MB 2.5 MB/s eta 0:00:01\n",
      "   ---------------------------------------  12.6/12.6 MB 2.5 MB/s eta 0:00:01\n",
      "   ---------------------------------------  12.6/12.6 MB 2.5 MB/s eta 0:00:01\n",
      "   ---------------------------------------- 12.6/12.6 MB 2.4 MB/s eta 0:00:00\n",
      "Installing collected packages: numpy\n",
      "Successfully installed numpy-2.2.1\n",
      "Note: you may need to restart the kernel to use updated packages.\n"
     ]
    },
    {
     "name": "stderr",
     "output_type": "stream",
     "text": [
      "\n",
      "[notice] A new release of pip is available: 24.0 -> 24.3.1\n",
      "[notice] To update, run: python.exe -m pip install --upgrade pip\n"
     ]
    }
   ],
   "source": [
    "pip install numpy"
   ]
  },
  {
   "cell_type": "code",
   "execution_count": 70,
   "metadata": {},
   "outputs": [
    {
     "name": "stdout",
     "output_type": "stream",
     "text": [
      "Defaulting to user installation because normal site-packages is not writeable\n",
      "Collecting pillow\n",
      "  Downloading pillow-11.0.0-cp312-cp312-win_amd64.whl.metadata (9.3 kB)\n",
      "Downloading pillow-11.0.0-cp312-cp312-win_amd64.whl (2.6 MB)\n",
      "   ---------------------------------------- 0.0/2.6 MB ? eta -:--:--\n",
      "   - -------------------------------------- 0.1/2.6 MB 3.3 MB/s eta 0:00:01\n",
      "   --- ------------------------------------ 0.2/2.6 MB 2.8 MB/s eta 0:00:01\n",
      "   ---- ----------------------------------- 0.3/2.6 MB 2.2 MB/s eta 0:00:02\n",
      "   ----- ---------------------------------- 0.3/2.6 MB 2.1 MB/s eta 0:00:02\n",
      "   ------ --------------------------------- 0.4/2.6 MB 2.0 MB/s eta 0:00:02\n",
      "   -------- ------------------------------- 0.5/2.6 MB 2.1 MB/s eta 0:00:01\n",
      "   ---------- ----------------------------- 0.7/2.6 MB 2.1 MB/s eta 0:00:01\n",
      "   ------------ --------------------------- 0.8/2.6 MB 2.2 MB/s eta 0:00:01\n",
      "   ------------- -------------------------- 0.9/2.6 MB 2.3 MB/s eta 0:00:01\n",
      "   -------------- ------------------------- 1.0/2.6 MB 2.2 MB/s eta 0:00:01\n",
      "   --------------- ------------------------ 1.0/2.6 MB 2.1 MB/s eta 0:00:01\n",
      "   ----------------- ---------------------- 1.1/2.6 MB 2.1 MB/s eta 0:00:01\n",
      "   ------------------- -------------------- 1.2/2.6 MB 2.1 MB/s eta 0:00:01\n",
      "   -------------------- ------------------- 1.3/2.6 MB 2.1 MB/s eta 0:00:01\n",
      "   ---------------------- ----------------- 1.4/2.6 MB 2.1 MB/s eta 0:00:01\n",
      "   ----------------------- ---------------- 1.5/2.6 MB 2.1 MB/s eta 0:00:01\n",
      "   ------------------------ --------------- 1.6/2.6 MB 2.0 MB/s eta 0:00:01\n",
      "   ------------------------- -------------- 1.7/2.6 MB 2.0 MB/s eta 0:00:01\n",
      "   --------------------------- ------------ 1.7/2.6 MB 2.0 MB/s eta 0:00:01\n",
      "   ----------------------------- ---------- 1.9/2.6 MB 2.1 MB/s eta 0:00:01\n",
      "   ------------------------------- -------- 2.0/2.6 MB 2.1 MB/s eta 0:00:01\n",
      "   ------------------------------- -------- 2.0/2.6 MB 2.1 MB/s eta 0:00:01\n",
      "   --------------------------------- ------ 2.2/2.6 MB 2.0 MB/s eta 0:00:01\n",
      "   ---------------------------------- ----- 2.2/2.6 MB 2.0 MB/s eta 0:00:01\n",
      "   ------------------------------------- -- 2.4/2.6 MB 2.1 MB/s eta 0:00:01\n",
      "   -------------------------------------- - 2.5/2.6 MB 2.1 MB/s eta 0:00:01\n",
      "   ---------------------------------------  2.6/2.6 MB 2.1 MB/s eta 0:00:01\n",
      "   ---------------------------------------  2.6/2.6 MB 2.1 MB/s eta 0:00:01\n",
      "   ---------------------------------------- 2.6/2.6 MB 1.9 MB/s eta 0:00:00\n",
      "Installing collected packages: pillow\n",
      "Successfully installed pillow-11.0.0\n",
      "Note: you may need to restart the kernel to use updated packages.\n"
     ]
    },
    {
     "name": "stderr",
     "output_type": "stream",
     "text": [
      "\n",
      "[notice] A new release of pip is available: 24.0 -> 24.3.1\n",
      "[notice] To update, run: python.exe -m pip install --upgrade pip\n"
     ]
    }
   ],
   "source": [
    "pip install pillow"
   ]
  },
  {
   "cell_type": "code",
   "execution_count": 2,
   "metadata": {},
   "outputs": [],
   "source": [
    "import numpy as np\n"
   ]
  },
  {
   "cell_type": "code",
   "execution_count": 5,
   "metadata": {},
   "outputs": [
    {
     "name": "stdout",
     "output_type": "stream",
     "text": [
      "['1' '2' '3']\n"
     ]
    }
   ],
   "source": [
    "l1 = np.array(['1','2',3])\n",
    "print(l1)"
   ]
  },
  {
   "cell_type": "code",
   "execution_count": 10,
   "metadata": {},
   "outputs": [
    {
     "name": "stdout",
     "output_type": "stream",
     "text": [
      "[1 0 1]\n"
     ]
    }
   ],
   "source": [
    "l2 = np.array([True,False,1])\n",
    "# l2\n",
    "print(l2)"
   ]
  },
  {
   "cell_type": "code",
   "execution_count": 12,
   "metadata": {},
   "outputs": [
    {
     "name": "stdout",
     "output_type": "stream",
     "text": [
      "[1, 2, 3]\n",
      "<class 'list'>\n"
     ]
    }
   ],
   "source": [
    "l3 = np.array([1,2,3])\n",
    "l = l3.tolist()\n",
    "print(l)\n",
    "print(type(l))"
   ]
  },
  {
   "cell_type": "code",
   "execution_count": 21,
   "metadata": {},
   "outputs": [
    {
     "name": "stdout",
     "output_type": "stream",
     "text": [
      "(3, 3)\n",
      "\n",
      "[[1 2 3]\n",
      " [4 5 6]\n",
      " [7 8 9]]\n",
      "\n",
      "[[2 3]\n",
      " [5 6]\n",
      " [8 9]]\n"
     ]
    }
   ],
   "source": [
    "arr = np.array([[1,2,3],[4,5,6],[7,8,9]])\n",
    "print(arr.shape)\n",
    "print()\n",
    "print(arr)\n",
    "print()\n",
    "print(arr[:3,1:])"
   ]
  },
  {
   "cell_type": "code",
   "execution_count": 31,
   "metadata": {},
   "outputs": [],
   "source": [
    "x= [[1,2,3],[4,5,6],[7,8,9]]\n",
    "print()"
   ]
  },
  {
   "cell_type": "code",
   "execution_count": 49,
   "metadata": {},
   "outputs": [
    {
     "name": "stdout",
     "output_type": "stream",
     "text": [
      "0\n"
     ]
    }
   ],
   "source": [
    "arr = [[1,2,3,4,5],[6,7,8,9,10],[11,12,13,14,15],[16,17,18,19,20]]\n",
    "\n",
    "l = [6,7,8,9]\n",
    "\n",
    "if l in arr:\n",
    "    print(True)\n",
    "else:\n",
    "    print(False)"
   ]
  },
  {
   "cell_type": "code",
   "execution_count": 56,
   "metadata": {},
   "outputs": [
    {
     "name": "stdout",
     "output_type": "stream",
     "text": [
      "Given array:\n",
      "[[10.5 22.5  3.8]\n",
      " [41.   nan  nan]]\n",
      "\n",
      "Remove all rows containing NaN values:\n",
      "[[10.5 22.5  3.8]]\n"
     ]
    }
   ],
   "source": [
    "arr = np.array([[10.5, 22.5, 3.8],\n",
    "                  [41, np.nan, np.nan]])\n",
    " \n",
    "print(\"Given array:\")\n",
    "print(arr)\n",
    " \n",
    "print(\"\\nRemove all rows containing NaN values:\")\n",
    "cleaned_arr = arr[~np.isnan(arr).any(axis=1)]\n",
    "print(cleaned_arr)"
   ]
  },
  {
   "cell_type": "code",
   "execution_count": 52,
   "metadata": {},
   "outputs": [
    {
     "name": "stdout",
     "output_type": "stream",
     "text": [
      "3\n"
     ]
    }
   ],
   "source": [
    "arr = [[1,2,3,4,5],[6,7,8,4,5],[11,12,13,4,5],[16,17,18,19,20]]\n",
    "\n",
    "l = [9,4]\n",
    "\n",
    "count = 1\n",
    "for arr in l:\n",
    "    count = count+1\n",
    "print(count)"
   ]
  },
  {
   "cell_type": "code",
   "execution_count": 68,
   "metadata": {},
   "outputs": [
    {
     "name": "stdout",
     "output_type": "stream",
     "text": [
      "[ 1  5 65  0  1  2  5]\n",
      "[ 1  5 65  0  1  2  5  0  0  0]\n",
      "[ 0  0  0  1  5 65  0  1  2  5]\n"
     ]
    }
   ],
   "source": [
    "#trim the leading or trailing values \n",
    "a = np.array([0,0,0,1,5,65,0,1,2,5,0,0,0])\n",
    "\n",
    "  \n",
    "# without trim parameter \n",
    "# returns an array without leading and trailing zeros  \n",
    "  \n",
    "res = np.trim_zeros(a) \n",
    "res1 = np.trim_zeros(a,'f') \n",
    "res2 = np.trim_zeros(a,'b') \n",
    "print(res) \n",
    "print(res1) \n",
    "print(res2) "
   ]
  },
  {
   "cell_type": "code",
   "execution_count": 71,
   "metadata": {},
   "outputs": [],
   "source": [
    "from PIL import Image"
   ]
  },
  {
   "cell_type": "code",
   "execution_count": null,
   "metadata": {},
   "outputs": [],
   "source": [
    "img = Image.open('sample.png')\n",
    "img_arr = np.array(img)\n",
    "# img.show()\n",
    "print(img_arr)"
   ]
  },
  {
   "cell_type": "code",
   "execution_count": 75,
   "metadata": {},
   "outputs": [
    {
     "name": "stdout",
     "output_type": "stream",
     "text": [
      "Mask: [False False False  True  True  True False]\n",
      "Filtered Array: [6 7 8]\n"
     ]
    }
   ],
   "source": [
    "arr = np.array([1, 2, 3, 6, 7, 8, 4])\n",
    "mask = arr > 5\n",
    "print(\"Mask:\", mask)\n",
    "filtered_arr = arr[mask]\n",
    "print(\"Filtered Array:\", filtered_arr)"
   ]
  },
  {
   "cell_type": "code",
   "execution_count": 76,
   "metadata": {},
   "outputs": [
    {
     "name": "stdout",
     "output_type": "stream",
     "text": [
      "Mask for 2D array:\n",
      " [[False False False]\n",
      " [ True  True  True]\n",
      " [False False  True]]\n"
     ]
    }
   ],
   "source": [
    "arr_2d = np.array([[1, 2, 3],\n",
    "                   [6, 7, 8],\n",
    "                   [4, 5, 6]])\n",
    "\n",
    "# Create a boolean mask for elements greater than 5\n",
    "mask_2d = arr_2d > 5\n",
    "print(\"Mask for 2D array:\\n\", mask_2d)\n"
   ]
  },
  {
   "cell_type": "code",
   "execution_count": 77,
   "metadata": {},
   "outputs": [
    {
     "name": "stdout",
     "output_type": "stream",
     "text": [
      "Row Mask: [False  True  True]\n"
     ]
    }
   ],
   "source": [
    "# Create a mask based on the sum of rows\n",
    "row_sums = arr_2d.sum(axis=1)\n",
    "row_mask = row_sums > 10\n",
    "print(\"Row Mask:\", row_mask)\n"
   ]
  },
  {
   "cell_type": "code",
   "execution_count": 13,
   "metadata": {},
   "outputs": [
    {
     "name": "stdout",
     "output_type": "stream",
     "text": [
      "[[3 2 1]\n",
      " [8 7 6]\n",
      " [6 5 4]]\n"
     ]
    }
   ],
   "source": [
    "# reverse a num array\n",
    "# arr = np.array([1, 2, 3, 6, 7, 8, 4])\n",
    "arr = np.array([[1, 2, 3],[6, 7, 8],[4, 5, 6]])\n",
    "# print(arr[::-1])\n",
    "# print()\n",
    "# r = np.flip(arr)\n",
    "# print(r)\n",
    "s = arr[:, ::-1]\n",
    "print(s)"
   ]
  },
  {
   "cell_type": "code",
   "execution_count": 36,
   "metadata": {},
   "outputs": [
    {
     "name": "stdout",
     "output_type": "stream",
     "text": [
      "[1 2 3 6 7 8 4]\n"
     ]
    }
   ],
   "source": [
    "# read only\n",
    "arr = np.array([1, 2, 3, 6, 7, 8, 4])\n",
    "arr.setflags(write=True)\n",
    "print(arr)"
   ]
  },
  {
   "cell_type": "code",
   "execution_count": 21,
   "metadata": {},
   "outputs": [
    {
     "ename": "ValueError",
     "evalue": "assignment destination is read-only",
     "output_type": "error",
     "traceback": [
      "\u001b[1;31m---------------------------------------------------------------------------\u001b[0m",
      "\u001b[1;31mValueError\u001b[0m                                Traceback (most recent call last)",
      "Cell \u001b[1;32mIn[21], line 1\u001b[0m\n\u001b[1;32m----> 1\u001b[0m \u001b[43marr\u001b[49m\u001b[43m[\u001b[49m\u001b[38;5;241;43m0\u001b[39;49m\u001b[43m]\u001b[49m\u001b[38;5;241m=\u001b[39m\u001b[38;5;241m77\u001b[39m\n\u001b[0;32m      2\u001b[0m \u001b[38;5;28mprint\u001b[39m(arr)\n",
      "\u001b[1;31mValueError\u001b[0m: assignment destination is read-only"
     ]
    }
   ],
   "source": [
    "arr[0]=77\n",
    "print(arr)"
   ]
  },
  {
   "cell_type": "code",
   "execution_count": 26,
   "metadata": {},
   "outputs": [
    {
     "ename": "IndexError",
     "evalue": "index 1 is out of bounds for axis 0 with size 1",
     "output_type": "error",
     "traceback": [
      "\u001b[1;31m---------------------------------------------------------------------------\u001b[0m",
      "\u001b[1;31mIndexError\u001b[0m                                Traceback (most recent call last)",
      "Cell \u001b[1;32mIn[26], line 2\u001b[0m\n\u001b[0;32m      1\u001b[0m arr1 \u001b[38;5;241m=\u001b[39m np\u001b[38;5;241m.\u001b[39marray([\u001b[38;5;241m2\u001b[39m])\n\u001b[1;32m----> 2\u001b[0m \u001b[43marr1\u001b[49m\u001b[43m[\u001b[49m\u001b[38;5;241;43m1\u001b[39;49m\u001b[43m]\u001b[49m \u001b[38;5;241m=\u001b[39m\u001b[38;5;241m1\u001b[39m\n\u001b[0;32m      3\u001b[0m np\u001b[38;5;241m.\u001b[39minsert(arr1,\u001b[38;5;241m1\u001b[39m,\u001b[38;5;241m10\u001b[39m)\n\u001b[0;32m      4\u001b[0m arr1\n",
      "\u001b[1;31mIndexError\u001b[0m: index 1 is out of bounds for axis 0 with size 1"
     ]
    }
   ],
   "source": [
    "arr1 = np.array([2])\n",
    "arr1[1] =1\n",
    "np.insert(arr1,1,10)\n",
    "arr1"
   ]
  },
  {
   "cell_type": "code",
   "execution_count": 33,
   "metadata": {},
   "outputs": [
    {
     "name": "stdout",
     "output_type": "stream",
     "text": [
      "[1.]\n"
     ]
    },
    {
     "ename": "ValueError",
     "evalue": "The truth value of an empty array is ambiguous. Use `array.size > 0` to check that an array is not empty.",
     "output_type": "error",
     "traceback": [
      "\u001b[1;31m---------------------------------------------------------------------------\u001b[0m",
      "\u001b[1;31mValueError\u001b[0m                                Traceback (most recent call last)",
      "Cell \u001b[1;32mIn[33], line 5\u001b[0m\n\u001b[0;32m      3\u001b[0m \u001b[38;5;28mprint\u001b[39m(a)\n\u001b[0;32m      4\u001b[0m \u001b[38;5;28mtype\u001b[39m(a)\n\u001b[1;32m----> 5\u001b[0m \u001b[38;5;28;01mif\u001b[39;00m a \u001b[38;5;241m==\u001b[39m arr2:\n\u001b[0;32m      6\u001b[0m     \u001b[38;5;28mprint\u001b[39m(\u001b[38;5;28;01mTrue\u001b[39;00m)\n\u001b[0;32m      7\u001b[0m \u001b[38;5;28;01melse\u001b[39;00m:\n",
      "\u001b[1;31mValueError\u001b[0m: The truth value of an empty array is ambiguous. Use `array.size > 0` to check that an array is not empty."
     ]
    }
   ],
   "source": [
    "arr2 = np.array([])\n",
    "a = np.append(arr2,1)\n",
    "print(a)\n",
    "type(a)\n",
    "if a == arr2:\n",
    "    print(True)\n",
    "else:\n",
    "    print(False)"
   ]
  },
  {
   "cell_type": "code",
   "execution_count": null,
   "metadata": {},
   "outputs": [],
   "source": [
    "import numpy as np\n",
    "\n",
    "# Create an empty 1D array\n",
    "arr = np.array([])\n",
    "\n",
    "# Append an element to the empty array\n",
    "arr = np.append(arr, 10)\n",
    "\n",
    "print(arr)\n"
   ]
  },
  {
   "cell_type": "code",
   "execution_count": 34,
   "metadata": {},
   "outputs": [
    {
     "name": "stdout",
     "output_type": "stream",
     "text": [
      "[10.]\n"
     ]
    }
   ],
   "source": [
    "import numpy as np\n",
    "\n",
    "# Create an empty 1D array\n",
    "arr = np.array([])\n",
    "\n",
    "# Append an element and assign it back to arr\n",
    "arr = np.append(arr, 10)\n",
    "\n",
    "# Print the updated array\n",
    "print(arr)  # This will print: [10.]\n"
   ]
  },
  {
   "cell_type": "code",
   "execution_count": 39,
   "metadata": {},
   "outputs": [
    {
     "data": {
      "text/plain": [
       "array([1, 2, 3, 0])"
      ]
     },
     "execution_count": 39,
     "metadata": {},
     "output_type": "execute_result"
    }
   ],
   "source": [
    "# replace the numpy array elements that doesnt satisfy the given condition\n",
    "arr3 = np.array([1, 2, 3, -1])\n",
    "arr3[arr3 < 0] = 0\n",
    "arr3"
   ]
  },
  {
   "cell_type": "code",
   "execution_count": 46,
   "metadata": {},
   "outputs": [
    {
     "name": "stdout",
     "output_type": "stream",
     "text": [
      "(array([3]),)\n"
     ]
    }
   ],
   "source": [
    "arr3 = np.array([1, 2, 3, -1])\n",
    "index = np.where(arr3 == arr3[arr3 < 0])\n",
    "print(index)\n"
   ]
  },
  {
   "cell_type": "code",
   "execution_count": 70,
   "metadata": {},
   "outputs": [
    {
     "name": "stdout",
     "output_type": "stream",
     "text": [
      "[2.  3.  4.5 6. ]\n",
      "[[False False False  True]\n",
      " [False False  True False]\n",
      " [False False False False]]\n",
      "[[1.3 2.5 3.6 6. ]\n",
      " [2.6 3.3 4.5 5.5]\n",
      " [2.1 3.2 5.4 6.5]]\n"
     ]
    }
   ],
   "source": [
    "arr4 = np.array([ [1.3,2.5,3.6,np.nan], [2.6,3.3,np.nan,5.5],[2.1,3.2,5.4,6.5] ])\n",
    "rep = np.nanmean(arr4,axis=0)\n",
    "print(rep)\n",
    "inds = np.isnan(arr4)\n",
    "print(inds)\n",
    "arr4[inds] = np.take(rep, np.where(inds)[1])\n",
    "print(arr4)\n"
   ]
  },
  {
   "cell_type": "code",
   "execution_count": 66,
   "metadata": {},
   "outputs": [
    {
     "name": "stdout",
     "output_type": "stream",
     "text": [
      "[[1.3 2.5 3.6 5.5]\n",
      " [2.6 3.3 3.6 5.5]]\n"
     ]
    }
   ],
   "source": [
    "arr = np.array([[1.3, 2.5, 3.6, np.nan],\n",
    "                [2.6, 3.3, np.nan, 5.5]])\n",
    "\n",
    "# Calculate the column-wise mean, ignoring NaNs\n",
    "col_means = np.nanmean(arr, axis=0)\n",
    "\n",
    "# Find indices where NaN values are present\n",
    "inds = np.isnan(arr)\n",
    "\n",
    "# Replace NaNs with the column means\n",
    "arr[inds] = np.take(col_means, np.where(inds)[1])\n",
    "\n",
    "print(arr)"
   ]
  },
  {
   "cell_type": "code",
   "execution_count": 72,
   "metadata": {},
   "outputs": [
    {
     "ename": "NameError",
     "evalue": "name 'count' is not defined",
     "output_type": "error",
     "traceback": [
      "\u001b[1;31m---------------------------------------------------------------------------\u001b[0m",
      "\u001b[1;31mNameError\u001b[0m                                 Traceback (most recent call last)",
      "Cell \u001b[1;32mIn[72], line 4\u001b[0m\n\u001b[0;32m      2\u001b[0m \u001b[38;5;28;01mwhile\u001b[39;00m(a \u001b[38;5;241m>\u001b[39m \u001b[38;5;241m-\u001b[39m\u001b[38;5;241m100\u001b[39m):  \n\u001b[0;32m      3\u001b[0m     a \u001b[38;5;241m=\u001b[39m a \u001b[38;5;241m-\u001b[39m \u001b[38;5;241m1\u001b[39m  \n\u001b[1;32m----> 4\u001b[0m     \u001b[38;5;28mprint\u001b[39m(\u001b[43mcount\u001b[49m(a))  \n",
      "\u001b[1;31mNameError\u001b[0m: name 'count' is not defined"
     ]
    }
   ],
   "source": [
    "a = 2\n",
    "while(a > -100):  \n",
    "    a = a - 1  \n",
    "    print(a)  "
   ]
  }
 ],
 "metadata": {
  "kernelspec": {
   "display_name": "Python 3",
   "language": "python",
   "name": "python3"
  },
  "language_info": {
   "codemirror_mode": {
    "name": "ipython",
    "version": 3
   },
   "file_extension": ".py",
   "mimetype": "text/x-python",
   "name": "python",
   "nbconvert_exporter": "python",
   "pygments_lexer": "ipython3",
   "version": "3.12.3"
  }
 },
 "nbformat": 4,
 "nbformat_minor": 2
}
