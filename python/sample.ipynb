{
 "cells": [
  {
   "cell_type": "code",
   "execution_count": null,
   "metadata": {},
   "outputs": [],
   "source": [
    "import pymongo\n",
    "from pymongo import MongoClient\n",
    "\n",
    "class School:\n",
    "    def __init__(self, pname, prole):\n",
    "        self.pname = pname\n",
    "        self.prole = prole\n",
    "\n",
    "    def checkwho(self):\n",
    "        if self.prole == 'Teacher':\n",
    "            print(f'as a Teacher {self.pname}')\n",
    "        else:\n",
    "            print(f'as a Student {self.pname}')\n",
    "\n",
    "# MongoDB Setup: Replace the MongoDB URI with your own\n",
    "client = MongoClient('mongodb://localhost:27017')  # If you're using a local MongoDB\n",
    "db = client['school_database']  # MongoDB Database name\n",
    "teacher_collection = db['teachers']  # MongoDB collection for teachers\n",
    "student_collection = db['students']  # MongoDB collection for students\n",
    "\n",
    "class Teacher(School):\n",
    "    def __init__(self, tname, tsub):\n",
    "        self.role = 'Teacher'\n",
    "        super().__init__(tname, self.role)\n",
    "        self.tname = tname\n",
    "        self.tsub = tsub\n",
    "\n",
    "    def teacher_display(self):\n",
    "        return f'Teacher name is: {self.tname} teaches {self.tsub} '\n",
    "\n",
    "    def insert_teacher(self):\n",
    "        teacher_data = {\n",
    "            'name': self.tname,\n",
    "            'subject': self.tsub,\n",
    "            'role': self.role,\n",
    "            'pass_percent': self.pass_percent\n",
    "        }\n",
    "        teacher_collection.insert_one(teacher_data)  # Insert teacher record into MongoDB\n",
    "\n",
    "    def update_teacher(self, teacher_name, new_subject):\n",
    "        teacher_collection.update_one(\n",
    "            {'name': teacher_name}, \n",
    "            {'$set': {'subject': new_subject}}\n",
    "        )  # Update teacher subject\n",
    "\n",
    "    def delete_teacher(self, teacher_name):\n",
    "        teacher_collection.delete_one({'name': teacher_name})  # Delete teacher record\n",
    "\n",
    "    def read_teacher(self, teacher_name):\n",
    "        teacher = teacher_collection.find_one({'name': teacher_name})\n",
    "        if teacher:\n",
    "            return teacher\n",
    "        return None\n",
    "    \n",
    "\n",
    "\n",
    "class Student(School):\n",
    "    def __init__(self, name, marks):\n",
    "        self.role = 'Student'\n",
    "        super().__init__(name, self.role)\n",
    "        self.marks = marks\n",
    "        self.name = name\n",
    "\n",
    "    def average(self):\n",
    "        l = list(self.marks.values())\n",
    "        avg = sum(l) // len(l)\n",
    "        return avg\n",
    "\n",
    "    def grade(self, avg):\n",
    "        if avg > 90:\n",
    "            return 'O'\n",
    "        elif 70 < avg <= 90:\n",
    "            return 'B'\n",
    "        elif 50 < avg <= 70:\n",
    "            return 'A'\n",
    "        elif 35 < avg <= 50:\n",
    "            return 'E'\n",
    "        elif avg < 35:\n",
    "            return 'F'\n",
    "\n",
    "    def display(self):\n",
    "        return f'{self.name} has scored {self.marks} and got {self.grade(self.average())}'\n",
    "\n",
    "    def insert_student(self):\n",
    "        student_data = {\n",
    "            'name': self.name,\n",
    "            'marks': self.marks,\n",
    "            'role': self.role,\n",
    "            'average': self.average(),\n",
    "            'grade': self.grade(self.average())\n",
    "        }\n",
    "        student_collection.insert_many(student_data)  # Insert student record into MongoDB\n",
    "\n",
    "    def update_student(self, student_name, new_marks):\n",
    "        student_collection.update_one(\n",
    "            {'name': student_name},\n",
    "            {'$set': {'marks': new_marks, 'average': self.average(), 'grade': self.grade(self.average())}}\n",
    "        )  # Update student marks\n",
    "\n",
    "    def delete_student(self, student_name):\n",
    "        student_collection.delete_one({'name': student_name})  # Delete student record\n",
    "\n",
    "    def read_student(self, student_name):\n",
    "        student = student_collection.find_one({'name': student_name})\n",
    "        if student:\n",
    "            return student\n",
    "        return None\n",
    "\n"
   ]
  },
  {
   "cell_type": "code",
   "execution_count": null,
   "metadata": {},
   "outputs": [],
   "source": [
    "# Insert Teacher Data\n",
    "teacher_obj = Teacher('Mr. John', 'Math')\n",
    "teacher_obj.insert_teacher()\n",
    "# Read Teacher Data\n",
    "print(teacher_obj.read_teacher('Mr. John'))\n",
    "\n",
    "# Update Teacher Data\n",
    "teacher_obj.update_teacher('Mr. John', 'Physics')"
   ]
  },
  {
   "cell_type": "code",
   "execution_count": null,
   "metadata": {},
   "outputs": [],
   "source": [
    "# Delete Teacher Data\n",
    "# teacher_obj.delete_teacher('Mr. John')"
   ]
  },
  {
   "cell_type": "code",
   "execution_count": null,
   "metadata": {},
   "outputs": [],
   "source": [
    "# Insert Student Data\n",
    "student_obj = Student('Alice', {'maths': 99, 'science': 89, 'social': 79, 'english': 69})\n",
    "student_obj.insert_student()\n",
    "\n",
    "# Read Student Data\n",
    "print(student_obj.read_student('Alice'))\n",
    "\n",
    "# Update Student Data\n",
    "student_obj.update_student('Alice', {'maths': 90, 'science': 85, 'social': 80, 'english': 75})"
   ]
  },
  {
   "cell_type": "code",
   "execution_count": 4,
   "metadata": {},
   "outputs": [],
   "source": [
    "student_obj.insert_student()\n",
    "student_obj = Student('sam', {'maths': 89, 'science': 79, 'social': 69, 'english': 59})"
   ]
  },
  {
   "cell_type": "code",
   "execution_count": null,
   "metadata": {},
   "outputs": [],
   "source": [
    "# Delete Student Data\n",
    "# student_obj.delete_student('Alice')"
   ]
  },
  {
   "cell_type": "code",
   "execution_count": 5,
   "metadata": {},
   "outputs": [
    {
     "data": {
      "text/plain": [
       "<function __main__.sample()>"
      ]
     },
     "execution_count": 5,
     "metadata": {},
     "output_type": "execute_result"
    }
   ],
   "source": [
    "def sample():\n",
    "    return 'hai'\n",
    "sample\n"
   ]
  }
 ],
 "metadata": {
  "kernelspec": {
   "display_name": "Python 3",
   "language": "python",
   "name": "python3"
  },
  "language_info": {
   "codemirror_mode": {
    "name": "ipython",
    "version": 3
   },
   "file_extension": ".py",
   "mimetype": "text/x-python",
   "name": "python",
   "nbconvert_exporter": "python",
   "pygments_lexer": "ipython3",
   "version": "3.12.3"
  }
 },
 "nbformat": 4,
 "nbformat_minor": 2
}
