{
 "cells": [
  {
   "cell_type": "markdown",
   "metadata": {},
   "source": [
    "OOPS CONCEPT IN PYTHON"
   ]
  },
  {
   "cell_type": "markdown",
   "metadata": {},
   "source": [
    "CLASSES AND OBJECTS"
   ]
  },
  {
   "cell_type": "code",
   "execution_count": 1,
   "metadata": {},
   "outputs": [
    {
     "name": "stdout",
     "output_type": "stream",
     "text": [
      "4 4\n"
     ]
    },
    {
     "data": {
      "text/plain": [
       "<__main__.num at 0x166b699baa0>"
      ]
     },
     "execution_count": 1,
     "metadata": {},
     "output_type": "execute_result"
    }
   ],
   "source": [
    "#creating a class\n",
    "#we can create a class without an object\n",
    "class num():\n",
    "    print(4,4)\n",
    "num()"
   ]
  },
  {
   "cell_type": "code",
   "execution_count": 4,
   "metadata": {},
   "outputs": [
    {
     "name": "stdout",
     "output_type": "stream",
     "text": [
      "3\n",
      "9\n"
     ]
    }
   ],
   "source": [
    "#attributes(variables) abd methoda(def functions)\n",
    "\n",
    "class num():\n",
    "    def add(self,a,b):  # self is a mapping variable we can give any name\n",
    "        c =a +b\n",
    "        return c\n",
    "\n",
    "obj = num() # creates an object\n",
    "res = obj.add(1,2) \n",
    "print(res)\n",
    "\n",
    "# creating multiple object for a same class\n",
    "obj2 = num()\n",
    "res2 = obj2.add(4,5)\n",
    "print(res2)"
   ]
  },
  {
   "cell_type": "code",
   "execution_count": 5,
   "metadata": {},
   "outputs": [
    {
     "name": "stdout",
     "output_type": "stream",
     "text": [
      "4\n"
     ]
    }
   ],
   "source": [
    "class num():\n",
    "    d = 1 # creating a globla variable inside a class but outside a def\n",
    "    def add(self,a,b):\n",
    "        c =a +b+self.d # we use self.d to acces it\n",
    "        return c\n",
    "\n",
    "# obj = num()\n",
    "res = num().add(1,2) # we can directly call a class without creating an onject\n",
    "print(res)\n"
   ]
  },
  {
   "cell_type": "code",
   "execution_count": 10,
   "metadata": {},
   "outputs": [
    {
     "name": "stdout",
     "output_type": "stream",
     "text": [
      "demo class\n",
      "1\n",
      "2\n"
     ]
    }
   ],
   "source": [
    "#creating an instance of an object\n",
    "\n",
    "class demo:\n",
    "    print('demo class')\n",
    "    a= int(input('a:'))\n",
    "    b= int(input('b:'))\n",
    "\n",
    "obj1 = demo()\n",
    "print(obj1.a)\n",
    "\n",
    "obj2 = demo()\n",
    "print(obj2.b)\n"
   ]
  },
  {
   "cell_type": "code",
   "execution_count": 11,
   "metadata": {},
   "outputs": [
    {
     "name": "stdout",
     "output_type": "stream",
     "text": [
      "['__abs__', '__add__', '__and__', '__bool__', '__ceil__', '__class__', '__delattr__', '__dir__', '__divmod__', '__doc__', '__eq__', '__float__', '__floor__', '__floordiv__', '__format__', '__ge__', '__getattribute__', '__getnewargs__', '__getstate__', '__gt__', '__hash__', '__index__', '__init__', '__init_subclass__', '__int__', '__invert__', '__le__', '__lshift__', '__lt__', '__mod__', '__mul__', '__ne__', '__neg__', '__new__', '__or__', '__pos__', '__pow__', '__radd__', '__rand__', '__rdivmod__', '__reduce__', '__reduce_ex__', '__repr__', '__rfloordiv__', '__rlshift__', '__rmod__', '__rmul__', '__ror__', '__round__', '__rpow__', '__rrshift__', '__rshift__', '__rsub__', '__rtruediv__', '__rxor__', '__setattr__', '__sizeof__', '__str__', '__sub__', '__subclasshook__', '__truediv__', '__trunc__', '__xor__', 'as_integer_ratio', 'bit_count', 'bit_length', 'conjugate', 'denominator', 'from_bytes', 'imag', 'is_integer', 'numerator', 'real', 'to_bytes']\n"
     ]
    }
   ],
   "source": [
    "print(dir(int))"
   ]
  },
  {
   "cell_type": "code",
   "execution_count": 15,
   "metadata": {},
   "outputs": [
    {
     "name": "stdout",
     "output_type": "stream",
     "text": [
      "60\n"
     ]
    }
   ],
   "source": [
    "#paramaterized constructor\n",
    "class cal:\n",
    "    def __init__(self,a=20,b=40):\n",
    "        self.m = a\n",
    "        self.n = b\n",
    "    \n",
    "    def add(self):\n",
    "        print(self.m + self.n)\n",
    "s = cal(70,30)\n",
    "s.add()"
   ]
  },
  {
   "cell_type": "code",
   "execution_count": 19,
   "metadata": {},
   "outputs": [
    {
     "name": "stdout",
     "output_type": "stream",
     "text": [
      "printing an r1 rectangle(5,10)\n",
      "checking if both r1 and r2 len and width: False\n",
      "calculating area:  50\n"
     ]
    }
   ],
   "source": [
    "class rectangle:\n",
    "    def __init__(self,length,width):\n",
    "        self.length = length\n",
    "        self.width = width\n",
    "    \n",
    "    def __str__(self):\n",
    "        return f'rectangle({self.length},{self.width})'\n",
    "    \n",
    "    def __eq__(self, value):\n",
    "        return self.length == value.length and self.width == value.width\n",
    "    \n",
    "    def area(self):\n",
    "        return self.length * self.width\n",
    "\n",
    "r1 = rectangle(5,10)\n",
    "r2 = rectangle(10,5)\n",
    "\n",
    "print('printing an r1',r1)\n",
    "print('checking if both r1 and r2 len and width:',r1 == r2)\n",
    "print('calculating area: ',r1.area())\n"
   ]
  },
  {
   "cell_type": "code",
   "execution_count": 21,
   "metadata": {},
   "outputs": [
    {
     "name": "stdout",
     "output_type": "stream",
     "text": [
      "True\n"
     ]
    }
   ],
   "source": [
    "class demo():\n",
    "    a = 10\n",
    "    b =20\n",
    "obj = demo()\n",
    "x= isinstance(obj,demo)\n",
    "print(x)"
   ]
  },
  {
   "cell_type": "code",
   "execution_count": 39,
   "metadata": {},
   "outputs": [
    {
     "ename": "AttributeError",
     "evalue": "'demo' object has no attribute 'c'",
     "output_type": "error",
     "traceback": [
      "\u001b[1;31m---------------------------------------------------------------------------\u001b[0m",
      "\u001b[1;31mAttributeError\u001b[0m                            Traceback (most recent call last)",
      "Cell \u001b[1;32mIn[39], line 6\u001b[0m\n\u001b[0;32m      4\u001b[0m     b \u001b[38;5;241m=\u001b[39m\u001b[38;5;241m20\u001b[39m\n\u001b[0;32m      5\u001b[0m obj \u001b[38;5;241m=\u001b[39m demo()\n\u001b[1;32m----> 6\u001b[0m \u001b[38;5;28;43mgetattr\u001b[39;49m\u001b[43m(\u001b[49m\u001b[43mobj\u001b[49m\u001b[43m,\u001b[49m\u001b[38;5;124;43m'\u001b[39;49m\u001b[38;5;124;43mc\u001b[39;49m\u001b[38;5;124;43m'\u001b[39;49m\u001b[43m)\u001b[49m  \u001b[38;5;66;03m# geting an attribute\u001b[39;00m\n\u001b[0;32m      7\u001b[0m \u001b[38;5;66;03m# print(obj.a)\u001b[39;00m\n",
      "\u001b[1;31mAttributeError\u001b[0m: 'demo' object has no attribute 'c'"
     ]
    }
   ],
   "source": [
    "# get set and del attributes\n",
    "class demo():\n",
    "    a = 10\n",
    "    b =20\n",
    "obj = demo()\n",
    "getattr(obj,'c')  # geting an attribute\n",
    "# print(obj.a)\n"
   ]
  },
  {
   "cell_type": "code",
   "execution_count": 33,
   "metadata": {},
   "outputs": [
    {
     "data": {
      "text/plain": [
       "30"
      ]
     },
     "execution_count": 33,
     "metadata": {},
     "output_type": "execute_result"
    }
   ],
   "source": [
    "# get set and del attributes\n",
    "class demo():\n",
    "    a = 10\n",
    "    b =20\n",
    "obj = demo()\n",
    "setattr(obj,'c',30)  # setting an attribute\n",
    "getattr(obj,'a')\n",
    "# to check all the attribute use dir (objectname)\n",
    "# dir(obj)\n"
   ]
  },
  {
   "cell_type": "code",
   "execution_count": 38,
   "metadata": {},
   "outputs": [
    {
     "ename": "AttributeError",
     "evalue": "'demo' object has no attribute 'a'",
     "output_type": "error",
     "traceback": [
      "\u001b[1;31m---------------------------------------------------------------------------\u001b[0m",
      "\u001b[1;31mAttributeError\u001b[0m                            Traceback (most recent call last)",
      "Cell \u001b[1;32mIn[38], line 6\u001b[0m\n\u001b[0;32m      4\u001b[0m     b \u001b[38;5;241m=\u001b[39m\u001b[38;5;241m20\u001b[39m\n\u001b[0;32m      5\u001b[0m obj \u001b[38;5;241m=\u001b[39m demo()\n\u001b[1;32m----> 6\u001b[0m \u001b[38;5;28;43mdelattr\u001b[39;49m\u001b[43m(\u001b[49m\u001b[43mobj\u001b[49m\u001b[43m,\u001b[49m\u001b[38;5;124;43m'\u001b[39;49m\u001b[38;5;124;43ma\u001b[39;49m\u001b[38;5;124;43m'\u001b[39;49m\u001b[43m)\u001b[49m  \u001b[38;5;66;03m# geting an attribute\u001b[39;00m\n\u001b[0;32m      7\u001b[0m \u001b[38;5;28mgetattr\u001b[39m(obj,\u001b[38;5;124m'\u001b[39m\u001b[38;5;124ma\u001b[39m\u001b[38;5;124m'\u001b[39m)\n",
      "\u001b[1;31mAttributeError\u001b[0m: 'demo' object has no attribute 'a'"
     ]
    }
   ],
   "source": [
    "# get set and del attributes\n",
    "class demo():\n",
    "    a = 10\n",
    "    b =20\n",
    "obj = demo()\n",
    "delattr(obj,'a')  # geting an attribute\n",
    "getattr(obj,'a')\n"
   ]
  },
  {
   "cell_type": "code",
   "execution_count": 48,
   "metadata": {},
   "outputs": [
    {
     "name": "stdout",
     "output_type": "stream",
     "text": [
      "farmer does agri\n",
      "farmer says how are you?\n",
      "\n",
      "astro does agri\n",
      "astro says how are you?\n",
      "\n",
      "sudhar says how are you?\n"
     ]
    }
   ],
   "source": [
    "class Human:\n",
    "    def __init__(self,n='farmer',o='agri'):\n",
    "        self.name =n\n",
    "        self.occupation = o\n",
    "\n",
    "    def do_work(self):\n",
    "        if self.occupation == 'tennis player':\n",
    "            print(self.name, 'plays tennis')\n",
    "        elif self.occupation == 'actor':\n",
    "            print(self.name,'shoots flim')\n",
    "        elif self.occupation == 'agri':\n",
    "            print(self.name,'does agri')\n",
    "    \n",
    "    def speaks(self):\n",
    "        print(self.name, 'says how are you?')\n",
    "\n",
    "tom = Human()\n",
    "tom.do_work()\n",
    "tom.speaks()\n",
    "print()\n",
    "ram = Human('astro','agri')\n",
    "ram.do_work()\n",
    "ram.speaks()\n",
    "print()\n",
    "sam =  Human('sudhar','it')\n",
    "sam.do_work()\n",
    "sam.speaks()\n"
   ]
  },
  {
   "cell_type": "markdown",
   "metadata": {},
   "source": [
    "INHERITENCE IN PYTHION\n",
    "\n",
    "* SIMPLE INHERITENCE\n",
    "    PARENT CLASS\n",
    "    ^\n",
    "    |\n",
    "    CHILD CLASS\n",
    "* MULTIPLE INHERITENCE\n",
    "    PARENT_CLASS1  PARENT_CLASS2\n",
    "        |               |\n",
    "            CHILD CLASS\n",
    "\n",
    "* MULTILEVEL CLASS\n",
    "\n",
    "    PARENT CLASS\n",
    "    ^\n",
    "    |\n",
    "    CHILD CLASS 1 --> ACT AS BOTH CHILD AND PARENT CLASS\n",
    "    ^\n",
    "    |\n",
    "    CHILD CLASS 2\n",
    "\n",
    "* HIERARCHICAL INHERITANCE\n",
    "\n",
    "            PARENT CLASS\n",
    "        |                   |\n",
    "    CHILD CLASS1    CHILD CLASS2\n",
    "\n",
    "* hybrid inherientence\n",
    "        parent class\n",
    "    |                   |\n",
    "child class1    child class2    --> ACT AS A BOTH PARENT AND CHILD CLASS\n",
    "    |                 |\n",
    "        child class3    "
   ]
  },
  {
   "cell_type": "code",
   "execution_count": 1,
   "metadata": {},
   "outputs": [
    {
     "name": "stdout",
     "output_type": "stream",
     "text": [
      "base class\n",
      "derived class\n"
     ]
    }
   ],
   "source": [
    "# SIMPLE INHERIENTENCE\n",
    "# SIMPLE INHRENTENCE NO REQUIRE TO PUT ANY LOGINC IN CHILD CLASS\n",
    "class base(): # parent class\n",
    "    a_name = 'base class'\n",
    "\n",
    "class derived(base): # child class\n",
    "    b_name = 'derived class'\n",
    "\n",
    "obj = derived() # creating object that inherited\n",
    "print(obj.a_name)\n",
    "print(obj.b_name)"
   ]
  },
  {
   "cell_type": "code",
   "execution_count": 2,
   "metadata": {},
   "outputs": [
    {
     "name": "stdout",
     "output_type": "stream",
     "text": [
      "animal speaking\n",
      "animal barking\n"
     ]
    }
   ],
   "source": [
    "\n",
    "class animal():\n",
    "    def speak(self):\n",
    "        print('animal speaking')\n",
    "\n",
    "class dog(animal):\n",
    "    def bark(self):\n",
    "        print('animal barking')\n",
    "\n",
    "obj = dog()\n",
    "obj.speak()\n",
    "obj.bark()\n"
   ]
  },
  {
   "cell_type": "code",
   "execution_count": 4,
   "metadata": {},
   "outputs": [
    {
     "name": "stdout",
     "output_type": "stream",
     "text": [
      "reservec\n",
      "father name\n",
      "son name\n"
     ]
    }
   ],
   "source": [
    "# MULTIlevel INHERIENTENCE\n",
    "\n",
    "class gfather():\n",
    "    g_name = 'grand father name'\n",
    "\n",
    "class father(gfather):\n",
    "    f_name = 'father name'\n",
    "\n",
    "class son(father):\n",
    "    s_name = 'son name'\n",
    "    # g_name = 'reservec'\n",
    "\n",
    "obj = son()\n",
    "print(obj.g_name)\n",
    "print(obj.f_name)\n",
    "print(obj.s_name)"
   ]
  },
  {
   "cell_type": "code",
   "execution_count": 9,
   "metadata": {},
   "outputs": [
    {
     "name": "stdout",
     "output_type": "stream",
     "text": [
      "father name\n",
      "mother name\n",
      "son name\n"
     ]
    }
   ],
   "source": [
    "# MULTIPLE INHERENTENCE\n",
    "\n",
    "class father: # parent 1\n",
    "    f_name = 'father name'\n",
    "class mother: # parent 2\n",
    "    m_name = 'mother name'\n",
    "\n",
    "class son(father,mother):\n",
    "    s_name = 'son name'\n",
    "\n",
    "obj=son() \n",
    "print(obj.f_name)\n",
    "print(obj.m_name)\n",
    "print(obj.s_name)\n",
    "\n",
    "# if we want to access things in a paent class use seperate obj  to acces it\n",
    "# parent_obj = father()\n",
    "# print(parent_obj.f_name)\n",
    "# print(parent_obj.m_name)"
   ]
  },
  {
   "cell_type": "code",
   "execution_count": 16,
   "metadata": {},
   "outputs": [
    {
     "name": "stdout",
     "output_type": "stream",
     "text": [
      "I am a car\n",
      "general use: transportation\n",
      "specific use: something with cars\n",
      "\n",
      "I am a bike\n",
      "general use: transportation\n",
      "specific use: something with bikes\n",
      "True\n",
      "True\n"
     ]
    }
   ],
   "source": [
    "# hericrical inherentence\n",
    "\n",
    "class vechile:\n",
    "    def genral_usage(self):\n",
    "        print('general use: transportation')\n",
    "\n",
    "class car(vechile):\n",
    "    def __init__(self):\n",
    "        print('I am a car')\n",
    "        self.wheel = 4\n",
    "        self.has_roof = True\n",
    "\n",
    "    def specific_usage(self):\n",
    "        self.genral_usage()\n",
    "        print('specific use: something with cars')\n",
    "\n",
    "class bike(vechile):\n",
    "    def __init__(self):\n",
    "        print('I am a bike')\n",
    "        self.wheel = 2\n",
    "        self.has_roof = False\n",
    "\n",
    "    def specific_usage(self):\n",
    "        print('specific use: something with bikes')\n",
    "    \n",
    "obj_car = car()\n",
    "# obj_car.genral_usage()\n",
    "obj_car.specific_usage()\n",
    "\n",
    "print()\n",
    "\n",
    "obj_bike = bike()\n",
    "obj_bike.genral_usage()\n",
    "obj_bike.specific_usage()\n",
    "\n",
    "print(isinstance(obj_car,car))\n",
    "print(issubclass(car,vechile))"
   ]
  },
  {
   "cell_type": "code",
   "execution_count": 31,
   "metadata": {},
   "outputs": [
    {
     "name": "stdout",
     "output_type": "stream",
     "text": [
      "Animal __init__\n",
      "Dog __init__\n",
      "street dog\n",
      "dog\n"
     ]
    }
   ],
   "source": [
    "class Animal:\n",
    "    def __init__(self, species):\n",
    "        self.species = species\n",
    "        print('Animal __init__')\n",
    "\n",
    "    # def ani(self):\n",
    "    #     print('inside animal')\n",
    "\n",
    "class dog(Animal):\n",
    "    def __init__(self, breed):\n",
    "        super().__init__('dog')\n",
    "        self.breed = breed\n",
    "        print('Dog __init__')\n",
    "\n",
    "my_dog = dog('street dog')\n",
    "print(my_dog.breed)\n",
    "# print(my_dog.ani())\n",
    "print(my_dog.species)\n"
   ]
  },
  {
   "cell_type": "code",
   "execution_count": 29,
   "metadata": {},
   "outputs": [
    {
     "name": "stdout",
     "output_type": "stream",
     "text": [
      "Animal __init__\n",
      "Dog __init__\n",
      "street dog\n",
      "dog\n"
     ]
    }
   ],
   "source": [
    "class Animal:\n",
    "    def __init__(self, species):\n",
    "        self.species = species\n",
    "        print('Animal __init__')\n",
    "\n",
    "class dog(Animal):\n",
    "    def __init__(self, breed,spec):\n",
    "        self.spec = spec\n",
    "        super().__init__('dog')\n",
    "        self.breed = breed\n",
    "        print('Dog __init__')\n",
    "\n",
    "my_dog = dog('street dog','huskey')\n",
    "print(my_dog.breed)\n",
    "# print(my_dog.ani())\n",
    "print(my_dog.species)\n"
   ]
  },
  {
   "cell_type": "code",
   "execution_count": 34,
   "metadata": {},
   "outputs": [
    {
     "name": "stdout",
     "output_type": "stream",
     "text": [
      "sudhar\n",
      "30\n",
      "12345\n"
     ]
    }
   ],
   "source": [
    "class person:\n",
    "    def __init__(self,name,age):\n",
    "        self.name = name\n",
    "        self.age = age\n",
    "class employee(person):\n",
    "    def __init__(self,name,age,emp_id):\n",
    "        super().__init__(name,age)\n",
    "        self.emp_id = emp_id\n",
    "\n",
    "emp = employee('sudhar', 30, 12345)\n",
    "print(emp.name)\n",
    "print(emp.age)\n",
    "print(emp.emp_id)"
   ]
  },
  {
   "cell_type": "markdown",
   "metadata": {},
   "source": [
    "ACCESS MODIFIERS IN PYTHON\n",
    "PUBLIC \n",
    "PRIVATE __\n",
    "PROTECTED _"
   ]
  },
  {
   "cell_type": "code",
   "execution_count": null,
   "metadata": {},
   "outputs": [],
   "source": [
    "class geek:\n",
    "    #private members\n",
    "    __name = None\n",
    "    __roll = None\n",
    "    __branch = None\n",
    "\n",
    "    # constructor\n",
    "    def __init__(self,name,roll,branch):\n",
    "        self.__name = name\n",
    "        self.__roll = roll\n",
    "        self.__branch = branch\n",
    "\n",
    "    # private functions\n",
    "    def __displayDetails(self):\n",
    "        print('name:',self.__name)\n",
    "        print('name:',self.__roll)\n",
    "        print('name:',self.__branch)\n",
    "    "
   ]
  },
  {
   "cell_type": "markdown",
   "metadata": {},
   "source": [
    "POLYMORPHISM IN PYTHON\n",
    "|\n",
    "--OVERLOADING \n",
    "|\n",
    "--overriding only work for classes and objects and inherentence"
   ]
  },
  {
   "cell_type": "code",
   "execution_count": 36,
   "metadata": {},
   "outputs": [
    {
     "name": "stdout",
     "output_type": "stream",
     "text": [
      "200\n",
      "10\n"
     ]
    }
   ],
   "source": [
    "def sum(a=None, b=None, c=None):\n",
    "    if a!=None and b!=None and c!=None:\n",
    "        c=a+b+c\n",
    "    elif a!=None and b!=None:\n",
    "        c=a*b\n",
    "    else:\n",
    "        c = a\n",
    "    print(c)\n",
    "\n",
    "a = int(input('a='))\n",
    "sum(a,20,30)\n",
    "sum(10,20)\n",
    "sum(10)\n"
   ]
  },
  {
   "cell_type": "code",
   "execution_count": 37,
   "metadata": {},
   "outputs": [
    {
     "name": "stdout",
     "output_type": "stream",
     "text": [
      "hello world\n"
     ]
    }
   ],
   "source": [
    "x=50\n",
    "class demo:\n",
    "    def fun(self):\n",
    "        print('hello this is python')\n",
    "\n",
    "class demo1(demo):\n",
    "    def fun(self):\n",
    "        print('hello world')\n",
    "\n",
    "x=20\n",
    "obj = demo1()\n",
    "obj.fun()\n"
   ]
  },
  {
   "cell_type": "code",
   "execution_count": 39,
   "metadata": {},
   "outputs": [
    {
     "name": "stdout",
     "output_type": "stream",
     "text": [
      "30\n"
     ]
    }
   ],
   "source": [
    "# another method for overloading\n",
    "\n",
    "def add(datatype ,*args):\n",
    "\n",
    "    if datatype == 'int':\n",
    "        count =0\n",
    "\n",
    "    if datatype == 'str':\n",
    "        count = ''\n",
    "    \n",
    "    for x in args:\n",
    "        count = count +x\n",
    "    print(count)\n",
    "\n",
    "add('int',10,20)\n",
    "\n"
   ]
  },
  {
   "cell_type": "markdown",
   "metadata": {},
   "source": [
    "ENCAPUSALATION IN PYTHON"
   ]
  },
  {
   "cell_type": "code",
   "execution_count": 40,
   "metadata": {},
   "outputs": [
    {
     "name": "stdout",
     "output_type": "stream",
     "text": [
      "30\n"
     ]
    }
   ],
   "source": [
    "class Protected:\n",
    "    def __init__(self):\n",
    "        self._age = 30  # Protected attribute\n",
    "\n",
    "class Subclass(Protected):\n",
    "    def display_age(self):\n",
    "        print(self._age)  # Accessible in subclass\n",
    "\n",
    "obj = Subclass()\n",
    "obj.display_age()"
   ]
  },
  {
   "cell_type": "code",
   "execution_count": 46,
   "metadata": {},
   "outputs": [
    {
     "name": "stdout",
     "output_type": "stream",
     "text": [
      "50000\n"
     ]
    }
   ],
   "source": [
    "class Private:\n",
    "    def __init__(self):\n",
    "        self.__salary = 50000  # Private attribute\n",
    "\n",
    "    def __salary(self):\n",
    "        return self.__salary  # Access through public method\n",
    "    \n",
    "    def public(self):\n",
    "        return self.__salary\n",
    "\n",
    "obj = Private()\n",
    "\n",
    "# print(obj.salary())  # Works\n",
    "print(obj.public())  # Works\n",
    "# print(obj.__salary)  # Raises AttributeError"
   ]
  },
  {
   "cell_type": "markdown",
   "metadata": {},
   "source": [
    "ABSTRACTION IN PYTHON"
   ]
  },
  {
   "cell_type": "code",
   "execution_count": 61,
   "metadata": {},
   "outputs": [
    {
     "name": "stdout",
     "output_type": "stream",
     "text": [
      "I have 5 sides\n"
     ]
    }
   ],
   "source": [
    "from abc import ABC, abstractmethod\n",
    "\n",
    "class polygon(ABC):\n",
    "    @abstractmethod\n",
    "    def noofsides(self):\n",
    "        pass\n",
    "\n",
    "\n",
    "class Triangle(polygon):\n",
    "    def noofsides(self):\n",
    "        print('I have 3 sides')\n",
    "\n",
    "class pentagon(polygon):\n",
    "    def noofsides(self):\n",
    "        print('I have 5 sides')\n",
    "\n",
    "obj_pent = pentagon()\n",
    "obj_pent.noofsides()\n",
    "\n"
   ]
  },
  {
   "cell_type": "markdown",
   "metadata": {},
   "source": [
    "1. Write a Python class Employee with attributes like emp_id, emp_name, emp_salary, and emp_department and methods like calculate_emp_salary, emp_assign_department, and print_employee_details.\n",
    "Sample Employee Data:\n",
    "\"ADAMS\", \"E7876\", 50000, \"ACCOUNTING\"\n",
    "\"JONES\", \"E7499\", 45000, \"RESEARCH\"\n",
    "\"MARTIN\", \"E7900\", 50000, \"SALES\"\n",
    "\"SMITH\", \"E7698\", 55000, \"OPERATIONS\"\n",
    "\n",
    "Use 'assign_department' method to change the department of an employee.\n",
    "Use 'print_employee_details' method to print the details of an employee.\n",
    "Use 'calculate_emp_salary' method takes two arguments: salary and hours_worked, which is the number of hours worked by the employee. If the number of hours worked is more than 50, the method computes overtime and adds it to the salary. Overtime is calculated as following formula:\n",
    "overtime = hours_worked - 50\n",
    "Overtime amount = (overtime * (salary / 50))"
   ]
  },
  {
   "cell_type": "code",
   "execution_count": 71,
   "metadata": {},
   "outputs": [
    {
     "name": "stdout",
     "output_type": "stream",
     "text": [
      "150000.0\n",
      "emp_id: ADAMS emp_name: E7876 emp_salary: 50000 emp_department: ACCOUNTING\n",
      "it\n",
      "emp_id: ADAMS emp_name: E7876 emp_salary: 50000 emp_department: it\n"
     ]
    }
   ],
   "source": [
    "class employee():\n",
    "    def __init__(self,emp_id, emp_name, emp_salary,emp_department):\n",
    "        self.emp_id = emp_id\n",
    "        self.emp_name = emp_name\n",
    "        self.emp_salary = emp_salary\n",
    "        self.emp_department = emp_department\n",
    "\n",
    "    def calculate_emp_salary(self,hours_worked):\n",
    "        overtime = hours_worked - 50\n",
    "        Overtime_amount = (overtime * (self.emp_salary / 50))\n",
    "        return Overtime_amount\n",
    "    \n",
    "    def emp_assign_department(self,dept):\n",
    "        a= self.emp_department = dept\n",
    "        return a\n",
    "    \n",
    "    def __str__(self):\n",
    "        return f'emp_id: {self.emp_id} emp_name: {self.emp_name} emp_salary: {self.emp_salary} emp_department: {self.emp_department}'\n",
    "    \n",
    "obj = employee(\"ADAMS\", \"E7876\", 50000, \"ACCOUNTING\")\n",
    "print(obj.calculate_emp_salary(200))\n",
    "print(obj.__str__())\n",
    "print(obj.emp_assign_department('it'))\n",
    "print(obj.__str__())\n",
    "\n",
    "    "
   ]
  },
  {
   "cell_type": "markdown",
   "metadata": {},
   "source": [
    "2. Write a Python class Restaurant with attributes like menu_items, book_table, and customer_orders, and methods like add_item_to_menu, book_tables, and customer_order.\n",
    "Perform the following tasks now:\n",
    "\n",
    "Now add items to the menu.\n",
    "Make table reservations.\n",
    "Take customer orders.\n",
    "Print the menu.\n",
    "Print table reservations.\n",
    "Print customer orders.\n",
    "Note: Use dictionaries and lists to store the data."
   ]
  },
  {
   "cell_type": "code",
   "execution_count": 97,
   "metadata": {},
   "outputs": [
    {
     "name": "stdout",
     "output_type": "stream",
     "text": [
      "None\n",
      "['milk', 'curd', 'paneer']\n",
      "None\n",
      "['milk', 'curd', 'paneer', 'milk1', 'curd1', 'paneer1']\n",
      "None\n",
      "['curd', 'paneer', 'milk1', 'paneer1']\n",
      "1 your table is booked\n",
      "{1: True, 2: False, 3: False, 4: False}\n",
      "your table 1 is cancelled\n",
      "{1: False, 2: False, 3: False, 4: False}\n"
     ]
    }
   ],
   "source": [
    "class Restaurant():\n",
    "    def __init__(self):\n",
    "        self.menu_items=[]\n",
    "        self.book_table={1:False,2:False,3:False,4:False}\n",
    "        # self.menu_items = menu_items\n",
    "        # self.book_table = book_table\n",
    "        # self.customer_orders = customer_orders\n",
    "    \n",
    "    def addmenuitem(self,additem):\n",
    "        self.menu_items.extend(additem)\n",
    "    def removemenuitem(self,removeitem):\n",
    "        for i in removeitem:\n",
    "            self.menu_items.remove(i)\n",
    "    def booktables(self,tablenumber):\n",
    "        self.book_table[tablenumber] = True\n",
    "        return f'{tablenumber} your table is booked'\n",
    "    def removetable(self,tablenumber):\n",
    "        if self.book_table[tablenumber] == True:\n",
    "            self.book_table[tablenumber] = False\n",
    "\n",
    "        return f'your table {tablenumber} is cancelled'\n",
    "    \n",
    "\n",
    "obj1=Restaurant()\n",
    "print(obj1.addmenuitem(['milk','curd','paneer'])) \n",
    "print(obj1.menu_items)\n",
    "print(obj1.addmenuitem(['milk1','curd1','paneer1'])) \n",
    "print(obj1.menu_items)\n",
    "print(obj1.removemenuitem(['milk','curd1'])) \n",
    "print(obj1.menu_items)\n",
    "print(obj1.booktables(1))\n",
    "print(obj1.book_table)\n",
    "print(obj1.removetable(1))\n",
    "print(obj1.book_table)"
   ]
  },
  {
   "cell_type": "markdown",
   "metadata": {},
   "source": [
    "question 1:\n",
    "create  a claas classed rectangle that has two properties : width and height\n",
    "write a method called area that calculates and return  the area of rectangle"
   ]
  },
  {
   "cell_type": "code",
   "execution_count": 99,
   "metadata": {},
   "outputs": [
    {
     "name": "stdout",
     "output_type": "stream",
     "text": [
      "6\n",
      "12.56\n",
      "36\n"
     ]
    }
   ],
   "source": [
    "class area():\n",
    "    # def __init__(self,height,width):\n",
    "    #     self.height = height\n",
    "    #     self.width = width\n",
    "    def rectangle(self,height,width):\n",
    "        rect = height * width\n",
    "        return rect\n",
    "    def circle(self,radius):\n",
    "        cir = 3.14 * radius **2\n",
    "        return cir\n",
    "    def square(self,length):\n",
    "        sq = length ** 2\n",
    "        return sq\n",
    "\n",
    "obj = area()\n",
    "r = obj.rectangle(2,3)\n",
    "print(r)\n",
    "c = obj.circle(2)\n",
    "print(c)\n",
    "s = obj.square(6)\n",
    "print(s)"
   ]
  },
  {
   "cell_type": "code",
   "execution_count": null,
   "metadata": {},
   "outputs": [],
   "source": [
    "dir(int)"
   ]
  },
  {
   "cell_type": "markdown",
   "metadata": {},
   "source": [
    "question 2:\n",
    "create a class called student that has two properties name and grades write a method called avg that cal and returns the avg grade of the student"
   ]
  },
  {
   "cell_type": "code",
   "execution_count": 15,
   "metadata": {},
   "outputs": [
    {
     "name": "stdout",
     "output_type": "stream",
     "text": [
      "abc has scored {'maths': 99, 'science': 89, 'social': 79, 'english': 69} and got B\n"
     ]
    }
   ],
   "source": [
    "\n",
    "class student():\n",
    "    def __init__(self,name,marks):\n",
    "        self.marks=marks\n",
    "        self.name = name\n",
    "\n",
    "    \n",
    "    # def addmark(self,subject,submark):\n",
    "    #     self.marks[subject]  = submark\n",
    "\n",
    "    def average(self):\n",
    "        l=list( self.marks.values())\n",
    "        avg = sum(l) // len(l)\n",
    "        # print(\"Average:\", avg)\n",
    "        return avg\n",
    "\n",
    "    def grade(self,avg):\n",
    "        # self.avg= avg\n",
    "        if avg > 90:\n",
    "            return ('O')\n",
    "        elif avg >70 or avg < 90:\n",
    "            return('B')\n",
    "        elif avg >50 or avg < 70:\n",
    "            return('A')\n",
    "        elif avg >35 or avg <50:\n",
    "            return('E')\n",
    "        elif avg < 35:\n",
    "            return('F')\n",
    "    \n",
    "    def display(self):\n",
    "        return f'{self.name} has scored {self.marks} and got {self.grade(self.average())}'\n",
    "    \n",
    "\n",
    "obj= student('abc',{'maths': 99, 'science': 89, 'social': 79, 'english': 69})\n",
    "# obj.addmark('maths',99)\n",
    "# obj.addmark('science',89)\n",
    "# obj.addmark('social',79)\n",
    "# obj.addmark('english',69)\n",
    "# print(obj.marks)\n",
    "# obj.average()\n",
    "obj.grade(obj.average())\n",
    "print(obj.display())"
   ]
  },
  {
   "cell_type": "markdown",
   "metadata": {},
   "source": [
    "question 3\n",
    "create a person class with att like name age and gender and then create child classes like student teacher and parent that inherit from person and have their own specific methods and properties use super init"
   ]
  },
  {
   "cell_type": "code",
   "execution_count": 19,
   "metadata": {},
   "outputs": [
    {
     "data": {
      "text/plain": [
       "'Teacher name is: abc teaches science'"
      ]
     },
     "execution_count": 19,
     "metadata": {},
     "output_type": "execute_result"
    }
   ],
   "source": [
    "class teacher():\n",
    "    def __init__(self, tname,tsub,role):\n",
    "        self.role = 'Teacher'\n",
    "        super().__init__(tname,role)\n",
    "        self.tname = tname\n",
    "        self.tsub = tsub\n",
    "    def teacher_display(self):\n",
    "        return f'Teacher name is: {self.tname} teaches {self.tsub}'\n",
    "\n",
    "teacher_obj=teacher('abc','science')\n",
    "teacher_obj.teacher_display()\n",
    "\n",
    "    "
   ]
  },
  {
   "cell_type": "code",
   "execution_count": null,
   "metadata": {},
   "outputs": [],
   "source": [
    "class school():\n",
    "    def __init__(self,pname,prole):\n",
    "        self.pname = pname\n",
    "        self.prole = prole\n",
    "\n",
    "    def checkwho(self):\n",
    "        if self.prole == 'Teacher':\n",
    "            print('as a Teacher')\n",
    "        else:\n",
    "            print('as a Student')\n",
    "\n",
    "\n"
   ]
  }
 ],
 "metadata": {
  "kernelspec": {
   "display_name": "Python 3",
   "language": "python",
   "name": "python3"
  },
  "language_info": {
   "codemirror_mode": {
    "name": "ipython",
    "version": 3
   },
   "file_extension": ".py",
   "mimetype": "text/x-python",
   "name": "python",
   "nbconvert_exporter": "python",
   "pygments_lexer": "ipython3",
   "version": "3.12.3"
  }
 },
 "nbformat": 4,
 "nbformat_minor": 2
}
