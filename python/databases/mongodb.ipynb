{
 "cells": [
  {
   "cell_type": "code",
   "execution_count": 1,
   "metadata": {},
   "outputs": [
    {
     "name": "stdout",
     "output_type": "stream",
     "text": [
      "Defaulting to user installation because normal site-packages is not writeable\n",
      "Collecting pymongo\n",
      "  Downloading pymongo-4.10.1-cp312-cp312-win_amd64.whl.metadata (22 kB)\n",
      "Collecting dnspython<3.0.0,>=1.16.0 (from pymongo)\n",
      "  Downloading dnspython-2.7.0-py3-none-any.whl.metadata (5.8 kB)\n",
      "Downloading pymongo-4.10.1-cp312-cp312-win_amd64.whl (926 kB)\n",
      "   ---------------------------------------- 0.0/926.7 kB ? eta -:--:--\n",
      "   --- ------------------------------------ 81.9/926.7 kB 2.3 MB/s eta 0:00:01\n",
      "   ------- -------------------------------- 174.1/926.7 kB 2.1 MB/s eta 0:00:01\n",
      "   ----------- ---------------------------- 276.5/926.7 kB 2.1 MB/s eta 0:00:01\n",
      "   --------------- ------------------------ 368.6/926.7 kB 2.1 MB/s eta 0:00:01\n",
      "   ------------------- -------------------- 450.6/926.7 kB 2.0 MB/s eta 0:00:01\n",
      "   ----------------------- ---------------- 553.0/926.7 kB 2.0 MB/s eta 0:00:01\n",
      "   ---------------------------- ----------- 665.6/926.7 kB 2.1 MB/s eta 0:00:01\n",
      "   -------------------------------- ------- 747.5/926.7 kB 2.0 MB/s eta 0:00:01\n",
      "   ----------------------------------- ---- 819.2/926.7 kB 2.1 MB/s eta 0:00:01\n",
      "   ---------------------------------------  921.6/926.7 kB 2.0 MB/s eta 0:00:01\n",
      "   ---------------------------------------  921.6/926.7 kB 2.0 MB/s eta 0:00:01\n",
      "   ---------------------------------------- 926.7/926.7 kB 1.8 MB/s eta 0:00:00\n",
      "Downloading dnspython-2.7.0-py3-none-any.whl (313 kB)\n",
      "   ---------------------------------------- 0.0/313.6 kB ? eta -:--:--\n",
      "   ------------- -------------------------- 102.4/313.6 kB 2.0 MB/s eta 0:00:01\n",
      "   ----------------------- ---------------- 184.3/313.6 kB 2.2 MB/s eta 0:00:01\n",
      "   ------------------------------------- -- 297.0/313.6 kB 2.3 MB/s eta 0:00:01\n",
      "   ---------------------------------------  307.2/313.6 kB 2.1 MB/s eta 0:00:01\n",
      "   ---------------------------------------- 313.6/313.6 kB 1.5 MB/s eta 0:00:00\n",
      "Installing collected packages: dnspython, pymongo\n",
      "Successfully installed dnspython-2.7.0 pymongo-4.10.1\n",
      "Note: you may need to restart the kernel to use updated packages.\n"
     ]
    },
    {
     "name": "stderr",
     "output_type": "stream",
     "text": [
      "\n",
      "[notice] A new release of pip is available: 24.0 -> 24.3.1\n",
      "[notice] To update, run: python.exe -m pip install --upgrade pip\n"
     ]
    }
   ],
   "source": [
    "pip install pymongo"
   ]
  },
  {
   "cell_type": "code",
   "execution_count": 4,
   "metadata": {},
   "outputs": [],
   "source": [
    "from pymongo import MongoClient\n",
    "from bson.objectid import ObjectId\n",
    "from bson import SON\n",
    "client = MongoClient('mongodb://localhost:27017')\n",
    "\n",
    "\n",
    "db = client.books\n",
    "\n",
    "people = db.bookOrders"
   ]
  },
  {
   "cell_type": "code",
   "execution_count": 8,
   "metadata": {},
   "outputs": [
    {
     "data": {
      "text/plain": [
       "InsertOneResult(ObjectId('676921bd999aaa044bd26e4c'), acknowledged=True)"
      ]
     },
     "execution_count": 8,
     "metadata": {},
     "output_type": "execute_result"
    }
   ],
   "source": [
    "people.insert_one({'name':'sam','age':21,'intrest':['books','movies']})\n",
    "people.insert_one({'name':'ram','age':22})\n",
    "people.insert_one({'name':'xaviour','age':26, 'intrest':['books','movies']})"
   ]
  },
  {
   "cell_type": "code",
   "execution_count": 6,
   "metadata": {},
   "outputs": [
    {
     "name": "stdout",
     "output_type": "stream",
     "text": [
      "{'_id': 0, 'first_name': 'Fyodor', 'last_name': 'Dostoyevsky', 'book_title': 'Demons', 'genre': 'Fiction', 'quantity': 10, 'date': datetime.datetime(2022, 10, 21, 11, 19, 30)}\n",
      "{'_id': 1, 'first_name': 'Fyodor', 'last_name': 'Dostoyevsky', 'book_title': 'Brothers Karamosov', 'genre': 'Fiction', 'quantity': 25, 'date': datetime.datetime(2022, 10, 21, 11, 19, 30)}\n",
      "{'_id': 2, 'first_name': 'Jacques', 'last_name': 'Derrida', 'book_title': 'The Politics of Friendship', 'genre': 'Fiction', 'quantity': 5, 'date': datetime.datetime(2022, 10, 21, 11, 19, 30)}\n",
      "{'_id': 3, 'first_name': 'Charles', 'last_name': 'Dickens', 'book_title': 'Tale of Two Cities', 'genre': 'Fiction', 'quantity': 6, 'date': datetime.datetime(2022, 10, 21, 11, 19, 30)}\n",
      "{'_id': 4, 'first_name': 'James', 'last_name': 'Joyce', 'book_title': 'Ulysses', 'genre': 'Fiction', 'quantity': 30, 'date': datetime.datetime(2021, 3, 13, 11, 19, 30)}\n",
      "{'_id': 5, 'first_name': 'Henry David', 'last_name': 'Thoreau', 'book_title': 'Walden', 'genre': 'Nonfiction', 'quantity': 15, 'date': datetime.datetime(2021, 3, 13, 11, 19, 30)}\n",
      "{'_id': 6, 'first_name': 'Virginia', 'last_name': 'Woolf', 'book_title': \"A Room of One's Own\", 'genre': 'Nonfiction', 'quantity': 18, 'date': datetime.datetime(2022, 10, 21, 11, 19, 30)}\n",
      "{'_id': 7, 'first_name': 'Virginia', 'last_name': 'Woolf', 'book_title': \"Mr's Dalloway\", 'genre': 'Fiction', 'quantity': 14, 'date': datetime.datetime(2022, 10, 21, 11, 19, 30)}\n",
      "{'_id': 8, 'first_name': 'Zadie', 'last_name': 'Smith', 'book_title': 'White Teeth', 'genre': 'Fiction', 'quantity': 8, 'date': datetime.datetime(2022, 10, 21, 11, 19, 30)}\n",
      "{'_id': 9, 'first_name': 'Charles', 'last_name': 'Dickens', 'book_title': 'The Old Curiousity Shop', 'genre': 'Fiction', 'quantity': 6, 'date': datetime.datetime(2022, 10, 21, 11, 19, 30)}\n"
     ]
    }
   ],
   "source": [
    "for person in people.find():\n",
    "    print(person)"
   ]
  },
  {
   "cell_type": "code",
   "execution_count": 11,
   "metadata": {},
   "outputs": [
    {
     "name": "stdout",
     "output_type": "stream",
     "text": [
      "676921e9999aaa044bd26e4e\n"
     ]
    }
   ],
   "source": [
    "make_id= people.insert_one({'name':'sidarth','age':27}).inserted_id\n",
    "print(make_id)"
   ]
  },
  {
   "cell_type": "code",
   "execution_count": 13,
   "metadata": {},
   "outputs": [
    {
     "name": "stdout",
     "output_type": "stream",
     "text": [
      "[{'_id': ObjectId('676921e9999aaa044bd26e4e'), 'name': 'sidarth', 'age': 27}]\n"
     ]
    }
   ],
   "source": [
    "print([p for p in people.find({'_id':ObjectId('676921e9999aaa044bd26e4e')})])"
   ]
  },
  {
   "cell_type": "code",
   "execution_count": 14,
   "metadata": {},
   "outputs": [
    {
     "name": "stdout",
     "output_type": "stream",
     "text": [
      "[{'_id': ObjectId('676921bd999aaa044bd26e4a'), 'name': 'sam', 'age': 21, 'intrest': ['books', 'movies']}, {'_id': ObjectId('676921bd999aaa044bd26e4b'), 'name': 'ram', 'age': 22}]\n"
     ]
    }
   ],
   "source": [
    "print([p for p in people.find({'age':{'$lt':25}})])"
   ]
  },
  {
   "cell_type": "code",
   "execution_count": 9,
   "metadata": {},
   "outputs": [
    {
     "name": "stdout",
     "output_type": "stream",
     "text": [
      "\n",
      "count: 8\n"
     ]
    }
   ],
   "source": [
    "print()\n",
    "print('count:',people.count_documents({'genre':'Fiction'}))"
   ]
  },
  {
   "cell_type": "code",
   "execution_count": 17,
   "metadata": {},
   "outputs": [
    {
     "data": {
      "text/plain": [
       "UpdateResult({'n': 1, 'nModified': 1, 'ok': 1.0, 'updatedExisting': True}, acknowledged=True)"
      ]
     },
     "execution_count": 17,
     "metadata": {},
     "output_type": "execute_result"
    }
   ],
   "source": [
    "people.update_one({'_id':ObjectId('676921e9999aaa044bd26e4e')},{'$set':{'age':88}})"
   ]
  },
  {
   "cell_type": "code",
   "execution_count": 18,
   "metadata": {},
   "outputs": [
    {
     "data": {
      "text/plain": [
       "DeleteResult({'n': 1, 'ok': 1.0}, acknowledged=True)"
      ]
     },
     "execution_count": 18,
     "metadata": {},
     "output_type": "execute_result"
    }
   ],
   "source": [
    "people.delete_many({'age':{'$lt':25}})"
   ]
  },
  {
   "cell_type": "code",
   "execution_count": 24,
   "metadata": {},
   "outputs": [
    {
     "name": "stdout",
     "output_type": "stream",
     "text": [
      "{'_id': 'xaviour', 'averageage': 26.0}\n",
      "{'_id': 'sam', 'averageage': 88.0}\n",
      "{'_id': 'sidarth', 'averageage': 88.0}\n"
     ]
    }
   ],
   "source": [
    "pipeline = [\n",
    "    {\n",
    "        '$group':{\n",
    "            '_id':'$name',\n",
    "            'averageage':{'$avg':'$age'}\n",
    "        }\n",
    "    },\n",
    "    {\n",
    "        '$sort':SON([('averageage',1)])\n",
    "    }\n",
    "]\n",
    "\n",
    "result = people.aggregate(pipeline)\n",
    "\n",
    "for i in result:\n",
    "    print(i)"
   ]
  },
  {
   "cell_type": "code",
   "execution_count": 25,
   "metadata": {},
   "outputs": [],
   "source": [
    "from pymongo import MongoClient\n",
    "\n",
    "client = MongoClient('mongodb://localhost:27017')\n",
    "\n",
    "db = client['mydb1']\n",
    "collection = db['emp_data1']"
   ]
  },
  {
   "cell_type": "code",
   "execution_count": 26,
   "metadata": {},
   "outputs": [
    {
     "name": "stdout",
     "output_type": "stream",
     "text": [
      "inserted document ID:67692a06999aaa044bd26e52\n"
     ]
    }
   ],
   "source": [
    "document = {\n",
    "    'name' : 'Alice',\n",
    "    'age' : 20,\n",
    "    'city' : 'New York'\n",
    "}\n",
    "\n",
    "res = collection.insert_one(document)\n",
    "print(f'inserted document ID:{res.inserted_id}')"
   ]
  },
  {
   "cell_type": "code",
   "execution_count": 29,
   "metadata": {},
   "outputs": [
    {
     "name": "stdout",
     "output_type": "stream",
     "text": [
      "inserted document ID:[ObjectId('67692b13999aaa044bd26e55'), ObjectId('67692b13999aaa044bd26e56')]\n"
     ]
    }
   ],
   "source": [
    "documents = [\n",
    "    {'name' : 'Bob','age' : 25,'city' : 'Chicago'},\n",
    "    {'name' : 'Charlie','age' : 35,'city' : 'San Francisco'},\n",
    "]\n",
    "res = collection.insert_many(documents)\n",
    "print(f'inserted document ID:{res.inserted_ids}')"
   ]
  },
  {
   "cell_type": "code",
   "execution_count": 32,
   "metadata": {},
   "outputs": [
    {
     "name": "stdout",
     "output_type": "stream",
     "text": [
      "{'_id': ObjectId('67692a06999aaa044bd26e52'), 'name': 'Alice', 'age': 20, 'city': 'New York'}\n"
     ]
    }
   ],
   "source": [
    "document = collection.find_one({'name':'Alice'})\n",
    "print(document)"
   ]
  },
  {
   "cell_type": "code",
   "execution_count": 31,
   "metadata": {},
   "outputs": [
    {
     "name": "stdout",
     "output_type": "stream",
     "text": [
      "{'_id': ObjectId('67692a06999aaa044bd26e52'), 'name': 'Alice', 'age': 20, 'city': 'New York'}\n",
      "{'_id': ObjectId('67692b0b999aaa044bd26e53'), 'name': 'Bob', 'age': 25, 'city': 'Chicago'}\n",
      "{'_id': ObjectId('67692b0b999aaa044bd26e54'), 'name': 'Charlie', 'age': 35, 'city': 'San Francisco'}\n",
      "{'_id': ObjectId('67692b13999aaa044bd26e55'), 'name': 'Bob', 'age': 25, 'city': 'Chicago'}\n",
      "{'_id': ObjectId('67692b13999aaa044bd26e56'), 'name': 'Charlie', 'age': 35, 'city': 'San Francisco'}\n"
     ]
    }
   ],
   "source": [
    "documents = collection.find()\n",
    "for doc in documents:\n",
    "    print(doc)"
   ]
  },
  {
   "cell_type": "code",
   "execution_count": 33,
   "metadata": {},
   "outputs": [
    {
     "name": "stdout",
     "output_type": "stream",
     "text": [
      "{'_id': ObjectId('67692b0b999aaa044bd26e54'), 'name': 'Charlie', 'age': 35, 'city': 'San Francisco'}\n",
      "{'_id': ObjectId('67692b13999aaa044bd26e56'), 'name': 'Charlie', 'age': 35, 'city': 'San Francisco'}\n"
     ]
    }
   ],
   "source": [
    "query = {'age':{'$gte':30}}\n",
    "documents = collection.find(query)\n",
    "for doc in documents:\n",
    "    print(doc)"
   ]
  },
  {
   "cell_type": "code",
   "execution_count": 34,
   "metadata": {},
   "outputs": [
    {
     "name": "stdout",
     "output_type": "stream",
     "text": [
      "Modified documents count: 1\n"
     ]
    }
   ],
   "source": [
    "query = {'name':'Alice'}\n",
    "new_values = {'$set':{'age':31}}\n",
    "\n",
    "result = collection.update_one(query,new_values)\n",
    "print(f'Modified documents count: {result.modified_count}')"
   ]
  },
  {
   "cell_type": "code",
   "execution_count": 35,
   "metadata": {},
   "outputs": [
    {
     "name": "stdout",
     "output_type": "stream",
     "text": [
      "Modified documents count: 3\n"
     ]
    }
   ],
   "source": [
    "query = {'age':{'$gt':30}}\n",
    "new_values = {'$set':{'city':'Updated City'}}\n",
    "\n",
    "result = collection.update_many(query,new_values)\n",
    "print(f'Modified documents count: {result.modified_count}')"
   ]
  },
  {
   "cell_type": "code",
   "execution_count": 36,
   "metadata": {},
   "outputs": [
    {
     "name": "stdout",
     "output_type": "stream",
     "text": [
      "Inserted document Ids: [ObjectId('67692ffc999aaa044bd26e57'), ObjectId('67692ffc999aaa044bd26e58'), ObjectId('67692ffc999aaa044bd26e59'), ObjectId('67692ffc999aaa044bd26e5a'), ObjectId('67692ffc999aaa044bd26e5b')]\n"
     ]
    }
   ],
   "source": [
    "data= [\n",
    "    {\"name\":\"John Doe\",\"age\":30,\"city\":\"New York\",\"hobbies\":[\"reading\",\"traveling\",\"photography\"],\"salary\":75000},\n",
    "    {\"name\":\"Jane Smith\",\"age\":28,\"city\":\"Los Angeles\",\"hobbies\":[\"dancing\",\"cooking\",\"gardening\"],\"salary\":68000},\n",
    "    {\"name\":\"Alex Johnson\",\"age\":35,\"city\":\"Chicago\",\"hobbies\":[\"cycling\",\"painting\",\"hiking\"],\"salary\":85000},\n",
    "    {\"name\":\"Emily Davis\",\"age\":40,\"city\":\"San Francisco\",\"hobbies\":[\"yoga\",\"knitting\",\"traveling\"],\"salary\":95000},\n",
    "    {\"name\":\"Michael Brown\",\"age\":25,\"city\":\"Miami\",\"hobbies\":[\"surfing\",\"video games\",\"music\"],\"salary\":55000}\n",
    "]\n",
    "\n",
    "result = collection.insert_many(data)\n",
    "print(f'Inserted document Ids: {result.inserted_ids}')\n"
   ]
  },
  {
   "cell_type": "code",
   "execution_count": 37,
   "metadata": {},
   "outputs": [
    {
     "name": "stdout",
     "output_type": "stream",
     "text": [
      "{'_id': ObjectId('67692a06999aaa044bd26e52'), 'name': 'Alice', 'age': 31, 'city': 'Updated City'}\n",
      "{'_id': ObjectId('67692b0b999aaa044bd26e54'), 'name': 'Charlie', 'age': 35, 'city': 'Updated City'}\n",
      "{'_id': ObjectId('67692b13999aaa044bd26e56'), 'name': 'Charlie', 'age': 35, 'city': 'Updated City'}\n",
      "{'_id': ObjectId('67692ffc999aaa044bd26e59'), 'name': 'Alex Johnson', 'age': 35, 'city': 'Chicago', 'hobbies': ['cycling', 'painting', 'hiking'], 'salary': 85000}\n",
      "{'_id': ObjectId('67692ffc999aaa044bd26e5a'), 'name': 'Emily Davis', 'age': 40, 'city': 'San Francisco', 'hobbies': ['yoga', 'knitting', 'traveling'], 'salary': 95000}\n"
     ]
    }
   ],
   "source": [
    "pipeline = [\n",
    "    {'$match': {'age': {'$gt' : 30}}}\n",
    "]\n",
    "\n",
    "res = collection.aggregate(pipeline)\n",
    "for doc in res:\n",
    "    print(doc)"
   ]
  },
  {
   "cell_type": "code",
   "execution_count": 38,
   "metadata": {},
   "outputs": [
    {
     "name": "stdout",
     "output_type": "stream",
     "text": [
      "{'_id': 'Miami', 'total_age': 25}\n",
      "{'_id': 'Updated City', 'total_age': 101}\n",
      "{'_id': 'New York', 'total_age': 30}\n",
      "{'_id': 'San Francisco', 'total_age': 40}\n",
      "{'_id': 'Chicago', 'total_age': 85}\n",
      "{'_id': 'Los Angeles', 'total_age': 28}\n"
     ]
    }
   ],
   "source": [
    "pipeline = [\n",
    "    {\n",
    "        '$group':{\n",
    "            '_id':'$city',\n",
    "            'total_age':{'$sum':'$age'}\n",
    "        }\n",
    "    }\n",
    "]\n",
    "\n",
    "result = collection.aggregate(pipeline)\n",
    "\n",
    "for i in result:\n",
    "    print(i)"
   ]
  },
  {
   "cell_type": "code",
   "execution_count": 39,
   "metadata": {},
   "outputs": [
    {
     "name": "stdout",
     "output_type": "stream",
     "text": [
      "inserted document ID:[1, 2]\n"
     ]
    }
   ],
   "source": [
    "documents = [\n",
    "    {'_id':1,'name' : 'sam','age' : 25,'city' : 'Chicago'},\n",
    "    {'_id':2,'name' : 'steven','age' : 35,'city' : 'San Francisco'},\n",
    "]\n",
    "res = collection.insert_many(documents)\n",
    "print(f'inserted document ID:{res.inserted_ids}')"
   ]
  },
  {
   "cell_type": "code",
   "execution_count": 11,
   "metadata": {},
   "outputs": [
    {
     "name": "stdout",
     "output_type": "stream",
     "text": [
      "Given condition matched\n"
     ]
    }
   ],
   "source": [
    "x=13\n",
    "\n",
    "if x>12 or x<15 and x==16:\n",
    "    print(\"Given condition matched\")\n",
    "else:\n",
    "    print(\"Given condition did not match\")"
   ]
  },
  {
   "cell_type": "code",
   "execution_count": 16,
   "metadata": {},
   "outputs": [
    {
     "name": "stdout",
     "output_type": "stream",
     "text": [
      "[<function <lambda> at 0x000001E89AC68720>, <function <lambda> at 0x000001E89AC68AE0>, <function <lambda> at 0x000001E89AC6B880>, <function <lambda> at 0x000001E89AC68680>, <function <lambda> at 0x000001E89AC6BA60>]\n"
     ]
    }
   ],
   "source": [
    "x= [lambda x:x for x in range(1,6)]\n",
    "print(list(x))"
   ]
  },
  {
   "cell_type": "code",
   "execution_count": 13,
   "metadata": {},
   "outputs": [
    {
     "name": "stdout",
     "output_type": "stream",
     "text": [
      "[0, 0, 0, 0, 0]\n"
     ]
    }
   ],
   "source": [
    "x = [lambda x:x for x in range(1, 6)]\n",
    "print([f(0) for f in x])\n"
   ]
  }
 ],
 "metadata": {
  "kernelspec": {
   "display_name": "Python 3",
   "language": "python",
   "name": "python3"
  },
  "language_info": {
   "codemirror_mode": {
    "name": "ipython",
    "version": 3
   },
   "file_extension": ".py",
   "mimetype": "text/x-python",
   "name": "python",
   "nbconvert_exporter": "python",
   "pygments_lexer": "ipython3",
   "version": "3.12.3"
  }
 },
 "nbformat": 4,
 "nbformat_minor": 2
}
