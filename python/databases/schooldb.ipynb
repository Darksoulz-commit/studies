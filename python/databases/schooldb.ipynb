{
 "cells": [
  {
   "cell_type": "code",
   "execution_count": null,
   "metadata": {},
   "outputs": [],
   "source": [
    "class school():\n",
    "    def __init__(self,pname,prole):\n",
    "        self.pname = pname\n",
    "        self.prole = prole\n",
    "\n",
    "    def checkwho(self):\n",
    "        if self.prole == 'Teacher':\n",
    "            print(f'as a Teacher {self.pname}')\n",
    "        else:\n",
    "            print(f'as a Student {self.pname}')\n",
    "\n"
   ]
  },
  {
   "cell_type": "code",
   "execution_count": null,
   "metadata": {},
   "outputs": [],
   "source": [
    "class teacher(school):\n",
    "    def __init__(self, tname,tsub):\n",
    "        self.role = 'Teacher'\n",
    "        super().__init__(tname,self.role)\n",
    "        self.tname = tname\n",
    "        self.tsub = tsub\n",
    "    def teacher_display(self):\n",
    "        return f'Teacher name is: {self.tname} teaches {self.tsub}'\n",
    "\n",
    "teacher_obj=teacher('abc','science')\n",
    "teacher_obj.checkwho()\n",
    "teacher_obj.teacher_display()\n",
    "\n"
   ]
  },
  {
   "cell_type": "code",
   "execution_count": null,
   "metadata": {},
   "outputs": [],
   "source": [
    "\n",
    "class student(school):\n",
    "    def __init__(self,name,marks):\n",
    "        self.role = 'Student'\n",
    "        super().__init__(name,self.role)\n",
    "        self.marks=marks\n",
    "        self.name = name\n",
    "\n",
    "    \n",
    "    # def addmark(self,subject,submark):\n",
    "    #     self.marks[subject]  = submark\n",
    "\n",
    "    def average(self):\n",
    "        l=list( self.marks.values())\n",
    "        avg = sum(l) // len(l)\n",
    "        # print(\"Average:\", avg)\n",
    "        return avg\n",
    "\n",
    "    def grade(self,avg):\n",
    "        # self.avg= avg\n",
    "        if avg > 90:\n",
    "            return ('O')\n",
    "        elif avg >70 or avg < 90:\n",
    "            return('B')\n",
    "        elif avg >50 or avg < 70:\n",
    "            return('A')\n",
    "        elif avg >35 or avg <50:\n",
    "            return('E')\n",
    "        elif avg < 35:\n",
    "            return('F')\n",
    "    \n",
    "    def display(self):\n",
    "        return f'{self.name} has scored {self.marks} and got {self.grade(self.average())}'\n",
    "    \n",
    "\n",
    "obj= student('abc',{'maths': 99, 'science': 89, 'social': 79, 'english': 69})\n",
    "obj.checkwho()\n",
    "# obj.addmark('maths',99)\n",
    "# obj.addmark('science',89)\n",
    "# obj.addmark('social',79)\n",
    "# obj.addmark('english',69)\n",
    "# print(obj.marks)\n",
    "# obj.average()\n",
    "obj.grade(obj.average())\n",
    "print(obj.display())"
   ]
  }
 ],
 "metadata": {
  "language_info": {
   "name": "python"
  }
 },
 "nbformat": 4,
 "nbformat_minor": 2
}
