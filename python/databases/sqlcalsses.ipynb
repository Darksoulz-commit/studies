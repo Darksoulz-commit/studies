{
 "cells": [
  {
   "cell_type": "code",
   "execution_count": 1,
   "metadata": {},
   "outputs": [],
   "source": [
    "import mysql.connector\n",
    "\n",
    "\n",
    "class mysqlclasses():\n",
    "    def __init__(self):\n",
    "        self.mydb = mysql.connector.connect(\n",
    "            host = 'localhost',\n",
    "            user = 'root',\n",
    "            password = 'root@39',\n",
    "            database = 'sqlclass'\n",
    "        )\n",
    "        self.mycursor = self.mydb.cursor()\n",
    "    \n",
    "    # Creating a database\n",
    "    def createtable(self):\n",
    "        self.mycursor.execute('CREATE TABLE school (studentId INT PRIMARY KEY AUTO_INCREMENT,name VARCHAR(225),section VARCHAR(225), marks INT, percentage decimal(4,2))')\n",
    "        print('Table customer created successfully')\n",
    "    \n",
    "    # Inserting values into a table\n",
    "    def inserttable(self,name, section,marks):\n",
    "        # self.studentId = studentId\n",
    "        self.name= name\n",
    "        self.section = section\n",
    "        self.marks = marks\n",
    "        self.sql = \"INSERT INTO school (name, section, marks) VALUES ( %s, %s, %s)\"\n",
    "        self.val = ( self.name, self.section,self.marks)\n",
    "        self.mycursor.execute(self.sql, self.val)\n",
    "        self.mydb.commit()\n",
    "        print(self.mycursor.rowcount, 'record inserted..')\n",
    "    \n",
    "    def display(self):\n",
    "        self.mycursor.execute('select * from school')\n",
    "        self.myres = self.mycursor.fetchall()\n",
    "        for x in self.myres:\n",
    "            print(x)\n",
    "    \n",
    "    # def calculate_percentage(self):\n",
    "    #     self.mycursor.execute('SELECT marks FROM school')\n",
    "    #     res = self.mycursor.fetchall()\n",
    "    #     print (res)\n",
    "    #     print (type(res))\n",
    "    #     p = res[0] / 5\n",
    "    #     print(type(p))\n",
    "    #     sql2 = f'UPDATE school set percentage = {p} WHERE studentId =1'\n",
    "    #     self.mycursor.execute(sql2)\n",
    "    #     self.mydb.commit()\n",
    "\n",
    "    def calculate_percentage(self):\n",
    "        # Get all existing student IDs\n",
    "        self.mycursor.execute('SELECT studentId FROM school')\n",
    "        student_ids = [row[0] for row in self.mycursor.fetchall()]\n",
    "        \n",
    "        print(\"Existing student IDs:\", student_ids)  # Optional: Debug print to check IDs\n",
    "\n",
    "        # Loop through all existing student IDs\n",
    "        for student_id in student_ids:\n",
    "            # Fetch marks for the student\n",
    "            self.mycursor.execute(f'SELECT marks FROM school WHERE studentId = {student_id}')\n",
    "            res = self.mycursor.fetchone()\n",
    "\n",
    "            if res is None:\n",
    "                print(f\"Error: Student with ID {student_id} not found in the database.\")\n",
    "                continue  # Skip if no marks found for the student ID\n",
    "\n",
    "            # Process the student if the marks are found\n",
    "            if res:\n",
    "                marks = res[0]  # Extract the marks from the tuple\n",
    "                percentage = marks / 5  # Calculate the percentage\n",
    "                print(f\"Student ID {student_id}: Percentage calculated as {percentage:.2f}%\")\n",
    "                self.mycursor.execute(f'UPDATE school SET percentage = {percentage} WHERE studentId = {student_id}')\n",
    "                self.mydb.commit()\n",
    "\n",
    "\n",
    "                \n",
    "        # Commit the changes\n",
    "       \n",
    "\n",
    "\n",
    "\n",
    "\n",
    "\n",
    "obj = mysqlclasses()"
   ]
  },
  {
   "cell_type": "code",
   "execution_count": 3,
   "metadata": {},
   "outputs": [
    {
     "name": "stdout",
     "output_type": "stream",
     "text": [
      "Table customer created successfully\n"
     ]
    }
   ],
   "source": [
    "obj.createtable()"
   ]
  },
  {
   "cell_type": "code",
   "execution_count": 18,
   "metadata": {},
   "outputs": [
    {
     "name": "stdout",
     "output_type": "stream",
     "text": [
      "1 record inserted..\n"
     ]
    }
   ],
   "source": [
    "obj.inserttable('sethu','first','499')"
   ]
  },
  {
   "cell_type": "code",
   "execution_count": 3,
   "metadata": {},
   "outputs": [
    {
     "name": "stdout",
     "output_type": "stream",
     "text": [
      "(1, 'Alice', 'First', 350, Decimal('70.00'))\n",
      "(2, 'Bob', 'Second', 420, Decimal('84.00'))\n",
      "(4, 'David', 'Fourth', 300, Decimal('60.00'))\n",
      "(5, 'Eva', 'Fifth', 380, Decimal('76.00'))\n"
     ]
    }
   ],
   "source": [
    "obj.display()"
   ]
  },
  {
   "cell_type": "code",
   "execution_count": 2,
   "metadata": {},
   "outputs": [
    {
     "name": "stdout",
     "output_type": "stream",
     "text": [
      "Existing student IDs: [1, 2, 4, 5]\n",
      "Student ID 1: Percentage calculated as 70.00%\n",
      "Student ID 2: Percentage calculated as 84.00%\n",
      "Student ID 4: Percentage calculated as 60.00%\n",
      "Student ID 5: Percentage calculated as 76.00%\n"
     ]
    }
   ],
   "source": [
    "obj.calculate_percentage()"
   ]
  },
  {
   "cell_type": "code",
   "execution_count": 83,
   "metadata": {},
   "outputs": [
    {
     "data": {
      "text/plain": [
       "9980.0"
      ]
     },
     "execution_count": 83,
     "metadata": {},
     "output_type": "execute_result"
    }
   ],
   "source": [
    "(499/5)*100"
   ]
  }
 ],
 "metadata": {
  "kernelspec": {
   "display_name": "Python 3",
   "language": "python",
   "name": "python3"
  },
  "language_info": {
   "codemirror_mode": {
    "name": "ipython",
    "version": 3
   },
   "file_extension": ".py",
   "mimetype": "text/x-python",
   "name": "python",
   "nbconvert_exporter": "python",
   "pygments_lexer": "ipython3",
   "version": "3.12.3"
  }
 },
 "nbformat": 4,
 "nbformat_minor": 2
}
